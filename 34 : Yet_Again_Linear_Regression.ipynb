{
  "nbformat": 4,
  "nbformat_minor": 0,
  "metadata": {
    "colab": {
      "name": "Yet Again Linear Regression.ipynb",
      "provenance": [],
      "authorship_tag": "ABX9TyN+cpFF67Ypv+WZaG5fRc8m",
      "include_colab_link": true
    },
    "kernelspec": {
      "name": "python3",
      "display_name": "Python 3"
    }
  },
  "cells": [
    {
      "cell_type": "markdown",
      "metadata": {
        "id": "view-in-github",
        "colab_type": "text"
      },
      "source": [
        "<a href=\"https://colab.research.google.com/github/avs20/SioLabsPython0/blob/main/34%20%3A%20Yet_Again_Linear_Regression.ipynb\" target=\"_parent\"><img src=\"https://colab.research.google.com/assets/colab-badge.svg\" alt=\"Open In Colab\"/></a>"
      ]
    },
    {
      "cell_type": "markdown",
      "metadata": {
        "id": "QoEA_nTrpIGC"
      },
      "source": [
        "1. dataset / problem - age / salary \r\n",
        "2. a line will meet our requirement\r\n",
        "3. good line will pass through all points \r\n",
        "4. metric for a good line -  distance from all points is minimum.\r\n",
        "5. Improved metric : by squaring the metric\r\n",
        "6. Used mathematics to find the best line. \r\n",
        "\r\n",
        "    6.1 can use random m and b's \r\n",
        "\r\n",
        "    6.2 minimum of Loss function. use the m and b values from the place \r\n",
        "\r\n",
        "7. Now we have line but is the line good for data or not. (Goodness of fit)\r\n",
        "\r\n",
        "  RMSE - tells about the residuals \r\n",
        "  \r\n",
        "  R-Squared - captures variation explained by the linear model \r\n",
        "\r\n"
      ]
    },
    {
      "cell_type": "markdown",
      "metadata": {
        "id": "IX8cGkxZsF31"
      },
      "source": [
        "Explainability of a model \r\n",
        "---------"
      ]
    },
    {
      "cell_type": "code",
      "metadata": {
        "id": "-cOFeNjhpCwo"
      },
      "source": [
        ""
      ],
      "execution_count": null,
      "outputs": []
    }
  ]
}