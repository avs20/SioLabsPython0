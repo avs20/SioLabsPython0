{
  "nbformat": 4,
  "nbformat_minor": 0,
  "metadata": {
    "kernelspec": {
      "display_name": "Python 3",
      "language": "python",
      "name": "python3"
    },
    "language_info": {
      "codemirror_mode": {
        "name": "ipython",
        "version": 3
      },
      "file_extension": ".py",
      "mimetype": "text/x-python",
      "name": "python",
      "nbconvert_exporter": "python",
      "pygments_lexer": "ipython3",
      "version": "3.5.2"
    },
    "colab": {
      "name": "notebook.ipynb",
      "provenance": [],
      "collapsed_sections": [],
      "toc_visible": true,
      "include_colab_link": true
    }
  },
  "cells": [
    {
      "cell_type": "markdown",
      "metadata": {
        "id": "view-in-github",
        "colab_type": "text"
      },
      "source": [
        "<a href=\"https://colab.research.google.com/github/avs20/SioLabsPython0/blob/main/Assignment_LogisticRegression.ipynb\" target=\"_parent\"><img src=\"https://colab.research.google.com/assets/colab-badge.svg\" alt=\"Open In Colab\"/></a>"
      ]
    },
    {
      "cell_type": "markdown",
      "metadata": {
        "dc": {
          "key": "3"
        },
        "deletable": false,
        "editable": false,
        "run_control": {
          "frozen": true
        },
        "tags": [
          "context"
        ],
        "id": "zExNmhYI4SOK"
      },
      "source": [
        "## 1. Inspecting transfusion.data file\n",
        "<p><img src=\"https://assets.datacamp.com/production/project_646/img/blood_donation.png\" style=\"float: right;\" alt=\"A pictogram of a blood bag with blood donation written in it\" width=\"200\"></p>\n",
        "<p>Blood transfusion saves lives - from replacing lost blood during major surgery or a serious injury to treating various illnesses and blood disorders. Ensuring that there's enough blood in supply whenever needed is a serious challenge for the health professionals. According to <a href=\"https://www.webmd.com/a-to-z-guides/blood-transfusion-what-to-know#1\">WebMD</a>, \"about 5 million Americans need a blood transfusion every year\".</p>\n",
        "<p>Our dataset is from a mobile blood donation vehicle in Taiwan. The Blood Transfusion Service Center drives to different universities and collects blood as part of a blood drive. We want to predict whether or not a donor will give blood the next time the vehicle comes to campus.</p>\n",
        "<p>The data is stored in <code>datasets/transfusion.data</code> and it is structured according to RFMTC marketing model (a variation of RFM). We'll explore what that means later in this notebook. First, let's inspect the data.</p>"
      ]
    },
    {
      "cell_type": "code",
      "metadata": {
        "colab": {
          "base_uri": "https://localhost:8080/"
        },
        "id": "Q3Pf3AG54b--",
        "outputId": "b8c5f7f0-0459-4363-f097-b84a527cf1e7"
      },
      "source": [
        "from google.colab import drive\n",
        "drive.mount('/content/drive')"
      ],
      "execution_count": 1,
      "outputs": [
        {
          "output_type": "stream",
          "text": [
            "Mounted at /content/drive\n"
          ],
          "name": "stdout"
        }
      ]
    },
    {
      "cell_type": "code",
      "metadata": {
        "id": "ErE7Dqwe4rxd"
      },
      "source": [
        "import os\r\n",
        "os.chdir('/content/drive/MyDrive/SioLabs/Python For Machine Learning/Assignment/LogisticRegression')"
      ],
      "execution_count": 8,
      "outputs": []
    },
    {
      "cell_type": "code",
      "metadata": {
        "colab": {
          "base_uri": "https://localhost:8080/"
        },
        "id": "W0WC118L45-F",
        "outputId": "89ea087a-f719-409b-921b-e70fb135eb61"
      },
      "source": [
        "!pwd"
      ],
      "execution_count": 9,
      "outputs": [
        {
          "output_type": "stream",
          "text": [
            "/content/drive/MyDrive/SioLabs/Python For Machine Learning/Assignment/LogisticRegression\n"
          ],
          "name": "stdout"
        }
      ]
    },
    {
      "cell_type": "code",
      "metadata": {
        "dc": {
          "key": "3"
        },
        "tags": [
          "sample_code"
        ],
        "colab": {
          "base_uri": "https://localhost:8080/"
        },
        "id": "CVvcs2t54SOS",
        "outputId": "b7d6ca01-b828-43db-dd04-d0439f56f058"
      },
      "source": [
        "# Print out the first 5 lines from the transfusion.data file\n",
        "!head -5 datasets/transfusion.data"
      ],
      "execution_count": 12,
      "outputs": [
        {
          "output_type": "stream",
          "text": [
            "Recency (months),Frequency (times),Monetary (c.c. blood),Time (months),\"whether he/she donated blood in March 2007\"\r\n",
            "2 ,50,12500,98 ,1\r\n",
            "0 ,13,3250,28 ,1\r\n",
            "1 ,16,4000,35 ,1\r\n",
            "2 ,20,5000,45 ,1\r\n"
          ],
          "name": "stdout"
        }
      ]
    },
    {
      "cell_type": "markdown",
      "metadata": {
        "dc": {
          "key": "10"
        },
        "deletable": false,
        "editable": false,
        "run_control": {
          "frozen": true
        },
        "tags": [
          "context"
        ],
        "id": "R9TW39Bx4SOT"
      },
      "source": [
        "## 2. Loading the blood donations data\n",
        "<p>We now know that we are working with a typical CSV file (i.e., the delimiter is <code>,</code>, etc.). We proceed to loading the data into memory.</p>"
      ]
    },
    {
      "cell_type": "code",
      "metadata": {
        "dc": {
          "key": "10"
        },
        "tags": [
          "sample_code"
        ],
        "id": "b2qFJdhw4SOU"
      },
      "source": [
        "# Import pandas\n",
        "import ... as pd\n",
        "\n",
        "# Read in dataset\n",
        "transfusion = ...\n",
        "\n",
        "# Print out the first rows of our dataset\n",
        "# ... YOUR CODE FOR TASK 2 ..."
      ],
      "execution_count": null,
      "outputs": []
    },
    {
      "cell_type": "markdown",
      "metadata": {
        "dc": {
          "key": "17"
        },
        "deletable": false,
        "editable": false,
        "run_control": {
          "frozen": true
        },
        "tags": [
          "context"
        ],
        "id": "6wB__ogy4SOU"
      },
      "source": [
        "## 3. Inspecting transfusion DataFrame\n",
        "<p>Let's briefly return to our discussion of RFM model. RFM stands for Recency, Frequency and Monetary Value and it is commonly used in marketing for identifying your best customers. In our case, our customers are blood donors.</p>\n",
        "<p>RFMTC is a variation of the RFM model. Below is a description of what each column means in our dataset:</p>\n",
        "<ul>\n",
        "<li>R (Recency - months since the last donation)</li>\n",
        "<li>F (Frequency - total number of donation)</li>\n",
        "<li>M (Monetary - total blood donated in c.c.)</li>\n",
        "<li>T (Time - months since the first donation)</li>\n",
        "<li>a binary variable representing whether he/she donated blood in March 2007 (1 stands for donating blood; 0 stands for not donating blood)</li>\n",
        "</ul>\n",
        "<p>It looks like every column in our DataFrame has the numeric type, which is exactly what we want when building a machine learning model. Let's verify our hypothesis.</p>"
      ]
    },
    {
      "cell_type": "code",
      "metadata": {
        "dc": {
          "key": "17"
        },
        "tags": [
          "sample_code"
        ],
        "id": "x62g44hi4SOV"
      },
      "source": [
        "# Print a concise summary of transfusion DataFrame\n",
        "# ... YOUR CODE FOR TASK 3 ..."
      ],
      "execution_count": null,
      "outputs": []
    },
    {
      "cell_type": "markdown",
      "metadata": {
        "dc": {
          "key": "24"
        },
        "deletable": false,
        "editable": false,
        "run_control": {
          "frozen": true
        },
        "tags": [
          "context"
        ],
        "id": "wnii9DJ94SOW"
      },
      "source": [
        "## 4. Creating target column\n",
        "<p>We are aiming to predict the value in <code>whether he/she donated blood in March 2007</code> column. Let's rename this it to <code>target</code> so that it's more convenient to work with.</p>"
      ]
    },
    {
      "cell_type": "code",
      "metadata": {
        "dc": {
          "key": "24"
        },
        "tags": [
          "sample_code"
        ],
        "id": "-nuMZbXC4SOW"
      },
      "source": [
        "# Rename target column as 'target' for brevity \n",
        "transfusion.rename(\n",
        "    columns={'...': ...},\n",
        "    inplace=True\n",
        ")\n",
        "\n",
        "# Print out the first 2 rows\n",
        "# ... YOUR CODE FOR TASK 4 ..."
      ],
      "execution_count": null,
      "outputs": []
    },
    {
      "cell_type": "markdown",
      "metadata": {
        "dc": {
          "key": "31"
        },
        "deletable": false,
        "editable": false,
        "run_control": {
          "frozen": true
        },
        "tags": [
          "context"
        ],
        "id": "D3lA2tFh4SOX"
      },
      "source": [
        "## 5. Checking target incidence\n",
        "<p>We want to predict whether or not the same donor will give blood the next time the vehicle comes to campus. The model for this is a binary classifier, meaning that there are only 2 possible outcomes:</p>\n",
        "<ul>\n",
        "<li><code>0</code> - the donor will not give blood</li>\n",
        "<li><code>1</code> - the donor will give blood</li>\n",
        "</ul>\n",
        "<p>Target incidence is defined as the number of cases of each individual target value in a dataset. That is, how many 0s in the target column compared to how many 1s? Target incidence gives us an idea of how balanced (or imbalanced) is our dataset.</p>"
      ]
    },
    {
      "cell_type": "code",
      "metadata": {
        "dc": {
          "key": "31"
        },
        "tags": [
          "sample_code"
        ],
        "id": "UR0XzyRg4SOY"
      },
      "source": [
        "# Print target incidence proportions, rounding output to 3 decimal places\n",
        "# ... YOUR CODE FOR TASK 5 ..."
      ],
      "execution_count": null,
      "outputs": []
    },
    {
      "cell_type": "markdown",
      "metadata": {
        "dc": {
          "key": "38"
        },
        "deletable": false,
        "editable": false,
        "run_control": {
          "frozen": true
        },
        "tags": [
          "context"
        ],
        "id": "PfaJ_5xn4SOY"
      },
      "source": [
        "## 6. Splitting transfusion into train and test datasets\n",
        "<p>We'll now use <code>train_test_split()</code> method to split <code>transfusion</code> DataFrame.</p>\n",
        "\n",
        "\n",
        "Think about the distribution of classess in both test and train dataset? Do we want them to be same or different?"
      ]
    },
    {
      "cell_type": "code",
      "metadata": {
        "dc": {
          "key": "38"
        },
        "tags": [
          "sample_code"
        ],
        "id": "cEhioens4SOZ"
      },
      "source": [
        "# Import train_test_split method\n",
        "from sklearn.model_selection import ...\n",
        "\n",
        "# Split transfusion DataFrame into\n",
        "# X_train, X_test, y_train and y_test datasets,\n",
        "\n",
        "# Print out the first 2 rows of X_train\n",
        "# ... YOUR CODE FOR TASK 6 ..."
      ],
      "execution_count": null,
      "outputs": []
    },
    {
      "cell_type": "markdown",
      "metadata": {
        "id": "ZCIApZTz6PKy"
      },
      "source": [
        "## 7. Building Models\r\n",
        "After splitting the data, we want to create some models \r\n",
        "\r\n",
        "Use Logistic Regression to create basic models with \r\n",
        "L1 regularization, L2 regularization and no regularization. <b>Please report your findings on the weight vectors and the accuracy you get on all 3 models.</b>\r\n",
        "\r\n"
      ]
    },
    {
      "cell_type": "code",
      "metadata": {
        "id": "VqkiBpbZ6zCg"
      },
      "source": [
        "# Model 1 "
      ],
      "execution_count": 13,
      "outputs": []
    },
    {
      "cell_type": "code",
      "metadata": {
        "id": "Rr_kWKan61eQ"
      },
      "source": [
        "# Model 2"
      ],
      "execution_count": null,
      "outputs": []
    },
    {
      "cell_type": "code",
      "metadata": {
        "id": "a6NI8qRG63Pe"
      },
      "source": [
        "# Model 3"
      ],
      "execution_count": null,
      "outputs": []
    },
    {
      "cell_type": "markdown",
      "metadata": {
        "id": "BvdBvbhh65r2"
      },
      "source": [
        "## 8. Checking the Variance \r\n",
        "\r\n",
        "One of the assumptions for linear models is that the data and the features we are giving it are related in a linear fashion, or can be measured with a linear distance metric. If a feature in our dataset has a high variance that's orders of magnitude greater than the other features, this could impact the model's ability to learn from other features in the dataset.\r\n",
        "\r\n",
        "Correcting for high variance is called normalization. It is one of the possible transformations you do before training a model. Let's check the variance to see if such transformation is needed.\r\n",
        "\r\n",
        "Normalization is 1 type of scaling where we subtract by mean and divide by standard deviation. The scaling used in class is Normalization. \r\n",
        "\r\n",
        "But first we need to check if we need normalization. \r\n",
        "\r\n",
        "Use code cells below to check for data properties and then comment whether you need normalization or not and on which column / columns. \r\n",
        "\r\n"
      ]
    },
    {
      "cell_type": "code",
      "metadata": {
        "id": "-nDMUvka7_-A"
      },
      "source": [
        "# Code to check data properties"
      ],
      "execution_count": null,
      "outputs": []
    },
    {
      "cell_type": "code",
      "metadata": {
        "id": "0-xbb0mD8CKH"
      },
      "source": [
        "# add your comment for whether normalization is required or not "
      ],
      "execution_count": null,
      "outputs": []
    },
    {
      "cell_type": "markdown",
      "metadata": {
        "id": "cpaNwfeU8Pj2"
      },
      "source": [
        "## 9. Normalizing data \r\n",
        "\r\n",
        "Based on your analysis and comment above if you decide to do normalization then perform the steps in the code cells below. If you do not chose Proceed to step 11"
      ]
    },
    {
      "cell_type": "code",
      "metadata": {
        "id": "3RbllH_l8mw_"
      },
      "source": [
        "# Normalize the columns if evidence is present in your analysis. Else leave it blank and proceed to step 11"
      ],
      "execution_count": null,
      "outputs": []
    },
    {
      "cell_type": "markdown",
      "metadata": {
        "id": "BjAwiGOj88l3"
      },
      "source": [
        "## 10. New models after normalization. \r\n",
        "If you have done normalization then create the new models on the updated dataset. \r\n",
        "\r\n",
        "Please mention the accuracy for 3 models \r\n",
        "\r\n",
        "1. No Regularization \r\n",
        "2. With L1 - Regularization \r\n",
        "3. With L2 - Regularization "
      ]
    },
    {
      "cell_type": "code",
      "metadata": {
        "id": "XpEVR5Co-TkX"
      },
      "source": [
        "# Model 1 "
      ],
      "execution_count": null,
      "outputs": []
    },
    {
      "cell_type": "code",
      "metadata": {
        "id": "0logX-0S-Vfm"
      },
      "source": [
        "# Model 2"
      ],
      "execution_count": null,
      "outputs": []
    },
    {
      "cell_type": "code",
      "metadata": {
        "id": "aTaEdoVq-Xce"
      },
      "source": [
        "# Model 3 "
      ],
      "execution_count": null,
      "outputs": []
    },
    {
      "cell_type": "markdown",
      "metadata": {
        "id": "wN0P68mP-hkv"
      },
      "source": [
        "## 11. Hyper parameter Tuning \r\n",
        "\r\n",
        "Since we are using regularization we have added a hyperparameter to our Loss function. \r\n",
        "\r\n",
        "What is that hyperparameter and what it is called in sklearn? Reply in a text cell below. \r\n",
        "\r\n",
        "We need to tune that hyperparameter. \r\n",
        "Please use the techniques used in class for hyperparameter tuning to find the best model. "
      ]
    },
    {
      "cell_type": "code",
      "metadata": {
        "id": "Z6Svrm9b_D9y"
      },
      "source": [
        "# Do hyper parameter tuning "
      ],
      "execution_count": null,
      "outputs": []
    },
    {
      "cell_type": "markdown",
      "metadata": {
        "id": "YNcfo4-s_JlP"
      },
      "source": [
        "## 12. Final model \r\n",
        "\r\n",
        "After tuning you have now completed most of the steps and just need to train a model with all the insights that you have done. \r\n",
        "\r\n",
        "Build 1 final model using Logistic Regression and all the analysis done. \r\n",
        "\r\n",
        "What is your accuracy?"
      ]
    },
    {
      "cell_type": "code",
      "metadata": {
        "id": "zdoePNYY_apR"
      },
      "source": [
        "# Final Model "
      ],
      "execution_count": null,
      "outputs": []
    },
    {
      "cell_type": "code",
      "metadata": {
        "id": "ZWQggWNe_b_a"
      },
      "source": [
        "# Final model accuracy"
      ],
      "execution_count": null,
      "outputs": []
    },
    {
      "cell_type": "markdown",
      "metadata": {
        "dc": {
          "key": "73"
        },
        "deletable": false,
        "editable": false,
        "run_control": {
          "frozen": true
        },
        "tags": [
          "context"
        ],
        "id": "D3sapZam4SOc"
      },
      "source": [
        "## 13. Conclusion\n",
        "<p>The demand for blood fluctuates throughout the year. As one <a href=\"https://www.kjrh.com/news/local-news/red-cross-in-blood-donation-crisis\">prominent</a> example, blood donations slow down during busy holiday seasons. An accurate forecast for the future supply of blood allows for an appropriate action to be taken ahead of time and therefore saving more lives.</p>\n",
        "<p>In this notebook, we explored  model selection using regularization and hyper parameter tuning.  We try for better than simply choosing <code>0</code> all the time (the target incidence suggests that such a model would have 76% success rate). We then normalized our training data and __________ the accuracy . In the field of machine learning, even small improvements in accuracy can be important, depending on the purpose.</p>\n",
        "<p>Another benefit of using logistic regression model is that it is interpretable. We can analyze how much of the variance in the response variable (<code>target</code>) can be explained by other variables in our dataset.</p>"
      ]
    },
    {
      "cell_type": "markdown",
      "metadata": {
        "id": "vWxKPicz_qj3"
      },
      "source": [
        "## 14. Communicate \r\n",
        "\r\n",
        "Make a table using pandas to show all the different models you have build and their accuracy. \r\n",
        "\r\n",
        "Sort them by accuracy in descending order. \r\n",
        "\r\n",
        "Write a blog post about the things you learned from the assignment and share with your friends."
      ]
    },
    {
      "cell_type": "markdown",
      "metadata": {
        "id": "QOp07MsaAGWv"
      },
      "source": [
        "# References : \r\n",
        "\r\n",
        "1. Datacamp for blood transfusion definition\r\n",
        "2. [Blood transfusion dataset from UCI](https://archive.ics.uci.edu/ml/datasets/Blood+Transfusion+Service+Center)"
      ]
    }
  ]
}