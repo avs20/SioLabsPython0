{
  "nbformat": 4,
  "nbformat_minor": 0,
  "metadata": {
    "colab": {
      "name": "Sklearn.ipynb",
      "provenance": [],
      "authorship_tag": "ABX9TyM7hdW8kxHJg0Y9i3RGAQWD",
      "include_colab_link": true
    },
    "kernelspec": {
      "name": "python3",
      "display_name": "Python 3"
    }
  },
  "cells": [
    {
      "cell_type": "markdown",
      "metadata": {
        "id": "view-in-github",
        "colab_type": "text"
      },
      "source": [
        "<a href=\"https://colab.research.google.com/github/avs20/SioLabsPython0/blob/main/Sklearn.ipynb\" target=\"_parent\"><img src=\"https://colab.research.google.com/assets/colab-badge.svg\" alt=\"Open In Colab\"/></a>"
      ]
    },
    {
      "cell_type": "markdown",
      "metadata": {
        "id": "CEJV1npSZqrM"
      },
      "source": [
        "\r\n",
        "\r\n",
        "Cost function - Loss function \r\n",
        "  - The function which should be minimized which gives us 2 values \r\n",
        "  - m (slope) and b (intercept)\r\n",
        "\r\n",
        "Learning Rate : \r\n",
        "\r\n",
        "*  move slowly in the direction of minimizing cost function. 1e-3 → 1e-5\r\n",
        "\r\n",
        "Gradient and Gradient Descent :\r\n",
        "* slope of tangent at a point in the curve (loss function)\r\n",
        "* the method to move in the direction of mimimum value of curve using gradient as a tool \r\n",
        "```\r\n",
        "old_value = new_value - (learning_rate) * gradient \r\n",
        "```\r\n",
        "\r\n",
        "* Stochastic Gradient Descent \r\n",
        "* Batch Gradient Descent\r\n",
        "* Mini-batch Gradient Descent\r\n",
        "\r\n",
        "\r\n",
        "Stochastic\r\n",
        "-------\r\n",
        "Random \r\n",
        "\r\n",
        "\r\n",
        "* Simple / Basic Gradient Descent → Ask gradient from each point in the dataset\r\n",
        "* Stochastic → Ask gradient from a random point (used mostly in industry)\r\n",
        "* Batch / Mini batch → Simple / take few examples "
      ]
    },
    {
      "cell_type": "code",
      "metadata": {
        "id": "krEKvXwBefrP"
      },
      "source": [
        ""
      ],
      "execution_count": null,
      "outputs": []
    },
    {
      "cell_type": "markdown",
      "metadata": {
        "id": "-ZxFSapzegTr"
      },
      "source": [
        "Sklearn →\r\n",
        "\r\n",
        "* pandas - data manipulation \r\n",
        "* numpy - fast array manipulation\r\n",
        "* sklearn - machine learning \r\n",
        "\r\n",
        "deep learning is not done using sklearn. \r\n",
        "\r\n",
        "sklearn is only for basic machine learning \r\n",
        "except for neural networks you will get all the algorithms. \r\n",
        "\r\n",
        "\r\n"
      ]
    },
    {
      "cell_type": "code",
      "metadata": {
        "colab": {
          "base_uri": "https://localhost:8080/"
        },
        "id": "KJ4oOZP6Y9Xx",
        "outputId": "4fb35195-3aa0-48ba-84fe-b06c44327c44"
      },
      "source": [
        "from sklearn.datasets import load_iris\r\n",
        "from sklearn.linear_model import LogisticRegression\r\n",
        "X, y = load_iris(return_X_y=True)\r\n",
        "clf = LogisticRegression(random_state=0).fit(X, y)\r\n",
        "clf.predict(X[:2, :])\r\n",
        "\r\n",
        "clf.predict_proba(X[:2, :])\r\n",
        "\r\n",
        "\r\n",
        "clf.score(X, y)"
      ],
      "execution_count": 1,
      "outputs": [
        {
          "output_type": "stream",
          "text": [
            "/usr/local/lib/python3.6/dist-packages/sklearn/linear_model/_logistic.py:940: ConvergenceWarning: lbfgs failed to converge (status=1):\n",
            "STOP: TOTAL NO. of ITERATIONS REACHED LIMIT.\n",
            "\n",
            "Increase the number of iterations (max_iter) or scale the data as shown in:\n",
            "    https://scikit-learn.org/stable/modules/preprocessing.html\n",
            "Please also refer to the documentation for alternative solver options:\n",
            "    https://scikit-learn.org/stable/modules/linear_model.html#logistic-regression\n",
            "  extra_warning_msg=_LOGISTIC_SOLVER_CONVERGENCE_MSG)\n"
          ],
          "name": "stderr"
        },
        {
          "output_type": "execute_result",
          "data": {
            "text/plain": [
              "0.9733333333333334"
            ]
          },
          "metadata": {
            "tags": []
          },
          "execution_count": 1
        }
      ]
    },
    {
      "cell_type": "code",
      "metadata": {
        "colab": {
          "base_uri": "https://localhost:8080/"
        },
        "id": "ig2e32LFhSAr",
        "outputId": "0f6c78db-619d-4c3d-e4db-3a0aa9eae74b"
      },
      "source": [
        "import numpy as np\r\n",
        "from sklearn.linear_model import LinearRegression\r\n",
        "X = np.array([[1, 1], [1, 2], [2, 2], [2, 3]])\r\n",
        "# y = 1 * x_0 + 2 * x_1 + 3\r\n",
        "y = np.dot(X, np.array([1, 2])) + 3\r\n",
        "reg = LinearRegression().fit(X, y)\r\n",
        "\r\n",
        "print(reg.score(X, y))\r\n",
        "\r\n",
        "print(reg.coef_)\r\n",
        "\r\n",
        "print(reg.intercept_)\r\n",
        "\r\n",
        "print(reg.predict(np.array([[3, 5]])))\r\n"
      ],
      "execution_count": 4,
      "outputs": [
        {
          "output_type": "stream",
          "text": [
            "1.0\n",
            "[1. 2.]\n",
            "3.0000000000000018\n",
            "[16.]\n"
          ],
          "name": "stdout"
        }
      ]
    },
    {
      "cell_type": "code",
      "metadata": {
        "colab": {
          "base_uri": "https://localhost:8080/",
          "height": 206
        },
        "id": "JRKnY_2ahaBo",
        "outputId": "03286d1d-2cbb-4f37-9e35-91f7693dae74"
      },
      "source": [
        "import pandas as pd \r\n",
        "import numpy as np\r\n",
        "\r\n",
        "data = pd.read_csv(\"https://raw.githubusercontent.com/avs20/MSIT_ML_CLASS/master/datasets/boston_housing.csv\")\r\n",
        "data.head()\r\n"
      ],
      "execution_count": 5,
      "outputs": [
        {
          "output_type": "execute_result",
          "data": {
            "text/html": [
              "<div>\n",
              "<style scoped>\n",
              "    .dataframe tbody tr th:only-of-type {\n",
              "        vertical-align: middle;\n",
              "    }\n",
              "\n",
              "    .dataframe tbody tr th {\n",
              "        vertical-align: top;\n",
              "    }\n",
              "\n",
              "    .dataframe thead th {\n",
              "        text-align: right;\n",
              "    }\n",
              "</style>\n",
              "<table border=\"1\" class=\"dataframe\">\n",
              "  <thead>\n",
              "    <tr style=\"text-align: right;\">\n",
              "      <th></th>\n",
              "      <th>RM</th>\n",
              "      <th>LSTAT</th>\n",
              "      <th>PTRATIO</th>\n",
              "      <th>MEDV</th>\n",
              "    </tr>\n",
              "  </thead>\n",
              "  <tbody>\n",
              "    <tr>\n",
              "      <th>0</th>\n",
              "      <td>6.575</td>\n",
              "      <td>4.98</td>\n",
              "      <td>15.3</td>\n",
              "      <td>504000.0</td>\n",
              "    </tr>\n",
              "    <tr>\n",
              "      <th>1</th>\n",
              "      <td>6.421</td>\n",
              "      <td>9.14</td>\n",
              "      <td>17.8</td>\n",
              "      <td>453600.0</td>\n",
              "    </tr>\n",
              "    <tr>\n",
              "      <th>2</th>\n",
              "      <td>7.185</td>\n",
              "      <td>4.03</td>\n",
              "      <td>17.8</td>\n",
              "      <td>728700.0</td>\n",
              "    </tr>\n",
              "    <tr>\n",
              "      <th>3</th>\n",
              "      <td>6.998</td>\n",
              "      <td>2.94</td>\n",
              "      <td>18.7</td>\n",
              "      <td>701400.0</td>\n",
              "    </tr>\n",
              "    <tr>\n",
              "      <th>4</th>\n",
              "      <td>7.147</td>\n",
              "      <td>5.33</td>\n",
              "      <td>18.7</td>\n",
              "      <td>760200.0</td>\n",
              "    </tr>\n",
              "  </tbody>\n",
              "</table>\n",
              "</div>"
            ],
            "text/plain": [
              "      RM  LSTAT  PTRATIO      MEDV\n",
              "0  6.575   4.98     15.3  504000.0\n",
              "1  6.421   9.14     17.8  453600.0\n",
              "2  7.185   4.03     17.8  728700.0\n",
              "3  6.998   2.94     18.7  701400.0\n",
              "4  7.147   5.33     18.7  760200.0"
            ]
          },
          "metadata": {
            "tags": []
          },
          "execution_count": 5
        }
      ]
    },
    {
      "cell_type": "markdown",
      "metadata": {
        "id": "dA7Gu4Hai8Eo"
      },
      "source": [
        "sklearn requirement \r\n",
        "\r\n",
        "1. convert everything to numpy array \r\n",
        "\r\n",
        "pandas can have different data types in different columns \r\n",
        "\r\n",
        "sklearn can only work in numeric data (int or float)\r\n",
        "\r\n",
        "So we need to convert the data\r\n",
        "\r\n",
        "1. All numeric data - no need to convert anything \r\n",
        "2. need to convert string values to numeric values \r\n",
        "3. Can't have NaN or missing values. Either replace with some values like mean /median or some value or just drop the rows with missing values. \r\n",
        "4. Break the dataset into features and output\r\n",
        "5. rows of features should be equal to rows of output\r\n",
        "6. X should be 2 - dimensional array\r\n",
        "\r\n",
        "\r\n"
      ]
    },
    {
      "cell_type": "code",
      "metadata": {
        "colab": {
          "base_uri": "https://localhost:8080/",
          "height": 206
        },
        "id": "Jpcy3RShi23S",
        "outputId": "2497fcdb-deac-43fd-cf51-a3caad4f7e94"
      },
      "source": [
        "data = data [['RM', 'MEDV']]\r\n",
        "data.head()"
      ],
      "execution_count": 6,
      "outputs": [
        {
          "output_type": "execute_result",
          "data": {
            "text/html": [
              "<div>\n",
              "<style scoped>\n",
              "    .dataframe tbody tr th:only-of-type {\n",
              "        vertical-align: middle;\n",
              "    }\n",
              "\n",
              "    .dataframe tbody tr th {\n",
              "        vertical-align: top;\n",
              "    }\n",
              "\n",
              "    .dataframe thead th {\n",
              "        text-align: right;\n",
              "    }\n",
              "</style>\n",
              "<table border=\"1\" class=\"dataframe\">\n",
              "  <thead>\n",
              "    <tr style=\"text-align: right;\">\n",
              "      <th></th>\n",
              "      <th>RM</th>\n",
              "      <th>MEDV</th>\n",
              "    </tr>\n",
              "  </thead>\n",
              "  <tbody>\n",
              "    <tr>\n",
              "      <th>0</th>\n",
              "      <td>6.575</td>\n",
              "      <td>504000.0</td>\n",
              "    </tr>\n",
              "    <tr>\n",
              "      <th>1</th>\n",
              "      <td>6.421</td>\n",
              "      <td>453600.0</td>\n",
              "    </tr>\n",
              "    <tr>\n",
              "      <th>2</th>\n",
              "      <td>7.185</td>\n",
              "      <td>728700.0</td>\n",
              "    </tr>\n",
              "    <tr>\n",
              "      <th>3</th>\n",
              "      <td>6.998</td>\n",
              "      <td>701400.0</td>\n",
              "    </tr>\n",
              "    <tr>\n",
              "      <th>4</th>\n",
              "      <td>7.147</td>\n",
              "      <td>760200.0</td>\n",
              "    </tr>\n",
              "  </tbody>\n",
              "</table>\n",
              "</div>"
            ],
            "text/plain": [
              "      RM      MEDV\n",
              "0  6.575  504000.0\n",
              "1  6.421  453600.0\n",
              "2  7.185  728700.0\n",
              "3  6.998  701400.0\n",
              "4  7.147  760200.0"
            ]
          },
          "metadata": {
            "tags": []
          },
          "execution_count": 6
        }
      ]
    },
    {
      "cell_type": "code",
      "metadata": {
        "colab": {
          "base_uri": "https://localhost:8080/"
        },
        "id": "NU8uTTfmmSkS",
        "outputId": "dd81eb57-2b90-4274-fc9c-69be681b8db1"
      },
      "source": [
        "data.isnull().sum()"
      ],
      "execution_count": 7,
      "outputs": [
        {
          "output_type": "execute_result",
          "data": {
            "text/plain": [
              "RM      0\n",
              "MEDV    0\n",
              "dtype: int64"
            ]
          },
          "metadata": {
            "tags": []
          },
          "execution_count": 7
        }
      ]
    },
    {
      "cell_type": "code",
      "metadata": {
        "id": "Vk0tKrNXmZip"
      },
      "source": [
        "X, y = data['RM'], data['MEDV']"
      ],
      "execution_count": 8,
      "outputs": []
    },
    {
      "cell_type": "code",
      "metadata": {
        "colab": {
          "base_uri": "https://localhost:8080/"
        },
        "id": "oRczC0u1mhXW",
        "outputId": "5cbbba08-f04d-42fd-e6e9-cfc2f3f90f6a"
      },
      "source": [
        "type(X)"
      ],
      "execution_count": 11,
      "outputs": [
        {
          "output_type": "execute_result",
          "data": {
            "text/plain": [
              "pandas.core.series.Series"
            ]
          },
          "metadata": {
            "tags": []
          },
          "execution_count": 11
        }
      ]
    },
    {
      "cell_type": "code",
      "metadata": {
        "colab": {
          "base_uri": "https://localhost:8080/"
        },
        "id": "dhSRvvu_mh25",
        "outputId": "7f6b56f8-69d8-4371-93b9-c7d17b496f68"
      },
      "source": [
        "type(y)"
      ],
      "execution_count": 12,
      "outputs": [
        {
          "output_type": "execute_result",
          "data": {
            "text/plain": [
              "pandas.core.series.Series"
            ]
          },
          "metadata": {
            "tags": []
          },
          "execution_count": 12
        }
      ]
    },
    {
      "cell_type": "code",
      "metadata": {
        "id": "NSmk55-jmjO0"
      },
      "source": [
        "X = X.values"
      ],
      "execution_count": 14,
      "outputs": []
    },
    {
      "cell_type": "code",
      "metadata": {
        "id": "K2kAzDpZmvFY"
      },
      "source": [
        "y = y.values"
      ],
      "execution_count": 15,
      "outputs": []
    },
    {
      "cell_type": "code",
      "metadata": {
        "colab": {
          "base_uri": "https://localhost:8080/"
        },
        "id": "ch7c0MxMmyGy",
        "outputId": "19d43076-945d-4ce8-c28b-dc8656ecefa2"
      },
      "source": [
        "print(X.shape)\r\n",
        "print(y.shape)"
      ],
      "execution_count": 21,
      "outputs": [
        {
          "output_type": "stream",
          "text": [
            "(489,)\n",
            "(489,)\n"
          ],
          "name": "stdout"
        }
      ]
    },
    {
      "cell_type": "code",
      "metadata": {
        "id": "JNEV9v3-nbhp"
      },
      "source": [
        "X = X.reshape(X.shape[0],-1)"
      ],
      "execution_count": 24,
      "outputs": []
    },
    {
      "cell_type": "code",
      "metadata": {
        "colab": {
          "base_uri": "https://localhost:8080/"
        },
        "id": "flR_OvJ6npAp",
        "outputId": "cd65b581-509e-4fe7-9b4d-cb0d121bc831"
      },
      "source": [
        "print(X.shape)"
      ],
      "execution_count": 25,
      "outputs": [
        {
          "output_type": "stream",
          "text": [
            "(489, 1)\n"
          ],
          "name": "stdout"
        }
      ]
    },
    {
      "cell_type": "code",
      "metadata": {
        "colab": {
          "base_uri": "https://localhost:8080/"
        },
        "id": "24mT80mVm0uJ",
        "outputId": "41e8f5f4-881c-405d-c7f3-eb45603acb88"
      },
      "source": [
        "import numpy as np\r\n",
        "from sklearn.linear_model import LinearRegression\r\n",
        "\r\n",
        "reg = LinearRegression().fit(X, y)\r\n",
        "\r\n",
        "print(reg.score(X, y))\r\n",
        "\r\n",
        "print(reg.coef_)\r\n",
        "\r\n",
        "print(reg.intercept_)\r\n",
        "\r\n",
        "print(reg.predict(np.array([[3]])))"
      ],
      "execution_count": 27,
      "outputs": [
        {
          "output_type": "stream",
          "text": [
            "0.48610069787324506\n",
            "[179098.59189784]\n",
            "-663283.9105825216\n",
            "[-125988.134889]\n"
          ],
          "name": "stdout"
        }
      ]
    },
    {
      "cell_type": "code",
      "metadata": {
        "id": "m2MtFaXKn7oK"
      },
      "source": [
        ""
      ],
      "execution_count": null,
      "outputs": []
    }
  ]
}