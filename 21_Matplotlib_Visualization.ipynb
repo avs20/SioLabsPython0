{
  "nbformat": 4,
  "nbformat_minor": 0,
  "metadata": {
    "colab": {
      "name": "21_Matplotlib_Visualization.ipynb",
      "provenance": [],
      "authorship_tag": "ABX9TyM41tbgdfIBQYVDN7HoZH6u",
      "include_colab_link": true
    },
    "kernelspec": {
      "name": "python3",
      "display_name": "Python 3"
    }
  },
  "cells": [
    {
      "cell_type": "markdown",
      "metadata": {
        "id": "view-in-github",
        "colab_type": "text"
      },
      "source": [
        "<a href=\"https://colab.research.google.com/github/avs20/SioLabsPython0/blob/main/21_Matplotlib_Visualization.ipynb\" target=\"_parent\"><img src=\"https://colab.research.google.com/assets/colab-badge.svg\" alt=\"Open In Colab\"/></a>"
      ]
    },
    {
      "cell_type": "code",
      "metadata": {
        "colab": {
          "base_uri": "https://localhost:8080/",
          "height": 147
        },
        "id": "Q9rkLXWhkwBZ",
        "outputId": "1616d6ce-59d8-4881-aba1-4df3b9a023b1"
      },
      "source": [
        "import pandas as pd \n",
        "data = pd.read_csv('train.csv')\n",
        "data.head(2)"
      ],
      "execution_count": 1,
      "outputs": [
        {
          "output_type": "execute_result",
          "data": {
            "text/html": [
              "<div>\n",
              "<style scoped>\n",
              "    .dataframe tbody tr th:only-of-type {\n",
              "        vertical-align: middle;\n",
              "    }\n",
              "\n",
              "    .dataframe tbody tr th {\n",
              "        vertical-align: top;\n",
              "    }\n",
              "\n",
              "    .dataframe thead th {\n",
              "        text-align: right;\n",
              "    }\n",
              "</style>\n",
              "<table border=\"1\" class=\"dataframe\">\n",
              "  <thead>\n",
              "    <tr style=\"text-align: right;\">\n",
              "      <th></th>\n",
              "      <th>PassengerId</th>\n",
              "      <th>Survived</th>\n",
              "      <th>Pclass</th>\n",
              "      <th>Name</th>\n",
              "      <th>Sex</th>\n",
              "      <th>Age</th>\n",
              "      <th>SibSp</th>\n",
              "      <th>Parch</th>\n",
              "      <th>Ticket</th>\n",
              "      <th>Fare</th>\n",
              "      <th>Cabin</th>\n",
              "      <th>Embarked</th>\n",
              "    </tr>\n",
              "  </thead>\n",
              "  <tbody>\n",
              "    <tr>\n",
              "      <th>0</th>\n",
              "      <td>1</td>\n",
              "      <td>0</td>\n",
              "      <td>3</td>\n",
              "      <td>Braund, Mr. Owen Harris</td>\n",
              "      <td>male</td>\n",
              "      <td>22.0</td>\n",
              "      <td>1</td>\n",
              "      <td>0</td>\n",
              "      <td>A/5 21171</td>\n",
              "      <td>7.2500</td>\n",
              "      <td>NaN</td>\n",
              "      <td>S</td>\n",
              "    </tr>\n",
              "    <tr>\n",
              "      <th>1</th>\n",
              "      <td>2</td>\n",
              "      <td>1</td>\n",
              "      <td>1</td>\n",
              "      <td>Cumings, Mrs. John Bradley (Florence Briggs Th...</td>\n",
              "      <td>female</td>\n",
              "      <td>38.0</td>\n",
              "      <td>1</td>\n",
              "      <td>0</td>\n",
              "      <td>PC 17599</td>\n",
              "      <td>71.2833</td>\n",
              "      <td>C85</td>\n",
              "      <td>C</td>\n",
              "    </tr>\n",
              "  </tbody>\n",
              "</table>\n",
              "</div>"
            ],
            "text/plain": [
              "   PassengerId  Survived  Pclass  ...     Fare Cabin  Embarked\n",
              "0            1         0       3  ...   7.2500   NaN         S\n",
              "1            2         1       1  ...  71.2833   C85         C\n",
              "\n",
              "[2 rows x 12 columns]"
            ]
          },
          "metadata": {
            "tags": []
          },
          "execution_count": 1
        }
      ]
    },
    {
      "cell_type": "code",
      "metadata": {
        "id": "_MwmfAjWmPdu"
      },
      "source": [
        "# creating a new column \n",
        "data['age_cat'] = 'children'"
      ],
      "execution_count": 2,
      "outputs": []
    },
    {
      "cell_type": "code",
      "metadata": {
        "colab": {
          "base_uri": "https://localhost:8080/"
        },
        "id": "I1F-fHeMmvtK",
        "outputId": "577d975b-1b3c-476a-e5f2-298b82e5380c"
      },
      "source": [
        "data.info()"
      ],
      "execution_count": 3,
      "outputs": [
        {
          "output_type": "stream",
          "text": [
            "<class 'pandas.core.frame.DataFrame'>\n",
            "RangeIndex: 891 entries, 0 to 890\n",
            "Data columns (total 13 columns):\n",
            " #   Column       Non-Null Count  Dtype  \n",
            "---  ------       --------------  -----  \n",
            " 0   PassengerId  891 non-null    int64  \n",
            " 1   Survived     891 non-null    int64  \n",
            " 2   Pclass       891 non-null    int64  \n",
            " 3   Name         891 non-null    object \n",
            " 4   Sex          891 non-null    object \n",
            " 5   Age          714 non-null    float64\n",
            " 6   SibSp        891 non-null    int64  \n",
            " 7   Parch        891 non-null    int64  \n",
            " 8   Ticket       891 non-null    object \n",
            " 9   Fare         891 non-null    float64\n",
            " 10  Cabin        204 non-null    object \n",
            " 11  Embarked     889 non-null    object \n",
            " 12  age_cat      891 non-null    object \n",
            "dtypes: float64(2), int64(5), object(6)\n",
            "memory usage: 90.6+ KB\n"
          ],
          "name": "stdout"
        }
      ]
    },
    {
      "cell_type": "code",
      "metadata": {
        "colab": {
          "base_uri": "https://localhost:8080/"
        },
        "id": "BhAAbALAmw0A",
        "outputId": "d50b3538-bdae-456c-9c20-f92f64a463d0"
      },
      "source": [
        "data.age_cat"
      ],
      "execution_count": 4,
      "outputs": [
        {
          "output_type": "execute_result",
          "data": {
            "text/plain": [
              "0      children\n",
              "1      children\n",
              "2      children\n",
              "3      children\n",
              "4      children\n",
              "         ...   \n",
              "886    children\n",
              "887    children\n",
              "888    children\n",
              "889    children\n",
              "890    children\n",
              "Name: age_cat, Length: 891, dtype: object"
            ]
          },
          "metadata": {
            "tags": []
          },
          "execution_count": 4
        }
      ]
    },
    {
      "cell_type": "code",
      "metadata": {
        "colab": {
          "base_uri": "https://localhost:8080/"
        },
        "id": "4wU3MpjImzJo",
        "outputId": "49d0b204-0909-4131-faa2-88a481479362"
      },
      "source": [
        "# where age is between 0 and 2 I have to set this column as infant \n",
        "data.loc[data.Age <= 2, 'age_cat'] = 'infant'\n",
        "data.age_cat.value_counts()"
      ],
      "execution_count": 7,
      "outputs": [
        {
          "output_type": "execute_result",
          "data": {
            "text/plain": [
              "children    867\n",
              "infant       24\n",
              "Name: age_cat, dtype: int64"
            ]
          },
          "metadata": {
            "tags": []
          },
          "execution_count": 7
        }
      ]
    },
    {
      "cell_type": "code",
      "metadata": {
        "colab": {
          "base_uri": "https://localhost:8080/"
        },
        "id": "9BSSbccYm-5M",
        "outputId": "41621eea-6bf8-4b75-b2eb-4831827a279c"
      },
      "source": [
        "# where age is > 14 I have to set this column as adult\n",
        "data.loc[data.Age  > 14, 'age_cat'] = 'adult'\n",
        "data.age_cat.value_counts()"
      ],
      "execution_count": 8,
      "outputs": [
        {
          "output_type": "execute_result",
          "data": {
            "text/plain": [
              "adult       637\n",
              "children    230\n",
              "infant       24\n",
              "Name: age_cat, dtype: int64"
            ]
          },
          "metadata": {
            "tags": []
          },
          "execution_count": 8
        }
      ]
    },
    {
      "cell_type": "markdown",
      "metadata": {
        "id": "5j2OpicmnUCz"
      },
      "source": [
        "aalsi solutoin \n",
        "\n",
        "apply()\n",
        "-------\n",
        "\n",
        "we can pass a function to this and this apply() will apply that function to columns or rows or everything "
      ]
    },
    {
      "cell_type": "code",
      "metadata": {
        "id": "m6pVdMvgnLMP"
      },
      "source": [
        "def get_age_cat(age):\n",
        "  if age <= 2:\n",
        "    return 'infant'\n",
        "  elif age <= 14:\n",
        "    return 'children'\n",
        "  else:\n",
        "    return 'adult'\n",
        "\n"
      ],
      "execution_count": 11,
      "outputs": []
    },
    {
      "cell_type": "code",
      "metadata": {
        "id": "NseEcafGn0t1"
      },
      "source": [
        "data['age_cat'] = data.Age.apply(get_age_cat)"
      ],
      "execution_count": 12,
      "outputs": []
    },
    {
      "cell_type": "code",
      "metadata": {
        "colab": {
          "base_uri": "https://localhost:8080/"
        },
        "id": "aVW3IPC_o0o_",
        "outputId": "c1b16dbd-2df1-49b8-b918-8369ba53f402"
      },
      "source": [
        "data['age_cat'].head(10)"
      ],
      "execution_count": 13,
      "outputs": [
        {
          "output_type": "execute_result",
          "data": {
            "text/plain": [
              "0       adult\n",
              "1       adult\n",
              "2       adult\n",
              "3       adult\n",
              "4       adult\n",
              "5       adult\n",
              "6       adult\n",
              "7      infant\n",
              "8       adult\n",
              "9    children\n",
              "Name: age_cat, dtype: object"
            ]
          },
          "metadata": {
            "tags": []
          },
          "execution_count": 13
        }
      ]
    },
    {
      "cell_type": "code",
      "metadata": {
        "colab": {
          "base_uri": "https://localhost:8080/"
        },
        "id": "tU9cneG6o2_I",
        "outputId": "bfc24dde-9ee4-4e25-b675-27221abd9980"
      },
      "source": [
        "def get_salutation(row):\n",
        "  if row.Sex == 'male' and row.Age < 14:\n",
        "    return 'Master'\n",
        "  elif row.Sex == 'male' and row.Age >= 14:\n",
        "    return 'Mr.'\n",
        "  elif row.Sex == 'female' and row.Age < 14:\n",
        "    return 'Miss'\n",
        "  elif row.Sex == 'female' and row.Age >= 14:\n",
        "    return 'Mrs.'\n",
        "\n",
        "data.apply(get_salutation, axis = 1)"
      ],
      "execution_count": 22,
      "outputs": [
        {
          "output_type": "execute_result",
          "data": {
            "text/plain": [
              "0       Mr.\n",
              "1      Mrs.\n",
              "2      Mrs.\n",
              "3      Mrs.\n",
              "4       Mr.\n",
              "       ... \n",
              "886     Mr.\n",
              "887    Mrs.\n",
              "888    None\n",
              "889     Mr.\n",
              "890     Mr.\n",
              "Length: 891, dtype: object"
            ]
          },
          "metadata": {
            "tags": []
          },
          "execution_count": 22
        }
      ]
    },
    {
      "cell_type": "code",
      "metadata": {
        "colab": {
          "base_uri": "https://localhost:8080/",
          "height": 615
        },
        "id": "W7AdQjv2pq5q",
        "outputId": "fa269e32-fc31-4aac-ab14-6c4c92610f40"
      },
      "source": [
        "data"
      ],
      "execution_count": 16,
      "outputs": [
        {
          "output_type": "execute_result",
          "data": {
            "text/html": [
              "<div>\n",
              "<style scoped>\n",
              "    .dataframe tbody tr th:only-of-type {\n",
              "        vertical-align: middle;\n",
              "    }\n",
              "\n",
              "    .dataframe tbody tr th {\n",
              "        vertical-align: top;\n",
              "    }\n",
              "\n",
              "    .dataframe thead th {\n",
              "        text-align: right;\n",
              "    }\n",
              "</style>\n",
              "<table border=\"1\" class=\"dataframe\">\n",
              "  <thead>\n",
              "    <tr style=\"text-align: right;\">\n",
              "      <th></th>\n",
              "      <th>PassengerId</th>\n",
              "      <th>Survived</th>\n",
              "      <th>Pclass</th>\n",
              "      <th>Name</th>\n",
              "      <th>Sex</th>\n",
              "      <th>Age</th>\n",
              "      <th>SibSp</th>\n",
              "      <th>Parch</th>\n",
              "      <th>Ticket</th>\n",
              "      <th>Fare</th>\n",
              "      <th>Cabin</th>\n",
              "      <th>Embarked</th>\n",
              "      <th>age_cat</th>\n",
              "    </tr>\n",
              "  </thead>\n",
              "  <tbody>\n",
              "    <tr>\n",
              "      <th>0</th>\n",
              "      <td>1</td>\n",
              "      <td>0</td>\n",
              "      <td>3</td>\n",
              "      <td>Braund, Mr. Owen Harris</td>\n",
              "      <td>male</td>\n",
              "      <td>22.0</td>\n",
              "      <td>1</td>\n",
              "      <td>0</td>\n",
              "      <td>A/5 21171</td>\n",
              "      <td>7.2500</td>\n",
              "      <td>NaN</td>\n",
              "      <td>S</td>\n",
              "      <td>adult</td>\n",
              "    </tr>\n",
              "    <tr>\n",
              "      <th>1</th>\n",
              "      <td>2</td>\n",
              "      <td>1</td>\n",
              "      <td>1</td>\n",
              "      <td>Cumings, Mrs. John Bradley (Florence Briggs Th...</td>\n",
              "      <td>female</td>\n",
              "      <td>38.0</td>\n",
              "      <td>1</td>\n",
              "      <td>0</td>\n",
              "      <td>PC 17599</td>\n",
              "      <td>71.2833</td>\n",
              "      <td>C85</td>\n",
              "      <td>C</td>\n",
              "      <td>adult</td>\n",
              "    </tr>\n",
              "    <tr>\n",
              "      <th>2</th>\n",
              "      <td>3</td>\n",
              "      <td>1</td>\n",
              "      <td>3</td>\n",
              "      <td>Heikkinen, Miss. Laina</td>\n",
              "      <td>female</td>\n",
              "      <td>26.0</td>\n",
              "      <td>0</td>\n",
              "      <td>0</td>\n",
              "      <td>STON/O2. 3101282</td>\n",
              "      <td>7.9250</td>\n",
              "      <td>NaN</td>\n",
              "      <td>S</td>\n",
              "      <td>adult</td>\n",
              "    </tr>\n",
              "    <tr>\n",
              "      <th>3</th>\n",
              "      <td>4</td>\n",
              "      <td>1</td>\n",
              "      <td>1</td>\n",
              "      <td>Futrelle, Mrs. Jacques Heath (Lily May Peel)</td>\n",
              "      <td>female</td>\n",
              "      <td>35.0</td>\n",
              "      <td>1</td>\n",
              "      <td>0</td>\n",
              "      <td>113803</td>\n",
              "      <td>53.1000</td>\n",
              "      <td>C123</td>\n",
              "      <td>S</td>\n",
              "      <td>adult</td>\n",
              "    </tr>\n",
              "    <tr>\n",
              "      <th>4</th>\n",
              "      <td>5</td>\n",
              "      <td>0</td>\n",
              "      <td>3</td>\n",
              "      <td>Allen, Mr. William Henry</td>\n",
              "      <td>male</td>\n",
              "      <td>35.0</td>\n",
              "      <td>0</td>\n",
              "      <td>0</td>\n",
              "      <td>373450</td>\n",
              "      <td>8.0500</td>\n",
              "      <td>NaN</td>\n",
              "      <td>S</td>\n",
              "      <td>adult</td>\n",
              "    </tr>\n",
              "    <tr>\n",
              "      <th>...</th>\n",
              "      <td>...</td>\n",
              "      <td>...</td>\n",
              "      <td>...</td>\n",
              "      <td>...</td>\n",
              "      <td>...</td>\n",
              "      <td>...</td>\n",
              "      <td>...</td>\n",
              "      <td>...</td>\n",
              "      <td>...</td>\n",
              "      <td>...</td>\n",
              "      <td>...</td>\n",
              "      <td>...</td>\n",
              "      <td>...</td>\n",
              "    </tr>\n",
              "    <tr>\n",
              "      <th>886</th>\n",
              "      <td>887</td>\n",
              "      <td>0</td>\n",
              "      <td>2</td>\n",
              "      <td>Montvila, Rev. Juozas</td>\n",
              "      <td>male</td>\n",
              "      <td>27.0</td>\n",
              "      <td>0</td>\n",
              "      <td>0</td>\n",
              "      <td>211536</td>\n",
              "      <td>13.0000</td>\n",
              "      <td>NaN</td>\n",
              "      <td>S</td>\n",
              "      <td>adult</td>\n",
              "    </tr>\n",
              "    <tr>\n",
              "      <th>887</th>\n",
              "      <td>888</td>\n",
              "      <td>1</td>\n",
              "      <td>1</td>\n",
              "      <td>Graham, Miss. Margaret Edith</td>\n",
              "      <td>female</td>\n",
              "      <td>19.0</td>\n",
              "      <td>0</td>\n",
              "      <td>0</td>\n",
              "      <td>112053</td>\n",
              "      <td>30.0000</td>\n",
              "      <td>B42</td>\n",
              "      <td>S</td>\n",
              "      <td>adult</td>\n",
              "    </tr>\n",
              "    <tr>\n",
              "      <th>888</th>\n",
              "      <td>889</td>\n",
              "      <td>0</td>\n",
              "      <td>3</td>\n",
              "      <td>Johnston, Miss. Catherine Helen \"Carrie\"</td>\n",
              "      <td>female</td>\n",
              "      <td>NaN</td>\n",
              "      <td>1</td>\n",
              "      <td>2</td>\n",
              "      <td>W./C. 6607</td>\n",
              "      <td>23.4500</td>\n",
              "      <td>NaN</td>\n",
              "      <td>S</td>\n",
              "      <td>adult</td>\n",
              "    </tr>\n",
              "    <tr>\n",
              "      <th>889</th>\n",
              "      <td>890</td>\n",
              "      <td>1</td>\n",
              "      <td>1</td>\n",
              "      <td>Behr, Mr. Karl Howell</td>\n",
              "      <td>male</td>\n",
              "      <td>26.0</td>\n",
              "      <td>0</td>\n",
              "      <td>0</td>\n",
              "      <td>111369</td>\n",
              "      <td>30.0000</td>\n",
              "      <td>C148</td>\n",
              "      <td>C</td>\n",
              "      <td>adult</td>\n",
              "    </tr>\n",
              "    <tr>\n",
              "      <th>890</th>\n",
              "      <td>891</td>\n",
              "      <td>0</td>\n",
              "      <td>3</td>\n",
              "      <td>Dooley, Mr. Patrick</td>\n",
              "      <td>male</td>\n",
              "      <td>32.0</td>\n",
              "      <td>0</td>\n",
              "      <td>0</td>\n",
              "      <td>370376</td>\n",
              "      <td>7.7500</td>\n",
              "      <td>NaN</td>\n",
              "      <td>Q</td>\n",
              "      <td>adult</td>\n",
              "    </tr>\n",
              "  </tbody>\n",
              "</table>\n",
              "<p>891 rows × 13 columns</p>\n",
              "</div>"
            ],
            "text/plain": [
              "     PassengerId  Survived  Pclass  ... Cabin Embarked  age_cat\n",
              "0              1         0       3  ...   NaN        S    adult\n",
              "1              2         1       1  ...   C85        C    adult\n",
              "2              3         1       3  ...   NaN        S    adult\n",
              "3              4         1       1  ...  C123        S    adult\n",
              "4              5         0       3  ...   NaN        S    adult\n",
              "..           ...       ...     ...  ...   ...      ...      ...\n",
              "886          887         0       2  ...   NaN        S    adult\n",
              "887          888         1       1  ...   B42        S    adult\n",
              "888          889         0       3  ...   NaN        S    adult\n",
              "889          890         1       1  ...  C148        C    adult\n",
              "890          891         0       3  ...   NaN        Q    adult\n",
              "\n",
              "[891 rows x 13 columns]"
            ]
          },
          "metadata": {
            "tags": []
          },
          "execution_count": 16
        }
      ]
    },
    {
      "cell_type": "markdown",
      "metadata": {
        "id": "FwEJf6yFqx3r"
      },
      "source": [
        "Visualization \n",
        "--------\n",
        "\n",
        "showing data \n",
        "representing data in some image form. "
      ]
    },
    {
      "cell_type": "code",
      "metadata": {
        "id": "Ye0wvlhnp5vp"
      },
      "source": [
        "g_var = data.groupby('Sex')['Survived'].value_counts()"
      ],
      "execution_count": 26,
      "outputs": []
    },
    {
      "cell_type": "code",
      "metadata": {
        "id": "3sBBCpBbsAp-"
      },
      "source": [
        "un_var  = data.groupby('Sex')['Survived'].value_counts().unstack()"
      ],
      "execution_count": 27,
      "outputs": []
    },
    {
      "cell_type": "code",
      "metadata": {
        "colab": {
          "base_uri": "https://localhost:8080/"
        },
        "id": "B0gM5BiLsHfK",
        "outputId": "d45d6ace-8b43-42ae-c1ea-c1b3206c3a59"
      },
      "source": [
        "g_var.index"
      ],
      "execution_count": 28,
      "outputs": [
        {
          "output_type": "execute_result",
          "data": {
            "text/plain": [
              "MultiIndex([('female', 1),\n",
              "            ('female', 0),\n",
              "            (  'male', 0),\n",
              "            (  'male', 1)],\n",
              "           names=['Sex', 'Survived'])"
            ]
          },
          "metadata": {
            "tags": []
          },
          "execution_count": 28
        }
      ]
    },
    {
      "cell_type": "code",
      "metadata": {
        "colab": {
          "base_uri": "https://localhost:8080/"
        },
        "id": "MjfqL8lEsRvl",
        "outputId": "9b0d0535-a0eb-41b1-971a-fa608b42f870"
      },
      "source": [
        "g_var"
      ],
      "execution_count": 31,
      "outputs": [
        {
          "output_type": "execute_result",
          "data": {
            "text/plain": [
              "Sex     Survived\n",
              "female  1           233\n",
              "        0            81\n",
              "male    0           468\n",
              "        1           109\n",
              "Name: Survived, dtype: int64"
            ]
          },
          "metadata": {
            "tags": []
          },
          "execution_count": 31
        }
      ]
    },
    {
      "cell_type": "code",
      "metadata": {
        "colab": {
          "base_uri": "https://localhost:8080/"
        },
        "id": "M4REK3cRsJ2U",
        "outputId": "0ce37bfa-9a44-4668-c48c-1fb8fb40eaee"
      },
      "source": [
        "un_var.index"
      ],
      "execution_count": 29,
      "outputs": [
        {
          "output_type": "execute_result",
          "data": {
            "text/plain": [
              "Index(['female', 'male'], dtype='object', name='Sex')"
            ]
          },
          "metadata": {
            "tags": []
          },
          "execution_count": 29
        }
      ]
    },
    {
      "cell_type": "code",
      "metadata": {
        "colab": {
          "base_uri": "https://localhost:8080/",
          "height": 143
        },
        "id": "erA_Q_U7sqTz",
        "outputId": "30f1e077-e120-419d-8016-1919c3fab1c2"
      },
      "source": [
        "un_var"
      ],
      "execution_count": 32,
      "outputs": [
        {
          "output_type": "execute_result",
          "data": {
            "text/html": [
              "<div>\n",
              "<style scoped>\n",
              "    .dataframe tbody tr th:only-of-type {\n",
              "        vertical-align: middle;\n",
              "    }\n",
              "\n",
              "    .dataframe tbody tr th {\n",
              "        vertical-align: top;\n",
              "    }\n",
              "\n",
              "    .dataframe thead th {\n",
              "        text-align: right;\n",
              "    }\n",
              "</style>\n",
              "<table border=\"1\" class=\"dataframe\">\n",
              "  <thead>\n",
              "    <tr style=\"text-align: right;\">\n",
              "      <th>Survived</th>\n",
              "      <th>0</th>\n",
              "      <th>1</th>\n",
              "    </tr>\n",
              "    <tr>\n",
              "      <th>Sex</th>\n",
              "      <th></th>\n",
              "      <th></th>\n",
              "    </tr>\n",
              "  </thead>\n",
              "  <tbody>\n",
              "    <tr>\n",
              "      <th>female</th>\n",
              "      <td>81</td>\n",
              "      <td>233</td>\n",
              "    </tr>\n",
              "    <tr>\n",
              "      <th>male</th>\n",
              "      <td>468</td>\n",
              "      <td>109</td>\n",
              "    </tr>\n",
              "  </tbody>\n",
              "</table>\n",
              "</div>"
            ],
            "text/plain": [
              "Survived    0    1\n",
              "Sex               \n",
              "female     81  233\n",
              "male      468  109"
            ]
          },
          "metadata": {
            "tags": []
          },
          "execution_count": 32
        }
      ]
    },
    {
      "cell_type": "code",
      "metadata": {
        "colab": {
          "base_uri": "https://localhost:8080/",
          "height": 342
        },
        "id": "4jh49eyrrVyS",
        "outputId": "7cc09239-de6d-4fdd-f3bf-af021898226b"
      },
      "source": [
        "data.groupby('Sex')['Survived'].value_counts().plot(kind=\"bar\")"
      ],
      "execution_count": 33,
      "outputs": [
        {
          "output_type": "execute_result",
          "data": {
            "text/plain": [
              "<matplotlib.axes._subplots.AxesSubplot at 0x7fcc99c9c7f0>"
            ]
          },
          "metadata": {
            "tags": []
          },
          "execution_count": 33
        },
        {
          "output_type": "display_data",
          "data": {
            "image/png": "[encoded data removed]",
            "text/plain": [
              "<Figure size 432x288 with 1 Axes>"
            ]
          },
          "metadata": {
            "tags": [],
            "needs_background": "light"
          }
        }
      ]
    },
    {
      "cell_type": "code",
      "metadata": {
        "id": "vNIhzkqisJJx"
      },
      "source": [
        ""
      ],
      "execution_count": null,
      "outputs": []
    },
    {
      "cell_type": "markdown",
      "metadata": {
        "id": "4PQI-V_ar9PR"
      },
      "source": [
        "matplotlib - pyplot"
      ]
    },
    {
      "cell_type": "code",
      "metadata": {
        "colab": {
          "base_uri": "https://localhost:8080/",
          "height": 269
        },
        "id": "ziLNBMeSrZzn",
        "outputId": "375ed453-5557-4da6-c907-703e5d3c7b88"
      },
      "source": [
        "import matplotlib.pyplot as plt\n",
        "%matplotlib inline\n",
        "\n",
        "fig, ax = plt.subplots()\n",
        "plt.show()"
      ],
      "execution_count": 40,
      "outputs": [
        {
          "output_type": "display_data",
          "data": {
            "image/png": "[encoded data removed]",
            "text/plain": [
              "<Figure size 432x288 with 1 Axes>"
            ]
          },
          "metadata": {
            "tags": [],
            "needs_background": "light"
          }
        }
      ]
    },
    {
      "cell_type": "code",
      "metadata": {
        "colab": {
          "base_uri": "https://localhost:8080/",
          "height": 615
        },
        "id": "cgXi5yllvEdb",
        "outputId": "c612b1c8-eff9-48fe-d71d-cecec79ee1ea"
      },
      "source": [
        "data"
      ],
      "execution_count": 41,
      "outputs": [
        {
          "output_type": "execute_result",
          "data": {
            "text/html": [
              "<div>\n",
              "<style scoped>\n",
              "    .dataframe tbody tr th:only-of-type {\n",
              "        vertical-align: middle;\n",
              "    }\n",
              "\n",
              "    .dataframe tbody tr th {\n",
              "        vertical-align: top;\n",
              "    }\n",
              "\n",
              "    .dataframe thead th {\n",
              "        text-align: right;\n",
              "    }\n",
              "</style>\n",
              "<table border=\"1\" class=\"dataframe\">\n",
              "  <thead>\n",
              "    <tr style=\"text-align: right;\">\n",
              "      <th></th>\n",
              "      <th>PassengerId</th>\n",
              "      <th>Survived</th>\n",
              "      <th>Pclass</th>\n",
              "      <th>Name</th>\n",
              "      <th>Sex</th>\n",
              "      <th>Age</th>\n",
              "      <th>SibSp</th>\n",
              "      <th>Parch</th>\n",
              "      <th>Ticket</th>\n",
              "      <th>Fare</th>\n",
              "      <th>Cabin</th>\n",
              "      <th>Embarked</th>\n",
              "      <th>age_cat</th>\n",
              "    </tr>\n",
              "  </thead>\n",
              "  <tbody>\n",
              "    <tr>\n",
              "      <th>0</th>\n",
              "      <td>1</td>\n",
              "      <td>0</td>\n",
              "      <td>3</td>\n",
              "      <td>Braund, Mr. Owen Harris</td>\n",
              "      <td>male</td>\n",
              "      <td>22.0</td>\n",
              "      <td>1</td>\n",
              "      <td>0</td>\n",
              "      <td>A/5 21171</td>\n",
              "      <td>7.2500</td>\n",
              "      <td>NaN</td>\n",
              "      <td>S</td>\n",
              "      <td>adult</td>\n",
              "    </tr>\n",
              "    <tr>\n",
              "      <th>1</th>\n",
              "      <td>2</td>\n",
              "      <td>1</td>\n",
              "      <td>1</td>\n",
              "      <td>Cumings, Mrs. John Bradley (Florence Briggs Th...</td>\n",
              "      <td>female</td>\n",
              "      <td>38.0</td>\n",
              "      <td>1</td>\n",
              "      <td>0</td>\n",
              "      <td>PC 17599</td>\n",
              "      <td>71.2833</td>\n",
              "      <td>C85</td>\n",
              "      <td>C</td>\n",
              "      <td>adult</td>\n",
              "    </tr>\n",
              "    <tr>\n",
              "      <th>2</th>\n",
              "      <td>3</td>\n",
              "      <td>1</td>\n",
              "      <td>3</td>\n",
              "      <td>Heikkinen, Miss. Laina</td>\n",
              "      <td>female</td>\n",
              "      <td>26.0</td>\n",
              "      <td>0</td>\n",
              "      <td>0</td>\n",
              "      <td>STON/O2. 3101282</td>\n",
              "      <td>7.9250</td>\n",
              "      <td>NaN</td>\n",
              "      <td>S</td>\n",
              "      <td>adult</td>\n",
              "    </tr>\n",
              "    <tr>\n",
              "      <th>3</th>\n",
              "      <td>4</td>\n",
              "      <td>1</td>\n",
              "      <td>1</td>\n",
              "      <td>Futrelle, Mrs. Jacques Heath (Lily May Peel)</td>\n",
              "      <td>female</td>\n",
              "      <td>35.0</td>\n",
              "      <td>1</td>\n",
              "      <td>0</td>\n",
              "      <td>113803</td>\n",
              "      <td>53.1000</td>\n",
              "      <td>C123</td>\n",
              "      <td>S</td>\n",
              "      <td>adult</td>\n",
              "    </tr>\n",
              "    <tr>\n",
              "      <th>4</th>\n",
              "      <td>5</td>\n",
              "      <td>0</td>\n",
              "      <td>3</td>\n",
              "      <td>Allen, Mr. William Henry</td>\n",
              "      <td>male</td>\n",
              "      <td>35.0</td>\n",
              "      <td>0</td>\n",
              "      <td>0</td>\n",
              "      <td>373450</td>\n",
              "      <td>8.0500</td>\n",
              "      <td>NaN</td>\n",
              "      <td>S</td>\n",
              "      <td>adult</td>\n",
              "    </tr>\n",
              "    <tr>\n",
              "      <th>...</th>\n",
              "      <td>...</td>\n",
              "      <td>...</td>\n",
              "      <td>...</td>\n",
              "      <td>...</td>\n",
              "      <td>...</td>\n",
              "      <td>...</td>\n",
              "      <td>...</td>\n",
              "      <td>...</td>\n",
              "      <td>...</td>\n",
              "      <td>...</td>\n",
              "      <td>...</td>\n",
              "      <td>...</td>\n",
              "      <td>...</td>\n",
              "    </tr>\n",
              "    <tr>\n",
              "      <th>886</th>\n",
              "      <td>887</td>\n",
              "      <td>0</td>\n",
              "      <td>2</td>\n",
              "      <td>Montvila, Rev. Juozas</td>\n",
              "      <td>male</td>\n",
              "      <td>27.0</td>\n",
              "      <td>0</td>\n",
              "      <td>0</td>\n",
              "      <td>211536</td>\n",
              "      <td>13.0000</td>\n",
              "      <td>NaN</td>\n",
              "      <td>S</td>\n",
              "      <td>adult</td>\n",
              "    </tr>\n",
              "    <tr>\n",
              "      <th>887</th>\n",
              "      <td>888</td>\n",
              "      <td>1</td>\n",
              "      <td>1</td>\n",
              "      <td>Graham, Miss. Margaret Edith</td>\n",
              "      <td>female</td>\n",
              "      <td>19.0</td>\n",
              "      <td>0</td>\n",
              "      <td>0</td>\n",
              "      <td>112053</td>\n",
              "      <td>30.0000</td>\n",
              "      <td>B42</td>\n",
              "      <td>S</td>\n",
              "      <td>adult</td>\n",
              "    </tr>\n",
              "    <tr>\n",
              "      <th>888</th>\n",
              "      <td>889</td>\n",
              "      <td>0</td>\n",
              "      <td>3</td>\n",
              "      <td>Johnston, Miss. Catherine Helen \"Carrie\"</td>\n",
              "      <td>female</td>\n",
              "      <td>NaN</td>\n",
              "      <td>1</td>\n",
              "      <td>2</td>\n",
              "      <td>W./C. 6607</td>\n",
              "      <td>23.4500</td>\n",
              "      <td>NaN</td>\n",
              "      <td>S</td>\n",
              "      <td>adult</td>\n",
              "    </tr>\n",
              "    <tr>\n",
              "      <th>889</th>\n",
              "      <td>890</td>\n",
              "      <td>1</td>\n",
              "      <td>1</td>\n",
              "      <td>Behr, Mr. Karl Howell</td>\n",
              "      <td>male</td>\n",
              "      <td>26.0</td>\n",
              "      <td>0</td>\n",
              "      <td>0</td>\n",
              "      <td>111369</td>\n",
              "      <td>30.0000</td>\n",
              "      <td>C148</td>\n",
              "      <td>C</td>\n",
              "      <td>adult</td>\n",
              "    </tr>\n",
              "    <tr>\n",
              "      <th>890</th>\n",
              "      <td>891</td>\n",
              "      <td>0</td>\n",
              "      <td>3</td>\n",
              "      <td>Dooley, Mr. Patrick</td>\n",
              "      <td>male</td>\n",
              "      <td>32.0</td>\n",
              "      <td>0</td>\n",
              "      <td>0</td>\n",
              "      <td>370376</td>\n",
              "      <td>7.7500</td>\n",
              "      <td>NaN</td>\n",
              "      <td>Q</td>\n",
              "      <td>adult</td>\n",
              "    </tr>\n",
              "  </tbody>\n",
              "</table>\n",
              "<p>891 rows × 13 columns</p>\n",
              "</div>"
            ],
            "text/plain": [
              "     PassengerId  Survived  Pclass  ... Cabin Embarked  age_cat\n",
              "0              1         0       3  ...   NaN        S    adult\n",
              "1              2         1       1  ...   C85        C    adult\n",
              "2              3         1       3  ...   NaN        S    adult\n",
              "3              4         1       1  ...  C123        S    adult\n",
              "4              5         0       3  ...   NaN        S    adult\n",
              "..           ...       ...     ...  ...   ...      ...      ...\n",
              "886          887         0       2  ...   NaN        S    adult\n",
              "887          888         1       1  ...   B42        S    adult\n",
              "888          889         0       3  ...   NaN        S    adult\n",
              "889          890         1       1  ...  C148        C    adult\n",
              "890          891         0       3  ...   NaN        Q    adult\n",
              "\n",
              "[891 rows x 13 columns]"
            ]
          },
          "metadata": {
            "tags": []
          },
          "execution_count": 41
        }
      ]
    },
    {
      "cell_type": "code",
      "metadata": {
        "id": "PZF0z4w2vGlF"
      },
      "source": [
        "df = pd.read_csv('/content/seattle_weather.csv')"
      ],
      "execution_count": 53,
      "outputs": []
    },
    {
      "cell_type": "code",
      "metadata": {
        "colab": {
          "base_uri": "https://localhost:8080/"
        },
        "id": "sDMuIAPqvVCX",
        "outputId": "b6ca2d78-f8e3-47c9-de58-008262fc461d"
      },
      "source": [
        "df['MLY-TAVG-NORMAL']"
      ],
      "execution_count": 54,
      "outputs": [
        {
          "output_type": "execute_result",
          "data": {
            "text/plain": [
              "0      39.3\n",
              "1      40.7\n",
              "2      43.8\n",
              "3      47.4\n",
              "4      53.1\n",
              "       ... \n",
              "199    66.7\n",
              "200    61.5\n",
              "201    52.9\n",
              "202    45.5\n",
              "203    40.3\n",
              "Name: MLY-TAVG-NORMAL, Length: 204, dtype: float64"
            ]
          },
          "metadata": {
            "tags": []
          },
          "execution_count": 54
        }
      ]
    },
    {
      "cell_type": "code",
      "metadata": {
        "id": "v_V4g8ILvVws"
      },
      "source": [
        "df.rename(columns = {'DATE':'MONTH'}, inplace=True)"
      ],
      "execution_count": 55,
      "outputs": []
    },
    {
      "cell_type": "code",
      "metadata": {
        "colab": {
          "base_uri": "https://localhost:8080/"
        },
        "id": "MJZJY__xw1XB",
        "outputId": "dd55b1cc-9238-4098-bd20-6d1202b8eff6"
      },
      "source": [
        "df.info()"
      ],
      "execution_count": 63,
      "outputs": [
        {
          "output_type": "stream",
          "text": [
            "<class 'pandas.core.frame.DataFrame'>\n",
            "RangeIndex: 204 entries, 0 to 203\n",
            "Data columns (total 80 columns):\n",
            " #   Column                   Non-Null Count  Dtype  \n",
            "---  ------                   --------------  -----  \n",
            " 0   STATION                  204 non-null    object \n",
            " 1   NAME                     204 non-null    object \n",
            " 2   MONTH                    204 non-null    int64  \n",
            " 3   MLY-CLDD-BASE45          180 non-null    float64\n",
            " 4   MLY-CLDD-BASE50          180 non-null    float64\n",
            " 5   MLY-CLDD-BASE55          180 non-null    float64\n",
            " 6   MLY-CLDD-BASE57          180 non-null    float64\n",
            " 7   MLY-CLDD-BASE60          180 non-null    float64\n",
            " 8   MLY-CLDD-BASE70          180 non-null    float64\n",
            " 9   MLY-CLDD-BASE72          180 non-null    float64\n",
            " 10  MLY-CLDD-NORMAL          180 non-null    float64\n",
            " 11  MLY-DUTR-NORMAL          180 non-null    float64\n",
            " 12  MLY-DUTR-STDDEV          180 non-null    float64\n",
            " 13  MLY-GRDD-BASE40          180 non-null    float64\n",
            " 14  MLY-GRDD-BASE45          180 non-null    float64\n",
            " 15  MLY-GRDD-BASE50          180 non-null    float64\n",
            " 16  MLY-GRDD-BASE55          180 non-null    float64\n",
            " 17  MLY-GRDD-BASE57          180 non-null    float64\n",
            " 18  MLY-GRDD-BASE60          180 non-null    float64\n",
            " 19  MLY-GRDD-BASE65          180 non-null    float64\n",
            " 20  MLY-GRDD-BASE70          180 non-null    float64\n",
            " 21  MLY-GRDD-BASE72          180 non-null    float64\n",
            " 22  MLY-GRDD-TB4886          180 non-null    float64\n",
            " 23  MLY-GRDD-TB5086          180 non-null    float64\n",
            " 24  MLY-HTDD-BASE40          180 non-null    float64\n",
            " 25  MLY-HTDD-BASE45          180 non-null    float64\n",
            " 26  MLY-HTDD-BASE50          180 non-null    float64\n",
            " 27  MLY-HTDD-BASE55          180 non-null    float64\n",
            " 28  MLY-HTDD-BASE57          180 non-null    float64\n",
            " 29  MLY-HTDD-BASE60          180 non-null    float64\n",
            " 30  MLY-HTDD-NORMAL          180 non-null    float64\n",
            " 31  MLY-PRCP-25PCTL          156 non-null    float64\n",
            " 32  MLY-PRCP-50PCTL          156 non-null    float64\n",
            " 33  MLY-PRCP-75PCTL          156 non-null    float64\n",
            " 34  MLY-PRCP-AVGNDS-GE001HI  156 non-null    float64\n",
            " 35  MLY-PRCP-AVGNDS-GE010HI  156 non-null    float64\n",
            " 36  MLY-PRCP-AVGNDS-GE050HI  156 non-null    float64\n",
            " 37  MLY-PRCP-AVGNDS-GE100HI  156 non-null    float64\n",
            " 38  MLY-PRCP-NORMAL          204 non-null    float64\n",
            " 39  MLY-SNOW-25PCTL          120 non-null    float64\n",
            " 40  MLY-SNOW-50PCTL          120 non-null    float64\n",
            " 41  MLY-SNOW-75PCTL          120 non-null    float64\n",
            " 42  MLY-SNOW-AVGNDS-GE001TI  120 non-null    float64\n",
            " 43  MLY-SNOW-AVGNDS-GE010TI  120 non-null    float64\n",
            " 44  MLY-SNOW-AVGNDS-GE030TI  120 non-null    float64\n",
            " 45  MLY-SNOW-AVGNDS-GE050TI  120 non-null    float64\n",
            " 46  MLY-SNOW-AVGNDS-GE100TI  120 non-null    float64\n",
            " 47  MLY-SNOW-NORMAL          120 non-null    float64\n",
            " 48  MLY-SNWD-AVGNDS-GE001WI  120 non-null    float64\n",
            " 49  MLY-SNWD-AVGNDS-GE003WI  120 non-null    float64\n",
            " 50  MLY-SNWD-AVGNDS-GE005WI  120 non-null    float64\n",
            " 51  MLY-SNWD-AVGNDS-GE010WI  120 non-null    float64\n",
            " 52  MLY-TAVG-NORMAL          180 non-null    float64\n",
            " 53  MLY-TAVG-STDDEV          180 non-null    float64\n",
            " 54  MLY-TMAX-AVGNDS-GRTH040  180 non-null    float64\n",
            " 55  MLY-TMAX-AVGNDS-GRTH050  180 non-null    float64\n",
            " 56  MLY-TMAX-AVGNDS-GRTH060  180 non-null    float64\n",
            " 57  MLY-TMAX-AVGNDS-GRTH070  180 non-null    float64\n",
            " 58  MLY-TMAX-AVGNDS-GRTH080  180 non-null    float64\n",
            " 59  MLY-TMAX-AVGNDS-GRTH090  180 non-null    float64\n",
            " 60  MLY-TMAX-AVGNDS-GRTH100  180 non-null    float64\n",
            " 61  MLY-TMAX-AVGNDS-LSTH032  180 non-null    float64\n",
            " 62  MLY-TMAX-NORMAL          180 non-null    float64\n",
            " 63  MLY-TMAX-STDDEV          180 non-null    float64\n",
            " 64  MLY-TMIN-AVGNDS-LSTH000  180 non-null    float64\n",
            " 65  MLY-TMIN-AVGNDS-LSTH010  180 non-null    float64\n",
            " 66  MLY-TMIN-AVGNDS-LSTH020  180 non-null    float64\n",
            " 67  MLY-TMIN-AVGNDS-LSTH032  180 non-null    float64\n",
            " 68  MLY-TMIN-AVGNDS-LSTH040  180 non-null    float64\n",
            " 69  MLY-TMIN-AVGNDS-LSTH050  180 non-null    float64\n",
            " 70  MLY-TMIN-AVGNDS-LSTH060  180 non-null    float64\n",
            " 71  MLY-TMIN-AVGNDS-LSTH070  180 non-null    float64\n",
            " 72  MLY-TMIN-NORMAL          180 non-null    float64\n",
            " 73  MLY-TMIN-PRBOCC-LSTH016  180 non-null    float64\n",
            " 74  MLY-TMIN-PRBOCC-LSTH020  180 non-null    float64\n",
            " 75  MLY-TMIN-PRBOCC-LSTH024  180 non-null    float64\n",
            " 76  MLY-TMIN-PRBOCC-LSTH028  180 non-null    float64\n",
            " 77  MLY-TMIN-PRBOCC-LSTH032  180 non-null    float64\n",
            " 78  MLY-TMIN-PRBOCC-LSTH036  180 non-null    float64\n",
            " 79  MLY-TMIN-STDDEV          180 non-null    float64\n",
            "dtypes: float64(77), int64(1), object(2)\n",
            "memory usage: 127.6+ KB\n"
          ],
          "name": "stdout"
        }
      ]
    },
    {
      "cell_type": "code",
      "metadata": {
        "colab": {
          "base_uri": "https://localhost:8080/"
        },
        "id": "UWRIWqXVwfFI",
        "outputId": "297dd535-9c7d-4a46-f68c-9579d74ae1a3"
      },
      "source": [
        "df['MONTH'][:24]"
      ],
      "execution_count": 61,
      "outputs": [
        {
          "output_type": "execute_result",
          "data": {
            "text/plain": [
              "0      1\n",
              "1      2\n",
              "2      3\n",
              "3      4\n",
              "4      5\n",
              "5      6\n",
              "6      7\n",
              "7      8\n",
              "8      9\n",
              "9     10\n",
              "10    11\n",
              "11    12\n",
              "12     1\n",
              "13     2\n",
              "14     3\n",
              "15     4\n",
              "16     5\n",
              "17     6\n",
              "18     7\n",
              "19     8\n",
              "20     9\n",
              "21    10\n",
              "22    11\n",
              "23    12\n",
              "Name: MONTH, dtype: int64"
            ]
          },
          "metadata": {
            "tags": []
          },
          "execution_count": 61
        }
      ]
    },
    {
      "cell_type": "code",
      "metadata": {
        "id": "HKhI_bjcw0lZ"
      },
      "source": [
        ""
      ],
      "execution_count": null,
      "outputs": []
    },
    {
      "cell_type": "code",
      "metadata": {
        "colab": {
          "base_uri": "https://localhost:8080/",
          "height": 265
        },
        "id": "UfP1jrCmv4fu",
        "outputId": "082a64be-458f-4b92-d8ab-6bf11c494693"
      },
      "source": [
        "fig, ax = plt.subplots()\n",
        "# to make line plot use plot\n",
        "ax.plot(df['MONTH'][:12], df['MLY-TAVG-NORMAL'][:12] )\n",
        "plt.show()"
      ],
      "execution_count": 60,
      "outputs": [
        {
          "output_type": "display_data",
          "data": {
            "image/png": "[encoded data removed]",
            "text/plain": [
              "<Figure size 432x288 with 1 Axes>"
            ]
          },
          "metadata": {
            "tags": [],
            "needs_background": "light"
          }
        }
      ]
    },
    {
      "cell_type": "code",
      "metadata": {
        "colab": {
          "base_uri": "https://localhost:8080/",
          "height": 265
        },
        "id": "zUaiRE6rwHth",
        "outputId": "54485341-f1b9-4374-86f6-f26a00fa7b3b"
      },
      "source": [
        "fig, ax = plt.subplots()\n",
        "# to make line plot use plot\n",
        "ax.plot(df['MONTH'][:12], df['MLY-TAVG-NORMAL'][:12] )\n",
        "ax.plot(df['MONTH'][:12], df['MLY-PRCP-NORMAL'][:12] )\n",
        "plt.show()"
      ],
      "execution_count": 64,
      "outputs": [
        {
          "output_type": "display_data",
          "data": {
            "image/png": "[encoded data removed]",
            "text/plain": [
              "<Figure size 432x288 with 1 Axes>"
            ]
          },
          "metadata": {
            "tags": [],
            "needs_background": "light"
          }
        }
      ]
    },
    {
      "cell_type": "code",
      "metadata": {
        "colab": {
          "base_uri": "https://localhost:8080/",
          "height": 265
        },
        "id": "5jZaH7CVxR2P",
        "outputId": "9af55cea-58f3-428d-eb0f-6f0d4dd89cba"
      },
      "source": [
        "fig, ax = plt.subplots()\n",
        "# to make line plot use plot\n",
        "ax.plot(df['MONTH'][:12], df['MLY-TAVG-NORMAL'][:12] , marker = \"o\")\n",
        "plt.show()"
      ],
      "execution_count": 65,
      "outputs": [
        {
          "output_type": "display_data",
          "data": {
            "image/png": "[encoded data removed]",
            "text/plain": [
              "<Figure size 432x288 with 1 Axes>"
            ]
          },
          "metadata": {
            "tags": [],
            "needs_background": "light"
          }
        }
      ]
    },
    {
      "cell_type": "code",
      "metadata": {
        "colab": {
          "base_uri": "https://localhost:8080/",
          "height": 265
        },
        "id": "S4PpqiPvxUU_",
        "outputId": "c4be6c40-3825-40e0-bb25-aa3f23bb16a8"
      },
      "source": [
        "fig, ax = plt.subplots()\n",
        "# to make line plot use plot\n",
        "ax.plot(df['MONTH'][:12], df['MLY-TAVG-NORMAL'][:12] , marker = \"v\")\n",
        "plt.show()"
      ],
      "execution_count": 66,
      "outputs": [
        {
          "output_type": "display_data",
          "data": {
            "image/png": "[encoded data removed]",
            "text/plain": [
              "<Figure size 432x288 with 1 Axes>"
            ]
          },
          "metadata": {
            "tags": [],
            "needs_background": "light"
          }
        }
      ]
    },
    {
      "cell_type": "code",
      "metadata": {
        "colab": {
          "base_uri": "https://localhost:8080/",
          "height": 265
        },
        "id": "I-cuvMRHxanU",
        "outputId": "facf2697-6b7f-4803-ecd3-5919bf3e95b9"
      },
      "source": [
        "fig, ax = plt.subplots()\n",
        "# to make line plot use plot\n",
        "ax.plot(df['MONTH'][:12], df['MLY-TAVG-NORMAL'][:12] , marker = \"X\")\n",
        "plt.show()"
      ],
      "execution_count": 69,
      "outputs": [
        {
          "output_type": "display_data",
          "data": {
            "image/png": "[encoded data removed]",
            "text/plain": [
              "<Figure size 432x288 with 1 Axes>"
            ]
          },
          "metadata": {
            "tags": [],
            "needs_background": "light"
          }
        }
      ]
    },
    {
      "cell_type": "code",
      "metadata": {
        "colab": {
          "base_uri": "https://localhost:8080/",
          "height": 265
        },
        "id": "YLQix6yuxqwB",
        "outputId": "f0542d3e-6eed-45c8-c4aa-c305158af1e9"
      },
      "source": [
        "fig, ax = plt.subplots()\n",
        "# to make line plot use plot\n",
        "ax.plot(df['MONTH'][:12], df['MLY-TAVG-NORMAL'][:12] , marker = \"v\", linestyle = \"--\" )\n",
        "plt.show()"
      ],
      "execution_count": 71,
      "outputs": [
        {
          "output_type": "display_data",
          "data": {
            "image/png": "[encoded data removed]",
            "text/plain": [
              "<Figure size 432x288 with 1 Axes>"
            ]
          },
          "metadata": {
            "tags": [],
            "needs_background": "light"
          }
        }
      ]
    },
    {
      "cell_type": "code",
      "metadata": {
        "colab": {
          "base_uri": "https://localhost:8080/",
          "height": 265
        },
        "id": "iBMdZpWixdbz",
        "outputId": "8fc2daff-7889-4ee1-c00d-a20653f411a7"
      },
      "source": [
        "fig, ax = plt.subplots()\n",
        "# to make line plot use plot\n",
        "ax.plot(df['MONTH'][:12], df['MLY-TAVG-NORMAL'][:12] , marker = \"v\", linestyle = \":\" )\n",
        "plt.show()"
      ],
      "execution_count": 72,
      "outputs": [
        {
          "output_type": "display_data",
          "data": {
            "image/png": "[encoded data removed]",
            "text/plain": [
              "<Figure size 432x288 with 1 Axes>"
            ]
          },
          "metadata": {
            "tags": [],
            "needs_background": "light"
          }
        }
      ]
    },
    {
      "cell_type": "code",
      "metadata": {
        "colab": {
          "base_uri": "https://localhost:8080/",
          "height": 265
        },
        "id": "PX3ifXwQyCXr",
        "outputId": "c2465a88-380a-4d92-9ec0-86dc813374de"
      },
      "source": [
        "fig, ax = plt.subplots()\n",
        "# to make line plot use plot\n",
        "ax.plot(df['MONTH'][:12], df['MLY-TAVG-NORMAL'][:12] , marker = \"v\", linestyle = \"None\" )\n",
        "plt.show()"
      ],
      "execution_count": 75,
      "outputs": [
        {
          "output_type": "display_data",
          "data": {
            "image/png": "[encoded data removed]",
            "text/plain": [
              "<Figure size 432x288 with 1 Axes>"
            ]
          },
          "metadata": {
            "tags": [],
            "needs_background": "light"
          }
        }
      ]
    },
    {
      "cell_type": "code",
      "metadata": {
        "colab": {
          "base_uri": "https://localhost:8080/",
          "height": 265
        },
        "id": "Sij5FdQWyGEm",
        "outputId": "57c80f30-17cd-4e2c-d9d9-0ceafe1ee37f"
      },
      "source": [
        "fig, ax = plt.subplots()\n",
        "# to make line plot use plot\n",
        "ax.plot(df['MONTH'][:12], df['MLY-TAVG-NORMAL'][:12] , marker = \"v\", linestyle = \"--\" , color=\"r\")\n",
        "plt.show()"
      ],
      "execution_count": 76,
      "outputs": [
        {
          "output_type": "display_data",
          "data": {
            "image/png": "[encoded data removed]",
            "text/plain": [
              "<Figure size 432x288 with 1 Axes>"
            ]
          },
          "metadata": {
            "tags": [],
            "needs_background": "light"
          }
        }
      ]
    },
    {
      "cell_type": "code",
      "metadata": {
        "colab": {
          "base_uri": "https://localhost:8080/",
          "height": 265
        },
        "id": "e29zWa6BySN9",
        "outputId": "32c1ac57-b997-4ca1-9b61-0664dab37159"
      },
      "source": [
        "fig, ax = plt.subplots()\n",
        "# to make line plot use plot\n",
        "ax.plot(df['MONTH'][:12], df['MLY-TAVG-NORMAL'][:12] , marker = \"v\", linestyle = \"--\" , color=\"black\")\n",
        "plt.show()"
      ],
      "execution_count": 78,
      "outputs": [
        {
          "output_type": "display_data",
          "data": {
            "image/png": "[encoded data removed]",
            "text/plain": [
              "<Figure size 432x288 with 1 Axes>"
            ]
          },
          "metadata": {
            "tags": [],
            "needs_background": "light"
          }
        }
      ]
    },
    {
      "cell_type": "code",
      "metadata": {
        "colab": {
          "base_uri": "https://localhost:8080/",
          "height": 279
        },
        "id": "fGY2CoJ9yUfT",
        "outputId": "1535269f-7498-4927-92b1-ce1cebb4f150"
      },
      "source": [
        "fig, ax = plt.subplots()\n",
        "# to make line plot use plot\n",
        "ax.plot(df['MONTH'][:12], df['MLY-TAVG-NORMAL'][:12] , marker = \"v\", linestyle = \"--\" , color=\"black\")\n",
        "# set x label \n",
        "ax.set_xlabel(\"Time (months)\")\n",
        "plt.show()"
      ],
      "execution_count": 79,
      "outputs": [
        {
          "output_type": "display_data",
          "data": {
            "image/png": "[encoded data removed]",
            "text/plain": [
              "<Figure size 432x288 with 1 Axes>"
            ]
          },
          "metadata": {
            "tags": [],
            "needs_background": "light"
          }
        }
      ]
    },
    {
      "cell_type": "code",
      "metadata": {
        "colab": {
          "base_uri": "https://localhost:8080/",
          "height": 279
        },
        "id": "tsOhUqbbynYW",
        "outputId": "c18de085-c58a-486f-c228-2ecc68d3b229"
      },
      "source": [
        "fig, ax = plt.subplots()\n",
        "# to make line plot use plot\n",
        "ax.plot(df['MONTH'][:12], df['MLY-TAVG-NORMAL'][:12] , marker = \"v\", linestyle = \"--\" , color=\"black\")\n",
        "# set x label \n",
        "ax.set_xlabel(\"Time (months)\")\n",
        "# set y label \n",
        "ax.set_ylabel(\"Temperature (F)\")\n",
        "plt.show()"
      ],
      "execution_count": 80,
      "outputs": [
        {
          "output_type": "display_data",
          "data": {
            "image/png": "[encoded data removed]",
            "text/plain": [
              "<Figure size 432x288 with 1 Axes>"
            ]
          },
          "metadata": {
            "tags": [],
            "needs_background": "light"
          }
        }
      ]
    },
    {
      "cell_type": "code",
      "metadata": {
        "colab": {
          "base_uri": "https://localhost:8080/",
          "height": 295
        },
        "id": "CMvmVCfRyxH2",
        "outputId": "d8636797-6621-45f8-893e-05ad81eb9efd"
      },
      "source": [
        "fig, ax = plt.subplots()\n",
        "# to make line plot use plot\n",
        "ax.plot(df['MONTH'][:12], df['MLY-TAVG-NORMAL'][:12] , marker = \"v\", linestyle = \"--\" , color=\"black\")\n",
        "# set x label \n",
        "ax.set_xlabel(\"Time (months)\")\n",
        "# set y label \n",
        "ax.set_ylabel(\"Temperature (F)\")\n",
        "# set tile \n",
        "ax.set_title('Seattle Temperature Info')\n",
        "plt.show()"
      ],
      "execution_count": 81,
      "outputs": [
        {
          "output_type": "display_data",
          "data": {
            "image/png": "[encoded data removed]",
            "text/plain": [
              "<Figure size 432x288 with 1 Axes>"
            ]
          },
          "metadata": {
            "tags": [],
            "needs_background": "light"
          }
        }
      ]
    },
    {
      "cell_type": "code",
      "metadata": {
        "colab": {
          "base_uri": "https://localhost:8080/",
          "height": 426
        },
        "id": "18QXy9nGy468",
        "outputId": "11e8db6b-4452-4d3d-d795-f3b047c5e4cb"
      },
      "source": [
        "df[['MONTH', 'MLY-TAVG-NORMAL']][:12]"
      ],
      "execution_count": 82,
      "outputs": [
        {
          "output_type": "execute_result",
          "data": {
            "text/html": [
              "<div>\n",
              "<style scoped>\n",
              "    .dataframe tbody tr th:only-of-type {\n",
              "        vertical-align: middle;\n",
              "    }\n",
              "\n",
              "    .dataframe tbody tr th {\n",
              "        vertical-align: top;\n",
              "    }\n",
              "\n",
              "    .dataframe thead th {\n",
              "        text-align: right;\n",
              "    }\n",
              "</style>\n",
              "<table border=\"1\" class=\"dataframe\">\n",
              "  <thead>\n",
              "    <tr style=\"text-align: right;\">\n",
              "      <th></th>\n",
              "      <th>MONTH</th>\n",
              "      <th>MLY-TAVG-NORMAL</th>\n",
              "    </tr>\n",
              "  </thead>\n",
              "  <tbody>\n",
              "    <tr>\n",
              "      <th>0</th>\n",
              "      <td>1</td>\n",
              "      <td>39.3</td>\n",
              "    </tr>\n",
              "    <tr>\n",
              "      <th>1</th>\n",
              "      <td>2</td>\n",
              "      <td>40.7</td>\n",
              "    </tr>\n",
              "    <tr>\n",
              "      <th>2</th>\n",
              "      <td>3</td>\n",
              "      <td>43.8</td>\n",
              "    </tr>\n",
              "    <tr>\n",
              "      <th>3</th>\n",
              "      <td>4</td>\n",
              "      <td>47.4</td>\n",
              "    </tr>\n",
              "    <tr>\n",
              "      <th>4</th>\n",
              "      <td>5</td>\n",
              "      <td>53.1</td>\n",
              "    </tr>\n",
              "    <tr>\n",
              "      <th>5</th>\n",
              "      <td>6</td>\n",
              "      <td>57.8</td>\n",
              "    </tr>\n",
              "    <tr>\n",
              "      <th>6</th>\n",
              "      <td>7</td>\n",
              "      <td>62.9</td>\n",
              "    </tr>\n",
              "    <tr>\n",
              "      <th>7</th>\n",
              "      <td>8</td>\n",
              "      <td>63.5</td>\n",
              "    </tr>\n",
              "    <tr>\n",
              "      <th>8</th>\n",
              "      <td>9</td>\n",
              "      <td>58.9</td>\n",
              "    </tr>\n",
              "    <tr>\n",
              "      <th>9</th>\n",
              "      <td>10</td>\n",
              "      <td>50.7</td>\n",
              "    </tr>\n",
              "    <tr>\n",
              "      <th>10</th>\n",
              "      <td>11</td>\n",
              "      <td>42.9</td>\n",
              "    </tr>\n",
              "    <tr>\n",
              "      <th>11</th>\n",
              "      <td>12</td>\n",
              "      <td>37.7</td>\n",
              "    </tr>\n",
              "  </tbody>\n",
              "</table>\n",
              "</div>"
            ],
            "text/plain": [
              "    MONTH  MLY-TAVG-NORMAL\n",
              "0       1             39.3\n",
              "1       2             40.7\n",
              "2       3             43.8\n",
              "3       4             47.4\n",
              "4       5             53.1\n",
              "5       6             57.8\n",
              "6       7             62.9\n",
              "7       8             63.5\n",
              "8       9             58.9\n",
              "9      10             50.7\n",
              "10     11             42.9\n",
              "11     12             37.7"
            ]
          },
          "metadata": {
            "tags": []
          },
          "execution_count": 82
        }
      ]
    },
    {
      "cell_type": "markdown",
      "metadata": {
        "id": "59SilEegzl_E"
      },
      "source": [
        "Subplots\n",
        "-----\n",
        "\n"
      ]
    },
    {
      "cell_type": "code",
      "metadata": {
        "colab": {
          "base_uri": "https://localhost:8080/",
          "height": 295
        },
        "id": "LOWBy7hozDeL",
        "outputId": "ba451291-955f-4e07-b7b0-feb176a528b0"
      },
      "source": [
        "fig, ax = plt.subplots()\n",
        "# to make line plot use plot\n",
        "ax.plot(df['MONTH'][:12], df['MLY-TAVG-NORMAL'][:12] , marker = \"v\", linestyle = \"--\" , color=\"black\")\n",
        "# set x label \n",
        "ax.set_xlabel(\"Time (months)\")\n",
        "# set y label \n",
        "ax.set_ylabel(\"Temperature (F)\")\n",
        "# set tile \n",
        "ax.set_title('Seattle Temperature Info')\n",
        "plt.show()"
      ],
      "execution_count": 83,
      "outputs": [
        {
          "output_type": "display_data",
          "data": {
            "image/png": "[encoded data removed]",
            "text/plain": [
              "<Figure size 432x288 with 1 Axes>"
            ]
          },
          "metadata": {
            "tags": [],
            "needs_background": "light"
          }
        }
      ]
    },
    {
      "cell_type": "code",
      "metadata": {
        "colab": {
          "base_uri": "https://localhost:8080/",
          "height": 295
        },
        "id": "NunuU6hTzoe8",
        "outputId": "0b4d9f92-402f-459e-a207-0aadaa3de884"
      },
      "source": [
        "fig, ax = plt.subplots()\n",
        "# to make line plot use plot\n",
        "ax.plot(df['MONTH'][:12], df['MLY-PRCP-NORMAL'][:12] , marker = \"v\", linestyle = \"--\" , color=\"black\")\n",
        "# set x label \n",
        "ax.set_xlabel(\"Time (months)\")\n",
        "# set y label \n",
        "ax.set_ylabel(\"Rainfall (mm)\")\n",
        "# set tile \n",
        "ax.set_title('Seattle Rainfall Info')\n",
        "plt.show()"
      ],
      "execution_count": 84,
      "outputs": [
        {
          "output_type": "display_data",
          "data": {
            "image/png": "[encoded data removed]",
            "text/plain": [
              "<Figure size 432x288 with 1 Axes>"
            ]
          },
          "metadata": {
            "tags": [],
            "needs_background": "light"
          }
        }
      ]
    },
    {
      "cell_type": "code",
      "metadata": {
        "colab": {
          "base_uri": "https://localhost:8080/",
          "height": 295
        },
        "id": "c1K_8igVz5Zn",
        "outputId": "33bfcba3-5935-4d4d-eec0-2a4df7cc3b81"
      },
      "source": [
        "fig, ax = plt.subplots()\n",
        "# to make line plot use plot\n",
        "# for temp\n",
        "ax.plot(df['MONTH'][:12], df['MLY-TAVG-NORMAL'][:12] , marker = \"v\", linestyle = \"--\" , color=\"black\")\n",
        "# for rainfall\n",
        "ax.plot(df['MONTH'][:12], df['MLY-PRCP-NORMAL'][:12] , marker = \"v\", linestyle = \"--\" , color=\"black\")\n",
        "\n",
        "# set x label \n",
        "ax.set_xlabel(\"Time (months)\")\n",
        "# set y label \n",
        "ax.set_ylabel(\"Temperature (F)\")\n",
        "# set tile \n",
        "ax.set_title('Seattle Temp Info')\n",
        "##################\n",
        "\n",
        "plt.show()"
      ],
      "execution_count": 86,
      "outputs": [
        {
          "output_type": "display_data",
          "data": {
            "image/png": "[encoded data removed]",
            "text/plain": [
              "<Figure size 432x288 with 1 Axes>"
            ]
          },
          "metadata": {
            "tags": [],
            "needs_background": "light"
          }
        }
      ]
    },
    {
      "cell_type": "code",
      "metadata": {
        "colab": {
          "base_uri": "https://localhost:8080/",
          "height": 295
        },
        "id": "LJSCCfry0IVf",
        "outputId": "add7fc98-b50f-401d-e27a-a5c8c7074317"
      },
      "source": [
        "fig, ax = plt.subplots(2,1)\n",
        "# to make line plot use plot\n",
        "ax[0].plot(df['MONTH'][:12], df['MLY-TAVG-NORMAL'][:12] , marker = \"v\", linestyle = \"--\" , color=\"black\")\n",
        "# set x label \n",
        "ax[0].set_xlabel(\"Time (months)\")\n",
        "# set y label \n",
        "ax[0].set_ylabel(\"Temperature (F)\")\n",
        "# set tile \n",
        "ax[0].set_title('Seattle Temperature Info')\n",
        "\n",
        "##############\n",
        "# to make line plot use plot\n",
        "ax[1].plot(df['MONTH'][:12], df['MLY-PRCP-NORMAL'][:12] , marker = \"v\", linestyle = \"--\" , color=\"black\")\n",
        "# set x label \n",
        "ax[1].set_xlabel(\"Time (months)\")\n",
        "# set y label \n",
        "ax[1].set_ylabel(\"Rainfall (mm)\")\n",
        "# set tile \n",
        "ax[1].set_title('Seattle Rainfall Info')\n",
        "plt.show()\n",
        "\n"
      ],
      "execution_count": 89,
      "outputs": [
        {
          "output_type": "display_data",
          "data": {
            "image/png": "[encoded data removed]",
            "text/plain": [
              "<Figure size 432x288 with 2 Axes>"
            ]
          },
          "metadata": {
            "tags": [],
            "needs_background": "light"
          }
        }
      ]
    },
    {
      "cell_type": "code",
      "metadata": {
        "id": "eJhQXCpWz94R"
      },
      "source": [
        ""
      ],
      "execution_count": null,
      "outputs": []
    }
  ]
}