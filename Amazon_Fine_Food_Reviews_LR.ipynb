{
  "nbformat": 4,
  "nbformat_minor": 0,
  "metadata": {
    "colab": {
      "name": "Amazon Fine Food Reviews .ipynb",
      "provenance": [],
      "authorship_tag": "ABX9TyMHV6S1zlpqci9eJgC4GWj9",
      "include_colab_link": true
    },
    "kernelspec": {
      "name": "python3",
      "display_name": "Python 3"
    }
  },
  "cells": [
    {
      "cell_type": "markdown",
      "metadata": {
        "id": "view-in-github",
        "colab_type": "text"
      },
      "source": [
        "<a href=\"https://colab.research.google.com/github/avs20/SioLabsPython0/blob/main/Amazon_Fine_Food_Reviews_LR.ipynb\" target=\"_parent\"><img src=\"https://colab.research.google.com/assets/colab-badge.svg\" alt=\"Open In Colab\"/></a>"
      ]
    },
    {
      "cell_type": "markdown",
      "metadata": {
        "id": "ch_KUr_eFYy9"
      },
      "source": [
        "https://www.kaggle.com/snap/amazon-fine-food-reviews\r\n",
        "\r\n",
        "[EDA](https://nycdatascience.com/blog/student-works/amazon-fine-foods-visualization/)"
      ]
    },
    {
      "cell_type": "markdown",
      "metadata": {
        "id": "mNL_4lnWBbn-"
      },
      "source": [
        "## 1.Load the dataset from google drive"
      ]
    },
    {
      "cell_type": "code",
      "metadata": {
        "colab": {
          "base_uri": "https://localhost:8080/"
        },
        "id": "0GAXf82HBnkH",
        "outputId": "8465eee2-bbbc-4e51-9398-810648c6d8b1"
      },
      "source": [
        "from google.colab import drive\n",
        "drive.mount('/content/drive')"
      ],
      "execution_count": 77,
      "outputs": [
        {
          "output_type": "stream",
          "text": [
            "Drive already mounted at /content/drive; to attempt to forcibly remount, call drive.mount(\"/content/drive\", force_remount=True).\n"
          ],
          "name": "stdout"
        }
      ]
    },
    {
      "cell_type": "code",
      "metadata": {
        "colab": {
          "base_uri": "https://localhost:8080/"
        },
        "id": "ipC0cGpeBX21",
        "outputId": "a865ed34-91a1-48b0-fd33-627ca8e71d75"
      },
      "source": [
        "import os\r\n",
        "os.chdir('/content/drive/MyDrive/SioLabs/dataset')\r\n",
        "!ls -lh"
      ],
      "execution_count": 81,
      "outputs": [
        {
          "output_type": "stream",
          "text": [
            "total 2.2G\n",
            "-rw------- 1 root root 356M Feb  9 09:21 database.sqlite\n",
            "-r-------- 1 root root 1.6G Sep  4  2016 GoogleNews-vectors-negative300.bin.gz\n",
            "-rw------- 1 root root 287M Sep 18  2019 Reviews.csv\n"
          ],
          "name": "stdout"
        }
      ]
    },
    {
      "cell_type": "code",
      "metadata": {
        "id": "5D01f92IB0ce"
      },
      "source": [
        "import pandas as pd\r\n",
        "import numpy as np \r\n",
        "import matplotlib.pyplot as plt \r\n",
        "%matplotlib inline\r\n",
        "import sklearn"
      ],
      "execution_count": 3,
      "outputs": []
    },
    {
      "cell_type": "code",
      "metadata": {
        "colab": {
          "base_uri": "https://localhost:8080/",
          "height": 310
        },
        "id": "NvtYGGpb5-Li",
        "outputId": "805f9c24-61a5-4998-bdab-6c66b83b0b5c"
      },
      "source": [
        "data = pd.read_csv('Reviews.csv')\r\n",
        "data.head()"
      ],
      "execution_count": 4,
      "outputs": [
        {
          "output_type": "execute_result",
          "data": {
            "text/html": [
              "<div>\n",
              "<style scoped>\n",
              "    .dataframe tbody tr th:only-of-type {\n",
              "        vertical-align: middle;\n",
              "    }\n",
              "\n",
              "    .dataframe tbody tr th {\n",
              "        vertical-align: top;\n",
              "    }\n",
              "\n",
              "    .dataframe thead th {\n",
              "        text-align: right;\n",
              "    }\n",
              "</style>\n",
              "<table border=\"1\" class=\"dataframe\">\n",
              "  <thead>\n",
              "    <tr style=\"text-align: right;\">\n",
              "      <th></th>\n",
              "      <th>Id</th>\n",
              "      <th>ProductId</th>\n",
              "      <th>UserId</th>\n",
              "      <th>ProfileName</th>\n",
              "      <th>HelpfulnessNumerator</th>\n",
              "      <th>HelpfulnessDenominator</th>\n",
              "      <th>Score</th>\n",
              "      <th>Time</th>\n",
              "      <th>Summary</th>\n",
              "      <th>Text</th>\n",
              "    </tr>\n",
              "  </thead>\n",
              "  <tbody>\n",
              "    <tr>\n",
              "      <th>0</th>\n",
              "      <td>1</td>\n",
              "      <td>B001E4KFG0</td>\n",
              "      <td>A3SGXH7AUHU8GW</td>\n",
              "      <td>delmartian</td>\n",
              "      <td>1</td>\n",
              "      <td>1</td>\n",
              "      <td>5</td>\n",
              "      <td>1303862400</td>\n",
              "      <td>Good Quality Dog Food</td>\n",
              "      <td>I have bought several of the Vitality canned d...</td>\n",
              "    </tr>\n",
              "    <tr>\n",
              "      <th>1</th>\n",
              "      <td>2</td>\n",
              "      <td>B00813GRG4</td>\n",
              "      <td>A1D87F6ZCVE5NK</td>\n",
              "      <td>dll pa</td>\n",
              "      <td>0</td>\n",
              "      <td>0</td>\n",
              "      <td>1</td>\n",
              "      <td>1346976000</td>\n",
              "      <td>Not as Advertised</td>\n",
              "      <td>Product arrived labeled as Jumbo Salted Peanut...</td>\n",
              "    </tr>\n",
              "    <tr>\n",
              "      <th>2</th>\n",
              "      <td>3</td>\n",
              "      <td>B000LQOCH0</td>\n",
              "      <td>ABXLMWJIXXAIN</td>\n",
              "      <td>Natalia Corres \"Natalia Corres\"</td>\n",
              "      <td>1</td>\n",
              "      <td>1</td>\n",
              "      <td>4</td>\n",
              "      <td>1219017600</td>\n",
              "      <td>\"Delight\" says it all</td>\n",
              "      <td>This is a confection that has been around a fe...</td>\n",
              "    </tr>\n",
              "    <tr>\n",
              "      <th>3</th>\n",
              "      <td>4</td>\n",
              "      <td>B000UA0QIQ</td>\n",
              "      <td>A395BORC6FGVXV</td>\n",
              "      <td>Karl</td>\n",
              "      <td>3</td>\n",
              "      <td>3</td>\n",
              "      <td>2</td>\n",
              "      <td>1307923200</td>\n",
              "      <td>Cough Medicine</td>\n",
              "      <td>If you are looking for the secret ingredient i...</td>\n",
              "    </tr>\n",
              "    <tr>\n",
              "      <th>4</th>\n",
              "      <td>5</td>\n",
              "      <td>B006K2ZZ7K</td>\n",
              "      <td>A1UQRSCLF8GW1T</td>\n",
              "      <td>Michael D. Bigham \"M. Wassir\"</td>\n",
              "      <td>0</td>\n",
              "      <td>0</td>\n",
              "      <td>5</td>\n",
              "      <td>1350777600</td>\n",
              "      <td>Great taffy</td>\n",
              "      <td>Great taffy at a great price.  There was a wid...</td>\n",
              "    </tr>\n",
              "  </tbody>\n",
              "</table>\n",
              "</div>"
            ],
            "text/plain": [
              "   Id  ...                                               Text\n",
              "0   1  ...  I have bought several of the Vitality canned d...\n",
              "1   2  ...  Product arrived labeled as Jumbo Salted Peanut...\n",
              "2   3  ...  This is a confection that has been around a fe...\n",
              "3   4  ...  If you are looking for the secret ingredient i...\n",
              "4   5  ...  Great taffy at a great price.  There was a wid...\n",
              "\n",
              "[5 rows x 10 columns]"
            ]
          },
          "metadata": {
            "tags": []
          },
          "execution_count": 4
        }
      ]
    },
    {
      "cell_type": "code",
      "metadata": {
        "colab": {
          "base_uri": "https://localhost:8080/"
        },
        "id": "LDlibGTWKX-b",
        "outputId": "f86eeade-c16d-4e45-d1c8-99bfb9a6145f"
      },
      "source": [
        "data.shape"
      ],
      "execution_count": 82,
      "outputs": [
        {
          "output_type": "execute_result",
          "data": {
            "text/plain": [
              "(568454, 11)"
            ]
          },
          "metadata": {
            "tags": []
          },
          "execution_count": 82
        }
      ]
    },
    {
      "cell_type": "code",
      "metadata": {
        "colab": {
          "base_uri": "https://localhost:8080/"
        },
        "id": "nvyuAoHR6GQh",
        "outputId": "cb1572c8-f140-4e82-d70d-3241177df092"
      },
      "source": [
        "def partition(x):\r\n",
        "  if x < 3 :\r\n",
        "    return 0 \r\n",
        "  return 1\r\n",
        "\r\n",
        "\r\n",
        "data['Sentiment'] = data['Score'].apply(partition)\r\n",
        "print(data['Sentiment'].shape)\r\n",
        "print(data.head(3))"
      ],
      "execution_count": 7,
      "outputs": [
        {
          "output_type": "stream",
          "text": [
            "(568454,)\n",
            "   Id   ProductId  ...                                               Text Sentiment\n",
            "0   1  B001E4KFG0  ...  I have bought several of the Vitality canned d...         1\n",
            "1   2  B00813GRG4  ...  Product arrived labeled as Jumbo Salted Peanut...         0\n",
            "2   3  B000LQOCH0  ...  This is a confection that has been around a fe...         1\n",
            "\n",
            "[3 rows x 11 columns]\n"
          ],
          "name": "stdout"
        }
      ]
    },
    {
      "cell_type": "code",
      "metadata": {
        "colab": {
          "base_uri": "https://localhost:8080/",
          "height": 1000
        },
        "id": "zbfK_VgW6jOA",
        "outputId": "c5ab6740-38a7-4422-8af9-291f446007fc"
      },
      "source": [
        "data[data.duplicated(subset = [ 'ProductId', 'ProfileName', 'Score', 'Time', 'Summary'], keep = False)]"
      ],
      "execution_count": 29,
      "outputs": [
        {
          "output_type": "execute_result",
          "data": {
            "text/html": [
              "<div>\n",
              "<style scoped>\n",
              "    .dataframe tbody tr th:only-of-type {\n",
              "        vertical-align: middle;\n",
              "    }\n",
              "\n",
              "    .dataframe tbody tr th {\n",
              "        vertical-align: top;\n",
              "    }\n",
              "\n",
              "    .dataframe thead th {\n",
              "        text-align: right;\n",
              "    }\n",
              "</style>\n",
              "<table border=\"1\" class=\"dataframe\">\n",
              "  <thead>\n",
              "    <tr style=\"text-align: right;\">\n",
              "      <th></th>\n",
              "      <th>Id</th>\n",
              "      <th>ProductId</th>\n",
              "      <th>UserId</th>\n",
              "      <th>ProfileName</th>\n",
              "      <th>HelpfulnessNumerator</th>\n",
              "      <th>HelpfulnessDenominator</th>\n",
              "      <th>Score</th>\n",
              "      <th>Time</th>\n",
              "      <th>Summary</th>\n",
              "      <th>Text</th>\n",
              "      <th>Sentiment</th>\n",
              "    </tr>\n",
              "  </thead>\n",
              "  <tbody>\n",
              "    <tr>\n",
              "      <th>466</th>\n",
              "      <td>467</td>\n",
              "      <td>B000G6RYNE</td>\n",
              "      <td>A3PJZ8TU8FDQ1K</td>\n",
              "      <td>Jared Castle</td>\n",
              "      <td>0</td>\n",
              "      <td>0</td>\n",
              "      <td>5</td>\n",
              "      <td>1231718400</td>\n",
              "      <td>One bite and you'll become a \"chippoisseur\"</td>\n",
              "      <td>I'm addicted to salty and tangy flavors, so wh...</td>\n",
              "      <td>1</td>\n",
              "    </tr>\n",
              "    <tr>\n",
              "      <th>574</th>\n",
              "      <td>575</td>\n",
              "      <td>B000G6RYNE</td>\n",
              "      <td>A3PJZ8TU8FDQ1K</td>\n",
              "      <td>Jared Castle</td>\n",
              "      <td>2</td>\n",
              "      <td>2</td>\n",
              "      <td>5</td>\n",
              "      <td>1231718400</td>\n",
              "      <td>One bite and you'll become a \"chippoisseur\"</td>\n",
              "      <td>I'm addicted to salty and tangy flavors, so wh...</td>\n",
              "      <td>1</td>\n",
              "    </tr>\n",
              "    <tr>\n",
              "      <th>1084</th>\n",
              "      <td>1085</td>\n",
              "      <td>B0030N5K1I</td>\n",
              "      <td>A19U4T4I7UZGNM</td>\n",
              "      <td>3 dogs</td>\n",
              "      <td>3</td>\n",
              "      <td>3</td>\n",
              "      <td>1</td>\n",
              "      <td>1330992000</td>\n",
              "      <td>awful</td>\n",
              "      <td>This is not jerky, this is processed, hard lik...</td>\n",
              "      <td>0</td>\n",
              "    </tr>\n",
              "    <tr>\n",
              "      <th>1087</th>\n",
              "      <td>1088</td>\n",
              "      <td>B0030N5K1I</td>\n",
              "      <td>A19U4T4I7UZGNM</td>\n",
              "      <td>3 dogs</td>\n",
              "      <td>1</td>\n",
              "      <td>1</td>\n",
              "      <td>1</td>\n",
              "      <td>1330992000</td>\n",
              "      <td>awful</td>\n",
              "      <td>This is not jerky, this is processed, hard lik...</td>\n",
              "      <td>0</td>\n",
              "    </tr>\n",
              "    <tr>\n",
              "      <th>2630</th>\n",
              "      <td>2631</td>\n",
              "      <td>B0016FY6H6</td>\n",
              "      <td>A2NLZ3M0OJV9NX</td>\n",
              "      <td>Mark Bodzin</td>\n",
              "      <td>1</td>\n",
              "      <td>1</td>\n",
              "      <td>2</td>\n",
              "      <td>1313107200</td>\n",
              "      <td>Way too weak for my tastes</td>\n",
              "      <td>What can i say, I love iced tea. I drink a lot...</td>\n",
              "      <td>0</td>\n",
              "    </tr>\n",
              "    <tr>\n",
              "      <th>...</th>\n",
              "      <td>...</td>\n",
              "      <td>...</td>\n",
              "      <td>...</td>\n",
              "      <td>...</td>\n",
              "      <td>...</td>\n",
              "      <td>...</td>\n",
              "      <td>...</td>\n",
              "      <td>...</td>\n",
              "      <td>...</td>\n",
              "      <td>...</td>\n",
              "      <td>...</td>\n",
              "    </tr>\n",
              "    <tr>\n",
              "      <th>568007</th>\n",
              "      <td>568008</td>\n",
              "      <td>B0030VJ8YU</td>\n",
              "      <td>A20P8VC55KPPCT</td>\n",
              "      <td>FL Mom</td>\n",
              "      <td>3</td>\n",
              "      <td>3</td>\n",
              "      <td>5</td>\n",
              "      <td>1274486400</td>\n",
              "      <td>These pouches are great!</td>\n",
              "      <td>These pouches are so easy and convenient. They...</td>\n",
              "      <td>1</td>\n",
              "    </tr>\n",
              "    <tr>\n",
              "      <th>568008</th>\n",
              "      <td>568009</td>\n",
              "      <td>B0030VJ8YU</td>\n",
              "      <td>ATIHDHZYNQ0EI</td>\n",
              "      <td>Kristen O'donnell \"twinsmom\"</td>\n",
              "      <td>3</td>\n",
              "      <td>3</td>\n",
              "      <td>5</td>\n",
              "      <td>1270425600</td>\n",
              "      <td>Organic and Tasty!</td>\n",
              "      <td>I have 12 month olds and no time to write a gr...</td>\n",
              "      <td>1</td>\n",
              "    </tr>\n",
              "    <tr>\n",
              "      <th>568017</th>\n",
              "      <td>568018</td>\n",
              "      <td>B0030VJ8YU</td>\n",
              "      <td>A20P8VC55KPPCT</td>\n",
              "      <td>FL Mom</td>\n",
              "      <td>2</td>\n",
              "      <td>2</td>\n",
              "      <td>5</td>\n",
              "      <td>1274486400</td>\n",
              "      <td>These pouches are great!</td>\n",
              "      <td>These pouches are so easy and convenient. They...</td>\n",
              "      <td>1</td>\n",
              "    </tr>\n",
              "    <tr>\n",
              "      <th>568034</th>\n",
              "      <td>568035</td>\n",
              "      <td>B0030VJ8YU</td>\n",
              "      <td>A1S6HK2R1KUC5E</td>\n",
              "      <td>data1701</td>\n",
              "      <td>1</td>\n",
              "      <td>1</td>\n",
              "      <td>5</td>\n",
              "      <td>1318291200</td>\n",
              "      <td>Triplets love this!</td>\n",
              "      <td>This is very smooth and easy to feed to my tri...</td>\n",
              "      <td>1</td>\n",
              "    </tr>\n",
              "    <tr>\n",
              "      <th>568053</th>\n",
              "      <td>568054</td>\n",
              "      <td>B0030VJ8YU</td>\n",
              "      <td>A20P8VC55KPPCT</td>\n",
              "      <td>FL Mom</td>\n",
              "      <td>1</td>\n",
              "      <td>1</td>\n",
              "      <td>5</td>\n",
              "      <td>1274486400</td>\n",
              "      <td>These pouches are great!</td>\n",
              "      <td>These pouches are so easy and convenient.  The...</td>\n",
              "      <td>1</td>\n",
              "    </tr>\n",
              "  </tbody>\n",
              "</table>\n",
              "<p>2230 rows × 11 columns</p>\n",
              "</div>"
            ],
            "text/plain": [
              "            Id  ... Sentiment\n",
              "466        467  ...         1\n",
              "574        575  ...         1\n",
              "1084      1085  ...         0\n",
              "1087      1088  ...         0\n",
              "2630      2631  ...         0\n",
              "...        ...  ...       ...\n",
              "568007  568008  ...         1\n",
              "568008  568009  ...         1\n",
              "568017  568018  ...         1\n",
              "568034  568035  ...         1\n",
              "568053  568054  ...         1\n",
              "\n",
              "[2230 rows x 11 columns]"
            ]
          },
          "metadata": {
            "tags": []
          },
          "execution_count": 29
        }
      ]
    },
    {
      "cell_type": "code",
      "metadata": {
        "colab": {
          "base_uri": "https://localhost:8080/",
          "height": 355
        },
        "id": "6kLUkIQh9UrC",
        "outputId": "e368a5d0-3abd-4c85-b926-f1f1906c8081"
      },
      "source": [
        "data[data.duplicated(subset = [ 'ProductId', 'ProfileName', 'Score', 'Time', 'Summary'], keep = False)].loc[data.ProductId == 'B005K4Q1VI', :]"
      ],
      "execution_count": 30,
      "outputs": [
        {
          "output_type": "execute_result",
          "data": {
            "text/html": [
              "<div>\n",
              "<style scoped>\n",
              "    .dataframe tbody tr th:only-of-type {\n",
              "        vertical-align: middle;\n",
              "    }\n",
              "\n",
              "    .dataframe tbody tr th {\n",
              "        vertical-align: top;\n",
              "    }\n",
              "\n",
              "    .dataframe thead th {\n",
              "        text-align: right;\n",
              "    }\n",
              "</style>\n",
              "<table border=\"1\" class=\"dataframe\">\n",
              "  <thead>\n",
              "    <tr style=\"text-align: right;\">\n",
              "      <th></th>\n",
              "      <th>Id</th>\n",
              "      <th>ProductId</th>\n",
              "      <th>UserId</th>\n",
              "      <th>ProfileName</th>\n",
              "      <th>HelpfulnessNumerator</th>\n",
              "      <th>HelpfulnessDenominator</th>\n",
              "      <th>Score</th>\n",
              "      <th>Time</th>\n",
              "      <th>Summary</th>\n",
              "      <th>Text</th>\n",
              "      <th>Sentiment</th>\n",
              "    </tr>\n",
              "  </thead>\n",
              "  <tbody>\n",
              "    <tr>\n",
              "      <th>3306</th>\n",
              "      <td>3307</td>\n",
              "      <td>B005K4Q1VI</td>\n",
              "      <td>A3OXHLG6DIBRW8</td>\n",
              "      <td>C. F. Hill \"CFH\"</td>\n",
              "      <td>24</td>\n",
              "      <td>25</td>\n",
              "      <td>5</td>\n",
              "      <td>1321401600</td>\n",
              "      <td>Really Good Hot Cocoa - Highly Recommended</td>\n",
              "      <td>These Grove Square Hot Cocoa flavors are by fa...</td>\n",
              "      <td>1</td>\n",
              "    </tr>\n",
              "    <tr>\n",
              "      <th>3416</th>\n",
              "      <td>3417</td>\n",
              "      <td>B005K4Q1VI</td>\n",
              "      <td>A3OXHLG6DIBRW8</td>\n",
              "      <td>C. F. Hill \"CFH\"</td>\n",
              "      <td>5</td>\n",
              "      <td>5</td>\n",
              "      <td>5</td>\n",
              "      <td>1321401600</td>\n",
              "      <td>Really Good Hot Cocoa - Highly Recommended</td>\n",
              "      <td>These Grove Square Hot Cocoa flavors are by fa...</td>\n",
              "      <td>1</td>\n",
              "    </tr>\n",
              "  </tbody>\n",
              "</table>\n",
              "</div>"
            ],
            "text/plain": [
              "        Id  ... Sentiment\n",
              "3306  3307  ...         1\n",
              "3416  3417  ...         1\n",
              "\n",
              "[2 rows x 11 columns]"
            ]
          },
          "metadata": {
            "tags": []
          },
          "execution_count": 30
        }
      ]
    },
    {
      "cell_type": "markdown",
      "metadata": {
        "id": "7oc4xiOV8drd"
      },
      "source": [
        "[Click Here to look into 1 product description](https://www.amazon.com/dp/B005K4Q1VI)"
      ]
    },
    {
      "cell_type": "markdown",
      "metadata": {
        "id": "0ql3Oooq9haB"
      },
      "source": [
        "## Data Cleaning \r\n",
        "\r\n",
        "1. Remove Duplicates"
      ]
    },
    {
      "cell_type": "code",
      "metadata": {
        "id": "BMWZ2UIK7ONx"
      },
      "source": [
        "#Sorting data according to ProductId in ascending order\r\n",
        "sorted_data=data.sort_values('ProductId', axis=0, ascending=True, inplace=False, kind='quicksort', na_position='last')"
      ],
      "execution_count": 31,
      "outputs": []
    },
    {
      "cell_type": "code",
      "metadata": {
        "colab": {
          "base_uri": "https://localhost:8080/"
        },
        "id": "gZgmeVDi-Fhh",
        "outputId": "0a989c1b-4b70-4ec0-b4e5-e6c689e58979"
      },
      "source": [
        "#Deduplication of entries\r\n",
        "final=sorted_data.drop_duplicates(subset={\"UserId\",\"ProfileName\",\"Time\",\"Text\"}, keep='first', inplace=False)\r\n",
        "final.shape"
      ],
      "execution_count": 32,
      "outputs": [
        {
          "output_type": "execute_result",
          "data": {
            "text/plain": [
              "(393933, 11)"
            ]
          },
          "metadata": {
            "tags": []
          },
          "execution_count": 32
        }
      ]
    },
    {
      "cell_type": "code",
      "metadata": {
        "colab": {
          "base_uri": "https://localhost:8080/"
        },
        "id": "14PWiqmj-Nso",
        "outputId": "e81f087c-82ec-4d2d-8733-23f1a2cd4d5d"
      },
      "source": [
        "#Checking to see how much % of data still remains\r\n",
        "(final['Id'].size*1.0)/(data['Id'].size*1.0)*100"
      ],
      "execution_count": 33,
      "outputs": [
        {
          "output_type": "execute_result",
          "data": {
            "text/plain": [
              "69.29901100176971"
            ]
          },
          "metadata": {
            "tags": []
          },
          "execution_count": 33
        }
      ]
    },
    {
      "cell_type": "markdown",
      "metadata": {
        "id": "yCT-bnIg-XbT"
      },
      "source": [
        "Checking some constraints like helpfullness numerator should be greater than denominator. So checking on them \r\n",
        "\r\n"
      ]
    },
    {
      "cell_type": "code",
      "metadata": {
        "colab": {
          "base_uri": "https://localhost:8080/",
          "height": 268
        },
        "id": "eH8R_8MG-eei",
        "outputId": "f80bb204-cd3b-4699-9f11-65c718f49059"
      },
      "source": [
        "final[final['HelpfulnessNumerator'] > final['HelpfulnessDenominator']]"
      ],
      "execution_count": 34,
      "outputs": [
        {
          "output_type": "execute_result",
          "data": {
            "text/html": [
              "<div>\n",
              "<style scoped>\n",
              "    .dataframe tbody tr th:only-of-type {\n",
              "        vertical-align: middle;\n",
              "    }\n",
              "\n",
              "    .dataframe tbody tr th {\n",
              "        vertical-align: top;\n",
              "    }\n",
              "\n",
              "    .dataframe thead th {\n",
              "        text-align: right;\n",
              "    }\n",
              "</style>\n",
              "<table border=\"1\" class=\"dataframe\">\n",
              "  <thead>\n",
              "    <tr style=\"text-align: right;\">\n",
              "      <th></th>\n",
              "      <th>Id</th>\n",
              "      <th>ProductId</th>\n",
              "      <th>UserId</th>\n",
              "      <th>ProfileName</th>\n",
              "      <th>HelpfulnessNumerator</th>\n",
              "      <th>HelpfulnessDenominator</th>\n",
              "      <th>Score</th>\n",
              "      <th>Time</th>\n",
              "      <th>Summary</th>\n",
              "      <th>Text</th>\n",
              "      <th>Sentiment</th>\n",
              "    </tr>\n",
              "  </thead>\n",
              "  <tbody>\n",
              "    <tr>\n",
              "      <th>64421</th>\n",
              "      <td>64422</td>\n",
              "      <td>B000MIDROQ</td>\n",
              "      <td>A161DK06JJMCYF</td>\n",
              "      <td>J. E. Stephens \"Jeanne\"</td>\n",
              "      <td>3</td>\n",
              "      <td>1</td>\n",
              "      <td>5</td>\n",
              "      <td>1224892800</td>\n",
              "      <td>Bought This for My Son at College</td>\n",
              "      <td>My son loves spaghetti so I didn't hesitate or...</td>\n",
              "      <td>1</td>\n",
              "    </tr>\n",
              "    <tr>\n",
              "      <th>44736</th>\n",
              "      <td>44737</td>\n",
              "      <td>B001EQ55RW</td>\n",
              "      <td>A2V0I904FH7ABY</td>\n",
              "      <td>Ram</td>\n",
              "      <td>3</td>\n",
              "      <td>2</td>\n",
              "      <td>4</td>\n",
              "      <td>1212883200</td>\n",
              "      <td>Pure cocoa taste with crunchy almonds inside</td>\n",
              "      <td>It was almost a 'love at first bite' - the per...</td>\n",
              "      <td>1</td>\n",
              "    </tr>\n",
              "  </tbody>\n",
              "</table>\n",
              "</div>"
            ],
            "text/plain": [
              "          Id  ... Sentiment\n",
              "64421  64422  ...         1\n",
              "44736  44737  ...         1\n",
              "\n",
              "[2 rows x 11 columns]"
            ]
          },
          "metadata": {
            "tags": []
          },
          "execution_count": 34
        }
      ]
    },
    {
      "cell_type": "markdown",
      "metadata": {
        "id": "x_VawFka-p0x"
      },
      "source": [
        "Need to drop these 2 rows "
      ]
    },
    {
      "cell_type": "code",
      "metadata": {
        "colab": {
          "base_uri": "https://localhost:8080/"
        },
        "id": "JAzzlbxo-opQ",
        "outputId": "32c5d95c-e046-43ce-8ad8-9afe186f1db4"
      },
      "source": [
        "final = final[final['HelpfulnessNumerator'] <= final['HelpfulnessDenominator']]\r\n",
        "final.reset_index(inplace=True)\r\n",
        "final.shape"
      ],
      "execution_count": 57,
      "outputs": [
        {
          "output_type": "execute_result",
          "data": {
            "text/plain": [
              "(393931, 12)"
            ]
          },
          "metadata": {
            "tags": []
          },
          "execution_count": 57
        }
      ]
    },
    {
      "cell_type": "markdown",
      "metadata": {
        "id": "KFd7dSWN-0Op"
      },
      "source": [
        "## Preprocessing"
      ]
    },
    {
      "cell_type": "code",
      "metadata": {
        "id": "gieJyzm4_CXZ"
      },
      "source": [
        "import re\r\n",
        "# Tutorial about Python regular expressions: https://pymotw.com/2/re/\r\n",
        "\r\n",
        "import string\r\n",
        "from nltk.corpus import stopwords\r\n",
        "from nltk.stem import PorterStemmer\r\n",
        "from nltk.stem.wordnet import WordNetLemmatizer\r\n",
        "\r\n",
        "from gensim.models import Word2Vec\r\n",
        "from gensim.models import KeyedVectors\r\n",
        "import pickle\r\n",
        "\r\n",
        "from tqdm import tqdm\r\n",
        "import os\r\n",
        "\r\n",
        "\r\n",
        "# https://stackoverflow.com/questions/16206380/python-beautifulsoup-how-to-remove-all-tags-from-an-element\r\n",
        "from bs4 import BeautifulSoup\r\n"
      ],
      "execution_count": 58,
      "outputs": []
    },
    {
      "cell_type": "code",
      "metadata": {
        "id": "iW4nOVJL_TDS"
      },
      "source": [
        "# https://stackoverflow.com/a/47091490/4084039\r\n",
        "import re\r\n",
        "\r\n",
        "def decontracted(phrase):\r\n",
        "    # specific\r\n",
        "    phrase = re.sub(r\"won't\", \"will not\", phrase)\r\n",
        "    phrase = re.sub(r\"can\\'t\", \"can not\", phrase)\r\n",
        "\r\n",
        "    # general\r\n",
        "    phrase = re.sub(r\"n\\'t\", \" not\", phrase)\r\n",
        "    phrase = re.sub(r\"\\'re\", \" are\", phrase)\r\n",
        "    phrase = re.sub(r\"\\'s\", \" is\", phrase)\r\n",
        "    phrase = re.sub(r\"\\'d\", \" would\", phrase)\r\n",
        "    phrase = re.sub(r\"\\'ll\", \" will\", phrase)\r\n",
        "    phrase = re.sub(r\"\\'t\", \" not\", phrase)\r\n",
        "    phrase = re.sub(r\"\\'ve\", \" have\", phrase)\r\n",
        "    phrase = re.sub(r\"\\'m\", \" am\", phrase)\r\n",
        "    return phrase"
      ],
      "execution_count": 59,
      "outputs": []
    },
    {
      "cell_type": "code",
      "metadata": {
        "id": "mwQsD5q4_W3D"
      },
      "source": [
        "# https://gist.github.com/sebleier/554280\r\n",
        "# we are removing the words from the stop words list: 'no', 'nor', 'not'\r\n",
        "# <br /><br /> ==> after the above steps, we are getting \"br br\"\r\n",
        "# we are including them into stop words list\r\n",
        "# instead of <br /> if we have <br/> these tags would have revmoved in the 1st step\r\n",
        "\r\n",
        "stopwords= set(['br', 'the', 'i', 'me', 'my', 'myself', 'we', 'our', 'ours', 'ourselves', 'you', \"you're\", \"you've\",\\\r\n",
        "            \"you'll\", \"you'd\", 'your', 'yours', 'yourself', 'yourselves', 'he', 'him', 'his', 'himself', \\\r\n",
        "            'she', \"she's\", 'her', 'hers', 'herself', 'it', \"it's\", 'its', 'itself', 'they', 'them', 'their',\\\r\n",
        "            'theirs', 'themselves', 'what', 'which', 'who', 'whom', 'this', 'that', \"that'll\", 'these', 'those', \\\r\n",
        "            'am', 'is', 'are', 'was', 'were', 'be', 'been', 'being', 'have', 'has', 'had', 'having', 'do', 'does', \\\r\n",
        "            'did', 'doing', 'a', 'an', 'the', 'and', 'but', 'if', 'or', 'because', 'as', 'until', 'while', 'of', \\\r\n",
        "            'at', 'by', 'for', 'with', 'about', 'against', 'between', 'into', 'through', 'during', 'before', 'after',\\\r\n",
        "            'above', 'below', 'to', 'from', 'up', 'down', 'in', 'out', 'on', 'off', 'over', 'under', 'again', 'further',\\\r\n",
        "            'then', 'once', 'here', 'there', 'when', 'where', 'why', 'how', 'all', 'any', 'both', 'each', 'few', 'more',\\\r\n",
        "            'most', 'other', 'some', 'such', 'only', 'own', 'same', 'so', 'than', 'too', 'very', \\\r\n",
        "            's', 't', 'can', 'will', 'just', 'don', \"don't\", 'should', \"should've\", 'now', 'd', 'll', 'm', 'o', 're', \\\r\n",
        "            've', 'y', 'ain', 'aren', \"aren't\", 'couldn', \"couldn't\", 'didn', \"didn't\", 'doesn', \"doesn't\", 'hadn',\\\r\n",
        "            \"hadn't\", 'hasn', \"hasn't\", 'haven', \"haven't\", 'isn', \"isn't\", 'ma', 'mightn', \"mightn't\", 'mustn',\\\r\n",
        "            \"mustn't\", 'needn', \"needn't\", 'shan', \"shan't\", 'shouldn', \"shouldn't\", 'wasn', \"wasn't\", 'weren', \"weren't\", \\\r\n",
        "            'won', \"won't\", 'wouldn', \"wouldn't\"])"
      ],
      "execution_count": 60,
      "outputs": []
    },
    {
      "cell_type": "code",
      "metadata": {
        "colab": {
          "base_uri": "https://localhost:8080/"
        },
        "id": "hQXQQSsE-xoJ",
        "outputId": "a4655cbb-4286-4ac5-931e-dbafaeba7edc"
      },
      "source": [
        "# Combining all the above steps \r\n",
        "from tqdm import tqdm\r\n",
        "preprocessed_reviews = []\r\n",
        "# tqdm is for printing the status bar\r\n",
        "for sentance in tqdm(final['Text'].values):\r\n",
        "    sentance = re.sub(r\"http\\S+\", \"\", sentance)\r\n",
        "    sentance = BeautifulSoup(sentance, 'lxml').get_text()\r\n",
        "    sentance = decontracted(sentance)\r\n",
        "    sentance = re.sub(\"\\S*\\d\\S*\", \"\", sentance).strip()\r\n",
        "    sentance = re.sub('[^A-Za-z]+', ' ', sentance)\r\n",
        "    # https://gist.github.com/sebleier/554280\r\n",
        "    sentance = ' '.join(e.lower() for e in sentance.split() if e.lower() not in stopwords)\r\n",
        "    preprocessed_reviews.append(sentance.strip())"
      ],
      "execution_count": 61,
      "outputs": [
        {
          "output_type": "stream",
          "text": [
            "100%|██████████| 393931/393931 [02:56<00:00, 2235.33it/s]\n"
          ],
          "name": "stderr"
        }
      ]
    },
    {
      "cell_type": "code",
      "metadata": {
        "colab": {
          "base_uri": "https://localhost:8080/",
          "height": 36
        },
        "id": "j7vNmEpyADdw",
        "outputId": "21725632-752e-463f-97e6-bf20305f5e82"
      },
      "source": [
        "preprocessed_reviews[1]"
      ],
      "execution_count": 62,
      "outputs": [
        {
          "output_type": "execute_result",
          "data": {
            "application/vnd.google.colaboratory.intrinsic+json": {
              "type": "string"
            },
            "text/plain": [
              "'fun way children learn months year learn poems throughout school year like handmotions invent poem'"
            ]
          },
          "metadata": {
            "tags": []
          },
          "execution_count": 62
        }
      ]
    },
    {
      "cell_type": "code",
      "metadata": {
        "colab": {
          "base_uri": "https://localhost:8080/",
          "height": 36
        },
        "id": "uRVE8M-DAFZo",
        "outputId": "33a390db-3095-4b61-87d8-052497ae925c"
      },
      "source": [
        "preprocessed_reviews[15000]"
      ],
      "execution_count": 63,
      "outputs": [
        {
          "output_type": "execute_result",
          "data": {
            "application/vnd.google.colaboratory.intrinsic+json": {
              "type": "string"
            },
            "text/plain": [
              "'catnip cute usable size larger expected catnip came clear plastic bag tied opening inside good amount cats went crazy'"
            ]
          },
          "metadata": {
            "tags": []
          },
          "execution_count": 63
        }
      ]
    },
    {
      "cell_type": "code",
      "metadata": {
        "colab": {
          "base_uri": "https://localhost:8080/"
        },
        "id": "x4RXeCs-CcUk",
        "outputId": "af7a7366-ff9a-4b5f-c5aa-994a6a2866f3"
      },
      "source": [
        "len(preprocessed_reviews)"
      ],
      "execution_count": 64,
      "outputs": [
        {
          "output_type": "execute_result",
          "data": {
            "text/plain": [
              "393931"
            ]
          },
          "metadata": {
            "tags": []
          },
          "execution_count": 64
        }
      ]
    },
    {
      "cell_type": "markdown",
      "metadata": {
        "id": "co540-puALOj"
      },
      "source": [
        "## Featurization\r\n",
        "Convert the review to vectors"
      ]
    },
    {
      "cell_type": "code",
      "metadata": {
        "colab": {
          "base_uri": "https://localhost:8080/",
          "height": 556
        },
        "id": "Ob3nmPvlAvYC",
        "outputId": "7b54a593-00ce-4db4-89c6-1745e8c03f81"
      },
      "source": [
        "sample_data = final.sample(n = 5000)\r\n",
        "sample_data.head()"
      ],
      "execution_count": 65,
      "outputs": [
        {
          "output_type": "execute_result",
          "data": {
            "text/html": [
              "<div>\n",
              "<style scoped>\n",
              "    .dataframe tbody tr th:only-of-type {\n",
              "        vertical-align: middle;\n",
              "    }\n",
              "\n",
              "    .dataframe tbody tr th {\n",
              "        vertical-align: top;\n",
              "    }\n",
              "\n",
              "    .dataframe thead th {\n",
              "        text-align: right;\n",
              "    }\n",
              "</style>\n",
              "<table border=\"1\" class=\"dataframe\">\n",
              "  <thead>\n",
              "    <tr style=\"text-align: right;\">\n",
              "      <th></th>\n",
              "      <th>index</th>\n",
              "      <th>Id</th>\n",
              "      <th>ProductId</th>\n",
              "      <th>UserId</th>\n",
              "      <th>ProfileName</th>\n",
              "      <th>HelpfulnessNumerator</th>\n",
              "      <th>HelpfulnessDenominator</th>\n",
              "      <th>Score</th>\n",
              "      <th>Time</th>\n",
              "      <th>Summary</th>\n",
              "      <th>Text</th>\n",
              "      <th>Sentiment</th>\n",
              "    </tr>\n",
              "  </thead>\n",
              "  <tbody>\n",
              "    <tr>\n",
              "      <th>197000</th>\n",
              "      <td>94274</td>\n",
              "      <td>94275</td>\n",
              "      <td>B001EPQ18K</td>\n",
              "      <td>A3LWGDI3CYQML0</td>\n",
              "      <td>Amazon Shopper2</td>\n",
              "      <td>0</td>\n",
              "      <td>0</td>\n",
              "      <td>4</td>\n",
              "      <td>1323993600</td>\n",
              "      <td>Excellent cookies</td>\n",
              "      <td>The lemon is not overpowering, though I wish i...</td>\n",
              "      <td>1</td>\n",
              "    </tr>\n",
              "    <tr>\n",
              "      <th>142469</th>\n",
              "      <td>106128</td>\n",
              "      <td>106129</td>\n",
              "      <td>B000YHNQSC</td>\n",
              "      <td>ADCQFR0DZQC7A</td>\n",
              "      <td>flygirl</td>\n",
              "      <td>0</td>\n",
              "      <td>0</td>\n",
              "      <td>5</td>\n",
              "      <td>1292803200</td>\n",
              "      <td>jackie</td>\n",
              "      <td>just received this item so glad I ordered it b...</td>\n",
              "      <td>1</td>\n",
              "    </tr>\n",
              "    <tr>\n",
              "      <th>34702</th>\n",
              "      <td>420893</td>\n",
              "      <td>420894</td>\n",
              "      <td>B000B9EB4Q</td>\n",
              "      <td>AOY13ZY2UCBT0</td>\n",
              "      <td>Kevin</td>\n",
              "      <td>1</td>\n",
              "      <td>1</td>\n",
              "      <td>1</td>\n",
              "      <td>1273104000</td>\n",
              "      <td>Weak, poor quality</td>\n",
              "      <td>This is a very, very mild ginger tea.  I take ...</td>\n",
              "      <td>0</td>\n",
              "    </tr>\n",
              "    <tr>\n",
              "      <th>79593</th>\n",
              "      <td>173810</td>\n",
              "      <td>173811</td>\n",
              "      <td>B000GAO91K</td>\n",
              "      <td>A2EDE0QF9MSCTW</td>\n",
              "      <td>VVL84</td>\n",
              "      <td>1</td>\n",
              "      <td>1</td>\n",
              "      <td>5</td>\n",
              "      <td>1350432000</td>\n",
              "      <td>DOES A BODY GOOD</td>\n",
              "      <td>I AM CURRENTLY TRYING TO LOOSE SOME WEIGHT SO ...</td>\n",
              "      <td>1</td>\n",
              "    </tr>\n",
              "    <tr>\n",
              "      <th>141048</th>\n",
              "      <td>100663</td>\n",
              "      <td>100664</td>\n",
              "      <td>B000XKCDVG</td>\n",
              "      <td>ADUNITSKC9LS5</td>\n",
              "      <td>putty butt \"Keri Starkel\"</td>\n",
              "      <td>0</td>\n",
              "      <td>0</td>\n",
              "      <td>5</td>\n",
              "      <td>1318291200</td>\n",
              "      <td>Great dog food!!!!!</td>\n",
              "      <td>I was told from a friend of mine, how great bl...</td>\n",
              "      <td>1</td>\n",
              "    </tr>\n",
              "  </tbody>\n",
              "</table>\n",
              "</div>"
            ],
            "text/plain": [
              "         index  ...  Sentiment\n",
              "197000   94274  ...          1\n",
              "142469  106128  ...          1\n",
              "34702   420893  ...          0\n",
              "79593   173810  ...          1\n",
              "141048  100663  ...          1\n",
              "\n",
              "[5 rows x 12 columns]"
            ]
          },
          "metadata": {
            "tags": []
          },
          "execution_count": 65
        }
      ]
    },
    {
      "cell_type": "code",
      "metadata": {
        "id": "3Q1Hzbb1A75D"
      },
      "source": [
        "sample_data.drop(columns = ['Id', 'ProductId', 'UserId','ProfileName', 'Time', 'Summary', 'Score'], inplace=True)"
      ],
      "execution_count": 66,
      "outputs": []
    },
    {
      "cell_type": "code",
      "metadata": {
        "colab": {
          "base_uri": "https://localhost:8080/",
          "height": 112
        },
        "id": "1ULsLt7GBPfZ",
        "outputId": "eb5d3455-1dd6-4608-fb6b-9ac9bb3edefb"
      },
      "source": [
        "sample_data.head(2)"
      ],
      "execution_count": 67,
      "outputs": [
        {
          "output_type": "execute_result",
          "data": {
            "text/html": [
              "<div>\n",
              "<style scoped>\n",
              "    .dataframe tbody tr th:only-of-type {\n",
              "        vertical-align: middle;\n",
              "    }\n",
              "\n",
              "    .dataframe tbody tr th {\n",
              "        vertical-align: top;\n",
              "    }\n",
              "\n",
              "    .dataframe thead th {\n",
              "        text-align: right;\n",
              "    }\n",
              "</style>\n",
              "<table border=\"1\" class=\"dataframe\">\n",
              "  <thead>\n",
              "    <tr style=\"text-align: right;\">\n",
              "      <th></th>\n",
              "      <th>index</th>\n",
              "      <th>HelpfulnessNumerator</th>\n",
              "      <th>HelpfulnessDenominator</th>\n",
              "      <th>Text</th>\n",
              "      <th>Sentiment</th>\n",
              "    </tr>\n",
              "  </thead>\n",
              "  <tbody>\n",
              "    <tr>\n",
              "      <th>197000</th>\n",
              "      <td>94274</td>\n",
              "      <td>0</td>\n",
              "      <td>0</td>\n",
              "      <td>The lemon is not overpowering, though I wish i...</td>\n",
              "      <td>1</td>\n",
              "    </tr>\n",
              "    <tr>\n",
              "      <th>142469</th>\n",
              "      <td>106128</td>\n",
              "      <td>0</td>\n",
              "      <td>0</td>\n",
              "      <td>just received this item so glad I ordered it b...</td>\n",
              "      <td>1</td>\n",
              "    </tr>\n",
              "  </tbody>\n",
              "</table>\n",
              "</div>"
            ],
            "text/plain": [
              "         index  ...  Sentiment\n",
              "197000   94274  ...          1\n",
              "142469  106128  ...          1\n",
              "\n",
              "[2 rows x 5 columns]"
            ]
          },
          "metadata": {
            "tags": []
          },
          "execution_count": 67
        }
      ]
    },
    {
      "cell_type": "code",
      "metadata": {
        "colab": {
          "base_uri": "https://localhost:8080/"
        },
        "id": "SOVMiYLTBvi8",
        "outputId": "ec81acb3-3b0c-4916-b991-37600ec674ff"
      },
      "source": [
        "sample_data.index.values"
      ],
      "execution_count": 68,
      "outputs": [
        {
          "output_type": "execute_result",
          "data": {
            "text/plain": [
              "array([197000, 142469,  34702, ..., 125648,  61047, 208724])"
            ]
          },
          "metadata": {
            "tags": []
          },
          "execution_count": 68
        }
      ]
    },
    {
      "cell_type": "code",
      "metadata": {
        "colab": {
          "base_uri": "https://localhost:8080/",
          "height": 36
        },
        "id": "j8w6-45kBU67",
        "outputId": "7cf0d093-c7e5-46a0-dcc6-ab51364cc279"
      },
      "source": [
        "sample_reviews = [ preprocessed_reviews[i] for i in sample_data.index.values]\r\n",
        "sample_reviews[0]"
      ],
      "execution_count": 70,
      "outputs": [
        {
          "output_type": "execute_result",
          "data": {
            "application/vnd.google.colaboratory.intrinsic+json": {
              "type": "string"
            },
            "text/plain": [
              "'lemon not overpowering though wish bit tartness would known missing something good would purchased sooner good thing bought boxes'"
            ]
          },
          "metadata": {
            "tags": []
          },
          "execution_count": 70
        }
      ]
    },
    {
      "cell_type": "code",
      "metadata": {
        "colab": {
          "base_uri": "https://localhost:8080/",
          "height": 293
        },
        "id": "zsRop1OdSxvq",
        "outputId": "a670daac-194d-4579-cf68-5893c7406c28"
      },
      "source": [
        "sample_data['preprocessed'] = sample_reviews\r\n",
        "sample_data.head()"
      ],
      "execution_count": 85,
      "outputs": [
        {
          "output_type": "execute_result",
          "data": {
            "text/html": [
              "<div>\n",
              "<style scoped>\n",
              "    .dataframe tbody tr th:only-of-type {\n",
              "        vertical-align: middle;\n",
              "    }\n",
              "\n",
              "    .dataframe tbody tr th {\n",
              "        vertical-align: top;\n",
              "    }\n",
              "\n",
              "    .dataframe thead th {\n",
              "        text-align: right;\n",
              "    }\n",
              "</style>\n",
              "<table border=\"1\" class=\"dataframe\">\n",
              "  <thead>\n",
              "    <tr style=\"text-align: right;\">\n",
              "      <th></th>\n",
              "      <th>index</th>\n",
              "      <th>HelpfulnessNumerator</th>\n",
              "      <th>HelpfulnessDenominator</th>\n",
              "      <th>Text</th>\n",
              "      <th>Sentiment</th>\n",
              "      <th>preprocessed</th>\n",
              "    </tr>\n",
              "  </thead>\n",
              "  <tbody>\n",
              "    <tr>\n",
              "      <th>197000</th>\n",
              "      <td>94274</td>\n",
              "      <td>0</td>\n",
              "      <td>0</td>\n",
              "      <td>The lemon is not overpowering, though I wish i...</td>\n",
              "      <td>1</td>\n",
              "      <td>lemon not overpowering though wish bit tartnes...</td>\n",
              "    </tr>\n",
              "    <tr>\n",
              "      <th>142469</th>\n",
              "      <td>106128</td>\n",
              "      <td>0</td>\n",
              "      <td>0</td>\n",
              "      <td>just received this item so glad I ordered it b...</td>\n",
              "      <td>1</td>\n",
              "      <td>received item glad ordered skeptical spend kin...</td>\n",
              "    </tr>\n",
              "    <tr>\n",
              "      <th>34702</th>\n",
              "      <td>420893</td>\n",
              "      <td>1</td>\n",
              "      <td>1</td>\n",
              "      <td>This is a very, very mild ginger tea.  I take ...</td>\n",
              "      <td>0</td>\n",
              "      <td>mild ginger tea take least bags water even tas...</td>\n",
              "    </tr>\n",
              "    <tr>\n",
              "      <th>79593</th>\n",
              "      <td>173810</td>\n",
              "      <td>1</td>\n",
              "      <td>1</td>\n",
              "      <td>I AM CURRENTLY TRYING TO LOOSE SOME WEIGHT SO ...</td>\n",
              "      <td>1</td>\n",
              "      <td>currently trying loose weight looking substitu...</td>\n",
              "    </tr>\n",
              "    <tr>\n",
              "      <th>141048</th>\n",
              "      <td>100663</td>\n",
              "      <td>0</td>\n",
              "      <td>0</td>\n",
              "      <td>I was told from a friend of mine, how great bl...</td>\n",
              "      <td>1</td>\n",
              "      <td>told friend mine great blue buffalo dog food k...</td>\n",
              "    </tr>\n",
              "  </tbody>\n",
              "</table>\n",
              "</div>"
            ],
            "text/plain": [
              "         index  ...                                       preprocessed\n",
              "197000   94274  ...  lemon not overpowering though wish bit tartnes...\n",
              "142469  106128  ...  received item glad ordered skeptical spend kin...\n",
              "34702   420893  ...  mild ginger tea take least bags water even tas...\n",
              "79593   173810  ...  currently trying loose weight looking substitu...\n",
              "141048  100663  ...  told friend mine great blue buffalo dog food k...\n",
              "\n",
              "[5 rows x 6 columns]"
            ]
          },
          "metadata": {
            "tags": []
          },
          "execution_count": 85
        }
      ]
    },
    {
      "cell_type": "code",
      "metadata": {
        "id": "BiBlWEp4S40r"
      },
      "source": [
        "sample_data.drop(columns = ['Text', 'index'], inplace=True)"
      ],
      "execution_count": 87,
      "outputs": []
    },
    {
      "cell_type": "code",
      "metadata": {
        "colab": {
          "base_uri": "https://localhost:8080/",
          "height": 143
        },
        "id": "BWwWaIksTDDQ",
        "outputId": "5377a3b1-db7c-4678-dbda-83a1891eaf47"
      },
      "source": [
        "sample_data.head(3)"
      ],
      "execution_count": 88,
      "outputs": [
        {
          "output_type": "execute_result",
          "data": {
            "text/html": [
              "<div>\n",
              "<style scoped>\n",
              "    .dataframe tbody tr th:only-of-type {\n",
              "        vertical-align: middle;\n",
              "    }\n",
              "\n",
              "    .dataframe tbody tr th {\n",
              "        vertical-align: top;\n",
              "    }\n",
              "\n",
              "    .dataframe thead th {\n",
              "        text-align: right;\n",
              "    }\n",
              "</style>\n",
              "<table border=\"1\" class=\"dataframe\">\n",
              "  <thead>\n",
              "    <tr style=\"text-align: right;\">\n",
              "      <th></th>\n",
              "      <th>HelpfulnessNumerator</th>\n",
              "      <th>HelpfulnessDenominator</th>\n",
              "      <th>Sentiment</th>\n",
              "      <th>preprocessed</th>\n",
              "    </tr>\n",
              "  </thead>\n",
              "  <tbody>\n",
              "    <tr>\n",
              "      <th>197000</th>\n",
              "      <td>0</td>\n",
              "      <td>0</td>\n",
              "      <td>1</td>\n",
              "      <td>lemon not overpowering though wish bit tartnes...</td>\n",
              "    </tr>\n",
              "    <tr>\n",
              "      <th>142469</th>\n",
              "      <td>0</td>\n",
              "      <td>0</td>\n",
              "      <td>1</td>\n",
              "      <td>received item glad ordered skeptical spend kin...</td>\n",
              "    </tr>\n",
              "    <tr>\n",
              "      <th>34702</th>\n",
              "      <td>1</td>\n",
              "      <td>1</td>\n",
              "      <td>0</td>\n",
              "      <td>mild ginger tea take least bags water even tas...</td>\n",
              "    </tr>\n",
              "  </tbody>\n",
              "</table>\n",
              "</div>"
            ],
            "text/plain": [
              "        HelpfulnessNumerator  ...                                       preprocessed\n",
              "197000                     0  ...  lemon not overpowering though wish bit tartnes...\n",
              "142469                     0  ...  received item glad ordered skeptical spend kin...\n",
              "34702                      1  ...  mild ginger tea take least bags water even tas...\n",
              "\n",
              "[3 rows x 4 columns]"
            ]
          },
          "metadata": {
            "tags": []
          },
          "execution_count": 88
        }
      ]
    },
    {
      "cell_type": "code",
      "metadata": {
        "id": "emdnlb04Sr5U"
      },
      "source": [
        "from sklearn.model_selection import train_test_split"
      ],
      "execution_count": 84,
      "outputs": []
    },
    {
      "cell_type": "code",
      "metadata": {
        "colab": {
          "base_uri": "https://localhost:8080/"
        },
        "id": "8QeLU_35TGuj",
        "outputId": "d754f437-ea8e-4dc5-df0b-677eba5f9078"
      },
      "source": [
        "y = sample_data['Sentiment'].values \r\n",
        "X = sample_data.drop(columns =['Sentiment'])\r\n",
        "\r\n",
        "print(X.shape)\r\n",
        "print(y.shape)"
      ],
      "execution_count": 89,
      "outputs": [
        {
          "output_type": "stream",
          "text": [
            "(5000, 3)\n",
            "(5000,)\n"
          ],
          "name": "stdout"
        }
      ]
    },
    {
      "cell_type": "code",
      "metadata": {
        "colab": {
          "base_uri": "https://localhost:8080/"
        },
        "id": "dOxKuBqIVcpE",
        "outputId": "78aa0cc5-1f0c-422d-b8d7-c9668dc1ecb4"
      },
      "source": [
        "sample_data['Sentiment'].value_counts()"
      ],
      "execution_count": 105,
      "outputs": [
        {
          "output_type": "execute_result",
          "data": {
            "text/plain": [
              "1    4292\n",
              "0     708\n",
              "Name: Sentiment, dtype: int64"
            ]
          },
          "metadata": {
            "tags": []
          },
          "execution_count": 105
        }
      ]
    },
    {
      "cell_type": "code",
      "metadata": {
        "colab": {
          "base_uri": "https://localhost:8080/"
        },
        "id": "SRy-MW-MTZuo",
        "outputId": "eddb595a-0c22-4c4d-b1f9-a372b8f04d48"
      },
      "source": [
        "train_X, test_X, train_y, test_y = train_test_split(X, y, test_size = 0.2, random_state = 24)\r\n",
        "\r\n",
        "print(train_X.shape)\r\n",
        "print(train_y.shape)\r\n",
        "print(test_X.shape)\r\n",
        "print(test_y.shape)"
      ],
      "execution_count": 90,
      "outputs": [
        {
          "output_type": "stream",
          "text": [
            "(4000, 3)\n",
            "(4000,)\n",
            "(1000, 3)\n",
            "(1000,)\n"
          ],
          "name": "stdout"
        }
      ]
    },
    {
      "cell_type": "markdown",
      "metadata": {
        "id": "xtVYj5UzAQbD"
      },
      "source": [
        "### BOW"
      ]
    },
    {
      "cell_type": "code",
      "metadata": {
        "id": "CejCMTvgA3db"
      },
      "source": [
        ""
      ],
      "execution_count": null,
      "outputs": []
    },
    {
      "cell_type": "code",
      "metadata": {
        "colab": {
          "base_uri": "https://localhost:8080/"
        },
        "id": "gCWUh6scAH-x",
        "outputId": "023b3250-d647-4c23-f3a1-89e4fd65ebca"
      },
      "source": [
        "from sklearn.feature_extraction.text import CountVectorizer\r\n",
        "\r\n",
        "count_vect = CountVectorizer()\r\n",
        "count_vect.fit(train_X['preprocessed'])\r\n",
        "\r\n",
        "print(\"some feature names \", count_vect.get_feature_names()[:10])\r\n",
        "print('='*50)"
      ],
      "execution_count": 91,
      "outputs": [
        {
          "output_type": "stream",
          "text": [
            "some feature names  ['aaa', 'ab', 'abandoned', 'abc', 'abcs', 'abd', 'ability', 'able', 'abnormalities', 'abomination']\n",
            "==================================================\n"
          ],
          "name": "stdout"
        }
      ]
    },
    {
      "cell_type": "code",
      "metadata": {
        "id": "5iPvcnFcDqID"
      },
      "source": [
        "final_vectors = count_vect.transform(train_X['preprocessed'])"
      ],
      "execution_count": 92,
      "outputs": []
    },
    {
      "cell_type": "code",
      "metadata": {
        "colab": {
          "base_uri": "https://localhost:8080/"
        },
        "id": "g_WsDHP0Q5E5",
        "outputId": "b1e9e1e1-41e9-4b34-f4ce-04537574dd8d"
      },
      "source": [
        "final_vectors.shape"
      ],
      "execution_count": 93,
      "outputs": [
        {
          "output_type": "execute_result",
          "data": {
            "text/plain": [
              "(4000, 13210)"
            ]
          },
          "metadata": {
            "tags": []
          },
          "execution_count": 93
        }
      ]
    },
    {
      "cell_type": "code",
      "metadata": {
        "colab": {
          "base_uri": "https://localhost:8080/"
        },
        "id": "Z0Rf9neyDv7a",
        "outputId": "d31c03ff-fd8c-4507-f028-043a3e9816a3"
      },
      "source": [
        "num_feats = train_X[['HelpfulnessNumerator' ,\t'HelpfulnessDenominator']].values\r\n",
        "\r\n",
        "from scipy import sparse\r\n",
        "\r\n",
        "training_data = sparse.hstack(( num_feats, final_vectors))\r\n",
        "\r\n",
        "training_data.shape"
      ],
      "execution_count": 95,
      "outputs": [
        {
          "output_type": "execute_result",
          "data": {
            "text/plain": [
              "(4000, 13212)"
            ]
          },
          "metadata": {
            "tags": []
          },
          "execution_count": 95
        }
      ]
    },
    {
      "cell_type": "code",
      "metadata": {
        "id": "3jHFKkxUT-eg"
      },
      "source": [
        "from sklearn.linear_model import LogisticRegression"
      ],
      "execution_count": 96,
      "outputs": []
    },
    {
      "cell_type": "code",
      "metadata": {
        "colab": {
          "base_uri": "https://localhost:8080/"
        },
        "id": "j2zowrKPEiDs",
        "outputId": "9dbcd162-6459-4abf-d0a9-ae22afe6af20"
      },
      "source": [
        "model = LogisticRegression(max_iter = 15000)\r\n",
        "\r\n",
        "model.fit(training_data, train_y)\r\n"
      ],
      "execution_count": 100,
      "outputs": [
        {
          "output_type": "execute_result",
          "data": {
            "text/plain": [
              "LogisticRegression(C=1.0, class_weight=None, dual=False, fit_intercept=True,\n",
              "                   intercept_scaling=1, l1_ratio=None, max_iter=15000,\n",
              "                   multi_class='auto', n_jobs=None, penalty='l2',\n",
              "                   random_state=None, solver='lbfgs', tol=0.0001, verbose=0,\n",
              "                   warm_start=False)"
            ]
          },
          "metadata": {
            "tags": []
          },
          "execution_count": 100
        }
      ]
    },
    {
      "cell_type": "code",
      "metadata": {
        "colab": {
          "base_uri": "https://localhost:8080/"
        },
        "id": "E1UHS0seUc5L",
        "outputId": "48b70285-cb6a-494a-b3e7-eabe0ae80292"
      },
      "source": [
        "# predict on test datasets \r\n",
        "\r\n",
        "final_test_vectors = count_vect.transform(test_X['preprocessed'].values)\r\n",
        "final_test_vectors.shape"
      ],
      "execution_count": 101,
      "outputs": [
        {
          "output_type": "execute_result",
          "data": {
            "text/plain": [
              "(1000, 13210)"
            ]
          },
          "metadata": {
            "tags": []
          },
          "execution_count": 101
        }
      ]
    },
    {
      "cell_type": "code",
      "metadata": {
        "colab": {
          "base_uri": "https://localhost:8080/"
        },
        "id": "c9ocOP7AUz0X",
        "outputId": "c4756c38-d0cd-42f4-bc5b-8051ecf23d74"
      },
      "source": [
        "test_feats = test_X[['HelpfulnessNumerator' ,\t'HelpfulnessDenominator']].values\r\n",
        "\r\n",
        "test_data = sparse.hstack(( test_feats, final_test_vectors))\r\n",
        "\r\n",
        "test_data.shape"
      ],
      "execution_count": 102,
      "outputs": [
        {
          "output_type": "execute_result",
          "data": {
            "text/plain": [
              "(1000, 13212)"
            ]
          },
          "metadata": {
            "tags": []
          },
          "execution_count": 102
        }
      ]
    },
    {
      "cell_type": "code",
      "metadata": {
        "colab": {
          "base_uri": "https://localhost:8080/"
        },
        "id": "7oSOgCENU9pI",
        "outputId": "4f041f03-fc82-4f50-cfdd-0aa436ff8f9a"
      },
      "source": [
        "from sklearn.metrics import accuracy_score\r\n",
        "\r\n",
        "preds = model.predict(test_data)\r\n",
        "\r\n",
        "# get the actual values \r\n",
        "y_true = test_y\r\n",
        "\r\n",
        "accuracy_score(y_true, preds)"
      ],
      "execution_count": 103,
      "outputs": [
        {
          "output_type": "execute_result",
          "data": {
            "text/plain": [
              "0.889"
            ]
          },
          "metadata": {
            "tags": []
          },
          "execution_count": 103
        }
      ]
    },
    {
      "cell_type": "markdown",
      "metadata": {
        "id": "hwMYaA4XFXkh"
      },
      "source": [
        ""
      ]
    }
  ]
}