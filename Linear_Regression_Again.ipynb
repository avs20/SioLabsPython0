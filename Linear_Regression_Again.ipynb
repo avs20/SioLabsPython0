{
  "nbformat": 4,
  "nbformat_minor": 0,
  "metadata": {
    "colab": {
      "name": "Linear Regression Again.ipynb",
      "provenance": [],
      "authorship_tag": "ABX9TyM5uOgglCRsFYX7MBJLAn2o",
      "include_colab_link": true
    },
    "kernelspec": {
      "name": "python3",
      "display_name": "Python 3"
    }
  },
  "cells": [
    {
      "cell_type": "markdown",
      "metadata": {
        "id": "view-in-github",
        "colab_type": "text"
      },
      "source": [
        "<a href=\"https://colab.research.google.com/github/avs20/SioLabsPython0/blob/main/Linear_Regression_Again.ipynb\" target=\"_parent\"><img src=\"https://colab.research.google.com/assets/colab-badge.svg\" alt=\"Open In Colab\"/></a>"
      ]
    },
    {
      "cell_type": "code",
      "metadata": {
        "id": "wlZ3mDWReYau"
      },
      "source": [
        ""
      ],
      "execution_count": null,
      "outputs": []
    },
    {
      "cell_type": "markdown",
      "metadata": {
        "id": "7QIG4fYRgE_Q"
      },
      "source": [
        "Goodness of Fit\r\n",
        "-------\r\n",
        "\r\n",
        "get the best line from the set of points. \r\n",
        "\r\n",
        "Loss function minimize.\r\n",
        "\r\n",
        "\r\n",
        "We need goodness of fit \r\n",
        "Can be done in 2 ways \r\n",
        "\r\n",
        "1. RMSE - Root mean Squared Error \r\n",
        "2. R2 - Rsquared / coefficient of determination\r\n",
        "\r\n",
        "\r\n",
        "\r\n",
        "RMSE \r\n",
        "------\r\n",
        "error/distance/residuals → (y_original - y_predicted)\r\n",
        "\r\n",
        "(y_original - y_predicted) ** 2\r\n",
        "\r\n",
        "Loss function = np.sum((y_original - y_predicted) ** 2) / len(datapoints)\r\n",
        "\r\n",
        "\r\n",
        "RMSE = np.sqrt( np.sum( residuals ** 2) / N )"
      ]
    }
  ]
}