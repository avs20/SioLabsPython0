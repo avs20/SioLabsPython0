{
  "nbformat": 4,
  "nbformat_minor": 0,
  "metadata": {
    "colab": {
      "name": "CrossValidation.ipynb",
      "provenance": [],
      "authorship_tag": "ABX9TyOoXJMnN1PylNPMtp0+MICj",
      "include_colab_link": true
    },
    "kernelspec": {
      "name": "python3",
      "display_name": "Python 3"
    }
  },
  "cells": [
    {
      "cell_type": "markdown",
      "metadata": {
        "id": "view-in-github",
        "colab_type": "text"
      },
      "source": [
        "<a href=\"https://colab.research.google.com/github/avs20/SioLabsPython0/blob/main/Chapter%2043%20%3A%20CrossValidation-2.ipynb\" target=\"_parent\"><img src=\"https://colab.research.google.com/assets/colab-badge.svg\" alt=\"Open In Colab\"/></a>"
      ]
    },
    {
      "cell_type": "code",
      "metadata": {
        "id": "5NpKffesN6ub"
      },
      "source": [
        "import sklearn\r\n",
        "import numpy as np \r\n",
        "import pandas as pd"
      ],
      "execution_count": null,
      "outputs": []
    },
    {
      "cell_type": "code",
      "metadata": {
        "id": "GE9LGsfTN8qg"
      },
      "source": [
        "from sklearn.neighbors import KNeighborsClassifier\r\n",
        "from sklearn.datasets import load_iris\r\n",
        "from sklearn.metrics import accuracy_score\r\n",
        "from sklearn.model_selection import train_test_split"
      ],
      "execution_count": null,
      "outputs": []
    },
    {
      "cell_type": "code",
      "metadata": {
        "id": "yX4pgTyPOLA0"
      },
      "source": [
        "X,y  = load_iris(return_X_y = True)\r\n"
      ],
      "execution_count": null,
      "outputs": []
    },
    {
      "cell_type": "code",
      "metadata": {
        "id": "maOj5IDUORd9"
      },
      "source": [
        "import seaborn as sns \r\n",
        "import matplotlib.pyplot as plt\r\n",
        "%matplotlib inline\r\n",
        "\r\n",
        "\r\n",
        "def plot_k_accuracy( train_X, train_y,  test_X, test_y):\r\n",
        "\r\n",
        "  accuracy = []\r\n",
        "  train_acc = []\r\n",
        "\r\n",
        "  # we check for k from 1 to 10 \r\n",
        "  for k in range(1,100):\r\n",
        "    model = KNeighborsClassifier(n_neighbors = k)\r\n",
        "    model.fit(train_X, train_y)\r\n",
        "    preds = model.predict(test_X)\r\n",
        "    train_pred = model.predict(train_X)\r\n",
        "    score = accuracy_score(test_y, preds)\r\n",
        "    accuracy.append(score)\r\n",
        "    train_acc.append(accuracy_score(train_y, train_pred))\r\n",
        "\r\n",
        "\r\n",
        "  ax=sns.relplot(x = np.arange(1,100), y = accuracy, kind='line')\r\n",
        "  ax=sns.relplot(x = np.arange(1,100), y = train_acc, kind='line')\r\n",
        "\r\n",
        "  ax.set(xlabel = 'K', ylabel='Accuracy')\r\n",
        "  plt.show()\r\n",
        "\r\n",
        "  \r\n",
        "\r\n",
        "\r\n"
      ],
      "execution_count": null,
      "outputs": []
    },
    {
      "cell_type": "code",
      "metadata": {
        "colab": {
          "base_uri": "https://localhost:8080/",
          "height": 754
        },
        "id": "cONY565QObNx",
        "outputId": "e82a3df1-53ac-444e-8850-b3f81a18911f"
      },
      "source": [
        "print(X.shape, y.shape)\r\n",
        "train_X, test_X, train_y, test_y = train_test_split(X, y, test_size = 0.3, random_state = 24)\r\n",
        "\r\n",
        "\r\n",
        "plot_k_accuracy(train_X, train_y, test_X, test_y)"
      ],
      "execution_count": null,
      "outputs": [
        {
          "output_type": "stream",
          "text": [
            "(150, 4) (150,)\n"
          ],
          "name": "stdout"
        },
        {
          "output_type": "display_data",
          "data": {
            "image/png": "[encoded data removed]",
            "text/plain": [
              "<Figure size 360x360 with 1 Axes>"
            ]
          },
          "metadata": {
            "tags": [],
            "needs_background": "light"
          }
        },
        {
          "output_type": "display_data",
          "data": {
            "image/png": "[encoded data removed]",
            "text/plain": [
              "<Figure size 360x360 with 1 Axes>"
            ]
          },
          "metadata": {
            "tags": [],
            "needs_background": "light"
          }
        }
      ]
    },
    {
      "cell_type": "code",
      "metadata": {
        "id": "jWyAfBkkQGzf",
        "colab": {
          "base_uri": "https://localhost:8080/"
        },
        "outputId": "a7f1dacd-39f8-493d-fa39-2cd78d26c62c"
      },
      "source": [
        "train_y"
      ],
      "execution_count": null,
      "outputs": [
        {
          "output_type": "execute_result",
          "data": {
            "text/plain": [
              "array([1, 2, 2, 1, 2, 1, 2, 1, 0, 2, 1, 0, 0, 0, 1, 2, 0, 0, 0, 1, 0, 1,\n",
              "       2, 0, 1, 2, 0, 2, 2, 1, 1, 2, 1, 0, 1, 2, 0, 0, 1, 1, 0, 2, 0, 0,\n",
              "       1, 1, 2, 1, 2, 2, 1, 0, 0, 2, 2, 0, 0, 0, 1, 2, 0, 2, 2, 0, 1, 1,\n",
              "       2, 1, 2, 0, 2, 1, 2, 1, 1, 1, 0, 1, 1, 0, 1, 2, 2, 0, 1, 2, 2, 0,\n",
              "       2, 0, 1, 2, 2, 1, 2, 1, 1, 2, 2, 0, 1, 2, 0, 1, 2])"
            ]
          },
          "metadata": {
            "tags": []
          },
          "execution_count": 13
        }
      ]
    },
    {
      "cell_type": "code",
      "metadata": {
        "colab": {
          "base_uri": "https://localhost:8080/"
        },
        "id": "68ze1zzxhi7_",
        "outputId": "f402c519-0edb-4042-d53c-c051d8e2a65d"
      },
      "source": [
        "test_y"
      ],
      "execution_count": null,
      "outputs": [
        {
          "output_type": "execute_result",
          "data": {
            "text/plain": [
              "array([1, 0, 2, 1, 1, 0, 1, 2, 1, 1, 2, 0, 0, 0, 0, 1, 2, 1, 1, 2, 0, 2,\n",
              "       0, 2, 2, 2, 2, 2, 0, 0, 0, 0, 1, 0, 0, 2, 1, 0, 0, 0, 2, 1, 1, 0,\n",
              "       0])"
            ]
          },
          "metadata": {
            "tags": []
          },
          "execution_count": 14
        }
      ]
    },
    {
      "cell_type": "markdown",
      "metadata": {
        "id": "sHJ1E_iCCWSK"
      },
      "source": [
        "K Fold Cross Validation\r\n",
        "----------\r\n"
      ]
    },
    {
      "cell_type": "code",
      "metadata": {
        "id": "jPfyv5j6FXYZ"
      },
      "source": [
        "import seaborn as sns \r\n",
        "import matplotlib.pyplot as plt\r\n",
        "%matplotlib inline\r\n",
        "\r\n",
        "\r\n",
        "def plot_k_accuracy( train_X, train_y,  test_X, test_y):\r\n",
        "\r\n",
        "  accuracy = []\r\n",
        "  train_acc = []\r\n",
        "\r\n",
        "  # we check for k from 1 to 10 \r\n",
        "  for k in range(1,100):\r\n",
        "    model = KNeighborsClassifier(n_neighbors = k)\r\n",
        "    model.fit(train_X, train_y)\r\n",
        "    preds = model.predict(test_X)\r\n",
        "    score = accuracy_score(test_y, preds)\r\n",
        "    accuracy.append(score)\r\n",
        "\r\n",
        "\r\n",
        "\r\n",
        "  ax=sns.relplot(x = np.arange(1,100), y = accuracy, kind='line')\r\n",
        "  ax.set(xlabel = 'K', ylabel='Accuracy')\r\n",
        "  plt.show()\r\n"
      ],
      "execution_count": null,
      "outputs": []
    },
    {
      "cell_type": "code",
      "metadata": {
        "id": "IprLgErumiJQ"
      },
      "source": [
        "from sklearn.model_selection import StratifiedKFold"
      ],
      "execution_count": null,
      "outputs": []
    },
    {
      "cell_type": "code",
      "metadata": {
        "id": "HkHJWqlzCcR2"
      },
      "source": [
        "skf = StratifiedKFold(n_splits = 5)\r\n"
      ],
      "execution_count": null,
      "outputs": []
    },
    {
      "cell_type": "code",
      "metadata": {
        "colab": {
          "base_uri": "https://localhost:8080/",
          "height": 1000
        },
        "id": "uUY_XipsClOm",
        "outputId": "fc671e0a-6510-473c-c66f-c1097a3b3b67"
      },
      "source": [
        "k_dash_fold = 0\r\n",
        "results = []\r\n",
        "\r\n",
        "for train_index, test_index in skf.split(X,y):\r\n",
        "\r\n",
        "  k_dash_fold += 1\r\n",
        "  # print('k-dash', k_dash_fold)\r\n",
        "\r\n",
        "  train_X = X[train_index, :]\r\n",
        "  train_y = y[train_index]\r\n",
        "  test_X = X[test_index, :]\r\n",
        "  test_y = y[test_index]\r\n",
        "\r\n",
        "  for k in range(1,12):\r\n",
        "    # print('k From KNN = ', k)\r\n",
        "    result_dict = {}\r\n",
        "\r\n",
        "    model = KNeighborsClassifier(n_neighbors = k)\r\n",
        "    model.fit(train_X, train_y)\r\n",
        "    preds = model.predict(test_X)\r\n",
        "    score = accuracy_score(test_y, preds)\r\n",
        "    result_dict['k_dash'] = k_dash_fold\r\n",
        "    result_dict['k'] = k\r\n",
        "    result_dict['accuracy'] = score\r\n",
        "    results.append(result_dict)\r\n",
        "\r\n",
        "\r\n",
        "\r\n",
        "results_df = pd.DataFrame(results)\r\n",
        "\r\n",
        "results_df\r\n"
      ],
      "execution_count": null,
      "outputs": [
        {
          "output_type": "execute_result",
          "data": {
            "text/html": [
              "<div>\n",
              "<style scoped>\n",
              "    .dataframe tbody tr th:only-of-type {\n",
              "        vertical-align: middle;\n",
              "    }\n",
              "\n",
              "    .dataframe tbody tr th {\n",
              "        vertical-align: top;\n",
              "    }\n",
              "\n",
              "    .dataframe thead th {\n",
              "        text-align: right;\n",
              "    }\n",
              "</style>\n",
              "<table border=\"1\" class=\"dataframe\">\n",
              "  <thead>\n",
              "    <tr style=\"text-align: right;\">\n",
              "      <th></th>\n",
              "      <th>k_dash</th>\n",
              "      <th>k</th>\n",
              "      <th>accuracy</th>\n",
              "    </tr>\n",
              "  </thead>\n",
              "  <tbody>\n",
              "    <tr>\n",
              "      <th>0</th>\n",
              "      <td>1</td>\n",
              "      <td>1</td>\n",
              "      <td>0.966667</td>\n",
              "    </tr>\n",
              "    <tr>\n",
              "      <th>1</th>\n",
              "      <td>1</td>\n",
              "      <td>2</td>\n",
              "      <td>0.966667</td>\n",
              "    </tr>\n",
              "    <tr>\n",
              "      <th>2</th>\n",
              "      <td>1</td>\n",
              "      <td>3</td>\n",
              "      <td>0.966667</td>\n",
              "    </tr>\n",
              "    <tr>\n",
              "      <th>3</th>\n",
              "      <td>1</td>\n",
              "      <td>4</td>\n",
              "      <td>0.966667</td>\n",
              "    </tr>\n",
              "    <tr>\n",
              "      <th>4</th>\n",
              "      <td>1</td>\n",
              "      <td>5</td>\n",
              "      <td>0.966667</td>\n",
              "    </tr>\n",
              "    <tr>\n",
              "      <th>5</th>\n",
              "      <td>1</td>\n",
              "      <td>6</td>\n",
              "      <td>0.966667</td>\n",
              "    </tr>\n",
              "    <tr>\n",
              "      <th>6</th>\n",
              "      <td>1</td>\n",
              "      <td>7</td>\n",
              "      <td>0.966667</td>\n",
              "    </tr>\n",
              "    <tr>\n",
              "      <th>7</th>\n",
              "      <td>1</td>\n",
              "      <td>8</td>\n",
              "      <td>0.966667</td>\n",
              "    </tr>\n",
              "    <tr>\n",
              "      <th>8</th>\n",
              "      <td>1</td>\n",
              "      <td>9</td>\n",
              "      <td>0.966667</td>\n",
              "    </tr>\n",
              "    <tr>\n",
              "      <th>9</th>\n",
              "      <td>1</td>\n",
              "      <td>10</td>\n",
              "      <td>0.966667</td>\n",
              "    </tr>\n",
              "    <tr>\n",
              "      <th>10</th>\n",
              "      <td>1</td>\n",
              "      <td>11</td>\n",
              "      <td>0.933333</td>\n",
              "    </tr>\n",
              "    <tr>\n",
              "      <th>11</th>\n",
              "      <td>2</td>\n",
              "      <td>1</td>\n",
              "      <td>0.966667</td>\n",
              "    </tr>\n",
              "    <tr>\n",
              "      <th>12</th>\n",
              "      <td>2</td>\n",
              "      <td>2</td>\n",
              "      <td>0.933333</td>\n",
              "    </tr>\n",
              "    <tr>\n",
              "      <th>13</th>\n",
              "      <td>2</td>\n",
              "      <td>3</td>\n",
              "      <td>0.966667</td>\n",
              "    </tr>\n",
              "    <tr>\n",
              "      <th>14</th>\n",
              "      <td>2</td>\n",
              "      <td>4</td>\n",
              "      <td>0.966667</td>\n",
              "    </tr>\n",
              "    <tr>\n",
              "      <th>15</th>\n",
              "      <td>2</td>\n",
              "      <td>5</td>\n",
              "      <td>1.000000</td>\n",
              "    </tr>\n",
              "    <tr>\n",
              "      <th>16</th>\n",
              "      <td>2</td>\n",
              "      <td>6</td>\n",
              "      <td>1.000000</td>\n",
              "    </tr>\n",
              "    <tr>\n",
              "      <th>17</th>\n",
              "      <td>2</td>\n",
              "      <td>7</td>\n",
              "      <td>1.000000</td>\n",
              "    </tr>\n",
              "    <tr>\n",
              "      <th>18</th>\n",
              "      <td>2</td>\n",
              "      <td>8</td>\n",
              "      <td>1.000000</td>\n",
              "    </tr>\n",
              "    <tr>\n",
              "      <th>19</th>\n",
              "      <td>2</td>\n",
              "      <td>9</td>\n",
              "      <td>1.000000</td>\n",
              "    </tr>\n",
              "    <tr>\n",
              "      <th>20</th>\n",
              "      <td>2</td>\n",
              "      <td>10</td>\n",
              "      <td>1.000000</td>\n",
              "    </tr>\n",
              "    <tr>\n",
              "      <th>21</th>\n",
              "      <td>2</td>\n",
              "      <td>11</td>\n",
              "      <td>1.000000</td>\n",
              "    </tr>\n",
              "    <tr>\n",
              "      <th>22</th>\n",
              "      <td>3</td>\n",
              "      <td>1</td>\n",
              "      <td>0.933333</td>\n",
              "    </tr>\n",
              "    <tr>\n",
              "      <th>23</th>\n",
              "      <td>3</td>\n",
              "      <td>2</td>\n",
              "      <td>0.933333</td>\n",
              "    </tr>\n",
              "    <tr>\n",
              "      <th>24</th>\n",
              "      <td>3</td>\n",
              "      <td>3</td>\n",
              "      <td>0.933333</td>\n",
              "    </tr>\n",
              "    <tr>\n",
              "      <th>25</th>\n",
              "      <td>3</td>\n",
              "      <td>4</td>\n",
              "      <td>0.966667</td>\n",
              "    </tr>\n",
              "    <tr>\n",
              "      <th>26</th>\n",
              "      <td>3</td>\n",
              "      <td>5</td>\n",
              "      <td>0.933333</td>\n",
              "    </tr>\n",
              "    <tr>\n",
              "      <th>27</th>\n",
              "      <td>3</td>\n",
              "      <td>6</td>\n",
              "      <td>0.966667</td>\n",
              "    </tr>\n",
              "    <tr>\n",
              "      <th>28</th>\n",
              "      <td>3</td>\n",
              "      <td>7</td>\n",
              "      <td>0.966667</td>\n",
              "    </tr>\n",
              "    <tr>\n",
              "      <th>29</th>\n",
              "      <td>3</td>\n",
              "      <td>8</td>\n",
              "      <td>0.933333</td>\n",
              "    </tr>\n",
              "    <tr>\n",
              "      <th>30</th>\n",
              "      <td>3</td>\n",
              "      <td>9</td>\n",
              "      <td>0.966667</td>\n",
              "    </tr>\n",
              "    <tr>\n",
              "      <th>31</th>\n",
              "      <td>3</td>\n",
              "      <td>10</td>\n",
              "      <td>1.000000</td>\n",
              "    </tr>\n",
              "    <tr>\n",
              "      <th>32</th>\n",
              "      <td>3</td>\n",
              "      <td>11</td>\n",
              "      <td>1.000000</td>\n",
              "    </tr>\n",
              "    <tr>\n",
              "      <th>33</th>\n",
              "      <td>4</td>\n",
              "      <td>1</td>\n",
              "      <td>0.933333</td>\n",
              "    </tr>\n",
              "    <tr>\n",
              "      <th>34</th>\n",
              "      <td>4</td>\n",
              "      <td>2</td>\n",
              "      <td>0.900000</td>\n",
              "    </tr>\n",
              "    <tr>\n",
              "      <th>35</th>\n",
              "      <td>4</td>\n",
              "      <td>3</td>\n",
              "      <td>0.966667</td>\n",
              "    </tr>\n",
              "    <tr>\n",
              "      <th>36</th>\n",
              "      <td>4</td>\n",
              "      <td>4</td>\n",
              "      <td>0.966667</td>\n",
              "    </tr>\n",
              "    <tr>\n",
              "      <th>37</th>\n",
              "      <td>4</td>\n",
              "      <td>5</td>\n",
              "      <td>0.966667</td>\n",
              "    </tr>\n",
              "    <tr>\n",
              "      <th>38</th>\n",
              "      <td>4</td>\n",
              "      <td>6</td>\n",
              "      <td>0.966667</td>\n",
              "    </tr>\n",
              "    <tr>\n",
              "      <th>39</th>\n",
              "      <td>4</td>\n",
              "      <td>7</td>\n",
              "      <td>0.966667</td>\n",
              "    </tr>\n",
              "    <tr>\n",
              "      <th>40</th>\n",
              "      <td>4</td>\n",
              "      <td>8</td>\n",
              "      <td>0.933333</td>\n",
              "    </tr>\n",
              "    <tr>\n",
              "      <th>41</th>\n",
              "      <td>4</td>\n",
              "      <td>9</td>\n",
              "      <td>0.933333</td>\n",
              "    </tr>\n",
              "    <tr>\n",
              "      <th>42</th>\n",
              "      <td>4</td>\n",
              "      <td>10</td>\n",
              "      <td>0.933333</td>\n",
              "    </tr>\n",
              "    <tr>\n",
              "      <th>43</th>\n",
              "      <td>4</td>\n",
              "      <td>11</td>\n",
              "      <td>0.966667</td>\n",
              "    </tr>\n",
              "    <tr>\n",
              "      <th>44</th>\n",
              "      <td>5</td>\n",
              "      <td>1</td>\n",
              "      <td>1.000000</td>\n",
              "    </tr>\n",
              "    <tr>\n",
              "      <th>45</th>\n",
              "      <td>5</td>\n",
              "      <td>2</td>\n",
              "      <td>1.000000</td>\n",
              "    </tr>\n",
              "    <tr>\n",
              "      <th>46</th>\n",
              "      <td>5</td>\n",
              "      <td>3</td>\n",
              "      <td>1.000000</td>\n",
              "    </tr>\n",
              "    <tr>\n",
              "      <th>47</th>\n",
              "      <td>5</td>\n",
              "      <td>4</td>\n",
              "      <td>1.000000</td>\n",
              "    </tr>\n",
              "    <tr>\n",
              "      <th>48</th>\n",
              "      <td>5</td>\n",
              "      <td>5</td>\n",
              "      <td>1.000000</td>\n",
              "    </tr>\n",
              "    <tr>\n",
              "      <th>49</th>\n",
              "      <td>5</td>\n",
              "      <td>6</td>\n",
              "      <td>1.000000</td>\n",
              "    </tr>\n",
              "    <tr>\n",
              "      <th>50</th>\n",
              "      <td>5</td>\n",
              "      <td>7</td>\n",
              "      <td>1.000000</td>\n",
              "    </tr>\n",
              "    <tr>\n",
              "      <th>51</th>\n",
              "      <td>5</td>\n",
              "      <td>8</td>\n",
              "      <td>1.000000</td>\n",
              "    </tr>\n",
              "    <tr>\n",
              "      <th>52</th>\n",
              "      <td>5</td>\n",
              "      <td>9</td>\n",
              "      <td>1.000000</td>\n",
              "    </tr>\n",
              "    <tr>\n",
              "      <th>53</th>\n",
              "      <td>5</td>\n",
              "      <td>10</td>\n",
              "      <td>1.000000</td>\n",
              "    </tr>\n",
              "    <tr>\n",
              "      <th>54</th>\n",
              "      <td>5</td>\n",
              "      <td>11</td>\n",
              "      <td>1.000000</td>\n",
              "    </tr>\n",
              "  </tbody>\n",
              "</table>\n",
              "</div>"
            ],
            "text/plain": [
              "    k_dash   k  accuracy\n",
              "0        1   1  0.966667\n",
              "1        1   2  0.966667\n",
              "2        1   3  0.966667\n",
              "3        1   4  0.966667\n",
              "4        1   5  0.966667\n",
              "5        1   6  0.966667\n",
              "6        1   7  0.966667\n",
              "7        1   8  0.966667\n",
              "8        1   9  0.966667\n",
              "9        1  10  0.966667\n",
              "10       1  11  0.933333\n",
              "11       2   1  0.966667\n",
              "12       2   2  0.933333\n",
              "13       2   3  0.966667\n",
              "14       2   4  0.966667\n",
              "15       2   5  1.000000\n",
              "16       2   6  1.000000\n",
              "17       2   7  1.000000\n",
              "18       2   8  1.000000\n",
              "19       2   9  1.000000\n",
              "20       2  10  1.000000\n",
              "21       2  11  1.000000\n",
              "22       3   1  0.933333\n",
              "23       3   2  0.933333\n",
              "24       3   3  0.933333\n",
              "25       3   4  0.966667\n",
              "26       3   5  0.933333\n",
              "27       3   6  0.966667\n",
              "28       3   7  0.966667\n",
              "29       3   8  0.933333\n",
              "30       3   9  0.966667\n",
              "31       3  10  1.000000\n",
              "32       3  11  1.000000\n",
              "33       4   1  0.933333\n",
              "34       4   2  0.900000\n",
              "35       4   3  0.966667\n",
              "36       4   4  0.966667\n",
              "37       4   5  0.966667\n",
              "38       4   6  0.966667\n",
              "39       4   7  0.966667\n",
              "40       4   8  0.933333\n",
              "41       4   9  0.933333\n",
              "42       4  10  0.933333\n",
              "43       4  11  0.966667\n",
              "44       5   1  1.000000\n",
              "45       5   2  1.000000\n",
              "46       5   3  1.000000\n",
              "47       5   4  1.000000\n",
              "48       5   5  1.000000\n",
              "49       5   6  1.000000\n",
              "50       5   7  1.000000\n",
              "51       5   8  1.000000\n",
              "52       5   9  1.000000\n",
              "53       5  10  1.000000\n",
              "54       5  11  1.000000"
            ]
          },
          "metadata": {
            "tags": []
          },
          "execution_count": 33
        }
      ]
    },
    {
      "cell_type": "code",
      "metadata": {
        "colab": {
          "base_uri": "https://localhost:8080/"
        },
        "id": "hUUEuRM1Cw5c",
        "outputId": "3bf6853c-4e78-4ea6-a121-a999c18455d2"
      },
      "source": [
        "results_df.groupby('k')['accuracy'].mean()"
      ],
      "execution_count": null,
      "outputs": [
        {
          "output_type": "execute_result",
          "data": {
            "text/plain": [
              "k\n",
              "1     0.960000\n",
              "2     0.946667\n",
              "3     0.966667\n",
              "4     0.973333\n",
              "5     0.973333\n",
              "6     0.980000\n",
              "7     0.980000\n",
              "8     0.966667\n",
              "9     0.973333\n",
              "10    0.980000\n",
              "11    0.980000\n",
              "Name: accuracy, dtype: float64"
            ]
          },
          "metadata": {
            "tags": []
          },
          "execution_count": 34
        }
      ]
    },
    {
      "cell_type": "markdown",
      "metadata": {
        "id": "GM7ys5vxIV0J"
      },
      "source": [
        "## Final way to do things "
      ]
    },
    {
      "cell_type": "code",
      "metadata": {
        "colab": {
          "base_uri": "https://localhost:8080/"
        },
        "id": "4guyUWLQH1_-",
        "outputId": "6324399b-6c91-4f97-ccea-e09aef587ceb"
      },
      "source": [
        "#1. get the data \r\n",
        "\r\n",
        "X,y = load_iris(return_X_y = True)\r\n",
        "\r\n",
        "print(X.shape)\r\n",
        "print(y.shape)"
      ],
      "execution_count": null,
      "outputs": [
        {
          "output_type": "stream",
          "text": [
            "(150, 4)\n",
            "(150,)\n"
          ],
          "name": "stdout"
        }
      ]
    },
    {
      "cell_type": "code",
      "metadata": {
        "id": "5nsizx8-IdTT"
      },
      "source": [
        "#split into train and test \r\n",
        "dTrain_x,test_X, dTrain_y,  test_y = train_test_split(X, y , test_size = 0.2, random_state = 24 )\r\n",
        "\r\n"
      ],
      "execution_count": null,
      "outputs": []
    },
    {
      "cell_type": "code",
      "metadata": {
        "colab": {
          "base_uri": "https://localhost:8080/"
        },
        "id": "iFIGMgLzI0Qu",
        "outputId": "35d04d1e-17b8-4c02-b961-45ed3bfb894b"
      },
      "source": [
        "#split into train and validation \r\n",
        "k_dash_fold = 0\r\n",
        "results = []\r\n",
        "\r\n",
        "for train_index, test_index in skf.split(dTrain_x,dTrain_y):\r\n",
        "\r\n",
        "  k_dash_fold += 1\r\n",
        "  # print('k-dash', k_dash_fold)\r\n",
        "\r\n",
        "  train_X = X[train_index, :]\r\n",
        "  train_y = y[train_index]\r\n",
        "  valid_X = X[test_index, :]\r\n",
        "  valid_y = y[test_index]\r\n",
        "\r\n",
        "  for k in range(1,12):\r\n",
        "    # print('k From KNN = ', k)\r\n",
        "    result_dict = {}\r\n",
        "\r\n",
        "    model = KNeighborsClassifier(n_neighbors = k)\r\n",
        "    model.fit(train_X, train_y)\r\n",
        "    preds = model.predict(valid_X)\r\n",
        "    score = accuracy_score(valid_y, preds)\r\n",
        "    result_dict['k_dash'] = k_dash_fold\r\n",
        "    result_dict['k'] = k\r\n",
        "    result_dict['accuracy'] = score\r\n",
        "    results.append(result_dict)\r\n",
        "\r\n",
        "\r\n",
        "\r\n",
        "results_df = pd.DataFrame(results)\r\n",
        "\r\n",
        "results_df.groupby('k')['accuracy'].mean()"
      ],
      "execution_count": null,
      "outputs": [
        {
          "output_type": "execute_result",
          "data": {
            "text/plain": [
              "k\n",
              "1     0.941667\n",
              "2     0.925000\n",
              "3     0.941667\n",
              "4     0.916667\n",
              "5     0.908333\n",
              "6     0.908333\n",
              "7     0.908333\n",
              "8     0.908333\n",
              "9     0.900000\n",
              "10    0.866667\n",
              "11    0.866667\n",
              "Name: accuracy, dtype: float64"
            ]
          },
          "metadata": {
            "tags": []
          },
          "execution_count": 40
        }
      ]
    },
    {
      "cell_type": "code",
      "metadata": {
        "colab": {
          "base_uri": "https://localhost:8080/"
        },
        "id": "xAu0ZqPJJbXU",
        "outputId": "c041797f-e948-4091-c1ce-37009390247b"
      },
      "source": [
        "# now to report accuracy we use k = 3\r\n",
        "\r\n",
        "final_model = KNeighborsClassifier(n_neighbors = 3)\r\n",
        "final_model.fit(dTrain_x, dTrain_y)\r\n",
        "preds = final_model.predict(test_X)\r\n",
        "\r\n",
        "print('The accuracy of the model is ', accuracy_score(test_y, preds))"
      ],
      "execution_count": null,
      "outputs": [
        {
          "output_type": "stream",
          "text": [
            "The accuracy of the model is  0.9666666666666667\n"
          ],
          "name": "stdout"
        }
      ]
    },
    {
      "cell_type": "markdown",
      "metadata": {
        "id": "a3Fe-1nrT2ZC"
      },
      "source": [
        "### Using cross_val_score"
      ]
    },
    {
      "cell_type": "code",
      "metadata": {
        "id": "AyKGAby1T5J7"
      },
      "source": [
        "from sklearn.datasets import load_iris\r\n",
        "from sklearn.metrics import accuracy_score\r\n",
        "from sklearn.model_selection import cross_val_score\r\n",
        "from sklearn.model_selection import train_test_split\r\n",
        "from sklearn.neighbors import KNeighborsClassifier\r\n",
        "\r\n",
        "import numpy as np "
      ],
      "execution_count": 7,
      "outputs": []
    },
    {
      "cell_type": "code",
      "metadata": {
        "id": "n2Ntf48oUCb6"
      },
      "source": [
        "# Load Iris and split data \r\n",
        "X,y = load_iris(return_X_y = True)\r\n",
        "\r\n",
        "#split the data \r\n",
        "train_x, test_X, train_y, test_y = train_test_split(X, y, test_size = 0.2, random_state = 24)\r\n",
        "\r\n",
        "final_scores = []\r\n",
        "for k in range(1,12):\r\n",
        "  model = KNeighborsClassifier(n_neighbors = k )\r\n",
        "  scores = cross_val_score(model, train_x, train_y, cv = 5, scoring = 'accuracy')\r\n",
        "  final_scores.append(scores)\r\n",
        "  "
      ],
      "execution_count": 8,
      "outputs": []
    },
    {
      "cell_type": "code",
      "metadata": {
        "colab": {
          "base_uri": "https://localhost:8080/"
        },
        "id": "Cbhrgvv-U6_k",
        "outputId": "85d04b39-1cf1-4dc2-e992-f7c095d80a3f"
      },
      "source": [
        "final_scores"
      ],
      "execution_count": 9,
      "outputs": [
        {
          "output_type": "execute_result",
          "data": {
            "text/plain": [
              "[array([0.91666667, 1.        , 0.91666667, 0.91666667, 0.95833333]),\n",
              " array([0.91666667, 1.        , 0.83333333, 0.91666667, 0.95833333]),\n",
              " array([1.        , 1.        , 0.91666667, 0.95833333, 0.95833333]),\n",
              " array([1.        , 1.        , 0.83333333, 0.95833333, 0.95833333]),\n",
              " array([1.        , 1.        , 0.91666667, 0.95833333, 0.95833333]),\n",
              " array([1.        , 1.        , 0.875     , 0.95833333, 0.95833333]),\n",
              " array([1.        , 1.        , 0.91666667, 0.95833333, 0.95833333]),\n",
              " array([1.        , 1.        , 0.875     , 0.95833333, 1.        ]),\n",
              " array([1.        , 1.        , 0.95833333, 0.95833333, 1.        ]),\n",
              " array([1.        , 1.        , 0.91666667, 0.95833333, 1.        ]),\n",
              " array([1.        , 1.        , 0.95833333, 0.95833333, 1.        ])]"
            ]
          },
          "metadata": {
            "tags": []
          },
          "execution_count": 9
        }
      ]
    },
    {
      "cell_type": "code",
      "metadata": {
        "colab": {
          "base_uri": "https://localhost:8080/"
        },
        "id": "mK-aDAPLUuW0",
        "outputId": "bc7a8245-747f-4dda-f5dc-900d7641277c"
      },
      "source": [
        "# find the mean of the accuracies for each \r\n",
        "np.mean(final_scores, axis = 1)"
      ],
      "execution_count": 10,
      "outputs": [
        {
          "output_type": "execute_result",
          "data": {
            "text/plain": [
              "array([0.94166667, 0.925     , 0.96666667, 0.95      , 0.96666667,\n",
              "       0.95833333, 0.96666667, 0.96666667, 0.98333333, 0.975     ,\n",
              "       0.98333333])"
            ]
          },
          "metadata": {
            "tags": []
          },
          "execution_count": 10
        }
      ]
    },
    {
      "cell_type": "code",
      "metadata": {
        "id": "pYxBEvKuVA0K"
      },
      "source": [
        "# convert to numpy array\r\n",
        "final_scores = np.asarray(final_scores)"
      ],
      "execution_count": 11,
      "outputs": []
    },
    {
      "cell_type": "code",
      "metadata": {
        "id": "TESKvYCDVVKj"
      },
      "source": [
        "# get the mean accuracy for each value of k \r\n",
        "mean_scores = np.mean(final_scores, axis = 1)"
      ],
      "execution_count": 12,
      "outputs": []
    },
    {
      "cell_type": "code",
      "metadata": {
        "colab": {
          "base_uri": "https://localhost:8080/"
        },
        "id": "1JlpFTLYVXnC",
        "outputId": "a15bb28f-37f3-4269-b773-24a0633f940b"
      },
      "source": [
        "mean_scores"
      ],
      "execution_count": 13,
      "outputs": [
        {
          "output_type": "execute_result",
          "data": {
            "text/plain": [
              "array([0.94166667, 0.925     , 0.96666667, 0.95      , 0.96666667,\n",
              "       0.95833333, 0.96666667, 0.96666667, 0.98333333, 0.975     ,\n",
              "       0.98333333])"
            ]
          },
          "metadata": {
            "tags": []
          },
          "execution_count": 13
        }
      ]
    },
    {
      "cell_type": "code",
      "metadata": {
        "colab": {
          "base_uri": "https://localhost:8080/"
        },
        "id": "T3xzN_J1VYda",
        "outputId": "08630b6e-5740-4536-91ca-e9bd827e1717"
      },
      "source": [
        "# find the index of maximum accuracy \r\n",
        "np.argmax(mean_scores)"
      ],
      "execution_count": 14,
      "outputs": [
        {
          "output_type": "execute_result",
          "data": {
            "text/plain": [
              "8"
            ]
          },
          "metadata": {
            "tags": []
          },
          "execution_count": 14
        }
      ]
    },
    {
      "cell_type": "code",
      "metadata": {
        "id": "mqw_L6IvVcL6"
      },
      "source": [
        "final_k = np.argmax(mean_scores) + 1\r\n"
      ],
      "execution_count": 15,
      "outputs": []
    },
    {
      "cell_type": "code",
      "metadata": {
        "colab": {
          "base_uri": "https://localhost:8080/"
        },
        "id": "yAsMKPNeVnnL",
        "outputId": "59b7ba2b-a040-4668-df6f-790c6e59b183"
      },
      "source": [
        "final_model = KNeighborsClassifier(n_neighbors= final_k)\r\n",
        "final_model.fit(train_x, train_y)\r\n",
        "preds = final_model.predict(test_X)\r\n",
        "print(\"Final Accuracy is :\", accuracy_score(test_y, preds) * 100)"
      ],
      "execution_count": 17,
      "outputs": [
        {
          "output_type": "stream",
          "text": [
            "Final Accuracy is : 96.66666666666667\n"
          ],
          "name": "stdout"
        }
      ]
    },
    {
      "cell_type": "code",
      "metadata": {
        "id": "6t3pYCiAV0vZ"
      },
      "source": [
        ""
      ],
      "execution_count": null,
      "outputs": []
    }
  ]
}