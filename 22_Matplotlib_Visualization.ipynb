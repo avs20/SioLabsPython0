{
  "nbformat": 4,
  "nbformat_minor": 0,
  "metadata": {
    "colab": {
      "name": "22_Matplotlib_Visualization.ipynb",
      "provenance": [],
      "authorship_tag": "ABX9TyN+2yZXV3c5p24UPs+Vtjp/",
      "include_colab_link": true
    },
    "kernelspec": {
      "name": "python3",
      "display_name": "Python 3"
    }
  },
  "cells": [
    {
      "cell_type": "markdown",
      "metadata": {
        "id": "view-in-github",
        "colab_type": "text"
      },
      "source": [
        "<a href=\"https://colab.research.google.com/github/avs20/SioLabsPython0/blob/main/22_Matplotlib_Visualization.ipynb\" target=\"_parent\"><img src=\"https://colab.research.google.com/assets/colab-badge.svg\" alt=\"Open In Colab\"/></a>"
      ]
    },
    {
      "cell_type": "code",
      "metadata": {
        "colab": {
          "base_uri": "https://localhost:8080/",
          "height": 112
        },
        "id": "Q9rkLXWhkwBZ",
        "outputId": "626346d5-fdd3-46c9-f6dd-fdaf533a1c9f"
      },
      "source": [
        "import pandas as pd \n",
        "data = pd.read_csv('train.csv')\n",
        "data.head(2)"
      ],
      "execution_count": 3,
      "outputs": [
        {
          "output_type": "execute_result",
          "data": {
            "text/html": [
              "<div>\n",
              "<style scoped>\n",
              "    .dataframe tbody tr th:only-of-type {\n",
              "        vertical-align: middle;\n",
              "    }\n",
              "\n",
              "    .dataframe tbody tr th {\n",
              "        vertical-align: top;\n",
              "    }\n",
              "\n",
              "    .dataframe thead th {\n",
              "        text-align: right;\n",
              "    }\n",
              "</style>\n",
              "<table border=\"1\" class=\"dataframe\">\n",
              "  <thead>\n",
              "    <tr style=\"text-align: right;\">\n",
              "      <th></th>\n",
              "      <th>PassengerId</th>\n",
              "      <th>Survived</th>\n",
              "      <th>Pclass</th>\n",
              "      <th>Name</th>\n",
              "      <th>Sex</th>\n",
              "      <th>Age</th>\n",
              "      <th>SibSp</th>\n",
              "      <th>Parch</th>\n",
              "      <th>Ticket</th>\n",
              "      <th>Fare</th>\n",
              "      <th>Cabin</th>\n",
              "      <th>Embarked</th>\n",
              "    </tr>\n",
              "  </thead>\n",
              "  <tbody>\n",
              "    <tr>\n",
              "      <th>0</th>\n",
              "      <td>1</td>\n",
              "      <td>0</td>\n",
              "      <td>3</td>\n",
              "      <td>Braund, Mr. Owen Harris</td>\n",
              "      <td>male</td>\n",
              "      <td>22.0</td>\n",
              "      <td>1</td>\n",
              "      <td>0</td>\n",
              "      <td>A/5 21171</td>\n",
              "      <td>7.2500</td>\n",
              "      <td>NaN</td>\n",
              "      <td>S</td>\n",
              "    </tr>\n",
              "    <tr>\n",
              "      <th>1</th>\n",
              "      <td>2</td>\n",
              "      <td>1</td>\n",
              "      <td>1</td>\n",
              "      <td>Cumings, Mrs. John Bradley (Florence Briggs Th...</td>\n",
              "      <td>female</td>\n",
              "      <td>38.0</td>\n",
              "      <td>1</td>\n",
              "      <td>0</td>\n",
              "      <td>PC 17599</td>\n",
              "      <td>71.2833</td>\n",
              "      <td>C85</td>\n",
              "      <td>C</td>\n",
              "    </tr>\n",
              "  </tbody>\n",
              "</table>\n",
              "</div>"
            ],
            "text/plain": [
              "   PassengerId  Survived  Pclass  ...     Fare Cabin  Embarked\n",
              "0            1         0       3  ...   7.2500   NaN         S\n",
              "1            2         1       1  ...  71.2833   C85         C\n",
              "\n",
              "[2 rows x 12 columns]"
            ]
          },
          "metadata": {
            "tags": []
          },
          "execution_count": 3
        }
      ]
    },
    {
      "cell_type": "code",
      "metadata": {
        "id": "_MwmfAjWmPdu"
      },
      "source": [
        "# creating a new column \n",
        "data['age_cat'] = 'children'"
      ],
      "execution_count": 4,
      "outputs": []
    },
    {
      "cell_type": "code",
      "metadata": {
        "colab": {
          "base_uri": "https://localhost:8080/"
        },
        "id": "I1F-fHeMmvtK",
        "outputId": "6e65b00a-4c7b-4ec5-d6e9-d97104aa89d1"
      },
      "source": [
        "data.info()"
      ],
      "execution_count": 5,
      "outputs": [
        {
          "output_type": "stream",
          "text": [
            "<class 'pandas.core.frame.DataFrame'>\n",
            "RangeIndex: 891 entries, 0 to 890\n",
            "Data columns (total 13 columns):\n",
            " #   Column       Non-Null Count  Dtype  \n",
            "---  ------       --------------  -----  \n",
            " 0   PassengerId  891 non-null    int64  \n",
            " 1   Survived     891 non-null    int64  \n",
            " 2   Pclass       891 non-null    int64  \n",
            " 3   Name         891 non-null    object \n",
            " 4   Sex          891 non-null    object \n",
            " 5   Age          714 non-null    float64\n",
            " 6   SibSp        891 non-null    int64  \n",
            " 7   Parch        891 non-null    int64  \n",
            " 8   Ticket       891 non-null    object \n",
            " 9   Fare         891 non-null    float64\n",
            " 10  Cabin        204 non-null    object \n",
            " 11  Embarked     889 non-null    object \n",
            " 12  age_cat      891 non-null    object \n",
            "dtypes: float64(2), int64(5), object(6)\n",
            "memory usage: 90.6+ KB\n"
          ],
          "name": "stdout"
        }
      ]
    },
    {
      "cell_type": "code",
      "metadata": {
        "colab": {
          "base_uri": "https://localhost:8080/"
        },
        "id": "BhAAbALAmw0A",
        "outputId": "f77b9145-11a9-4cf1-9592-05c4abea6e03"
      },
      "source": [
        "data.age_cat"
      ],
      "execution_count": 6,
      "outputs": [
        {
          "output_type": "execute_result",
          "data": {
            "text/plain": [
              "0      children\n",
              "1      children\n",
              "2      children\n",
              "3      children\n",
              "4      children\n",
              "         ...   \n",
              "886    children\n",
              "887    children\n",
              "888    children\n",
              "889    children\n",
              "890    children\n",
              "Name: age_cat, Length: 891, dtype: object"
            ]
          },
          "metadata": {
            "tags": []
          },
          "execution_count": 6
        }
      ]
    },
    {
      "cell_type": "code",
      "metadata": {
        "colab": {
          "base_uri": "https://localhost:8080/"
        },
        "id": "4wU3MpjImzJo",
        "outputId": "eba3e2b8-36ae-4d8e-abec-ef770b74396c"
      },
      "source": [
        "# where age is between 0 and 2 I have to set this column as infant \n",
        "data.loc[data.Age <= 2, 'age_cat'] = 'infant'\n",
        "data.age_cat.value_counts()"
      ],
      "execution_count": 7,
      "outputs": [
        {
          "output_type": "execute_result",
          "data": {
            "text/plain": [
              "children    867\n",
              "infant       24\n",
              "Name: age_cat, dtype: int64"
            ]
          },
          "metadata": {
            "tags": []
          },
          "execution_count": 7
        }
      ]
    },
    {
      "cell_type": "code",
      "metadata": {
        "colab": {
          "base_uri": "https://localhost:8080/"
        },
        "id": "9BSSbccYm-5M",
        "outputId": "070c2b76-a91d-4d4e-832b-c28374bab5af"
      },
      "source": [
        "# where age is > 14 I have to set this column as adult\n",
        "data.loc[data.Age  > 14, 'age_cat'] = 'adult'\n",
        "data.age_cat.value_counts()"
      ],
      "execution_count": 8,
      "outputs": [
        {
          "output_type": "execute_result",
          "data": {
            "text/plain": [
              "adult       637\n",
              "children    230\n",
              "infant       24\n",
              "Name: age_cat, dtype: int64"
            ]
          },
          "metadata": {
            "tags": []
          },
          "execution_count": 8
        }
      ]
    },
    {
      "cell_type": "markdown",
      "metadata": {
        "id": "5j2OpicmnUCz"
      },
      "source": [
        "aalsi solutoin \n",
        "\n",
        "apply()\n",
        "-------\n",
        "\n",
        "we can pass a function to this and this apply() will apply that function to columns or rows or everything "
      ]
    },
    {
      "cell_type": "code",
      "metadata": {
        "id": "m6pVdMvgnLMP"
      },
      "source": [
        "def get_age_cat(age):\n",
        "  if age <= 2:\n",
        "    return 'infant'\n",
        "  elif age <= 14:\n",
        "    return 'children'\n",
        "  else:\n",
        "    return 'adult'\n",
        "\n"
      ],
      "execution_count": 9,
      "outputs": []
    },
    {
      "cell_type": "code",
      "metadata": {
        "id": "NseEcafGn0t1"
      },
      "source": [
        "data['age_cat'] = data.Age.apply(get_age_cat)"
      ],
      "execution_count": 10,
      "outputs": []
    },
    {
      "cell_type": "code",
      "metadata": {
        "colab": {
          "base_uri": "https://localhost:8080/"
        },
        "id": "aVW3IPC_o0o_",
        "outputId": "9a486f22-40cf-4191-dfd6-196cf9436553"
      },
      "source": [
        "data['age_cat'].head(10)"
      ],
      "execution_count": 11,
      "outputs": [
        {
          "output_type": "execute_result",
          "data": {
            "text/plain": [
              "0       adult\n",
              "1       adult\n",
              "2       adult\n",
              "3       adult\n",
              "4       adult\n",
              "5       adult\n",
              "6       adult\n",
              "7      infant\n",
              "8       adult\n",
              "9    children\n",
              "Name: age_cat, dtype: object"
            ]
          },
          "metadata": {
            "tags": []
          },
          "execution_count": 11
        }
      ]
    },
    {
      "cell_type": "code",
      "metadata": {
        "colab": {
          "base_uri": "https://localhost:8080/"
        },
        "id": "tU9cneG6o2_I",
        "outputId": "44bc95b3-dffd-432b-92ac-73c3c10c522f"
      },
      "source": [
        "def get_salutation(row):\n",
        "  if row.Sex == 'male' and row.Age < 14:\n",
        "    return 'Master'\n",
        "  elif row.Sex == 'male' and row.Age >= 14:\n",
        "    return 'Mr.'\n",
        "  elif row.Sex == 'female' and row.Age < 14:\n",
        "    return 'Miss'\n",
        "  elif row.Sex == 'female' and row.Age >= 14:\n",
        "    return 'Mrs.'\n",
        "\n",
        "data.apply(get_salutation, axis = 1)"
      ],
      "execution_count": 12,
      "outputs": [
        {
          "output_type": "execute_result",
          "data": {
            "text/plain": [
              "0       Mr.\n",
              "1      Mrs.\n",
              "2      Mrs.\n",
              "3      Mrs.\n",
              "4       Mr.\n",
              "       ... \n",
              "886     Mr.\n",
              "887    Mrs.\n",
              "888    None\n",
              "889     Mr.\n",
              "890     Mr.\n",
              "Length: 891, dtype: object"
            ]
          },
          "metadata": {
            "tags": []
          },
          "execution_count": 12
        }
      ]
    },
    {
      "cell_type": "code",
      "metadata": {
        "colab": {
          "base_uri": "https://localhost:8080/",
          "height": 424
        },
        "id": "W7AdQjv2pq5q",
        "outputId": "9cad850c-f668-416c-f299-bab842aa8990"
      },
      "source": [
        "data"
      ],
      "execution_count": 13,
      "outputs": [
        {
          "output_type": "execute_result",
          "data": {
            "text/html": [
              "<div>\n",
              "<style scoped>\n",
              "    .dataframe tbody tr th:only-of-type {\n",
              "        vertical-align: middle;\n",
              "    }\n",
              "\n",
              "    .dataframe tbody tr th {\n",
              "        vertical-align: top;\n",
              "    }\n",
              "\n",
              "    .dataframe thead th {\n",
              "        text-align: right;\n",
              "    }\n",
              "</style>\n",
              "<table border=\"1\" class=\"dataframe\">\n",
              "  <thead>\n",
              "    <tr style=\"text-align: right;\">\n",
              "      <th></th>\n",
              "      <th>PassengerId</th>\n",
              "      <th>Survived</th>\n",
              "      <th>Pclass</th>\n",
              "      <th>Name</th>\n",
              "      <th>Sex</th>\n",
              "      <th>Age</th>\n",
              "      <th>SibSp</th>\n",
              "      <th>Parch</th>\n",
              "      <th>Ticket</th>\n",
              "      <th>Fare</th>\n",
              "      <th>Cabin</th>\n",
              "      <th>Embarked</th>\n",
              "      <th>age_cat</th>\n",
              "    </tr>\n",
              "  </thead>\n",
              "  <tbody>\n",
              "    <tr>\n",
              "      <th>0</th>\n",
              "      <td>1</td>\n",
              "      <td>0</td>\n",
              "      <td>3</td>\n",
              "      <td>Braund, Mr. Owen Harris</td>\n",
              "      <td>male</td>\n",
              "      <td>22.0</td>\n",
              "      <td>1</td>\n",
              "      <td>0</td>\n",
              "      <td>A/5 21171</td>\n",
              "      <td>7.2500</td>\n",
              "      <td>NaN</td>\n",
              "      <td>S</td>\n",
              "      <td>adult</td>\n",
              "    </tr>\n",
              "    <tr>\n",
              "      <th>1</th>\n",
              "      <td>2</td>\n",
              "      <td>1</td>\n",
              "      <td>1</td>\n",
              "      <td>Cumings, Mrs. John Bradley (Florence Briggs Th...</td>\n",
              "      <td>female</td>\n",
              "      <td>38.0</td>\n",
              "      <td>1</td>\n",
              "      <td>0</td>\n",
              "      <td>PC 17599</td>\n",
              "      <td>71.2833</td>\n",
              "      <td>C85</td>\n",
              "      <td>C</td>\n",
              "      <td>adult</td>\n",
              "    </tr>\n",
              "    <tr>\n",
              "      <th>2</th>\n",
              "      <td>3</td>\n",
              "      <td>1</td>\n",
              "      <td>3</td>\n",
              "      <td>Heikkinen, Miss. Laina</td>\n",
              "      <td>female</td>\n",
              "      <td>26.0</td>\n",
              "      <td>0</td>\n",
              "      <td>0</td>\n",
              "      <td>STON/O2. 3101282</td>\n",
              "      <td>7.9250</td>\n",
              "      <td>NaN</td>\n",
              "      <td>S</td>\n",
              "      <td>adult</td>\n",
              "    </tr>\n",
              "    <tr>\n",
              "      <th>3</th>\n",
              "      <td>4</td>\n",
              "      <td>1</td>\n",
              "      <td>1</td>\n",
              "      <td>Futrelle, Mrs. Jacques Heath (Lily May Peel)</td>\n",
              "      <td>female</td>\n",
              "      <td>35.0</td>\n",
              "      <td>1</td>\n",
              "      <td>0</td>\n",
              "      <td>113803</td>\n",
              "      <td>53.1000</td>\n",
              "      <td>C123</td>\n",
              "      <td>S</td>\n",
              "      <td>adult</td>\n",
              "    </tr>\n",
              "    <tr>\n",
              "      <th>4</th>\n",
              "      <td>5</td>\n",
              "      <td>0</td>\n",
              "      <td>3</td>\n",
              "      <td>Allen, Mr. William Henry</td>\n",
              "      <td>male</td>\n",
              "      <td>35.0</td>\n",
              "      <td>0</td>\n",
              "      <td>0</td>\n",
              "      <td>373450</td>\n",
              "      <td>8.0500</td>\n",
              "      <td>NaN</td>\n",
              "      <td>S</td>\n",
              "      <td>adult</td>\n",
              "    </tr>\n",
              "    <tr>\n",
              "      <th>...</th>\n",
              "      <td>...</td>\n",
              "      <td>...</td>\n",
              "      <td>...</td>\n",
              "      <td>...</td>\n",
              "      <td>...</td>\n",
              "      <td>...</td>\n",
              "      <td>...</td>\n",
              "      <td>...</td>\n",
              "      <td>...</td>\n",
              "      <td>...</td>\n",
              "      <td>...</td>\n",
              "      <td>...</td>\n",
              "      <td>...</td>\n",
              "    </tr>\n",
              "    <tr>\n",
              "      <th>886</th>\n",
              "      <td>887</td>\n",
              "      <td>0</td>\n",
              "      <td>2</td>\n",
              "      <td>Montvila, Rev. Juozas</td>\n",
              "      <td>male</td>\n",
              "      <td>27.0</td>\n",
              "      <td>0</td>\n",
              "      <td>0</td>\n",
              "      <td>211536</td>\n",
              "      <td>13.0000</td>\n",
              "      <td>NaN</td>\n",
              "      <td>S</td>\n",
              "      <td>adult</td>\n",
              "    </tr>\n",
              "    <tr>\n",
              "      <th>887</th>\n",
              "      <td>888</td>\n",
              "      <td>1</td>\n",
              "      <td>1</td>\n",
              "      <td>Graham, Miss. Margaret Edith</td>\n",
              "      <td>female</td>\n",
              "      <td>19.0</td>\n",
              "      <td>0</td>\n",
              "      <td>0</td>\n",
              "      <td>112053</td>\n",
              "      <td>30.0000</td>\n",
              "      <td>B42</td>\n",
              "      <td>S</td>\n",
              "      <td>adult</td>\n",
              "    </tr>\n",
              "    <tr>\n",
              "      <th>888</th>\n",
              "      <td>889</td>\n",
              "      <td>0</td>\n",
              "      <td>3</td>\n",
              "      <td>Johnston, Miss. Catherine Helen \"Carrie\"</td>\n",
              "      <td>female</td>\n",
              "      <td>NaN</td>\n",
              "      <td>1</td>\n",
              "      <td>2</td>\n",
              "      <td>W./C. 6607</td>\n",
              "      <td>23.4500</td>\n",
              "      <td>NaN</td>\n",
              "      <td>S</td>\n",
              "      <td>adult</td>\n",
              "    </tr>\n",
              "    <tr>\n",
              "      <th>889</th>\n",
              "      <td>890</td>\n",
              "      <td>1</td>\n",
              "      <td>1</td>\n",
              "      <td>Behr, Mr. Karl Howell</td>\n",
              "      <td>male</td>\n",
              "      <td>26.0</td>\n",
              "      <td>0</td>\n",
              "      <td>0</td>\n",
              "      <td>111369</td>\n",
              "      <td>30.0000</td>\n",
              "      <td>C148</td>\n",
              "      <td>C</td>\n",
              "      <td>adult</td>\n",
              "    </tr>\n",
              "    <tr>\n",
              "      <th>890</th>\n",
              "      <td>891</td>\n",
              "      <td>0</td>\n",
              "      <td>3</td>\n",
              "      <td>Dooley, Mr. Patrick</td>\n",
              "      <td>male</td>\n",
              "      <td>32.0</td>\n",
              "      <td>0</td>\n",
              "      <td>0</td>\n",
              "      <td>370376</td>\n",
              "      <td>7.7500</td>\n",
              "      <td>NaN</td>\n",
              "      <td>Q</td>\n",
              "      <td>adult</td>\n",
              "    </tr>\n",
              "  </tbody>\n",
              "</table>\n",
              "<p>891 rows × 13 columns</p>\n",
              "</div>"
            ],
            "text/plain": [
              "     PassengerId  Survived  Pclass  ... Cabin Embarked  age_cat\n",
              "0              1         0       3  ...   NaN        S    adult\n",
              "1              2         1       1  ...   C85        C    adult\n",
              "2              3         1       3  ...   NaN        S    adult\n",
              "3              4         1       1  ...  C123        S    adult\n",
              "4              5         0       3  ...   NaN        S    adult\n",
              "..           ...       ...     ...  ...   ...      ...      ...\n",
              "886          887         0       2  ...   NaN        S    adult\n",
              "887          888         1       1  ...   B42        S    adult\n",
              "888          889         0       3  ...   NaN        S    adult\n",
              "889          890         1       1  ...  C148        C    adult\n",
              "890          891         0       3  ...   NaN        Q    adult\n",
              "\n",
              "[891 rows x 13 columns]"
            ]
          },
          "metadata": {
            "tags": []
          },
          "execution_count": 13
        }
      ]
    },
    {
      "cell_type": "markdown",
      "metadata": {
        "id": "FwEJf6yFqx3r"
      },
      "source": [
        "Visualization \n",
        "--------\n",
        "\n",
        "showing data \n",
        "representing data in some image form. "
      ]
    },
    {
      "cell_type": "code",
      "metadata": {
        "id": "Ye0wvlhnp5vp"
      },
      "source": [
        "g_var = data.groupby('Sex')['Survived'].value_counts()"
      ],
      "execution_count": 14,
      "outputs": []
    },
    {
      "cell_type": "code",
      "metadata": {
        "id": "3sBBCpBbsAp-"
      },
      "source": [
        "un_var  = data.groupby('Sex')['Survived'].value_counts().unstack()"
      ],
      "execution_count": 15,
      "outputs": []
    },
    {
      "cell_type": "code",
      "metadata": {
        "colab": {
          "base_uri": "https://localhost:8080/"
        },
        "id": "B0gM5BiLsHfK",
        "outputId": "899cb0ce-c89a-4bc6-fb0c-e064468028f1"
      },
      "source": [
        "g_var.index"
      ],
      "execution_count": 16,
      "outputs": [
        {
          "output_type": "execute_result",
          "data": {
            "text/plain": [
              "MultiIndex([('female', 1),\n",
              "            ('female', 0),\n",
              "            (  'male', 0),\n",
              "            (  'male', 1)],\n",
              "           names=['Sex', 'Survived'])"
            ]
          },
          "metadata": {
            "tags": []
          },
          "execution_count": 16
        }
      ]
    },
    {
      "cell_type": "code",
      "metadata": {
        "colab": {
          "base_uri": "https://localhost:8080/"
        },
        "id": "MjfqL8lEsRvl",
        "outputId": "3388c306-ff78-486d-c736-07f0d0a7a49b"
      },
      "source": [
        "g_var"
      ],
      "execution_count": 17,
      "outputs": [
        {
          "output_type": "execute_result",
          "data": {
            "text/plain": [
              "Sex     Survived\n",
              "female  1           233\n",
              "        0            81\n",
              "male    0           468\n",
              "        1           109\n",
              "Name: Survived, dtype: int64"
            ]
          },
          "metadata": {
            "tags": []
          },
          "execution_count": 17
        }
      ]
    },
    {
      "cell_type": "code",
      "metadata": {
        "colab": {
          "base_uri": "https://localhost:8080/"
        },
        "id": "M4REK3cRsJ2U",
        "outputId": "21e21fb7-2f0e-4e71-c769-af27d1ce2fd2"
      },
      "source": [
        "un_var.index"
      ],
      "execution_count": 18,
      "outputs": [
        {
          "output_type": "execute_result",
          "data": {
            "text/plain": [
              "Index(['female', 'male'], dtype='object', name='Sex')"
            ]
          },
          "metadata": {
            "tags": []
          },
          "execution_count": 18
        }
      ]
    },
    {
      "cell_type": "code",
      "metadata": {
        "colab": {
          "base_uri": "https://localhost:8080/",
          "height": 143
        },
        "id": "erA_Q_U7sqTz",
        "outputId": "a776a986-c7bc-4b8f-c3bb-b429eafd60af"
      },
      "source": [
        "un_var"
      ],
      "execution_count": 19,
      "outputs": [
        {
          "output_type": "execute_result",
          "data": {
            "text/html": [
              "<div>\n",
              "<style scoped>\n",
              "    .dataframe tbody tr th:only-of-type {\n",
              "        vertical-align: middle;\n",
              "    }\n",
              "\n",
              "    .dataframe tbody tr th {\n",
              "        vertical-align: top;\n",
              "    }\n",
              "\n",
              "    .dataframe thead th {\n",
              "        text-align: right;\n",
              "    }\n",
              "</style>\n",
              "<table border=\"1\" class=\"dataframe\">\n",
              "  <thead>\n",
              "    <tr style=\"text-align: right;\">\n",
              "      <th>Survived</th>\n",
              "      <th>0</th>\n",
              "      <th>1</th>\n",
              "    </tr>\n",
              "    <tr>\n",
              "      <th>Sex</th>\n",
              "      <th></th>\n",
              "      <th></th>\n",
              "    </tr>\n",
              "  </thead>\n",
              "  <tbody>\n",
              "    <tr>\n",
              "      <th>female</th>\n",
              "      <td>81</td>\n",
              "      <td>233</td>\n",
              "    </tr>\n",
              "    <tr>\n",
              "      <th>male</th>\n",
              "      <td>468</td>\n",
              "      <td>109</td>\n",
              "    </tr>\n",
              "  </tbody>\n",
              "</table>\n",
              "</div>"
            ],
            "text/plain": [
              "Survived    0    1\n",
              "Sex               \n",
              "female     81  233\n",
              "male      468  109"
            ]
          },
          "metadata": {
            "tags": []
          },
          "execution_count": 19
        }
      ]
    },
    {
      "cell_type": "code",
      "metadata": {
        "colab": {
          "base_uri": "https://localhost:8080/",
          "height": 342
        },
        "id": "4jh49eyrrVyS",
        "outputId": "10a8eb24-6036-41b3-abdc-ddb1b4c20942"
      },
      "source": [
        "data.groupby('Sex')['Survived'].value_counts().plot(kind=\"bar\")"
      ],
      "execution_count": 20,
      "outputs": [
        {
          "output_type": "execute_result",
          "data": {
            "text/plain": [
              "<matplotlib.axes._subplots.AxesSubplot at 0x7f9192c7a828>"
            ]
          },
          "metadata": {
            "tags": []
          },
          "execution_count": 20
        },
        {
          "output_type": "display_data",
          "data": {
            "image/png": "[encoded data removed]",
            "text/plain": [
              "<Figure size 432x288 with 1 Axes>"
            ]
          },
          "metadata": {
            "tags": [],
            "needs_background": "light"
          }
        }
      ]
    },
    {
      "cell_type": "code",
      "metadata": {
        "id": "vNIhzkqisJJx"
      },
      "source": [
        ""
      ],
      "execution_count": 20,
      "outputs": []
    },
    {
      "cell_type": "markdown",
      "metadata": {
        "id": "4PQI-V_ar9PR"
      },
      "source": [
        "matplotlib - pyplot"
      ]
    },
    {
      "cell_type": "code",
      "metadata": {
        "colab": {
          "base_uri": "https://localhost:8080/",
          "height": 269
        },
        "id": "ziLNBMeSrZzn",
        "outputId": "0245c4ee-a21f-404d-fdd4-8fb14231b7e3"
      },
      "source": [
        "import matplotlib.pyplot as plt\n",
        "%matplotlib inline\n",
        "\n",
        "fig, ax = plt.subplots()\n",
        "plt.show()"
      ],
      "execution_count": 21,
      "outputs": [
        {
          "output_type": "display_data",
          "data": {
            "image/png": "[encoded data removed]",
            "text/plain": [
              "<Figure size 432x288 with 1 Axes>"
            ]
          },
          "metadata": {
            "tags": [],
            "needs_background": "light"
          }
        }
      ]
    },
    {
      "cell_type": "code",
      "metadata": {
        "colab": {
          "base_uri": "https://localhost:8080/",
          "height": 424
        },
        "id": "cgXi5yllvEdb",
        "outputId": "857525ae-0c72-4b5c-dd4f-87820e5315a9"
      },
      "source": [
        "data"
      ],
      "execution_count": 22,
      "outputs": [
        {
          "output_type": "execute_result",
          "data": {
            "text/html": [
              "<div>\n",
              "<style scoped>\n",
              "    .dataframe tbody tr th:only-of-type {\n",
              "        vertical-align: middle;\n",
              "    }\n",
              "\n",
              "    .dataframe tbody tr th {\n",
              "        vertical-align: top;\n",
              "    }\n",
              "\n",
              "    .dataframe thead th {\n",
              "        text-align: right;\n",
              "    }\n",
              "</style>\n",
              "<table border=\"1\" class=\"dataframe\">\n",
              "  <thead>\n",
              "    <tr style=\"text-align: right;\">\n",
              "      <th></th>\n",
              "      <th>PassengerId</th>\n",
              "      <th>Survived</th>\n",
              "      <th>Pclass</th>\n",
              "      <th>Name</th>\n",
              "      <th>Sex</th>\n",
              "      <th>Age</th>\n",
              "      <th>SibSp</th>\n",
              "      <th>Parch</th>\n",
              "      <th>Ticket</th>\n",
              "      <th>Fare</th>\n",
              "      <th>Cabin</th>\n",
              "      <th>Embarked</th>\n",
              "      <th>age_cat</th>\n",
              "    </tr>\n",
              "  </thead>\n",
              "  <tbody>\n",
              "    <tr>\n",
              "      <th>0</th>\n",
              "      <td>1</td>\n",
              "      <td>0</td>\n",
              "      <td>3</td>\n",
              "      <td>Braund, Mr. Owen Harris</td>\n",
              "      <td>male</td>\n",
              "      <td>22.0</td>\n",
              "      <td>1</td>\n",
              "      <td>0</td>\n",
              "      <td>A/5 21171</td>\n",
              "      <td>7.2500</td>\n",
              "      <td>NaN</td>\n",
              "      <td>S</td>\n",
              "      <td>adult</td>\n",
              "    </tr>\n",
              "    <tr>\n",
              "      <th>1</th>\n",
              "      <td>2</td>\n",
              "      <td>1</td>\n",
              "      <td>1</td>\n",
              "      <td>Cumings, Mrs. John Bradley (Florence Briggs Th...</td>\n",
              "      <td>female</td>\n",
              "      <td>38.0</td>\n",
              "      <td>1</td>\n",
              "      <td>0</td>\n",
              "      <td>PC 17599</td>\n",
              "      <td>71.2833</td>\n",
              "      <td>C85</td>\n",
              "      <td>C</td>\n",
              "      <td>adult</td>\n",
              "    </tr>\n",
              "    <tr>\n",
              "      <th>2</th>\n",
              "      <td>3</td>\n",
              "      <td>1</td>\n",
              "      <td>3</td>\n",
              "      <td>Heikkinen, Miss. Laina</td>\n",
              "      <td>female</td>\n",
              "      <td>26.0</td>\n",
              "      <td>0</td>\n",
              "      <td>0</td>\n",
              "      <td>STON/O2. 3101282</td>\n",
              "      <td>7.9250</td>\n",
              "      <td>NaN</td>\n",
              "      <td>S</td>\n",
              "      <td>adult</td>\n",
              "    </tr>\n",
              "    <tr>\n",
              "      <th>3</th>\n",
              "      <td>4</td>\n",
              "      <td>1</td>\n",
              "      <td>1</td>\n",
              "      <td>Futrelle, Mrs. Jacques Heath (Lily May Peel)</td>\n",
              "      <td>female</td>\n",
              "      <td>35.0</td>\n",
              "      <td>1</td>\n",
              "      <td>0</td>\n",
              "      <td>113803</td>\n",
              "      <td>53.1000</td>\n",
              "      <td>C123</td>\n",
              "      <td>S</td>\n",
              "      <td>adult</td>\n",
              "    </tr>\n",
              "    <tr>\n",
              "      <th>4</th>\n",
              "      <td>5</td>\n",
              "      <td>0</td>\n",
              "      <td>3</td>\n",
              "      <td>Allen, Mr. William Henry</td>\n",
              "      <td>male</td>\n",
              "      <td>35.0</td>\n",
              "      <td>0</td>\n",
              "      <td>0</td>\n",
              "      <td>373450</td>\n",
              "      <td>8.0500</td>\n",
              "      <td>NaN</td>\n",
              "      <td>S</td>\n",
              "      <td>adult</td>\n",
              "    </tr>\n",
              "    <tr>\n",
              "      <th>...</th>\n",
              "      <td>...</td>\n",
              "      <td>...</td>\n",
              "      <td>...</td>\n",
              "      <td>...</td>\n",
              "      <td>...</td>\n",
              "      <td>...</td>\n",
              "      <td>...</td>\n",
              "      <td>...</td>\n",
              "      <td>...</td>\n",
              "      <td>...</td>\n",
              "      <td>...</td>\n",
              "      <td>...</td>\n",
              "      <td>...</td>\n",
              "    </tr>\n",
              "    <tr>\n",
              "      <th>886</th>\n",
              "      <td>887</td>\n",
              "      <td>0</td>\n",
              "      <td>2</td>\n",
              "      <td>Montvila, Rev. Juozas</td>\n",
              "      <td>male</td>\n",
              "      <td>27.0</td>\n",
              "      <td>0</td>\n",
              "      <td>0</td>\n",
              "      <td>211536</td>\n",
              "      <td>13.0000</td>\n",
              "      <td>NaN</td>\n",
              "      <td>S</td>\n",
              "      <td>adult</td>\n",
              "    </tr>\n",
              "    <tr>\n",
              "      <th>887</th>\n",
              "      <td>888</td>\n",
              "      <td>1</td>\n",
              "      <td>1</td>\n",
              "      <td>Graham, Miss. Margaret Edith</td>\n",
              "      <td>female</td>\n",
              "      <td>19.0</td>\n",
              "      <td>0</td>\n",
              "      <td>0</td>\n",
              "      <td>112053</td>\n",
              "      <td>30.0000</td>\n",
              "      <td>B42</td>\n",
              "      <td>S</td>\n",
              "      <td>adult</td>\n",
              "    </tr>\n",
              "    <tr>\n",
              "      <th>888</th>\n",
              "      <td>889</td>\n",
              "      <td>0</td>\n",
              "      <td>3</td>\n",
              "      <td>Johnston, Miss. Catherine Helen \"Carrie\"</td>\n",
              "      <td>female</td>\n",
              "      <td>NaN</td>\n",
              "      <td>1</td>\n",
              "      <td>2</td>\n",
              "      <td>W./C. 6607</td>\n",
              "      <td>23.4500</td>\n",
              "      <td>NaN</td>\n",
              "      <td>S</td>\n",
              "      <td>adult</td>\n",
              "    </tr>\n",
              "    <tr>\n",
              "      <th>889</th>\n",
              "      <td>890</td>\n",
              "      <td>1</td>\n",
              "      <td>1</td>\n",
              "      <td>Behr, Mr. Karl Howell</td>\n",
              "      <td>male</td>\n",
              "      <td>26.0</td>\n",
              "      <td>0</td>\n",
              "      <td>0</td>\n",
              "      <td>111369</td>\n",
              "      <td>30.0000</td>\n",
              "      <td>C148</td>\n",
              "      <td>C</td>\n",
              "      <td>adult</td>\n",
              "    </tr>\n",
              "    <tr>\n",
              "      <th>890</th>\n",
              "      <td>891</td>\n",
              "      <td>0</td>\n",
              "      <td>3</td>\n",
              "      <td>Dooley, Mr. Patrick</td>\n",
              "      <td>male</td>\n",
              "      <td>32.0</td>\n",
              "      <td>0</td>\n",
              "      <td>0</td>\n",
              "      <td>370376</td>\n",
              "      <td>7.7500</td>\n",
              "      <td>NaN</td>\n",
              "      <td>Q</td>\n",
              "      <td>adult</td>\n",
              "    </tr>\n",
              "  </tbody>\n",
              "</table>\n",
              "<p>891 rows × 13 columns</p>\n",
              "</div>"
            ],
            "text/plain": [
              "     PassengerId  Survived  Pclass  ... Cabin Embarked  age_cat\n",
              "0              1         0       3  ...   NaN        S    adult\n",
              "1              2         1       1  ...   C85        C    adult\n",
              "2              3         1       3  ...   NaN        S    adult\n",
              "3              4         1       1  ...  C123        S    adult\n",
              "4              5         0       3  ...   NaN        S    adult\n",
              "..           ...       ...     ...  ...   ...      ...      ...\n",
              "886          887         0       2  ...   NaN        S    adult\n",
              "887          888         1       1  ...   B42        S    adult\n",
              "888          889         0       3  ...   NaN        S    adult\n",
              "889          890         1       1  ...  C148        C    adult\n",
              "890          891         0       3  ...   NaN        Q    adult\n",
              "\n",
              "[891 rows x 13 columns]"
            ]
          },
          "metadata": {
            "tags": []
          },
          "execution_count": 22
        }
      ]
    },
    {
      "cell_type": "code",
      "metadata": {
        "id": "PZF0z4w2vGlF"
      },
      "source": [
        "df = pd.read_csv('/content/seattle_weather.csv')"
      ],
      "execution_count": 23,
      "outputs": []
    },
    {
      "cell_type": "code",
      "metadata": {
        "colab": {
          "base_uri": "https://localhost:8080/"
        },
        "id": "sDMuIAPqvVCX",
        "outputId": "6231efc6-d52b-4985-fda5-b978a787eec4"
      },
      "source": [
        "df['MLY-TAVG-NORMAL']"
      ],
      "execution_count": 24,
      "outputs": [
        {
          "output_type": "execute_result",
          "data": {
            "text/plain": [
              "0      39.3\n",
              "1      40.7\n",
              "2      43.8\n",
              "3      47.4\n",
              "4      53.1\n",
              "       ... \n",
              "199    66.7\n",
              "200    61.5\n",
              "201    52.9\n",
              "202    45.5\n",
              "203    40.3\n",
              "Name: MLY-TAVG-NORMAL, Length: 204, dtype: float64"
            ]
          },
          "metadata": {
            "tags": []
          },
          "execution_count": 24
        }
      ]
    },
    {
      "cell_type": "code",
      "metadata": {
        "id": "v_V4g8ILvVws"
      },
      "source": [
        "df.rename(columns = {'DATE':'MONTH'}, inplace=True)"
      ],
      "execution_count": 25,
      "outputs": []
    },
    {
      "cell_type": "code",
      "metadata": {
        "colab": {
          "base_uri": "https://localhost:8080/"
        },
        "id": "MJZJY__xw1XB",
        "outputId": "ea8a2ff1-4c78-483b-dc94-97f74433041c"
      },
      "source": [
        "df.info()"
      ],
      "execution_count": 26,
      "outputs": [
        {
          "output_type": "stream",
          "text": [
            "<class 'pandas.core.frame.DataFrame'>\n",
            "RangeIndex: 204 entries, 0 to 203\n",
            "Data columns (total 80 columns):\n",
            " #   Column                   Non-Null Count  Dtype  \n",
            "---  ------                   --------------  -----  \n",
            " 0   STATION                  204 non-null    object \n",
            " 1   NAME                     204 non-null    object \n",
            " 2   MONTH                    204 non-null    int64  \n",
            " 3   MLY-CLDD-BASE45          180 non-null    float64\n",
            " 4   MLY-CLDD-BASE50          180 non-null    float64\n",
            " 5   MLY-CLDD-BASE55          180 non-null    float64\n",
            " 6   MLY-CLDD-BASE57          180 non-null    float64\n",
            " 7   MLY-CLDD-BASE60          180 non-null    float64\n",
            " 8   MLY-CLDD-BASE70          180 non-null    float64\n",
            " 9   MLY-CLDD-BASE72          180 non-null    float64\n",
            " 10  MLY-CLDD-NORMAL          180 non-null    float64\n",
            " 11  MLY-DUTR-NORMAL          180 non-null    float64\n",
            " 12  MLY-DUTR-STDDEV          180 non-null    float64\n",
            " 13  MLY-GRDD-BASE40          180 non-null    float64\n",
            " 14  MLY-GRDD-BASE45          180 non-null    float64\n",
            " 15  MLY-GRDD-BASE50          180 non-null    float64\n",
            " 16  MLY-GRDD-BASE55          180 non-null    float64\n",
            " 17  MLY-GRDD-BASE57          180 non-null    float64\n",
            " 18  MLY-GRDD-BASE60          180 non-null    float64\n",
            " 19  MLY-GRDD-BASE65          180 non-null    float64\n",
            " 20  MLY-GRDD-BASE70          180 non-null    float64\n",
            " 21  MLY-GRDD-BASE72          180 non-null    float64\n",
            " 22  MLY-GRDD-TB4886          180 non-null    float64\n",
            " 23  MLY-GRDD-TB5086          180 non-null    float64\n",
            " 24  MLY-HTDD-BASE40          180 non-null    float64\n",
            " 25  MLY-HTDD-BASE45          180 non-null    float64\n",
            " 26  MLY-HTDD-BASE50          180 non-null    float64\n",
            " 27  MLY-HTDD-BASE55          180 non-null    float64\n",
            " 28  MLY-HTDD-BASE57          180 non-null    float64\n",
            " 29  MLY-HTDD-BASE60          180 non-null    float64\n",
            " 30  MLY-HTDD-NORMAL          180 non-null    float64\n",
            " 31  MLY-PRCP-25PCTL          156 non-null    float64\n",
            " 32  MLY-PRCP-50PCTL          156 non-null    float64\n",
            " 33  MLY-PRCP-75PCTL          156 non-null    float64\n",
            " 34  MLY-PRCP-AVGNDS-GE001HI  156 non-null    float64\n",
            " 35  MLY-PRCP-AVGNDS-GE010HI  156 non-null    float64\n",
            " 36  MLY-PRCP-AVGNDS-GE050HI  156 non-null    float64\n",
            " 37  MLY-PRCP-AVGNDS-GE100HI  156 non-null    float64\n",
            " 38  MLY-PRCP-NORMAL          204 non-null    float64\n",
            " 39  MLY-SNOW-25PCTL          120 non-null    float64\n",
            " 40  MLY-SNOW-50PCTL          120 non-null    float64\n",
            " 41  MLY-SNOW-75PCTL          120 non-null    float64\n",
            " 42  MLY-SNOW-AVGNDS-GE001TI  120 non-null    float64\n",
            " 43  MLY-SNOW-AVGNDS-GE010TI  120 non-null    float64\n",
            " 44  MLY-SNOW-AVGNDS-GE030TI  120 non-null    float64\n",
            " 45  MLY-SNOW-AVGNDS-GE050TI  120 non-null    float64\n",
            " 46  MLY-SNOW-AVGNDS-GE100TI  120 non-null    float64\n",
            " 47  MLY-SNOW-NORMAL          120 non-null    float64\n",
            " 48  MLY-SNWD-AVGNDS-GE001WI  120 non-null    float64\n",
            " 49  MLY-SNWD-AVGNDS-GE003WI  120 non-null    float64\n",
            " 50  MLY-SNWD-AVGNDS-GE005WI  120 non-null    float64\n",
            " 51  MLY-SNWD-AVGNDS-GE010WI  120 non-null    float64\n",
            " 52  MLY-TAVG-NORMAL          180 non-null    float64\n",
            " 53  MLY-TAVG-STDDEV          180 non-null    float64\n",
            " 54  MLY-TMAX-AVGNDS-GRTH040  180 non-null    float64\n",
            " 55  MLY-TMAX-AVGNDS-GRTH050  180 non-null    float64\n",
            " 56  MLY-TMAX-AVGNDS-GRTH060  180 non-null    float64\n",
            " 57  MLY-TMAX-AVGNDS-GRTH070  180 non-null    float64\n",
            " 58  MLY-TMAX-AVGNDS-GRTH080  180 non-null    float64\n",
            " 59  MLY-TMAX-AVGNDS-GRTH090  180 non-null    float64\n",
            " 60  MLY-TMAX-AVGNDS-GRTH100  180 non-null    float64\n",
            " 61  MLY-TMAX-AVGNDS-LSTH032  180 non-null    float64\n",
            " 62  MLY-TMAX-NORMAL          180 non-null    float64\n",
            " 63  MLY-TMAX-STDDEV          180 non-null    float64\n",
            " 64  MLY-TMIN-AVGNDS-LSTH000  180 non-null    float64\n",
            " 65  MLY-TMIN-AVGNDS-LSTH010  180 non-null    float64\n",
            " 66  MLY-TMIN-AVGNDS-LSTH020  180 non-null    float64\n",
            " 67  MLY-TMIN-AVGNDS-LSTH032  180 non-null    float64\n",
            " 68  MLY-TMIN-AVGNDS-LSTH040  180 non-null    float64\n",
            " 69  MLY-TMIN-AVGNDS-LSTH050  180 non-null    float64\n",
            " 70  MLY-TMIN-AVGNDS-LSTH060  180 non-null    float64\n",
            " 71  MLY-TMIN-AVGNDS-LSTH070  180 non-null    float64\n",
            " 72  MLY-TMIN-NORMAL          180 non-null    float64\n",
            " 73  MLY-TMIN-PRBOCC-LSTH016  180 non-null    float64\n",
            " 74  MLY-TMIN-PRBOCC-LSTH020  180 non-null    float64\n",
            " 75  MLY-TMIN-PRBOCC-LSTH024  180 non-null    float64\n",
            " 76  MLY-TMIN-PRBOCC-LSTH028  180 non-null    float64\n",
            " 77  MLY-TMIN-PRBOCC-LSTH032  180 non-null    float64\n",
            " 78  MLY-TMIN-PRBOCC-LSTH036  180 non-null    float64\n",
            " 79  MLY-TMIN-STDDEV          180 non-null    float64\n",
            "dtypes: float64(77), int64(1), object(2)\n",
            "memory usage: 127.6+ KB\n"
          ],
          "name": "stdout"
        }
      ]
    },
    {
      "cell_type": "code",
      "metadata": {
        "colab": {
          "base_uri": "https://localhost:8080/"
        },
        "id": "UWRIWqXVwfFI",
        "outputId": "9725b56f-8a84-4230-9034-663ad45572a1"
      },
      "source": [
        "df['MONTH'][:24]"
      ],
      "execution_count": 27,
      "outputs": [
        {
          "output_type": "execute_result",
          "data": {
            "text/plain": [
              "0      1\n",
              "1      2\n",
              "2      3\n",
              "3      4\n",
              "4      5\n",
              "5      6\n",
              "6      7\n",
              "7      8\n",
              "8      9\n",
              "9     10\n",
              "10    11\n",
              "11    12\n",
              "12     1\n",
              "13     2\n",
              "14     3\n",
              "15     4\n",
              "16     5\n",
              "17     6\n",
              "18     7\n",
              "19     8\n",
              "20     9\n",
              "21    10\n",
              "22    11\n",
              "23    12\n",
              "Name: MONTH, dtype: int64"
            ]
          },
          "metadata": {
            "tags": []
          },
          "execution_count": 27
        }
      ]
    },
    {
      "cell_type": "code",
      "metadata": {
        "id": "HKhI_bjcw0lZ"
      },
      "source": [
        ""
      ],
      "execution_count": 27,
      "outputs": []
    },
    {
      "cell_type": "code",
      "metadata": {
        "colab": {
          "base_uri": "https://localhost:8080/",
          "height": 265
        },
        "id": "UfP1jrCmv4fu",
        "outputId": "e71b3e7f-478f-4ab3-b5b8-f9f29a768e03"
      },
      "source": [
        "fig, ax = plt.subplots()\n",
        "# to make line plot use plot\n",
        "ax.plot(df['MONTH'][:12], df['MLY-TAVG-NORMAL'][:12] )\n",
        "plt.show()"
      ],
      "execution_count": 28,
      "outputs": [
        {
          "output_type": "display_data",
          "data": {
            "image/png": "[encoded data removed]",
            "text/plain": [
              "<Figure size 432x288 with 1 Axes>"
            ]
          },
          "metadata": {
            "tags": [],
            "needs_background": "light"
          }
        }
      ]
    },
    {
      "cell_type": "code",
      "metadata": {
        "colab": {
          "base_uri": "https://localhost:8080/",
          "height": 265
        },
        "id": "zUaiRE6rwHth",
        "outputId": "eac1abf4-ea51-42bf-b169-44aa5e80ed94"
      },
      "source": [
        "fig, ax = plt.subplots()\n",
        "# to make line plot use plot\n",
        "ax.plot(df['MONTH'][:12], df['MLY-TAVG-NORMAL'][:12] )\n",
        "ax.plot(df['MONTH'][:12], df['MLY-PRCP-NORMAL'][:12] )\n",
        "plt.show()"
      ],
      "execution_count": 29,
      "outputs": [
        {
          "output_type": "display_data",
          "data": {
            "image/png": "[encoded data removed]",
            "text/plain": [
              "<Figure size 432x288 with 1 Axes>"
            ]
          },
          "metadata": {
            "tags": [],
            "needs_background": "light"
          }
        }
      ]
    },
    {
      "cell_type": "code",
      "metadata": {
        "colab": {
          "base_uri": "https://localhost:8080/",
          "height": 265
        },
        "id": "5jZaH7CVxR2P",
        "outputId": "16ff63d0-a12a-4162-e1d6-a2355294ff4a"
      },
      "source": [
        "fig, ax = plt.subplots()\n",
        "# to make line plot use plot\n",
        "ax.plot(df['MONTH'][:12], df['MLY-TAVG-NORMAL'][:12] , marker = \"o\")\n",
        "plt.show()"
      ],
      "execution_count": 30,
      "outputs": [
        {
          "output_type": "display_data",
          "data": {
            "image/png": "[encoded data removed]",
            "text/plain": [
              "<Figure size 432x288 with 1 Axes>"
            ]
          },
          "metadata": {
            "tags": [],
            "needs_background": "light"
          }
        }
      ]
    },
    {
      "cell_type": "code",
      "metadata": {
        "colab": {
          "base_uri": "https://localhost:8080/",
          "height": 265
        },
        "id": "S4PpqiPvxUU_",
        "outputId": "754a925a-adc7-4b44-941e-65a4e2a99ea3"
      },
      "source": [
        "fig, ax = plt.subplots()\n",
        "# to make line plot use plot\n",
        "ax.plot(df['MONTH'][:12], df['MLY-TAVG-NORMAL'][:12] , marker = \"v\")\n",
        "plt.show()"
      ],
      "execution_count": 31,
      "outputs": [
        {
          "output_type": "display_data",
          "data": {
            "image/png": "[encoded data removed]",
            "text/plain": [
              "<Figure size 432x288 with 1 Axes>"
            ]
          },
          "metadata": {
            "tags": [],
            "needs_background": "light"
          }
        }
      ]
    },
    {
      "cell_type": "code",
      "metadata": {
        "colab": {
          "base_uri": "https://localhost:8080/",
          "height": 265
        },
        "id": "I-cuvMRHxanU",
        "outputId": "97ae74ce-08f9-4e24-d5b5-e1459d7ad2fc"
      },
      "source": [
        "fig, ax = plt.subplots()\n",
        "# to make line plot use plot\n",
        "ax.plot(df['MONTH'][:12], df['MLY-TAVG-NORMAL'][:12] , marker = \"X\")\n",
        "plt.show()"
      ],
      "execution_count": 32,
      "outputs": [
        {
          "output_type": "display_data",
          "data": {
            "image/png": "[encoded data removed]",
            "text/plain": [
              "<Figure size 432x288 with 1 Axes>"
            ]
          },
          "metadata": {
            "tags": [],
            "needs_background": "light"
          }
        }
      ]
    },
    {
      "cell_type": "code",
      "metadata": {
        "colab": {
          "base_uri": "https://localhost:8080/",
          "height": 265
        },
        "id": "YLQix6yuxqwB",
        "outputId": "309eb111-28ae-42cb-c210-50b3739d8e49"
      },
      "source": [
        "fig, ax = plt.subplots()\n",
        "# to make line plot use plot\n",
        "ax.plot(df['MONTH'][:12], df['MLY-TAVG-NORMAL'][:12] , marker = \"v\", linestyle = \"--\" )\n",
        "plt.show()"
      ],
      "execution_count": 33,
      "outputs": [
        {
          "output_type": "display_data",
          "data": {
            "image/png": "[encoded data removed]",
            "text/plain": [
              "<Figure size 432x288 with 1 Axes>"
            ]
          },
          "metadata": {
            "tags": [],
            "needs_background": "light"
          }
        }
      ]
    },
    {
      "cell_type": "code",
      "metadata": {
        "colab": {
          "base_uri": "https://localhost:8080/",
          "height": 265
        },
        "id": "iBMdZpWixdbz",
        "outputId": "17ec93cb-acc8-4a69-cff4-7db8917321f0"
      },
      "source": [
        "fig, ax = plt.subplots()\n",
        "# to make line plot use plot\n",
        "ax.plot(df['MONTH'][:12], df['MLY-TAVG-NORMAL'][:12] , marker = \"v\", linestyle = \":\" )\n",
        "plt.show()"
      ],
      "execution_count": 34,
      "outputs": [
        {
          "output_type": "display_data",
          "data": {
            "image/png": "[encoded data removed]",
            "text/plain": [
              "<Figure size 432x288 with 1 Axes>"
            ]
          },
          "metadata": {
            "tags": [],
            "needs_background": "light"
          }
        }
      ]
    },
    {
      "cell_type": "code",
      "metadata": {
        "colab": {
          "base_uri": "https://localhost:8080/",
          "height": 265
        },
        "id": "PX3ifXwQyCXr",
        "outputId": "4dd72b07-11cf-4635-f0d6-f8958dac5013"
      },
      "source": [
        "fig, ax = plt.subplots()\n",
        "# to make line plot use plot\n",
        "ax.plot(df['MONTH'][:12], df['MLY-TAVG-NORMAL'][:12] , marker = \"v\", linestyle = \"None\" )\n",
        "plt.show()"
      ],
      "execution_count": 35,
      "outputs": [
        {
          "output_type": "display_data",
          "data": {
            "image/png": "[encoded data removed]",
            "text/plain": [
              "<Figure size 432x288 with 1 Axes>"
            ]
          },
          "metadata": {
            "tags": [],
            "needs_background": "light"
          }
        }
      ]
    },
    {
      "cell_type": "code",
      "metadata": {
        "colab": {
          "base_uri": "https://localhost:8080/",
          "height": 265
        },
        "id": "Sij5FdQWyGEm",
        "outputId": "0157e840-4389-43c9-9ef7-dc3cd351193f"
      },
      "source": [
        "fig, ax = plt.subplots()\n",
        "# to make line plot use plot\n",
        "ax.plot(df['MONTH'][:12], df['MLY-TAVG-NORMAL'][:12] , marker = \"v\", linestyle = \"--\" , color=\"r\")\n",
        "plt.show()"
      ],
      "execution_count": 36,
      "outputs": [
        {
          "output_type": "display_data",
          "data": {
            "image/png": "[encoded data removed]",
            "text/plain": [
              "<Figure size 432x288 with 1 Axes>"
            ]
          },
          "metadata": {
            "tags": [],
            "needs_background": "light"
          }
        }
      ]
    },
    {
      "cell_type": "code",
      "metadata": {
        "colab": {
          "base_uri": "https://localhost:8080/",
          "height": 265
        },
        "id": "e29zWa6BySN9",
        "outputId": "aa3d383d-9bf5-4d03-c265-dd13e2ecee2f"
      },
      "source": [
        "fig, ax = plt.subplots()\n",
        "# to make line plot use plot\n",
        "ax.plot(df['MONTH'][:12], df['MLY-TAVG-NORMAL'][:12] , marker = \"v\", linestyle = \"--\" , color=\"black\")\n",
        "plt.show()"
      ],
      "execution_count": 37,
      "outputs": [
        {
          "output_type": "display_data",
          "data": {
            "image/png": "[encoded data removed]",
            "text/plain": [
              "<Figure size 432x288 with 1 Axes>"
            ]
          },
          "metadata": {
            "tags": [],
            "needs_background": "light"
          }
        }
      ]
    },
    {
      "cell_type": "code",
      "metadata": {
        "colab": {
          "base_uri": "https://localhost:8080/",
          "height": 279
        },
        "id": "fGY2CoJ9yUfT",
        "outputId": "9a7cfbeb-d5bd-4854-b115-db47081b8d94"
      },
      "source": [
        "fig, ax = plt.subplots()\n",
        "# to make line plot use plot\n",
        "ax.plot(df['MONTH'][:12], df['MLY-TAVG-NORMAL'][:12] , marker = \"v\", linestyle = \"--\" , color=\"black\")\n",
        "# set x label \n",
        "ax.set_xlabel(\"Time (months)\")\n",
        "plt.show()"
      ],
      "execution_count": 38,
      "outputs": [
        {
          "output_type": "display_data",
          "data": {
            "image/png": "[encoded data removed]",
            "text/plain": [
              "<Figure size 432x288 with 1 Axes>"
            ]
          },
          "metadata": {
            "tags": [],
            "needs_background": "light"
          }
        }
      ]
    },
    {
      "cell_type": "code",
      "metadata": {
        "colab": {
          "base_uri": "https://localhost:8080/",
          "height": 279
        },
        "id": "tsOhUqbbynYW",
        "outputId": "a74519ef-7c1f-40e6-e5a7-e7b3a15d9022"
      },
      "source": [
        "fig, ax = plt.subplots()\n",
        "# to make line plot use plot\n",
        "ax.plot(df['MONTH'][:12], df['MLY-TAVG-NORMAL'][:12] , marker = \"v\", linestyle = \"--\" , color=\"black\")\n",
        "# set x label \n",
        "ax.set_xlabel(\"Time (months)\")\n",
        "# set y label \n",
        "ax.set_ylabel(\"Temperature (F)\")\n",
        "plt.show()"
      ],
      "execution_count": 39,
      "outputs": [
        {
          "output_type": "display_data",
          "data": {
            "image/png": "[encoded data removed]",
            "text/plain": [
              "<Figure size 432x288 with 1 Axes>"
            ]
          },
          "metadata": {
            "tags": [],
            "needs_background": "light"
          }
        }
      ]
    },
    {
      "cell_type": "code",
      "metadata": {
        "colab": {
          "base_uri": "https://localhost:8080/",
          "height": 295
        },
        "id": "CMvmVCfRyxH2",
        "outputId": "57c74527-e07b-4c1a-f6fa-f271e2c4c756"
      },
      "source": [
        "fig, ax = plt.subplots()\n",
        "# to make line plot use plot\n",
        "ax.plot(df['MONTH'][:12], df['MLY-TAVG-NORMAL'][:12] , marker = \"v\", linestyle = \"--\" , color=\"black\")\n",
        "# set x label \n",
        "ax.set_xlabel(\"Time (months)\")\n",
        "# set y label \n",
        "ax.set_ylabel(\"Temperature (F)\")\n",
        "# set tile \n",
        "ax.set_title('Seattle Temperature Info')\n",
        "plt.show()"
      ],
      "execution_count": 40,
      "outputs": [
        {
          "output_type": "display_data",
          "data": {
            "image/png": "[encoded data removed]",
            "text/plain": [
              "<Figure size 432x288 with 1 Axes>"
            ]
          },
          "metadata": {
            "tags": [],
            "needs_background": "light"
          }
        }
      ]
    },
    {
      "cell_type": "code",
      "metadata": {
        "colab": {
          "base_uri": "https://localhost:8080/",
          "height": 426
        },
        "id": "18QXy9nGy468",
        "outputId": "a786f310-a1d4-4346-fe6d-caaeb70e84ad"
      },
      "source": [
        "df[['MONTH', 'MLY-TAVG-NORMAL']][:12]"
      ],
      "execution_count": 41,
      "outputs": [
        {
          "output_type": "execute_result",
          "data": {
            "text/html": [
              "<div>\n",
              "<style scoped>\n",
              "    .dataframe tbody tr th:only-of-type {\n",
              "        vertical-align: middle;\n",
              "    }\n",
              "\n",
              "    .dataframe tbody tr th {\n",
              "        vertical-align: top;\n",
              "    }\n",
              "\n",
              "    .dataframe thead th {\n",
              "        text-align: right;\n",
              "    }\n",
              "</style>\n",
              "<table border=\"1\" class=\"dataframe\">\n",
              "  <thead>\n",
              "    <tr style=\"text-align: right;\">\n",
              "      <th></th>\n",
              "      <th>MONTH</th>\n",
              "      <th>MLY-TAVG-NORMAL</th>\n",
              "    </tr>\n",
              "  </thead>\n",
              "  <tbody>\n",
              "    <tr>\n",
              "      <th>0</th>\n",
              "      <td>1</td>\n",
              "      <td>39.3</td>\n",
              "    </tr>\n",
              "    <tr>\n",
              "      <th>1</th>\n",
              "      <td>2</td>\n",
              "      <td>40.7</td>\n",
              "    </tr>\n",
              "    <tr>\n",
              "      <th>2</th>\n",
              "      <td>3</td>\n",
              "      <td>43.8</td>\n",
              "    </tr>\n",
              "    <tr>\n",
              "      <th>3</th>\n",
              "      <td>4</td>\n",
              "      <td>47.4</td>\n",
              "    </tr>\n",
              "    <tr>\n",
              "      <th>4</th>\n",
              "      <td>5</td>\n",
              "      <td>53.1</td>\n",
              "    </tr>\n",
              "    <tr>\n",
              "      <th>5</th>\n",
              "      <td>6</td>\n",
              "      <td>57.8</td>\n",
              "    </tr>\n",
              "    <tr>\n",
              "      <th>6</th>\n",
              "      <td>7</td>\n",
              "      <td>62.9</td>\n",
              "    </tr>\n",
              "    <tr>\n",
              "      <th>7</th>\n",
              "      <td>8</td>\n",
              "      <td>63.5</td>\n",
              "    </tr>\n",
              "    <tr>\n",
              "      <th>8</th>\n",
              "      <td>9</td>\n",
              "      <td>58.9</td>\n",
              "    </tr>\n",
              "    <tr>\n",
              "      <th>9</th>\n",
              "      <td>10</td>\n",
              "      <td>50.7</td>\n",
              "    </tr>\n",
              "    <tr>\n",
              "      <th>10</th>\n",
              "      <td>11</td>\n",
              "      <td>42.9</td>\n",
              "    </tr>\n",
              "    <tr>\n",
              "      <th>11</th>\n",
              "      <td>12</td>\n",
              "      <td>37.7</td>\n",
              "    </tr>\n",
              "  </tbody>\n",
              "</table>\n",
              "</div>"
            ],
            "text/plain": [
              "    MONTH  MLY-TAVG-NORMAL\n",
              "0       1             39.3\n",
              "1       2             40.7\n",
              "2       3             43.8\n",
              "3       4             47.4\n",
              "4       5             53.1\n",
              "5       6             57.8\n",
              "6       7             62.9\n",
              "7       8             63.5\n",
              "8       9             58.9\n",
              "9      10             50.7\n",
              "10     11             42.9\n",
              "11     12             37.7"
            ]
          },
          "metadata": {
            "tags": []
          },
          "execution_count": 41
        }
      ]
    },
    {
      "cell_type": "markdown",
      "metadata": {
        "id": "59SilEegzl_E"
      },
      "source": [
        "Subplots\n",
        "-----\n",
        "\n"
      ]
    },
    {
      "cell_type": "code",
      "metadata": {
        "colab": {
          "base_uri": "https://localhost:8080/",
          "height": 295
        },
        "id": "LOWBy7hozDeL",
        "outputId": "997bf9e5-5cbd-4fbf-c315-5fa3a2cdda42"
      },
      "source": [
        "fig, ax = plt.subplots()\n",
        "# to make line plot use plot\n",
        "ax.plot(df['MONTH'][:12], df['MLY-TAVG-NORMAL'][:12] , marker = \"v\", linestyle = \"--\" , color=\"black\")\n",
        "# set x label \n",
        "ax.set_xlabel(\"Time (months)\")\n",
        "# set y label \n",
        "ax.set_ylabel(\"Temperature (F)\")\n",
        "# set tile \n",
        "ax.set_title('Seattle Temperature Info')\n",
        "plt.show()"
      ],
      "execution_count": 42,
      "outputs": [
        {
          "output_type": "display_data",
          "data": {
            "image/png": "[encoded data removed]",
            "text/plain": [
              "<Figure size 432x288 with 1 Axes>"
            ]
          },
          "metadata": {
            "tags": [],
            "needs_background": "light"
          }
        }
      ]
    },
    {
      "cell_type": "code",
      "metadata": {
        "colab": {
          "base_uri": "https://localhost:8080/",
          "height": 295
        },
        "id": "NunuU6hTzoe8",
        "outputId": "879796a8-9553-479f-9100-a362290b8b5e"
      },
      "source": [
        "fig, ax = plt.subplots()\n",
        "# to make line plot use plot\n",
        "ax.plot(df['MONTH'][:12], df['MLY-PRCP-NORMAL'][:12] , marker = \"v\", linestyle = \"--\" , color=\"black\")\n",
        "# set x label \n",
        "ax.set_xlabel(\"Time (months)\")\n",
        "# set y label \n",
        "ax.set_ylabel(\"Rainfall (mm)\")\n",
        "# set tile \n",
        "ax.set_title('Seattle Rainfall Info')\n",
        "plt.show()"
      ],
      "execution_count": 43,
      "outputs": [
        {
          "output_type": "display_data",
          "data": {
            "image/png": "[encoded data removed]",
            "text/plain": [
              "<Figure size 432x288 with 1 Axes>"
            ]
          },
          "metadata": {
            "tags": [],
            "needs_background": "light"
          }
        }
      ]
    },
    {
      "cell_type": "code",
      "metadata": {
        "colab": {
          "base_uri": "https://localhost:8080/",
          "height": 295
        },
        "id": "c1K_8igVz5Zn",
        "outputId": "aac42ce0-cad4-4080-b789-eb07f9b72f27"
      },
      "source": [
        "fig, ax = plt.subplots()\n",
        "# to make line plot use plot\n",
        "# for temp\n",
        "ax.plot(df['MONTH'][:12], df['MLY-TAVG-NORMAL'][:12] , marker = \"v\", linestyle = \"--\" , color=\"black\")\n",
        "# for rainfall\n",
        "ax.plot(df['MONTH'][:12], df['MLY-PRCP-NORMAL'][:12] , marker = \"v\", linestyle = \"--\" , color=\"black\")\n",
        "\n",
        "# set x label \n",
        "ax.set_xlabel(\"Time (months)\")\n",
        "# set y label \n",
        "ax.set_ylabel(\"Temperature (F)\")\n",
        "# set tile \n",
        "ax.set_title('Seattle Temp Info')\n",
        "##################\n",
        "\n",
        "plt.show()"
      ],
      "execution_count": 44,
      "outputs": [
        {
          "output_type": "display_data",
          "data": {
            "image/png": "[encoded data removed]",
            "text/plain": [
              "<Figure size 432x288 with 1 Axes>"
            ]
          },
          "metadata": {
            "tags": [],
            "needs_background": "light"
          }
        }
      ]
    },
    {
      "cell_type": "code",
      "metadata": {
        "colab": {
          "base_uri": "https://localhost:8080/",
          "height": 295
        },
        "id": "LJSCCfry0IVf",
        "outputId": "25f551ba-80d4-45e7-e0ae-2c4399368ccf"
      },
      "source": [
        "fig, ax = plt.subplots(2,1)\n",
        "# to make line plot use plot\n",
        "ax[0].plot(df['MONTH'][:12], df['MLY-TAVG-NORMAL'][:12] , marker = \"v\", linestyle = \"--\" , color=\"black\")\n",
        "# set x label \n",
        "ax[0].set_xlabel(\"Time (months)\")\n",
        "# set y label \n",
        "ax[0].set_ylabel(\"Temperature (F)\")\n",
        "# set tile \n",
        "ax[0].set_title('Seattle Temperature Info')\n",
        "\n",
        "##############\n",
        "# to make line plot use plot\n",
        "ax[1].plot(df['MONTH'][:12], df['MLY-PRCP-NORMAL'][:12] , marker = \"v\", linestyle = \"--\" , color=\"black\")\n",
        "# set x label \n",
        "ax[1].set_xlabel(\"Time (months)\")\n",
        "# set y label \n",
        "ax[1].set_ylabel(\"Rainfall (mm)\")\n",
        "# set tile \n",
        "ax[1].set_title('Seattle Rainfall Info')\n",
        "plt.show()\n",
        "\n"
      ],
      "execution_count": 45,
      "outputs": [
        {
          "output_type": "display_data",
          "data": {
            "image/png": "[encoded data removed]",
            "text/plain": [
              "<Figure size 432x288 with 2 Axes>"
            ]
          },
          "metadata": {
            "tags": [],
            "needs_background": "light"
          }
        }
      ]
    },
    {
      "cell_type": "code",
      "metadata": {
        "colab": {
          "base_uri": "https://localhost:8080/",
          "height": 297
        },
        "id": "fTK-JjXpwwnM",
        "outputId": "422a5bb6-e3fb-4619-ad7d-5d4ad696e8c0"
      },
      "source": [
        "fig, ax = plt.subplots(1,2)\n",
        "# to make line plot use plot\n",
        "ax[0].plot(df['MONTH'][:12], df['MLY-TAVG-NORMAL'][:12] , marker = \"v\", linestyle = \"--\" , color=\"black\")\n",
        "# set x label \n",
        "ax[0].set_xlabel(\"Time (months)\")\n",
        "# set y label \n",
        "ax[0].set_ylabel(\"Temperature (F)\")\n",
        "# set tile \n",
        "ax[0].set_title('Seattle Temperature Info')\n",
        "\n",
        "##############\n",
        "# to make line plot use plot\n",
        "ax[1].plot(df['MONTH'][:12], df['MLY-PRCP-NORMAL'][:12] , marker = \"v\", linestyle = \"--\" , color=\"black\")\n",
        "# set x label \n",
        "ax[1].set_xlabel(\"Time (months)\")\n",
        "# set y label \n",
        "ax[1].set_ylabel(\"Rainfall (mm)\")\n",
        "# set tile \n",
        "ax[1].set_title('Seattle Rainfall Info')\n",
        "plt.tight_layout()\n",
        "plt.show()"
      ],
      "execution_count": 48,
      "outputs": [
        {
          "output_type": "display_data",
          "data": {
            "image/png": "[encoded data removed]",
            "text/plain": [
              "<Figure size 432x288 with 2 Axes>"
            ]
          },
          "metadata": {
            "tags": [],
            "needs_background": "light"
          }
        }
      ]
    },
    {
      "cell_type": "markdown",
      "metadata": {
        "id": "QuPfGiG4xIDz"
      },
      "source": [
        "New Class\n",
        "-----\n",
        "Differnet Type of data\n",
        "------\n"
      ]
    },
    {
      "cell_type": "code",
      "metadata": {
        "id": "eJhQXCpWz94R",
        "colab": {
          "base_uri": "https://localhost:8080/"
        },
        "outputId": "a7984127-ee1e-4b6a-cb77-f77b6fb314c4"
      },
      "source": [
        "data = pd.read_csv('train.csv')\n",
        "data.info()"
      ],
      "execution_count": 49,
      "outputs": [
        {
          "output_type": "stream",
          "text": [
            "<class 'pandas.core.frame.DataFrame'>\n",
            "RangeIndex: 891 entries, 0 to 890\n",
            "Data columns (total 12 columns):\n",
            " #   Column       Non-Null Count  Dtype  \n",
            "---  ------       --------------  -----  \n",
            " 0   PassengerId  891 non-null    int64  \n",
            " 1   Survived     891 non-null    int64  \n",
            " 2   Pclass       891 non-null    int64  \n",
            " 3   Name         891 non-null    object \n",
            " 4   Sex          891 non-null    object \n",
            " 5   Age          714 non-null    float64\n",
            " 6   SibSp        891 non-null    int64  \n",
            " 7   Parch        891 non-null    int64  \n",
            " 8   Ticket       891 non-null    object \n",
            " 9   Fare         891 non-null    float64\n",
            " 10  Cabin        204 non-null    object \n",
            " 11  Embarked     889 non-null    object \n",
            "dtypes: float64(2), int64(5), object(5)\n",
            "memory usage: 83.7+ KB\n"
          ],
          "name": "stdout"
        }
      ]
    },
    {
      "cell_type": "code",
      "metadata": {
        "colab": {
          "base_uri": "https://localhost:8080/",
          "height": 143
        },
        "id": "4iA9DD2gxPSY",
        "outputId": "8583a9af-48fc-4850-d4f7-c9337ee9a319"
      },
      "source": [
        "data.head(3)"
      ],
      "execution_count": 50,
      "outputs": [
        {
          "output_type": "execute_result",
          "data": {
            "text/html": [
              "<div>\n",
              "<style scoped>\n",
              "    .dataframe tbody tr th:only-of-type {\n",
              "        vertical-align: middle;\n",
              "    }\n",
              "\n",
              "    .dataframe tbody tr th {\n",
              "        vertical-align: top;\n",
              "    }\n",
              "\n",
              "    .dataframe thead th {\n",
              "        text-align: right;\n",
              "    }\n",
              "</style>\n",
              "<table border=\"1\" class=\"dataframe\">\n",
              "  <thead>\n",
              "    <tr style=\"text-align: right;\">\n",
              "      <th></th>\n",
              "      <th>PassengerId</th>\n",
              "      <th>Survived</th>\n",
              "      <th>Pclass</th>\n",
              "      <th>Name</th>\n",
              "      <th>Sex</th>\n",
              "      <th>Age</th>\n",
              "      <th>SibSp</th>\n",
              "      <th>Parch</th>\n",
              "      <th>Ticket</th>\n",
              "      <th>Fare</th>\n",
              "      <th>Cabin</th>\n",
              "      <th>Embarked</th>\n",
              "    </tr>\n",
              "  </thead>\n",
              "  <tbody>\n",
              "    <tr>\n",
              "      <th>0</th>\n",
              "      <td>1</td>\n",
              "      <td>0</td>\n",
              "      <td>3</td>\n",
              "      <td>Braund, Mr. Owen Harris</td>\n",
              "      <td>male</td>\n",
              "      <td>22.0</td>\n",
              "      <td>1</td>\n",
              "      <td>0</td>\n",
              "      <td>A/5 21171</td>\n",
              "      <td>7.2500</td>\n",
              "      <td>NaN</td>\n",
              "      <td>S</td>\n",
              "    </tr>\n",
              "    <tr>\n",
              "      <th>1</th>\n",
              "      <td>2</td>\n",
              "      <td>1</td>\n",
              "      <td>1</td>\n",
              "      <td>Cumings, Mrs. John Bradley (Florence Briggs Th...</td>\n",
              "      <td>female</td>\n",
              "      <td>38.0</td>\n",
              "      <td>1</td>\n",
              "      <td>0</td>\n",
              "      <td>PC 17599</td>\n",
              "      <td>71.2833</td>\n",
              "      <td>C85</td>\n",
              "      <td>C</td>\n",
              "    </tr>\n",
              "    <tr>\n",
              "      <th>2</th>\n",
              "      <td>3</td>\n",
              "      <td>1</td>\n",
              "      <td>3</td>\n",
              "      <td>Heikkinen, Miss. Laina</td>\n",
              "      <td>female</td>\n",
              "      <td>26.0</td>\n",
              "      <td>0</td>\n",
              "      <td>0</td>\n",
              "      <td>STON/O2. 3101282</td>\n",
              "      <td>7.9250</td>\n",
              "      <td>NaN</td>\n",
              "      <td>S</td>\n",
              "    </tr>\n",
              "  </tbody>\n",
              "</table>\n",
              "</div>"
            ],
            "text/plain": [
              "   PassengerId  Survived  Pclass  ...     Fare Cabin  Embarked\n",
              "0            1         0       3  ...   7.2500   NaN         S\n",
              "1            2         1       1  ...  71.2833   C85         C\n",
              "2            3         1       3  ...   7.9250   NaN         S\n",
              "\n",
              "[3 rows x 12 columns]"
            ]
          },
          "metadata": {
            "tags": []
          },
          "execution_count": 50
        }
      ]
    },
    {
      "cell_type": "code",
      "metadata": {
        "colab": {
          "base_uri": "https://localhost:8080/"
        },
        "id": "ZBLgIO24xVm5",
        "outputId": "d5fe67a7-2197-47d5-81a0-302e2f7123b7"
      },
      "source": [
        "data = pd.read_csv('/content/medals_by_country_2016.csv')\n",
        "data.info()"
      ],
      "execution_count": 53,
      "outputs": [
        {
          "output_type": "stream",
          "text": [
            "<class 'pandas.core.frame.DataFrame'>\n",
            "RangeIndex: 10 entries, 0 to 9\n",
            "Data columns (total 4 columns):\n",
            " #   Column      Non-Null Count  Dtype \n",
            "---  ------      --------------  ----- \n",
            " 0   Unnamed: 0  10 non-null     object\n",
            " 1   Bronze      10 non-null     int64 \n",
            " 2   Gold        10 non-null     int64 \n",
            " 3   Silver      10 non-null     int64 \n",
            "dtypes: int64(3), object(1)\n",
            "memory usage: 448.0+ bytes\n"
          ],
          "name": "stdout"
        }
      ]
    },
    {
      "cell_type": "code",
      "metadata": {
        "colab": {
          "base_uri": "https://localhost:8080/",
          "height": 206
        },
        "id": "YyTCYfZfz6VT",
        "outputId": "9f7c130a-77c6-4ded-a884-afd9f85162c8"
      },
      "source": [
        "data.rename(columns = {'Unnamed: 0': 'Country'}, inplace=True)\n",
        "data.head()"
      ],
      "execution_count": 54,
      "outputs": [
        {
          "output_type": "execute_result",
          "data": {
            "text/html": [
              "<div>\n",
              "<style scoped>\n",
              "    .dataframe tbody tr th:only-of-type {\n",
              "        vertical-align: middle;\n",
              "    }\n",
              "\n",
              "    .dataframe tbody tr th {\n",
              "        vertical-align: top;\n",
              "    }\n",
              "\n",
              "    .dataframe thead th {\n",
              "        text-align: right;\n",
              "    }\n",
              "</style>\n",
              "<table border=\"1\" class=\"dataframe\">\n",
              "  <thead>\n",
              "    <tr style=\"text-align: right;\">\n",
              "      <th></th>\n",
              "      <th>Country</th>\n",
              "      <th>Bronze</th>\n",
              "      <th>Gold</th>\n",
              "      <th>Silver</th>\n",
              "    </tr>\n",
              "  </thead>\n",
              "  <tbody>\n",
              "    <tr>\n",
              "      <th>0</th>\n",
              "      <td>United States</td>\n",
              "      <td>67</td>\n",
              "      <td>137</td>\n",
              "      <td>52</td>\n",
              "    </tr>\n",
              "    <tr>\n",
              "      <th>1</th>\n",
              "      <td>Germany</td>\n",
              "      <td>67</td>\n",
              "      <td>47</td>\n",
              "      <td>43</td>\n",
              "    </tr>\n",
              "    <tr>\n",
              "      <th>2</th>\n",
              "      <td>Great Britain</td>\n",
              "      <td>26</td>\n",
              "      <td>64</td>\n",
              "      <td>55</td>\n",
              "    </tr>\n",
              "    <tr>\n",
              "      <th>3</th>\n",
              "      <td>Russia</td>\n",
              "      <td>35</td>\n",
              "      <td>50</td>\n",
              "      <td>28</td>\n",
              "    </tr>\n",
              "    <tr>\n",
              "      <th>4</th>\n",
              "      <td>China</td>\n",
              "      <td>35</td>\n",
              "      <td>44</td>\n",
              "      <td>30</td>\n",
              "    </tr>\n",
              "  </tbody>\n",
              "</table>\n",
              "</div>"
            ],
            "text/plain": [
              "         Country  Bronze  Gold  Silver\n",
              "0  United States      67   137      52\n",
              "1        Germany      67    47      43\n",
              "2  Great Britain      26    64      55\n",
              "3         Russia      35    50      28\n",
              "4          China      35    44      30"
            ]
          },
          "metadata": {
            "tags": []
          },
          "execution_count": 54
        }
      ]
    },
    {
      "cell_type": "code",
      "metadata": {
        "colab": {
          "base_uri": "https://localhost:8080/",
          "height": 265
        },
        "id": "cClNhnT00IN7",
        "outputId": "8d7be38e-1dfa-441e-f011-0d90e6619a6f"
      },
      "source": [
        "fig, ax = plt.subplots()\n",
        "ax.plot(data['Country'], data['Gold'])\n",
        "plt.show()"
      ],
      "execution_count": 56,
      "outputs": [
        {
          "output_type": "display_data",
          "data": {
            "image/png": "[encoded data removed]",
            "text/plain": [
              "<Figure size 432x288 with 1 Axes>"
            ]
          },
          "metadata": {
            "tags": [],
            "needs_background": "light"
          }
        }
      ]
    },
    {
      "cell_type": "code",
      "metadata": {
        "colab": {
          "base_uri": "https://localhost:8080/",
          "height": 265
        },
        "id": "tXwwvbcZ0b_C",
        "outputId": "8c0809a8-9bb0-41f7-b9b7-34d096d6dd71"
      },
      "source": [
        "# how ot make bar plots \n",
        "fig, ax = plt.subplots()\n",
        "ax.bar(data['Country'], data['Gold'])\n",
        "plt.show()"
      ],
      "execution_count": 57,
      "outputs": [
        {
          "output_type": "display_data",
          "data": {
            "image/png": "[encoded data removed]",
            "text/plain": [
              "<Figure size 432x288 with 1 Axes>"
            ]
          },
          "metadata": {
            "tags": [],
            "needs_background": "light"
          }
        }
      ]
    },
    {
      "cell_type": "code",
      "metadata": {
        "colab": {
          "base_uri": "https://localhost:8080/",
          "height": 323
        },
        "id": "jjnPW2cE1NJe",
        "outputId": "c8f0532e-fc78-4333-cbb5-9b55731974d1"
      },
      "source": [
        "# how ot make bar plots \n",
        "fig, ax = plt.subplots()\n",
        "ax.bar(data['Country'], data['Gold'])\n",
        "ax.set_xticklabels(data['Country'], rotation =90)\n",
        "plt.show()"
      ],
      "execution_count": 58,
      "outputs": [
        {
          "output_type": "display_data",
          "data": {
            "image/png": "[encoded data removed]",
            "text/plain": [
              "<Figure size 432x288 with 1 Axes>"
            ]
          },
          "metadata": {
            "tags": [],
            "needs_background": "light"
          }
        }
      ]
    },
    {
      "cell_type": "code",
      "metadata": {
        "colab": {
          "base_uri": "https://localhost:8080/",
          "height": 353
        },
        "id": "OYAbhkBM1ygL",
        "outputId": "b9fd6ec8-28db-43cb-bd8f-fc456b6686df"
      },
      "source": [
        "# how ot make bar plots \n",
        "fig, ax = plt.subplots()\n",
        "ax.bar(data['Country'], data['Gold'])\n",
        "ax.set_xticklabels(data['Country'], rotation =90)\n",
        "ax.set_xlabel('Country')\n",
        "ax.set_ylabel('Number of Gold medals')\n",
        "ax.set_title('Country wise performance in Olympics')\n",
        "plt.show()"
      ],
      "execution_count": 60,
      "outputs": [
        {
          "output_type": "display_data",
          "data": {
            "image/png": "[encoded data removed]",
            "text/plain": [
              "<Figure size 432x288 with 1 Axes>"
            ]
          },
          "metadata": {
            "tags": [],
            "needs_background": "light"
          }
        }
      ]
    },
    {
      "cell_type": "code",
      "metadata": {
        "colab": {
          "base_uri": "https://localhost:8080/",
          "height": 353
        },
        "id": "BKRPMxjX2AJy",
        "outputId": "454f9646-ff5a-4d5f-b1b1-6ecb34852a1b"
      },
      "source": [
        "# how ot make bar plots \n",
        "fig, ax = plt.subplots()\n",
        "ax.bar(data['Country'], data['Gold'])\n",
        "ax.bar(data['Country'], data['Silver'], bottom = data['Gold'])\n",
        "ax.set_xticklabels(data['Country'], rotation =90)\n",
        "ax.set_xlabel('Country')\n",
        "ax.set_ylabel('Number of Gold medals')\n",
        "ax.set_title('Country wise performance in Olympics')\n",
        "plt.show()"
      ],
      "execution_count": 62,
      "outputs": [
        {
          "output_type": "display_data",
          "data": {
            "image/png": "[encoded data removed]",
            "text/plain": [
              "<Figure size 432x288 with 1 Axes>"
            ]
          },
          "metadata": {
            "tags": [],
            "needs_background": "light"
          }
        }
      ]
    },
    {
      "cell_type": "code",
      "metadata": {
        "colab": {
          "base_uri": "https://localhost:8080/",
          "height": 353
        },
        "id": "JhOBuhrm20ZU",
        "outputId": "b68bc5da-43f2-4b53-e833-f365071a9967"
      },
      "source": [
        "# how ot make bar plots \n",
        "fig, ax = plt.subplots()\n",
        "ax.bar(data['Country'], data['Gold'])\n",
        "ax.bar(data['Country'], data['Silver'], bottom = data['Gold'])\n",
        "ax.bar(data['Country'], data['Bronze'], bottom = data['Gold'] + data['Silver'])\n",
        "ax.set_xticklabels(data['Country'], rotation =90)\n",
        "ax.set_xlabel('Country')\n",
        "ax.set_ylabel('Number of Gold medals')\n",
        "ax.set_title('Country wise performance in Olympics')\n",
        "plt.show()"
      ],
      "execution_count": 64,
      "outputs": [
        {
          "output_type": "display_data",
          "data": {
            "image/png": "[encoded data removed]",
            "text/plain": [
              "<Figure size 432x288 with 1 Axes>"
            ]
          },
          "metadata": {
            "tags": [],
            "needs_background": "light"
          }
        }
      ]
    },
    {
      "cell_type": "code",
      "metadata": {
        "colab": {
          "base_uri": "https://localhost:8080/",
          "height": 353
        },
        "id": "RmxYCXBV2prg",
        "outputId": "7df00d4e-8ce3-4431-9300-c80622f4f0c8"
      },
      "source": [
        "# how ot make bar plots \n",
        "fig, ax = plt.subplots()\n",
        "ax.bar(data['Country'], data['Gold'], label = \"Gold\")\n",
        "ax.bar(data['Country'], data['Silver'], bottom = data['Gold'], label = \"Silver\")\n",
        "ax.bar(data['Country'], data['Bronze'], bottom = data['Gold'] + data['Silver'], label = \"Bronze\")\n",
        "ax.set_xticklabels(data['Country'], rotation =90)\n",
        "ax.set_xlabel('Country')\n",
        "ax.set_ylabel('Number of Gold medals')\n",
        "ax.set_title('Country wise performance in Olympics')\n",
        "ax.legend()\n",
        "plt.show()"
      ],
      "execution_count": 65,
      "outputs": [
        {
          "output_type": "display_data",
          "data": {
            "image/png": "[encoded data removed]",
            "text/plain": [
              "<Figure size 432x288 with 1 Axes>"
            ]
          },
          "metadata": {
            "tags": [],
            "needs_background": "light"
          }
        }
      ]
    },
    {
      "cell_type": "code",
      "metadata": {
        "colab": {
          "base_uri": "https://localhost:8080/"
        },
        "id": "URMqzQVX4MJZ",
        "outputId": "1e2ec7a9-212e-461c-ba2b-5d4a63fb04de"
      },
      "source": [
        "data = pd.read_csv('train.csv')\n",
        "data.Age"
      ],
      "execution_count": 66,
      "outputs": [
        {
          "output_type": "execute_result",
          "data": {
            "text/plain": [
              "0      22.0\n",
              "1      38.0\n",
              "2      26.0\n",
              "3      35.0\n",
              "4      35.0\n",
              "       ... \n",
              "886    27.0\n",
              "887    19.0\n",
              "888     NaN\n",
              "889    26.0\n",
              "890    32.0\n",
              "Name: Age, Length: 891, dtype: float64"
            ]
          },
          "metadata": {
            "tags": []
          },
          "execution_count": 66
        }
      ]
    },
    {
      "cell_type": "code",
      "metadata": {
        "colab": {
          "base_uri": "https://localhost:8080/",
          "height": 295
        },
        "id": "kfbFjBMq_OJz",
        "outputId": "e8f4a9da-b060-4e25-e4ac-878d27f0cf00"
      },
      "source": [
        "fig, ax = plt.subplots()\n",
        "ax.hist(data.Age[~data.Age.isna()])\n",
        "ax.set_xlabel('Age in years')\n",
        "ax.set_ylabel('Number of observations')\n",
        "ax.set_title('Distribution of Age of Titanic Passengers')\n",
        "plt.show()"
      ],
      "execution_count": 69,
      "outputs": [
        {
          "output_type": "display_data",
          "data": {
            "image/png": "[encoded data removed]",
            "text/plain": [
              "<Figure size 432x288 with 1 Axes>"
            ]
          },
          "metadata": {
            "tags": [],
            "needs_background": "light"
          }
        }
      ]
    },
    {
      "cell_type": "code",
      "metadata": {
        "colab": {
          "base_uri": "https://localhost:8080/",
          "height": 295
        },
        "id": "cO59ypcO_hbp",
        "outputId": "d0f9e741-f5fc-4396-b159-c27579d83cbd"
      },
      "source": [
        "fig, ax = plt.subplots()\n",
        "ax.hist(data.Age[~data.Age.isna()], bins = 8)\n",
        "ax.set_xlabel('Age in years')\n",
        "ax.set_ylabel('Number of observations')\n",
        "ax.set_title('Distribution of Age of Titanic Passengers')\n",
        "plt.show()"
      ],
      "execution_count": 70,
      "outputs": [
        {
          "output_type": "display_data",
          "data": {
            "image/png": "[encoded data removed]",
            "text/plain": [
              "<Figure size 432x288 with 1 Axes>"
            ]
          },
          "metadata": {
            "tags": [],
            "needs_background": "light"
          }
        }
      ]
    },
    {
      "cell_type": "code",
      "metadata": {
        "colab": {
          "base_uri": "https://localhost:8080/",
          "height": 295
        },
        "id": "-Ri9wbXeAuWh",
        "outputId": "c4bc2fa2-3b58-4d5b-83d7-b540d2ebc2d9"
      },
      "source": [
        "fig, ax = plt.subplots()\n",
        "ax.hist(data.Age[~data.Age.isna()], bins = [0,5,10,15,20,25,30,40,50,60,70,80])\n",
        "ax.set_xlabel('Age in years')\n",
        "ax.set_ylabel('Number of observations')\n",
        "ax.set_title('Distribution of Age of Titanic Passengers')\n",
        "plt.show()"
      ],
      "execution_count": 71,
      "outputs": [
        {
          "output_type": "display_data",
          "data": {
            "image/png": "[encoded data removed]",
            "text/plain": [
              "<Figure size 432x288 with 1 Axes>"
            ]
          },
          "metadata": {
            "tags": [],
            "needs_background": "light"
          }
        }
      ]
    },
    {
      "cell_type": "code",
      "metadata": {
        "colab": {
          "base_uri": "https://localhost:8080/",
          "height": 295
        },
        "id": "Q-GtlrDDBKXq",
        "outputId": "718fc90f-9245-4f3e-c30f-942cc16e9a8d"
      },
      "source": [
        "males = data[data.Sex == 'male']\n",
        "females = data[data.Sex == 'female']\n",
        "\n",
        "\n",
        "fig, ax = plt.subplots()\n",
        "ax.hist(males.Age[~males.Age.isna()])\n",
        "ax.hist(females.Age[~females.Age.isna()])\n",
        "ax.set_xlabel('Age in years')\n",
        "ax.set_ylabel('Number of observations')\n",
        "ax.set_title('Distribution of Age of Titanic Passengers')\n",
        "plt.show()"
      ],
      "execution_count": 72,
      "outputs": [
        {
          "output_type": "display_data",
          "data": {
            "image/png": "[encoded data removed]",
            "text/plain": [
              "<Figure size 432x288 with 1 Axes>"
            ]
          },
          "metadata": {
            "tags": [],
            "needs_background": "light"
          }
        }
      ]
    },
    {
      "cell_type": "code",
      "metadata": {
        "colab": {
          "base_uri": "https://localhost:8080/",
          "height": 295
        },
        "id": "gm_XD2U6BWDO",
        "outputId": "78258c89-2bd8-4ffa-81e1-fd4357547370"
      },
      "source": [
        "fig, ax = plt.subplots()\n",
        "ax.hist(males.Age[~males.Age.isna()], label = 'Male', bins = 8)\n",
        "ax.hist(females.Age[~females.Age.isna()], label = 'Female', bins = 8)\n",
        "ax.set_xlabel('Age in years')\n",
        "ax.set_ylabel('Number of observations')\n",
        "ax.set_title('Distribution of Age of Titanic Passengers')\n",
        "ax.legend()\n",
        "plt.show()"
      ],
      "execution_count": 75,
      "outputs": [
        {
          "output_type": "display_data",
          "data": {
            "image/png": "[encoded data removed]",
            "text/plain": [
              "<Figure size 432x288 with 1 Axes>"
            ]
          },
          "metadata": {
            "tags": [],
            "needs_background": "light"
          }
        }
      ]
    },
    {
      "cell_type": "code",
      "metadata": {
        "colab": {
          "base_uri": "https://localhost:8080/",
          "height": 295
        },
        "id": "Etzmfd_aBbpw",
        "outputId": "8584b4d1-9fbf-4269-a223-a418fe5ab154"
      },
      "source": [
        "fig, ax = plt.subplots()\n",
        "ax.hist(males.Age[~males.Age.isna()], label = 'Male', bins = range(0,80,10), histtype='step')\n",
        "ax.hist(females.Age[~females.Age.isna()], label = 'Female', bins = range(0,80,10), histtype='step')\n",
        "ax.set_xlabel('Age in years')\n",
        "ax.set_ylabel('Number of observations')\n",
        "ax.set_title('Distribution of Age of Titanic Passengers')\n",
        "ax.legend()\n",
        "plt.show()"
      ],
      "execution_count": 78,
      "outputs": [
        {
          "output_type": "display_data",
          "data": {
            "image/png": "[encoded data removed]",
            "text/plain": [
              "<Figure size 432x288 with 1 Axes>"
            ]
          },
          "metadata": {
            "tags": [],
            "needs_background": "light"
          }
        }
      ]
    },
    {
      "cell_type": "code",
      "metadata": {
        "id": "0bTeLEHPBtOs"
      },
      "source": [
        ""
      ],
      "execution_count": null,
      "outputs": []
    }
  ]
}