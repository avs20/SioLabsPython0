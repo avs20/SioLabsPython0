{
  "nbformat": 4,
  "nbformat_minor": 0,
  "metadata": {
    "colab": {
      "name": "Class Attributes Methods Inheritance and Polymorphism.ipynb",
      "provenance": [],
      "collapsed_sections": [],
      "authorship_tag": "ABX9TyOxJuexYNIL/qGeBfPu8Z98",
      "include_colab_link": true
    },
    "kernelspec": {
      "name": "python3",
      "display_name": "Python 3"
    }
  },
  "cells": [
    {
      "cell_type": "markdown",
      "metadata": {
        "id": "view-in-github",
        "colab_type": "text"
      },
      "source": [
        "<a href=\"https://colab.research.google.com/github/avs20/SioLabsPython0/blob/main/10_Class_Attributes_Methods_Inheritance_and_Polymorphism.ipynb\" target=\"_parent\"><img src=\"https://colab.research.google.com/assets/colab-badge.svg\" alt=\"Open In Colab\"/></a>"
      ]
    },
    {
      "cell_type": "markdown",
      "metadata": {
        "id": "nw2NiW9fj0Gh"
      },
      "source": [
        "Basic things about classes and how they are used "
      ]
    },
    {
      "cell_type": "markdown",
      "metadata": {
        "id": "BLzeNV0zj6ke"
      },
      "source": [
        "Creating an empty class"
      ]
    },
    {
      "cell_type": "code",
      "metadata": {
        "id": "rVnhyho3Ylnj"
      },
      "source": [
        "\n",
        "class Robot:\n",
        "  pass"
      ],
      "execution_count": 11,
      "outputs": []
    },
    {
      "cell_type": "code",
      "metadata": {
        "id": "NRC95QYtYzEf"
      },
      "source": [
        "x = Robot()\n",
        "\n"
      ],
      "execution_count": 12,
      "outputs": []
    },
    {
      "cell_type": "code",
      "metadata": {
        "id": "JUy5d6wkqa7a"
      },
      "source": [
        "if 20 > 10 :\n",
        "  pass "
      ],
      "execution_count": 8,
      "outputs": []
    },
    {
      "cell_type": "code",
      "metadata": {
        "colab": {
          "base_uri": "https://localhost:8080/",
          "height": 136
        },
        "id": "1G6bRR8QqiCj",
        "outputId": "8bd67140-1716-4e0d-d449-fe74f2908e35"
      },
      "source": [
        "if 20 > 10 :\n",
        "   "
      ],
      "execution_count": 9,
      "outputs": [
        {
          "output_type": "error",
          "ename": "SyntaxError",
          "evalue": "ignored",
          "traceback": [
            "\u001b[0;36m  File \u001b[0;32m\"<ipython-input-9-6be631248291>\"\u001b[0;36m, line \u001b[0;32m2\u001b[0m\n\u001b[0;31m    \u001b[0m\n\u001b[0m    ^\u001b[0m\n\u001b[0;31mSyntaxError\u001b[0m\u001b[0;31m:\u001b[0m unexpected EOF while parsing\n"
          ]
        }
      ]
    },
    {
      "cell_type": "code",
      "metadata": {
        "id": "F_8aKfm-qmzn"
      },
      "source": [
        "def myfun():\n",
        "  pass "
      ],
      "execution_count": 10,
      "outputs": []
    },
    {
      "cell_type": "markdown",
      "metadata": {
        "id": "0GcreRAzj-zX"
      },
      "source": [
        "How to know if the class is empty"
      ]
    },
    {
      "cell_type": "code",
      "metadata": {
        "colab": {
          "base_uri": "https://localhost:8080/"
        },
        "id": "-yoPyphfZAha",
        "outputId": "329ca8c3-04be-435c-ba09-3f02ff1bc907"
      },
      "source": [
        "print(x.__dict__)"
      ],
      "execution_count": 13,
      "outputs": [
        {
          "output_type": "stream",
          "text": [
            "{}\n"
          ],
          "name": "stdout"
        }
      ]
    },
    {
      "cell_type": "markdown",
      "metadata": {
        "id": "t7r-tWmrkCaG"
      },
      "source": [
        "Adding an attribute / property to a class object"
      ]
    },
    {
      "cell_type": "code",
      "metadata": {
        "colab": {
          "base_uri": "https://localhost:8080/"
        },
        "id": "Kd2j4hLIZDEC",
        "outputId": "d0890df2-2452-40e5-d9ec-fdab515aa3d9"
      },
      "source": [
        "x.name = 'Artemis'\n",
        "print(x.__dict__)"
      ],
      "execution_count": 14,
      "outputs": [
        {
          "output_type": "stream",
          "text": [
            "{'name': 'Artemis'}\n"
          ],
          "name": "stdout"
        }
      ]
    },
    {
      "cell_type": "markdown",
      "metadata": {
        "id": "2-CV7PXrkHaP"
      },
      "source": [
        "Changing the value of object attribute"
      ]
    },
    {
      "cell_type": "code",
      "metadata": {
        "colab": {
          "base_uri": "https://localhost:8080/"
        },
        "id": "jlIO4DKGZIAi",
        "outputId": "55dcf2ff-b3f4-48de-83c0-0592ecf8d64c"
      },
      "source": [
        "class Robot:\n",
        "  def __init__(self):\n",
        "    self.name = None\n",
        "\n",
        "x = Robot()\n",
        "x.name = 'Artemis'\n",
        "\n",
        "print(x.__dict__)"
      ],
      "execution_count": 15,
      "outputs": [
        {
          "output_type": "stream",
          "text": [
            "{'name': 'Artemis'}\n"
          ],
          "name": "stdout"
        }
      ]
    },
    {
      "cell_type": "markdown",
      "metadata": {
        "id": "Ry1eQQnKkKk-"
      },
      "source": [
        "What's inside a simple class?"
      ]
    },
    {
      "cell_type": "code",
      "metadata": {
        "colab": {
          "base_uri": "https://localhost:8080/"
        },
        "id": "bPQ_CLwMZZch",
        "outputId": "0f14a65c-c65c-4329-b9af-a066910d760b"
      },
      "source": [
        "dir(x)"
      ],
      "execution_count": 16,
      "outputs": [
        {
          "output_type": "execute_result",
          "data": {
            "text/plain": [
              "['__class__',\n",
              " '__delattr__',\n",
              " '__dict__',\n",
              " '__dir__',\n",
              " '__doc__',\n",
              " '__eq__',\n",
              " '__format__',\n",
              " '__ge__',\n",
              " '__getattribute__',\n",
              " '__gt__',\n",
              " '__hash__',\n",
              " '__init__',\n",
              " '__init_subclass__',\n",
              " '__le__',\n",
              " '__lt__',\n",
              " '__module__',\n",
              " '__ne__',\n",
              " '__new__',\n",
              " '__reduce__',\n",
              " '__reduce_ex__',\n",
              " '__repr__',\n",
              " '__setattr__',\n",
              " '__sizeof__',\n",
              " '__str__',\n",
              " '__subclasshook__',\n",
              " '__weakref__',\n",
              " 'name']"
            ]
          },
          "metadata": {
            "tags": []
          },
          "execution_count": 16
        }
      ]
    },
    {
      "cell_type": "markdown",
      "metadata": {
        "id": "qS5MKZDTkNW-"
      },
      "source": [
        "To get help call `help()`"
      ]
    },
    {
      "cell_type": "code",
      "metadata": {
        "colab": {
          "base_uri": "https://localhost:8080/"
        },
        "id": "i1wg3FiyZclw",
        "outputId": "603039cb-dd56-497a-ea76-9e1bfb85106f"
      },
      "source": [
        "help(x)"
      ],
      "execution_count": null,
      "outputs": [
        {
          "output_type": "stream",
          "text": [
            "Help on Robot in module __main__ object:\n",
            "\n",
            "class Robot(builtins.object)\n",
            " |  Methods defined here:\n",
            " |  \n",
            " |  __init__(self)\n",
            " |      Initialize self.  See help(type(self)) for accurate signature.\n",
            " |  \n",
            " |  ----------------------------------------------------------------------\n",
            " |  Data descriptors defined here:\n",
            " |  \n",
            " |  __dict__\n",
            " |      dictionary for instance variables (if defined)\n",
            " |  \n",
            " |  __weakref__\n",
            " |      list of weak references to the object (if defined)\n",
            "\n"
          ],
          "name": "stdout"
        }
      ]
    },
    {
      "cell_type": "code",
      "metadata": {
        "colab": {
          "base_uri": "https://localhost:8080/"
        },
        "id": "B59PoPSzZ7-b",
        "outputId": "aee13bc0-c21e-4ec0-b5f0-cee0a9fa3861"
      },
      "source": [
        "help(dir)"
      ],
      "execution_count": null,
      "outputs": [
        {
          "output_type": "stream",
          "text": [
            "Help on built-in function dir in module builtins:\n",
            "\n",
            "dir(...)\n",
            "    dir([object]) -> list of strings\n",
            "    \n",
            "    If called without an argument, return the names in the current scope.\n",
            "    Else, return an alphabetized list of names comprising (some of) the attributes\n",
            "    of the given object, and of attributes reachable from it.\n",
            "    If the object supplies a method named __dir__, it will be used; otherwise\n",
            "    the default dir() logic is used and returns:\n",
            "      for a module object: the module's attributes.\n",
            "      for a class object:  its attributes, and recursively the attributes\n",
            "        of its bases.\n",
            "      for any other object: its attributes, its class's attributes, and\n",
            "        recursively the attributes of its class's base classes.\n",
            "\n"
          ],
          "name": "stdout"
        }
      ]
    },
    {
      "cell_type": "markdown",
      "metadata": {
        "id": "DDHRQ7gfkS4N"
      },
      "source": [
        "From which class this object is made?\n"
      ]
    },
    {
      "cell_type": "code",
      "metadata": {
        "colab": {
          "base_uri": "https://localhost:8080/"
        },
        "id": "2phxTPecZ22Z",
        "outputId": "c3f24929-f286-4109-94c6-65af31c6a2f4"
      },
      "source": [
        "x.__class__"
      ],
      "execution_count": null,
      "outputs": [
        {
          "output_type": "execute_result",
          "data": {
            "text/plain": [
              "__main__.Robot"
            ]
          },
          "metadata": {
            "tags": []
          },
          "execution_count": 10
        }
      ]
    },
    {
      "cell_type": "code",
      "metadata": {
        "colab": {
          "base_uri": "https://localhost:8080/",
          "height": 36
        },
        "id": "cTjapvOSZ3wi",
        "outputId": "3c973480-05fa-4ae9-f52d-f42f7e2fafea"
      },
      "source": [
        "x.name"
      ],
      "execution_count": null,
      "outputs": [
        {
          "output_type": "execute_result",
          "data": {
            "application/vnd.google.colaboratory.intrinsic+json": {
              "type": "string"
            },
            "text/plain": [
              "'Artemis'"
            ]
          },
          "metadata": {
            "tags": []
          },
          "execution_count": 12
        }
      ]
    },
    {
      "cell_type": "markdown",
      "metadata": {
        "id": "dUT2QZwMkc5u"
      },
      "source": [
        "There are so many things in an object `__dir__` ? How to know if it's a method or an attribute?"
      ]
    },
    {
      "cell_type": "code",
      "metadata": {
        "colab": {
          "base_uri": "https://localhost:8080/"
        },
        "id": "VffKLZKAZ_HU",
        "outputId": "a9dee590-d85e-4c4b-f494-eb0ecede2bb6"
      },
      "source": [
        "class Robot:\n",
        "  def doWork(self):\n",
        "    print('robot is doing work')\n",
        "\n",
        "x = Robot()\n",
        "x.name = 'Artemis'\n",
        "\n",
        "print(dir(x))\n",
        "\n",
        "type(x.doWork)"
      ],
      "execution_count": null,
      "outputs": [
        {
          "output_type": "stream",
          "text": [
            "['__class__', '__delattr__', '__dict__', '__dir__', '__doc__', '__eq__', '__format__', '__ge__', '__getattribute__', '__gt__', '__hash__', '__init__', '__init_subclass__', '__le__', '__lt__', '__module__', '__ne__', '__new__', '__reduce__', '__reduce_ex__', '__repr__', '__setattr__', '__sizeof__', '__str__', '__subclasshook__', '__weakref__', 'doWork', 'name']\n"
          ],
          "name": "stdout"
        },
        {
          "output_type": "execute_result",
          "data": {
            "text/plain": [
              "method"
            ]
          },
          "metadata": {
            "tags": []
          },
          "execution_count": 16
        }
      ]
    },
    {
      "cell_type": "code",
      "metadata": {
        "colab": {
          "base_uri": "https://localhost:8080/"
        },
        "id": "WfK5Cqu7aY8h",
        "outputId": "1313fbfe-fb65-482a-cc79-35a676131a55"
      },
      "source": [
        "type(x.__dict__)"
      ],
      "execution_count": 18,
      "outputs": [
        {
          "output_type": "execute_result",
          "data": {
            "text/plain": [
              "dict"
            ]
          },
          "metadata": {
            "tags": []
          },
          "execution_count": 18
        }
      ]
    },
    {
      "cell_type": "markdown",
      "metadata": {
        "id": "XyEea7Ieklwh"
      },
      "source": [
        "We can define the class attributes in any method other than `__init__` also. but they are not in memory until that method is run?\n",
        "\n",
        "Since constructor is always run when an object is created. It's a general practice to define the attributes in the constructor or `__init__`"
      ]
    },
    {
      "cell_type": "code",
      "metadata": {
        "colab": {
          "base_uri": "https://localhost:8080/"
        },
        "id": "iDxs_lE2ap7x",
        "outputId": "a15781d2-c033-4fbf-81ef-6532d1f93436"
      },
      "source": [
        "class Robot:\n",
        "  def __init__(self):\n",
        "    self.body = 'glass'\n",
        "\n",
        "  def doWork(self):\n",
        "    print('robot is doing work')\n",
        "    self.timeToWork = 15\n",
        "\n",
        "x = Robot()\n",
        "x.country = 'India'\n",
        "print(x.__dict__)\n",
        "x.doWork()\n",
        "print(x.__dict__)\n"
      ],
      "execution_count": 20,
      "outputs": [
        {
          "output_type": "stream",
          "text": [
            "{'body': 'glass', 'country': 'India'}\n",
            "robot is doing work\n",
            "{'body': 'glass', 'country': 'India', 'timeToWork': 15}\n"
          ],
          "name": "stdout"
        }
      ]
    },
    {
      "cell_type": "code",
      "metadata": {
        "colab": {
          "base_uri": "https://localhost:8080/"
        },
        "id": "5Yo4uwrZbwda",
        "outputId": "61b522b2-dd68-4859-bfdb-746b09c2ff81"
      },
      "source": [
        "dir(x)"
      ],
      "execution_count": 21,
      "outputs": [
        {
          "output_type": "execute_result",
          "data": {
            "text/plain": [
              "['__class__',\n",
              " '__delattr__',\n",
              " '__dict__',\n",
              " '__dir__',\n",
              " '__doc__',\n",
              " '__eq__',\n",
              " '__format__',\n",
              " '__ge__',\n",
              " '__getattribute__',\n",
              " '__gt__',\n",
              " '__hash__',\n",
              " '__init__',\n",
              " '__init_subclass__',\n",
              " '__le__',\n",
              " '__lt__',\n",
              " '__module__',\n",
              " '__ne__',\n",
              " '__new__',\n",
              " '__reduce__',\n",
              " '__reduce_ex__',\n",
              " '__repr__',\n",
              " '__setattr__',\n",
              " '__sizeof__',\n",
              " '__str__',\n",
              " '__subclasshook__',\n",
              " '__weakref__',\n",
              " 'body',\n",
              " 'country',\n",
              " 'doWork',\n",
              " 'timeToWork']"
            ]
          },
          "metadata": {
            "tags": []
          },
          "execution_count": 21
        }
      ]
    },
    {
      "cell_type": "markdown",
      "metadata": {
        "id": "BX8tSygjcAkp"
      },
      "source": [
        "Class level attributes\n",
        "\n",
        "Everyone can access it. \n",
        "\n"
      ]
    },
    {
      "cell_type": "code",
      "metadata": {
        "colab": {
          "base_uri": "https://localhost:8080/"
        },
        "id": "gyQYlJnAbxf5",
        "outputId": "972654b6-ed5e-484d-ae37-c0cdb7730b9b"
      },
      "source": [
        "class Robot:\n",
        "  rules = '''\n",
        "\n",
        "\"\"\"A robot may not injure a human being or, through inaction, allow a human being to come to harm.\"\"\",\n",
        "\"\"\"A robot must obey the orders given to it by human beings, except where such orders would conflict with the First Law.,\"\"\",\n",
        "\"\"\"A robot must protect its own existence as long as such protection does not conflict with the First or Second Law.\"\"\"\n",
        "\n",
        "  '''\n",
        "\n",
        "  \n",
        "\n",
        "x = Robot()\n",
        "\n",
        "print(x.__dict__)\n",
        "\n",
        "print(Robot.__dict__)"
      ],
      "execution_count": 22,
      "outputs": [
        {
          "output_type": "stream",
          "text": [
            "{}\n",
            "{'__module__': '__main__', 'rules': '\\n\\n\"\"\"A robot may not injure a human being or, through inaction, allow a human being to come to harm.\"\"\",\\n\"\"\"A robot must obey the orders given to it by human beings, except where such orders would conflict with the First Law.,\"\"\",\\n\"\"\"A robot must protect its own existence as long as such protection does not conflict with the First or Second Law.\"\"\"\\n\\n  ', '__dict__': <attribute '__dict__' of 'Robot' objects>, '__weakref__': <attribute '__weakref__' of 'Robot' objects>, '__doc__': None}\n"
          ],
          "name": "stdout"
        }
      ]
    },
    {
      "cell_type": "code",
      "metadata": {
        "colab": {
          "base_uri": "https://localhost:8080/"
        },
        "id": "jrWI8x0VcNnx",
        "outputId": "c481124b-67aa-46ca-d5a7-5c2b125f10b8"
      },
      "source": [
        "Robot.rules = 'no rules in this world'\n",
        "\n",
        "print(x.rules)"
      ],
      "execution_count": null,
      "outputs": [
        {
          "output_type": "stream",
          "text": [
            "no rules in this world\n"
          ],
          "name": "stdout"
        }
      ]
    },
    {
      "cell_type": "markdown",
      "metadata": {
        "id": "0nSXzmpjk-rp"
      },
      "source": [
        "We can do many things with class level attributes but one common use case is counting how many times a class's object is created. \n",
        "\n"
      ]
    },
    {
      "cell_type": "code",
      "metadata": {
        "id": "QIwXqcq_lIeO"
      },
      "source": [
        "class Robot:\n",
        "  count = 0 \n",
        "  def __init__(self):\n",
        "    self.body = 'glass'\n",
        "    Robot.count += 1\n",
        "\n",
        "  def doWork(self):\n",
        "    print('robot is doing work')\n",
        "    self.timeToWork = 15"
      ],
      "execution_count": 6,
      "outputs": []
    },
    {
      "cell_type": "code",
      "metadata": {
        "colab": {
          "base_uri": "https://localhost:8080/"
        },
        "id": "xRWZnTjDlOfm",
        "outputId": "c0a47d9d-effd-492e-97f8-56e3801caa73"
      },
      "source": [
        "x = Robot()\n",
        "y = Robot()\n",
        "\n",
        "print(Robot.count)"
      ],
      "execution_count": 7,
      "outputs": [
        {
          "output_type": "stream",
          "text": [
            "2\n"
          ],
          "name": "stdout"
        }
      ]
    },
    {
      "cell_type": "markdown",
      "metadata": {
        "id": "6P1CLXSslFw-"
      },
      "source": [
        "\n"
      ]
    },
    {
      "cell_type": "markdown",
      "metadata": {
        "id": "poW9FEXoeK5y"
      },
      "source": [
        "Inheritance\n",
        "---------\n",
        "\n",
        "Ye duniya kaise bani \n",
        "\n"
      ]
    },
    {
      "cell_type": "code",
      "metadata": {
        "id": "y2kaCal1cdVh",
        "colab": {
          "base_uri": "https://localhost:8080/"
        },
        "outputId": "68380589-0d88-42aa-8524-0897b804c2ef"
      },
      "source": [
        "class Eagle:\n",
        "\n",
        "  def __init__(self):\n",
        "    self.flyheight = 4000\n",
        "    self.color = 'black'\n",
        "    self.wingspan = 2\n",
        "\n",
        "  def fly(self):\n",
        "    print('Fly high you big beautiful bird', self.flyheight, self.color, self.wingspan)\n",
        "\n",
        "\n",
        "e1 = Eagle()\n",
        "e2 = Eagle()\n",
        "\n",
        "e1.fly()\n",
        "e2.fly()"
      ],
      "execution_count": 23,
      "outputs": [
        {
          "output_type": "stream",
          "text": [
            "Fly high you big beautiful bird 4000 black 2\n",
            "Fly high you big beautiful bird 4000 black 2\n"
          ],
          "name": "stdout"
        }
      ]
    },
    {
      "cell_type": "code",
      "metadata": {
        "colab": {
          "base_uri": "https://localhost:8080/"
        },
        "id": "nIVsY64p1KWj",
        "outputId": "50600795-3743-4f40-efb1-01e21409b23e"
      },
      "source": [
        "class Peacock:\n",
        "\n",
        "  def __init__(self):\n",
        "    self.flyheight = 10\n",
        "    self.color = 'assorted'\n",
        "    self.wingspan = 4\n",
        "\n",
        "  def fly(self):\n",
        "    print('Fly low you beautiful bird', self.flyheight, self.color, self.wingspan)\n",
        "\n",
        "\n",
        "p1 = Peacock()\n",
        "p2 = Peacock()\n",
        "\n",
        "p1.fly()\n",
        "p2.fly()"
      ],
      "execution_count": 24,
      "outputs": [
        {
          "output_type": "stream",
          "text": [
            "Fly low you beautiful bird 10 assorted 4\n",
            "Fly low you beautiful bird 10 assorted 4\n"
          ],
          "name": "stdout"
        }
      ]
    },
    {
      "cell_type": "code",
      "metadata": {
        "id": "9cEi72oC1XyV"
      },
      "source": [
        "class Bird:\n",
        "  def __init__(self):\n",
        "    self.flyheight = 10\n",
        "    self.color = 'black'\n",
        "    self.wingspan = 2\n",
        "\n",
        "  def fly(self):\n",
        "    print('Fly you generic bid', self.flyheight, self.color, self.wingspan)"
      ],
      "execution_count": 25,
      "outputs": []
    },
    {
      "cell_type": "code",
      "metadata": {
        "id": "iVI29iQM1s4d"
      },
      "source": [
        "class Eagle(Bird):\n",
        "  pass"
      ],
      "execution_count": 26,
      "outputs": []
    },
    {
      "cell_type": "code",
      "metadata": {
        "colab": {
          "base_uri": "https://localhost:8080/"
        },
        "id": "I0A-f9YK14ly",
        "outputId": "00dd204b-7d5c-40d5-f799-ff95c4e7333a"
      },
      "source": [
        "e1 = Eagle()\n",
        "print(e1.__dict__)"
      ],
      "execution_count": 27,
      "outputs": [
        {
          "output_type": "stream",
          "text": [
            "{'flyheight': 10, 'color': 'black', 'wingspan': 2}\n"
          ],
          "name": "stdout"
        }
      ]
    },
    {
      "cell_type": "code",
      "metadata": {
        "colab": {
          "base_uri": "https://localhost:8080/"
        },
        "id": "BP8qGUoF2Ljb",
        "outputId": "8adb1e05-77b7-4220-b2a0-5a543b538615"
      },
      "source": [
        "e1.flyheight = 4000\n",
        "e1.fly()"
      ],
      "execution_count": 28,
      "outputs": [
        {
          "output_type": "stream",
          "text": [
            "Fly you generic bid 4000 black 2\n"
          ],
          "name": "stdout"
        }
      ]
    },
    {
      "cell_type": "code",
      "metadata": {
        "id": "mF09cNgi2qnD"
      },
      "source": [
        "class Peacock(Bird):\n",
        "  pass"
      ],
      "execution_count": 29,
      "outputs": []
    },
    {
      "cell_type": "code",
      "metadata": {
        "colab": {
          "base_uri": "https://localhost:8080/"
        },
        "id": "NL3NYbbD2tj2",
        "outputId": "b848fc10-8aa0-4b22-b384-59c4d1319f8f"
      },
      "source": [
        "p1 = Peacock()\n",
        "p1.color = 'yellow'\n",
        "p1.wingspan = 4\n",
        "print(p1.__dict__)\n",
        "p1.fly()"
      ],
      "execution_count": 32,
      "outputs": [
        {
          "output_type": "stream",
          "text": [
            "{'flyheight': 10, 'color': 'yellow', 'wingspan': 4}\n",
            "Fly you generic bid 10 yellow 4\n"
          ],
          "name": "stdout"
        }
      ]
    },
    {
      "cell_type": "code",
      "metadata": {
        "colab": {
          "base_uri": "https://localhost:8080/"
        },
        "id": "Y2kzAZCu3zzG",
        "outputId": "8009c84b-79df-4150-8ab8-d88c64d2880a"
      },
      "source": [
        "class Eagle(Bird):\n",
        "  def __init__(self):\n",
        "    super().__init__()\n",
        "    self.flyheight = 4000\n",
        "\n",
        "  def fly(self):\n",
        "    print('Fly away you big beautiful bird', self.flyheight, self.color, self.wingspan)\n",
        "\n",
        "e1 = Eagle()\n",
        "e1.fly()"
      ],
      "execution_count": 35,
      "outputs": [
        {
          "output_type": "stream",
          "text": [
            "Fly away you big beautiful bird 4000 black 2\n"
          ],
          "name": "stdout"
        }
      ]
    },
    {
      "cell_type": "code",
      "metadata": {
        "colab": {
          "base_uri": "https://localhost:8080/"
        },
        "id": "Wlo4Gc_U5AJ-",
        "outputId": "9536f2de-c7e4-4e86-d2b7-67c33969cd7c"
      },
      "source": [
        "class Eagle(Bird):\n",
        "  def __init__(self):\n",
        "    super().__init__()\n",
        "    self.flyheight = 4000\n",
        "\n",
        "  def fly(self):\n",
        "    print('Fly away you big beautiful bird', self.flyheight, self.color, self.wingspan)\n",
        "\n",
        "  def preyOnRat(self):\n",
        "    print('The eagle eats a rat')\n",
        "\n",
        "e1 = Eagle()\n",
        "e1.fly()\n",
        "e1.preyOnRat()"
      ],
      "execution_count": 37,
      "outputs": [
        {
          "output_type": "stream",
          "text": [
            "Fly away you big beautiful bird 4000 black 2\n",
            "The eagle eats a rat\n"
          ],
          "name": "stdout"
        }
      ]
    },
    {
      "cell_type": "markdown",
      "metadata": {
        "id": "rRWYqvu8jySD"
      },
      "source": [
        ""
      ]
    }
  ]
}