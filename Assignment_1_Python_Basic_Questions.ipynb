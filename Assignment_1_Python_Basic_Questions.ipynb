{
  "nbformat": 4,
  "nbformat_minor": 0,
  "metadata": {
    "colab": {
      "name": "Python Basic Questions.ipynb",
      "provenance": [],
      "authorship_tag": "ABX9TyMSbBPxwjjBvmEgiM/tFC9P",
      "include_colab_link": true
    },
    "kernelspec": {
      "name": "python3",
      "display_name": "Python 3"
    }
  },
  "cells": [
    {
      "cell_type": "markdown",
      "metadata": {
        "id": "view-in-github",
        "colab_type": "text"
      },
      "source": [
        "<a href=\"https://colab.research.google.com/github/avs20/SioLabsPython0/blob/main/Assignment_1_Python_Basic_Questions.ipynb\" target=\"_parent\"><img src=\"https://colab.research.google.com/assets/colab-badge.svg\" alt=\"Open In Colab\"/></a>"
      ]
    },
    {
      "cell_type": "markdown",
      "metadata": {
        "id": "rXGPn0mj6F_k"
      },
      "source": [
        "Instructions : Do these questions one by one. \n",
        "Use the cell below to write your code\n",
        "\n",
        "Reference : Illustrated Guide to Python 3 by Matt Harrison"
      ]
    },
    {
      "cell_type": "markdown",
      "metadata": {
        "id": "uFXMvdCq2iFr"
      },
      "source": [
        "1. Create some Python code that will prompt you to enter your name.Print out Hello and then the name"
      ]
    },
    {
      "cell_type": "code",
      "metadata": {
        "id": "G1QD3nu72hJL"
      },
      "source": [
        ""
      ],
      "execution_count": null,
      "outputs": []
    },
    {
      "cell_type": "markdown",
      "metadata": {
        "id": "Gd0wG9aE2q0Z"
      },
      "source": [
        "2. Create a program that will ask a user how old they are. Print out sometext telling them how old they will be next year."
      ]
    },
    {
      "cell_type": "code",
      "metadata": {
        "id": "baf6cCxl2zR5"
      },
      "source": [
        ""
      ],
      "execution_count": null,
      "outputs": []
    },
    {
      "cell_type": "markdown",
      "metadata": {
        "id": "_gdZyXIO2-hm"
      },
      "source": [
        "3. Create a variable, pi, that points to an approximation for the value ofπ. Create a variable, r, for the radius of a circle that has a value of 10.Calculate the area of the circle (π times the radius squared).\n",
        "\n",
        "Hint : Remember the mathematical operator for doing powers. "
      ]
    },
    {
      "cell_type": "code",
      "metadata": {
        "id": "1nKrvKZU3EQd"
      },
      "source": [
        ""
      ],
      "execution_count": null,
      "outputs": []
    },
    {
      "cell_type": "markdown",
      "metadata": {
        "id": "0ZJsuuEq3FgW"
      },
      "source": [
        "4. Create a variable, b, that points to the base of a rectangle with a valueof 10. Create a variable, h, that points to the height of a rectangle witha  value  of 2.  Calculate the  perimeter.  Change the  base to 6  andcalculate the perimeter again."
      ]
    },
    {
      "cell_type": "code",
      "metadata": {
        "id": "5XNomLLd3LM0",
        "outputId": "5aeb4c72-efb1-4c11-f089-c5ddc48acc53",
        "colab": {
          "base_uri": "https://localhost:8080/"
        }
      },
      "source": [
        "id(2)"
      ],
      "execution_count": 1,
      "outputs": [
        {
          "output_type": "execute_result",
          "data": {
            "text/plain": [
              "10914528"
            ]
          },
          "metadata": {
            "tags": []
          },
          "execution_count": 1
        }
      ]
    },
    {
      "cell_type": "markdown",
      "metadata": {
        "id": "ZQn11R1v3WJu"
      },
      "source": [
        "5. Create a variable that points to a floating point number. Examine theid, type, and value of that number. Update the variable by adding 20 toit.  Re-examine the  id,  type, and  value. Did  the  id  change? Did  the value change?\n",
        "\n",
        "Hint : Identity at its lowest level refers to an object’s location in the computer’s memory. Python has a built-in function called **id** that tells you the identity of an object\n",
        "\n",
        "We will use it later on"
      ]
    },
    {
      "cell_type": "code",
      "metadata": {
        "id": "63flBTRS4A-4"
      },
      "source": [
        ""
      ],
      "execution_count": null,
      "outputs": []
    },
    {
      "cell_type": "markdown",
      "metadata": {
        "id": "4h6FtL914O17"
      },
      "source": [
        "6. You slept for 6.2, 7, 8, 5, 6.5, 7.1, and 8.5 hours this week. Calculatethe average number of hours slept."
      ]
    },
    {
      "cell_type": "code",
      "metadata": {
        "id": "MhA6tLMv4Qud"
      },
      "source": [
        ""
      ],
      "execution_count": null,
      "outputs": []
    },
    {
      "cell_type": "markdown",
      "metadata": {
        "id": "Mih0TdRD4RFO"
      },
      "source": [
        "7.  Is 297 divisible by 3? \n",
        "\n",
        "hint : which operator will you use?"
      ]
    },
    {
      "cell_type": "code",
      "metadata": {
        "id": "4I48snnM4Tkz"
      },
      "source": [
        ""
      ],
      "execution_count": null,
      "outputs": []
    },
    {
      "cell_type": "markdown",
      "metadata": {
        "id": "SlJLlIBq4Wvl"
      },
      "source": [
        "8. What is 2 raised to the tenth power?"
      ]
    },
    {
      "cell_type": "code",
      "metadata": {
        "id": "XivC7Fkp4Y-9"
      },
      "source": [
        ""
      ],
      "execution_count": null,
      "outputs": []
    },
    {
      "cell_type": "markdown",
      "metadata": {
        "id": "QNwFvsuL4ZXE"
      },
      "source": [
        "9. Wikipedia defines leap years as:\n",
        "\n",
        "> Every year that is exactly divisible by four is a leap year, exceptfor years that are exactly divisible by 100, but these centurialyears  are  leap  years  if  they  are  exactly divisible by  400.  Forexample, the years 1700, 1800, and 1900 are not leap years, butthe years 1600 and 2000 are.—https://en.wikipedia.org/wiki/Leap_year\n",
        "\n",
        "Write Python code to determine if 1800, 1900, 1903, 2000, and 2002are leap years."
      ]
    },
    {
      "cell_type": "code",
      "metadata": {
        "id": "jhDpg2Hf4pYO"
      },
      "source": [
        ""
      ],
      "execution_count": null,
      "outputs": []
    },
    {
      "cell_type": "markdown",
      "metadata": {
        "id": "RH7vVNTJ4pnL"
      },
      "source": [
        "10. Create a variable, paragraph, that has the following content:\n",
        "> \"Python is a great language!\", said Fred. \"I don't ever rememberhaving this much fun before.\""
      ]
    },
    {
      "cell_type": "code",
      "metadata": {
        "id": "qhDbjlAZ4ttR"
      },
      "source": [
        ""
      ],
      "execution_count": null,
      "outputs": []
    },
    {
      "cell_type": "markdown",
      "metadata": {
        "id": "XDT1Ko525ck9"
      },
      "source": [
        "11. Create a variable, age, set to your age. Create another variable, old,that uses a condition to test whether you are older than 18. The valueof old should be True or False.\n"
      ]
    },
    {
      "cell_type": "code",
      "metadata": {
        "id": "MyX-e-D95deO"
      },
      "source": [
        ""
      ],
      "execution_count": null,
      "outputs": []
    },
    {
      "cell_type": "markdown",
      "metadata": {
        "id": "ZFhFBikm5d78"
      },
      "source": [
        "12.  Create a  variable, name,  set  to  your name. Create another variable,second_half, that tests whether the name would be classified in thesecond half of the alphabet? What do you need to compare it to?"
      ]
    },
    {
      "cell_type": "code",
      "metadata": {
        "id": "c7g3M2S35iWR"
      },
      "source": [
        ""
      ],
      "execution_count": null,
      "outputs": []
    },
    {
      "cell_type": "markdown",
      "metadata": {
        "id": "WfXVFLS25i10"
      },
      "source": [
        "13. Write an if statement to determine whether a variable holding a year isa leap year. "
      ]
    },
    {
      "cell_type": "code",
      "metadata": {
        "id": "6jtMdezW54B9"
      },
      "source": [
        ""
      ],
      "execution_count": null,
      "outputs": []
    },
    {
      "cell_type": "markdown",
      "metadata": {
        "id": "FGxZroZA54ZK"
      },
      "source": [
        "14. Write  an  if  statement to  determine whether a  variable holding an integer is odd."
      ]
    },
    {
      "cell_type": "code",
      "metadata": {
        "id": "Tx6X4QlF56om"
      },
      "source": [
        ""
      ],
      "execution_count": null,
      "outputs": []
    }
  ]
}