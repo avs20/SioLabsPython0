{
  "nbformat": 4,
  "nbformat_minor": 0,
  "metadata": {
    "colab": {
      "name": "7_Functions_in_python",
      "provenance": [],
      "authorship_tag": "ABX9TyM1KwqY7iiN4CI123On2ZIV",
      "include_colab_link": true
    },
    "kernelspec": {
      "name": "python3",
      "display_name": "Python 3"
    }
  },
  "cells": [
    {
      "cell_type": "markdown",
      "metadata": {
        "id": "view-in-github",
        "colab_type": "text"
      },
      "source": [
        "<a href=\"https://colab.research.google.com/github/avs20/SioLabsPython0/blob/main/7_Functions_in_python.ipynb\" target=\"_parent\"><img src=\"https://colab.research.google.com/assets/colab-badge.svg\" alt=\"Open In Colab\"/></a>"
      ]
    },
    {
      "cell_type": "code",
      "metadata": {
        "id": "85Chi5WlEzbt"
      },
      "source": [
        ""
      ],
      "execution_count": null,
      "outputs": []
    },
    {
      "cell_type": "markdown",
      "metadata": {
        "id": "udwjJ6kiGxQF"
      },
      "source": [
        "Functions \n",
        "\n"
      ]
    },
    {
      "cell_type": "code",
      "metadata": {
        "id": "WOrZyC8hGzMk",
        "outputId": "d3086a22-f528-44f8-fd5e-bde3dd324c63",
        "colab": {
          "base_uri": "https://localhost:8080/"
        }
      },
      "source": [
        "principal = 10000\n",
        "time = 5 \n",
        "\n",
        "rate = 10\n",
        "\n",
        "if time > 5:\n",
        "  rate = 7\n",
        "\n",
        "interest = principal * rate * time / 100 \n",
        "\n",
        "print(interest)\n"
      ],
      "execution_count": null,
      "outputs": [
        {
          "output_type": "stream",
          "text": [
            "5000.0\n"
          ],
          "name": "stdout"
        }
      ]
    },
    {
      "cell_type": "code",
      "metadata": {
        "id": "_YHZZSrKHCUM",
        "outputId": "a6e28ebb-e1e8-4c7b-88cf-6332f2598052",
        "colab": {
          "base_uri": "https://localhost:8080/"
        }
      },
      "source": [
        "principal = 50000\n",
        "time = 5 \n",
        "\n",
        "rate = 10\n",
        "\n",
        "if time > 5:\n",
        "  rate = 7\n",
        "\n",
        "interest = principal * rate * time / 100 \n",
        "\n",
        "print(interest)"
      ],
      "execution_count": null,
      "outputs": [
        {
          "output_type": "stream",
          "text": [
            "25000.0\n"
          ],
          "name": "stdout"
        }
      ]
    },
    {
      "cell_type": "code",
      "metadata": {
        "id": "LZ2UQ7FGHJWV",
        "outputId": "c3e164bb-bb23-4eaa-90bf-b8324fdd8c28",
        "colab": {
          "base_uri": "https://localhost:8080/"
        }
      },
      "source": [
        "principal = 15000\n",
        "time = 2 \n",
        "\n",
        "rate = 10\n",
        "\n",
        "if time > 5:\n",
        "  rate = 7\n",
        "\n",
        "interest = principal * rate * time / 100 \n",
        "\n",
        "print(interest)"
      ],
      "execution_count": null,
      "outputs": [
        {
          "output_type": "stream",
          "text": [
            "3000.0\n"
          ],
          "name": "stdout"
        }
      ]
    },
    {
      "cell_type": "markdown",
      "metadata": {
        "id": "z59qyzvzK2jI"
      },
      "source": [
        "Function \n",
        "-----\n",
        "\n",
        "```\n",
        "def function_name():\n",
        "    code\n",
        "    code \n",
        "```\n",
        "\n"
      ]
    },
    {
      "cell_type": "code",
      "metadata": {
        "id": "wqO7C5qAK88B"
      },
      "source": [
        "def printsPython2times():\n",
        "    print('I Love Python')\n",
        "    print('I Love Python')\n",
        "    "
      ],
      "execution_count": null,
      "outputs": []
    },
    {
      "cell_type": "markdown",
      "metadata": {
        "id": "cOlYju8_LYUB"
      },
      "source": [
        "how to use a function \n",
        "-------------\n",
        "\n",
        "how to call a function \n",
        "-----------\n",
        "\n",
        "Syntax \n",
        "\n",
        "```\n",
        "function_name(argument1, argument2, ....)\n",
        "```\n"
      ]
    },
    {
      "cell_type": "code",
      "metadata": {
        "id": "theoKOBmLXRx",
        "outputId": "f20c76ad-07a0-4ca4-e35b-452b32326aa3",
        "colab": {
          "base_uri": "https://localhost:8080/"
        }
      },
      "source": [
        "printsPython2times()"
      ],
      "execution_count": null,
      "outputs": [
        {
          "output_type": "stream",
          "text": [
            "I Love Python\n",
            "I Love Python\n"
          ],
          "name": "stdout"
        }
      ]
    },
    {
      "cell_type": "code",
      "metadata": {
        "id": "I59W2KXMLqlf",
        "outputId": "843443db-2c3c-49fd-deed-1db9d7cf618d",
        "colab": {
          "base_uri": "https://localhost:8080/"
        }
      },
      "source": [
        "printsPython2times()"
      ],
      "execution_count": null,
      "outputs": [
        {
          "output_type": "stream",
          "text": [
            "I Love Python\n",
            "I Love Python\n"
          ],
          "name": "stdout"
        }
      ]
    },
    {
      "cell_type": "code",
      "metadata": {
        "id": "sZZf2mrGLsge",
        "outputId": "dfd29ada-955e-45b9-bdfb-0cc4aecb0195",
        "colab": {
          "base_uri": "https://localhost:8080/"
        }
      },
      "source": [
        "printsPython2times()\n",
        "printsPython2times()\n",
        "printsPython2times()\n",
        "printsPython2times()\n",
        "printsPython2times()"
      ],
      "execution_count": null,
      "outputs": [
        {
          "output_type": "stream",
          "text": [
            "I Love Python\n",
            "I Love Python\n",
            "I Love Python\n",
            "I Love Python\n",
            "I Love Python\n",
            "I Love Python\n",
            "I Love Python\n",
            "I Love Python\n",
            "I Love Python\n",
            "I Love Python\n"
          ],
          "name": "stdout"
        }
      ]
    },
    {
      "cell_type": "code",
      "metadata": {
        "id": "JXQpc8BaLyuI",
        "outputId": "85bb1160-77b8-4beb-e873-1d372207f800",
        "colab": {
          "base_uri": "https://localhost:8080/"
        }
      },
      "source": [
        "count = 0 \n",
        "while(count < 5):\n",
        "  printsPython2times()\n",
        "  count = count + 1"
      ],
      "execution_count": null,
      "outputs": [
        {
          "output_type": "stream",
          "text": [
            "I Love Python\n",
            "I Love Python\n",
            "I Love Python\n",
            "I Love Python\n",
            "I Love Python\n",
            "I Love Python\n",
            "I Love Python\n",
            "I Love Python\n",
            "I Love Python\n",
            "I Love Python\n"
          ],
          "name": "stdout"
        }
      ]
    },
    {
      "cell_type": "markdown",
      "metadata": {
        "id": "DGs6rINGL9lQ"
      },
      "source": [
        "Write a function that prints I Love python n number of times. \n",
        "\n",
        "where n is the argument to the function \n",
        "\n"
      ]
    },
    {
      "cell_type": "code",
      "metadata": {
        "id": "PrrdimIsMC5f"
      },
      "source": [
        "def printNTime( n ):\n",
        "  count = 0 \n",
        "\n",
        "  while (count <  n):\n",
        "    print('I Love Java')\n",
        "    count = count + 1\n"
      ],
      "execution_count": null,
      "outputs": []
    },
    {
      "cell_type": "code",
      "metadata": {
        "id": "6rRAcHUAMztg",
        "outputId": "4b76391d-f2a1-42c9-82bc-9fd547d38d7b",
        "colab": {
          "base_uri": "https://localhost:8080/",
          "height": 172
        }
      },
      "source": [
        "printNTime()"
      ],
      "execution_count": null,
      "outputs": [
        {
          "output_type": "error",
          "ename": "TypeError",
          "evalue": "ignored",
          "traceback": [
            "\u001b[0;31m---------------------------------------------------------------------------\u001b[0m",
            "\u001b[0;31mTypeError\u001b[0m                                 Traceback (most recent call last)",
            "\u001b[0;32m<ipython-input-16-aac55bc5af5e>\u001b[0m in \u001b[0;36m<module>\u001b[0;34m()\u001b[0m\n\u001b[0;32m----> 1\u001b[0;31m \u001b[0mprintNTime\u001b[0m\u001b[0;34m(\u001b[0m\u001b[0;34m)\u001b[0m\u001b[0;34m\u001b[0m\u001b[0;34m\u001b[0m\u001b[0m\n\u001b[0m",
            "\u001b[0;31mTypeError\u001b[0m: printNTime() missing 1 required positional argument: 'n'"
          ]
        }
      ]
    },
    {
      "cell_type": "code",
      "metadata": {
        "id": "WXKDet5KNCQt",
        "outputId": "5ad5c933-4781-4739-a7c3-681937329db2",
        "colab": {
          "base_uri": "https://localhost:8080/"
        }
      },
      "source": [
        "printNTime(5)"
      ],
      "execution_count": null,
      "outputs": [
        {
          "output_type": "stream",
          "text": [
            "I Love Java\n",
            "I Love Java\n",
            "I Love Java\n",
            "I Love Java\n",
            "I Love Java\n"
          ],
          "name": "stdout"
        }
      ]
    },
    {
      "cell_type": "code",
      "metadata": {
        "id": "yj5S1AVpNHhe",
        "outputId": "06c28349-930b-4cc8-d2a9-d2756a29e85a",
        "colab": {
          "base_uri": "https://localhost:8080/"
        }
      },
      "source": [
        "printNTime(10)"
      ],
      "execution_count": null,
      "outputs": [
        {
          "output_type": "stream",
          "text": [
            "I Love Java\n",
            "I Love Java\n",
            "I Love Java\n",
            "I Love Java\n",
            "I Love Java\n",
            "I Love Java\n",
            "I Love Java\n",
            "I Love Java\n",
            "I Love Java\n",
            "I Love Java\n"
          ],
          "name": "stdout"
        }
      ]
    },
    {
      "cell_type": "code",
      "metadata": {
        "id": "njuywh4HNKUJ",
        "outputId": "688c8443-cf48-41ff-cea6-990f09826009",
        "colab": {
          "base_uri": "https://localhost:8080/"
        }
      },
      "source": [
        "printNTime(50)"
      ],
      "execution_count": null,
      "outputs": [
        {
          "output_type": "stream",
          "text": [
            "I Love Python\n",
            "I Love Python\n",
            "I Love Python\n",
            "I Love Python\n",
            "I Love Python\n",
            "I Love Python\n",
            "I Love Python\n",
            "I Love Python\n",
            "I Love Python\n",
            "I Love Python\n",
            "I Love Python\n",
            "I Love Python\n",
            "I Love Python\n",
            "I Love Python\n",
            "I Love Python\n",
            "I Love Python\n",
            "I Love Python\n",
            "I Love Python\n",
            "I Love Python\n",
            "I Love Python\n",
            "I Love Python\n",
            "I Love Python\n",
            "I Love Python\n",
            "I Love Python\n",
            "I Love Python\n",
            "I Love Python\n",
            "I Love Python\n",
            "I Love Python\n",
            "I Love Python\n",
            "I Love Python\n",
            "I Love Python\n",
            "I Love Python\n",
            "I Love Python\n",
            "I Love Python\n",
            "I Love Python\n",
            "I Love Python\n",
            "I Love Python\n",
            "I Love Python\n",
            "I Love Python\n",
            "I Love Python\n",
            "I Love Python\n",
            "I Love Python\n",
            "I Love Python\n",
            "I Love Python\n",
            "I Love Python\n",
            "I Love Python\n",
            "I Love Python\n",
            "I Love Python\n",
            "I Love Python\n",
            "I Love Python\n"
          ],
          "name": "stdout"
        }
      ]
    },
    {
      "cell_type": "code",
      "metadata": {
        "id": "JYKfFzRUNa5M",
        "outputId": "a7f8c30a-f41b-41c1-acc7-73292db7d238",
        "colab": {
          "base_uri": "https://localhost:8080/"
        }
      },
      "source": [
        "toPrint = 3\n",
        "\n",
        "printNTime( toPrint )"
      ],
      "execution_count": null,
      "outputs": [
        {
          "output_type": "stream",
          "text": [
            "I Love Python\n",
            "I Love Python\n",
            "I Love Python\n"
          ],
          "name": "stdout"
        }
      ]
    },
    {
      "cell_type": "markdown",
      "metadata": {
        "id": "_T--E-gOOHGb"
      },
      "source": [
        "0 argument \n",
        "1 argument \n",
        "\n",
        "input \n",
        "output nhi dekha \n"
      ]
    },
    {
      "cell_type": "code",
      "metadata": {
        "id": "u9kVQYp_OMoq"
      },
      "source": [
        "def calcInterest(principal , time):\n",
        "\n",
        "  rate = 15 \n",
        "  if time > 5 :\n",
        "    rate = 10\n",
        "\n",
        "  interest = principal * rate * time / 100\n",
        "\n",
        "  print(interest)\n",
        "    "
      ],
      "execution_count": null,
      "outputs": []
    },
    {
      "cell_type": "code",
      "metadata": {
        "id": "Uss6RafuOfSp",
        "outputId": "59c552a4-d3a0-49fe-d38b-3368e9da2cd2",
        "colab": {
          "base_uri": "https://localhost:8080/"
        }
      },
      "source": [
        "calcInterest(10000, 2)"
      ],
      "execution_count": null,
      "outputs": [
        {
          "output_type": "stream",
          "text": [
            "3000.0\n"
          ],
          "name": "stdout"
        }
      ]
    },
    {
      "cell_type": "code",
      "metadata": {
        "id": "r4i5mq3eOkqm",
        "outputId": "d88662f0-ab70-41fb-9f44-43249122fe10",
        "colab": {
          "base_uri": "https://localhost:8080/"
        }
      },
      "source": [
        "calcInterest(100000, 7)\n",
        "calcInterest(50000, 5)\n",
        "calcInterest(15000, 2)"
      ],
      "execution_count": null,
      "outputs": [
        {
          "output_type": "stream",
          "text": [
            "70000.0\n",
            "37500.0\n",
            "4500.0\n"
          ],
          "name": "stdout"
        }
      ]
    },
    {
      "cell_type": "code",
      "metadata": {
        "id": "mXKEuXHrPNVI"
      },
      "source": [
        ""
      ],
      "execution_count": null,
      "outputs": []
    },
    {
      "cell_type": "markdown",
      "metadata": {
        "id": "6gdEd5vkPQE2"
      },
      "source": [
        "I want to save the interest so that I can calculate the interest for next year \n",
        "\n",
        "\n",
        "next_principal = interest + principal"
      ]
    },
    {
      "cell_type": "code",
      "metadata": {
        "id": "_TmI3Jp1P3Wa",
        "outputId": "77b249a3-cc17-4560-daf0-b78ee91e98ed",
        "colab": {
          "base_uri": "https://localhost:8080/"
        }
      },
      "source": [
        "interest = calcInterest(100000, 7)\n",
        "\n",
        "print(interest)"
      ],
      "execution_count": null,
      "outputs": [
        {
          "output_type": "stream",
          "text": [
            "70000.0\n",
            "None\n"
          ],
          "name": "stdout"
        }
      ]
    },
    {
      "cell_type": "code",
      "metadata": {
        "id": "nEu5tUV_RsKE"
      },
      "source": [
        "def calcInterest(principal , time):\n",
        "\n",
        "  rate = 15 \n",
        "  if time > 5 :\n",
        "    rate = 10\n",
        "\n",
        "  interest = principal * rate * time / 100\n",
        "\n",
        "  return interest"
      ],
      "execution_count": null,
      "outputs": []
    },
    {
      "cell_type": "code",
      "metadata": {
        "id": "amLA83Q3RviZ",
        "outputId": "c72f4efe-b2e9-47a9-e63e-67df8f8e816f",
        "colab": {
          "base_uri": "https://localhost:8080/"
        }
      },
      "source": [
        "interest = calcInterest(100000, 7)\n",
        "\n",
        "print(interest)"
      ],
      "execution_count": null,
      "outputs": [
        {
          "output_type": "stream",
          "text": [
            "70000.0\n"
          ],
          "name": "stdout"
        }
      ]
    },
    {
      "cell_type": "code",
      "metadata": {
        "id": "it5WpxV3ST3S",
        "outputId": "255ceb6f-7c15-434e-ca7b-0b3b4d536415",
        "colab": {
          "base_uri": "https://localhost:8080/"
        }
      },
      "source": [
        "printed = printNTime(3)"
      ],
      "execution_count": null,
      "outputs": [
        {
          "output_type": "stream",
          "text": [
            "I Love Java\n",
            "I Love Java\n",
            "I Love Java\n"
          ],
          "name": "stdout"
        }
      ]
    },
    {
      "cell_type": "code",
      "metadata": {
        "id": "Kf51IbupSYQ5",
        "outputId": "2d1c391e-b8e4-4cbd-adb6-94f2d086411c",
        "colab": {
          "base_uri": "https://localhost:8080/"
        }
      },
      "source": [
        "print(printed)"
      ],
      "execution_count": null,
      "outputs": [
        {
          "output_type": "stream",
          "text": [
            "None\n"
          ],
          "name": "stdout"
        }
      ]
    },
    {
      "cell_type": "markdown",
      "metadata": {
        "id": "S_n-xEUEK8dm"
      },
      "source": [
        ""
      ]
    }
  ]
}