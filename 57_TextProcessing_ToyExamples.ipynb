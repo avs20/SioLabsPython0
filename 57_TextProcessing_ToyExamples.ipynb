{
  "nbformat": 4,
  "nbformat_minor": 0,
  "metadata": {
    "colab": {
      "name": "TextProcessing-ToyExamples.ipynb",
      "provenance": [],
      "collapsed_sections": [],
      "authorship_tag": "ABX9TyPP5Vuu/q5UmFCrBfjuDF5D",
      "include_colab_link": true
    },
    "kernelspec": {
      "name": "python3",
      "display_name": "Python 3"
    }
  },
  "cells": [
    {
      "cell_type": "markdown",
      "metadata": {
        "id": "view-in-github",
        "colab_type": "text"
      },
      "source": [
        "<a href=\"https://colab.research.google.com/github/avs20/SioLabsPython0/blob/main/57_TextProcessing_ToyExamples.ipynb\" target=\"_parent\"><img src=\"https://colab.research.google.com/assets/colab-badge.svg\" alt=\"Open In Colab\"/></a>"
      ]
    },
    {
      "cell_type": "code",
      "metadata": {
        "id": "6xv0xxpLziWB"
      },
      "source": [
        "import sklearn"
      ],
      "execution_count": 10,
      "outputs": []
    },
    {
      "cell_type": "code",
      "metadata": {
        "id": "rUa1-QFzz26Y"
      },
      "source": [
        "# some data \r\n",
        "\r\n",
        "data = ['The assignment consists of 3 questions, attempt how many you can do from these. ', \r\n",
        "'Feel free to submit the assignment if you cannot finish all, ',\r\n",
        "'you still will be assessed on the parts attempted.',\r\n",
        "'The objective is to test the length and breadth of your skill set.']"
      ],
      "execution_count": 11,
      "outputs": []
    },
    {
      "cell_type": "markdown",
      "metadata": {
        "id": "LY_gQJxtzkw7"
      },
      "source": [
        "## 1. Bag of Words"
      ]
    },
    {
      "cell_type": "code",
      "metadata": {
        "id": "MszfSuEYzjay"
      },
      "source": [
        "from sklearn.feature_extraction.text import CountVectorizer\r\n",
        "\r\n",
        "count_vect = CountVectorizer()\r\n"
      ],
      "execution_count": 12,
      "outputs": []
    },
    {
      "cell_type": "code",
      "metadata": {
        "colab": {
          "base_uri": "https://localhost:8080/"
        },
        "id": "ord2cqqO0XOx",
        "outputId": "effc01b2-1df3-475b-c725-656df2a09a5b"
      },
      "source": [
        "count_vect.fit(data)\r\n",
        "print('Some words / features are', count_vect.get_feature_names()[:10])"
      ],
      "execution_count": 13,
      "outputs": [
        {
          "output_type": "stream",
          "text": [
            "Some words / features are ['all', 'and', 'assessed', 'assignment', 'attempt', 'attempted', 'be', 'breadth', 'can', 'cannot']\n"
          ],
          "name": "stdout"
        }
      ]
    },
    {
      "cell_type": "code",
      "metadata": {
        "colab": {
          "base_uri": "https://localhost:8080/"
        },
        "id": "J2yiQy7E0hSP",
        "outputId": "5a525a29-1481-4f59-81e7-892d4b405cb6"
      },
      "source": [
        "print(count_vect.get_feature_names())\r\n",
        "print('Total unique words ', len(count_vect.get_feature_names()))\r\n"
      ],
      "execution_count": 14,
      "outputs": [
        {
          "output_type": "stream",
          "text": [
            "['all', 'and', 'assessed', 'assignment', 'attempt', 'attempted', 'be', 'breadth', 'can', 'cannot', 'consists', 'do', 'feel', 'finish', 'free', 'from', 'how', 'if', 'is', 'length', 'many', 'objective', 'of', 'on', 'parts', 'questions', 'set', 'skill', 'still', 'submit', 'test', 'the', 'these', 'to', 'will', 'you', 'your']\n",
            "Total unique words  37\n"
          ],
          "name": "stdout"
        }
      ]
    },
    {
      "cell_type": "code",
      "metadata": {
        "colab": {
          "base_uri": "https://localhost:8080/"
        },
        "id": "KUst5Ate0oXx",
        "outputId": "6d7e317f-0a3e-4718-fab0-3cf8fa169d7f"
      },
      "source": [
        "counts = count_vect.fit_transform(data)\r\n",
        "counts"
      ],
      "execution_count": 15,
      "outputs": [
        {
          "output_type": "execute_result",
          "data": {
            "text/plain": [
              "<4x37 sparse matrix of type '<class 'numpy.int64'>'\n",
              "\twith 45 stored elements in Compressed Sparse Row format>"
            ]
          },
          "metadata": {
            "tags": []
          },
          "execution_count": 15
        }
      ]
    },
    {
      "cell_type": "code",
      "metadata": {
        "colab": {
          "base_uri": "https://localhost:8080/"
        },
        "id": "6SnBcHnw0r66",
        "outputId": "8a371dba-83f7-44cc-9513-e2ad9ca0fc36"
      },
      "source": [
        "print(counts[0])"
      ],
      "execution_count": 16,
      "outputs": [
        {
          "output_type": "stream",
          "text": [
            "  (0, 31)\t1\n",
            "  (0, 3)\t1\n",
            "  (0, 10)\t1\n",
            "  (0, 22)\t1\n",
            "  (0, 25)\t1\n",
            "  (0, 4)\t1\n",
            "  (0, 16)\t1\n",
            "  (0, 20)\t1\n",
            "  (0, 35)\t1\n",
            "  (0, 8)\t1\n",
            "  (0, 11)\t1\n",
            "  (0, 15)\t1\n",
            "  (0, 32)\t1\n"
          ],
          "name": "stdout"
        }
      ]
    },
    {
      "cell_type": "code",
      "metadata": {
        "colab": {
          "base_uri": "https://localhost:8080/",
          "height": 36
        },
        "id": "ZLhn-Y681VJC",
        "outputId": "1f01a8af-ba69-4ca3-81d3-d1fd2c839ed7"
      },
      "source": [
        "count_vect.get_feature_names()[31]"
      ],
      "execution_count": 17,
      "outputs": [
        {
          "output_type": "execute_result",
          "data": {
            "application/vnd.google.colaboratory.intrinsic+json": {
              "type": "string"
            },
            "text/plain": [
              "'the'"
            ]
          },
          "metadata": {
            "tags": []
          },
          "execution_count": 17
        }
      ]
    },
    {
      "cell_type": "code",
      "metadata": {
        "colab": {
          "base_uri": "https://localhost:8080/",
          "height": 36
        },
        "id": "qUgK71atBGu3",
        "outputId": "e17dc877-69db-4924-881e-3ece35ffba71"
      },
      "source": [
        "count_vect.get_feature_names()[3]"
      ],
      "execution_count": 18,
      "outputs": [
        {
          "output_type": "execute_result",
          "data": {
            "application/vnd.google.colaboratory.intrinsic+json": {
              "type": "string"
            },
            "text/plain": [
              "'assignment'"
            ]
          },
          "metadata": {
            "tags": []
          },
          "execution_count": 18
        }
      ]
    },
    {
      "cell_type": "code",
      "metadata": {
        "colab": {
          "base_uri": "https://localhost:8080/",
          "height": 36
        },
        "id": "KpukpApvBL5y",
        "outputId": "f9cb91e3-b75c-4088-d2c6-3f48e159e78c"
      },
      "source": [
        "count_vect.get_feature_names()[10]"
      ],
      "execution_count": 19,
      "outputs": [
        {
          "output_type": "execute_result",
          "data": {
            "application/vnd.google.colaboratory.intrinsic+json": {
              "type": "string"
            },
            "text/plain": [
              "'consists'"
            ]
          },
          "metadata": {
            "tags": []
          },
          "execution_count": 19
        }
      ]
    },
    {
      "cell_type": "markdown",
      "metadata": {
        "id": "2Ox_l6uN2TpK"
      },
      "source": [
        "## 2. Bi-grams"
      ]
    },
    {
      "cell_type": "code",
      "metadata": {
        "colab": {
          "base_uri": "https://localhost:8080/"
        },
        "id": "6lCcdI8t1l9p",
        "outputId": "358e1753-dec9-4628-b242-ca622aa65ab3"
      },
      "source": [
        "count_vect2 = CountVectorizer(ngram_range=(2,2))\r\n",
        "count2 = count_vect2.fit_transform(data)\r\n",
        "print(count2.shape)\r\n",
        "\r\n"
      ],
      "execution_count": 22,
      "outputs": [
        {
          "output_type": "stream",
          "text": [
            "(4, 41)\n"
          ],
          "name": "stdout"
        }
      ]
    },
    {
      "cell_type": "code",
      "metadata": {
        "colab": {
          "base_uri": "https://localhost:8080/"
        },
        "id": "dCqoD6On2klJ",
        "outputId": "9059ada4-01f0-44b5-89c4-eacf1db3c5cd"
      },
      "source": [
        "count_vect2.get_feature_names()"
      ],
      "execution_count": 23,
      "outputs": [
        {
          "output_type": "execute_result",
          "data": {
            "text/plain": [
              "['and breadth',\n",
              " 'assessed on',\n",
              " 'assignment consists',\n",
              " 'assignment if',\n",
              " 'attempt how',\n",
              " 'be assessed',\n",
              " 'breadth of',\n",
              " 'can do',\n",
              " 'cannot finish',\n",
              " 'consists of',\n",
              " 'do from',\n",
              " 'feel free',\n",
              " 'finish all',\n",
              " 'free to',\n",
              " 'from these',\n",
              " 'how many',\n",
              " 'if you',\n",
              " 'is to',\n",
              " 'length and',\n",
              " 'many you',\n",
              " 'objective is',\n",
              " 'of questions',\n",
              " 'of your',\n",
              " 'on the',\n",
              " 'parts attempted',\n",
              " 'questions attempt',\n",
              " 'skill set',\n",
              " 'still will',\n",
              " 'submit the',\n",
              " 'test the',\n",
              " 'the assignment',\n",
              " 'the length',\n",
              " 'the objective',\n",
              " 'the parts',\n",
              " 'to submit',\n",
              " 'to test',\n",
              " 'will be',\n",
              " 'you can',\n",
              " 'you cannot',\n",
              " 'you still',\n",
              " 'your skill']"
            ]
          },
          "metadata": {
            "tags": []
          },
          "execution_count": 23
        }
      ]
    },
    {
      "cell_type": "code",
      "metadata": {
        "colab": {
          "base_uri": "https://localhost:8080/"
        },
        "id": "9loOR3na2pM5",
        "outputId": "4ab2bbca-1fce-40ba-d93a-0c4bd3d61afa"
      },
      "source": [
        "print(count2[0])"
      ],
      "execution_count": 24,
      "outputs": [
        {
          "output_type": "stream",
          "text": [
            "  (0, 30)\t1\n",
            "  (0, 2)\t1\n",
            "  (0, 9)\t1\n",
            "  (0, 21)\t1\n",
            "  (0, 25)\t1\n",
            "  (0, 4)\t1\n",
            "  (0, 15)\t1\n",
            "  (0, 19)\t1\n",
            "  (0, 37)\t1\n",
            "  (0, 7)\t1\n",
            "  (0, 10)\t1\n",
            "  (0, 14)\t1\n"
          ],
          "name": "stdout"
        }
      ]
    },
    {
      "cell_type": "code",
      "metadata": {
        "colab": {
          "base_uri": "https://localhost:8080/"
        },
        "id": "WCMSi0zD21_4",
        "outputId": "130fa319-cdf7-4505-f2fe-5e57f242c967"
      },
      "source": [
        "print(count_vect2.get_feature_names()[30], count_vect2.get_feature_names()[2], count_vect2.get_feature_names()[9])"
      ],
      "execution_count": 26,
      "outputs": [
        {
          "output_type": "stream",
          "text": [
            "the assignment assignment consists consists of\n"
          ],
          "name": "stdout"
        }
      ]
    },
    {
      "cell_type": "markdown",
      "metadata": {
        "id": "OPbscCY03ECG"
      },
      "source": [
        "<bold>Try with 3 grams yourself</bold>"
      ]
    },
    {
      "cell_type": "markdown",
      "metadata": {
        "id": "Lvg_wqiN3QYR"
      },
      "source": [
        "## 3. TF-IDF\r\n"
      ]
    },
    {
      "cell_type": "code",
      "metadata": {
        "id": "tJD7-9Mk3BGa"
      },
      "source": [
        "from sklearn.feature_extraction.text import TfidfVectorizer\r\n",
        "\r\n",
        "tfidf_vect = TfidfVectorizer()"
      ],
      "execution_count": 21,
      "outputs": []
    },
    {
      "cell_type": "code",
      "metadata": {
        "colab": {
          "base_uri": "https://localhost:8080/"
        },
        "id": "Cy6hJo-_3brS",
        "outputId": "05af61ed-9bbf-47a6-ac77-59c82b35cb8c"
      },
      "source": [
        "tfidf_vect.fit(data)\r\n",
        "print('Some features', tfidf_vect.get_feature_names()[:10])"
      ],
      "execution_count": 22,
      "outputs": [
        {
          "output_type": "stream",
          "text": [
            "Some features ['all', 'and', 'assessed', 'assignment', 'attempt', 'attempted', 'be', 'breadth', 'can', 'cannot']\n"
          ],
          "name": "stdout"
        }
      ]
    },
    {
      "cell_type": "code",
      "metadata": {
        "colab": {
          "base_uri": "https://localhost:8080/"
        },
        "id": "F-l8TGBw3lKY",
        "outputId": "5f3beed8-45a4-4bbe-87a7-0fef69050e91"
      },
      "source": [
        "final_tf_idf = tfidf_vect.transform(data)\r\n",
        "print(final_tf_idf.shape)"
      ],
      "execution_count": 24,
      "outputs": [
        {
          "output_type": "stream",
          "text": [
            "(4, 37)\n"
          ],
          "name": "stdout"
        }
      ]
    },
    {
      "cell_type": "code",
      "metadata": {
        "colab": {
          "base_uri": "https://localhost:8080/"
        },
        "id": "kQeAOUMR3tfS",
        "outputId": "cb42a3d9-f411-4a75-e55f-060a002c8313"
      },
      "source": [
        "print(final_tf_idf[0])"
      ],
      "execution_count": 28,
      "outputs": [
        {
          "output_type": "stream",
          "text": [
            "  (0, 35)\t0.19312867861431357\n",
            "  (0, 32)\t0.3025733949952698\n",
            "  (0, 31)\t0.15789534957430465\n",
            "  (0, 25)\t0.3025733949952698\n",
            "  (0, 22)\t0.23855234001034797\n",
            "  (0, 20)\t0.3025733949952698\n",
            "  (0, 16)\t0.3025733949952698\n",
            "  (0, 15)\t0.3025733949952698\n",
            "  (0, 11)\t0.3025733949952698\n",
            "  (0, 10)\t0.3025733949952698\n",
            "  (0, 8)\t0.3025733949952698\n",
            "  (0, 4)\t0.3025733949952698\n",
            "  (0, 3)\t0.23855234001034797\n"
          ],
          "name": "stdout"
        }
      ]
    },
    {
      "cell_type": "code",
      "metadata": {
        "colab": {
          "base_uri": "https://localhost:8080/"
        },
        "id": "hvPCiZCi32O6",
        "outputId": "3e272586-2f12-4c62-972f-dfd03882a0ea"
      },
      "source": [
        "print(tfidf_vect.get_feature_names()[35], tfidf_vect.get_feature_names()[32])"
      ],
      "execution_count": 29,
      "outputs": [
        {
          "output_type": "stream",
          "text": [
            "you these\n"
          ],
          "name": "stdout"
        }
      ]
    },
    {
      "cell_type": "markdown",
      "metadata": {
        "id": "jdEy_plM4RIr"
      },
      "source": [
        "## 4. Word2vec"
      ]
    },
    {
      "cell_type": "code",
      "metadata": {
        "colab": {
          "base_uri": "https://localhost:8080/"
        },
        "id": "7rR6RG085HCp",
        "outputId": "b8dde636-cc71-4f99-c07c-c9d872acb3c6"
      },
      "source": [
        "# http://kavita-ganesan.com/gensim-word2vec-tutorial-starter-code/#.W17SRFAzZPY\r\n",
        "# need some preprocessing for word2vec\r\n",
        "# it needs a list of list \r\n",
        "\r\n",
        "list_of_sentence = []\r\n",
        "for row in data:\r\n",
        "  list_of_sentence.append(row.split())\r\n",
        "\r\n",
        "print(list_of_sentence)"
      ],
      "execution_count": 27,
      "outputs": [
        {
          "output_type": "stream",
          "text": [
            "[['The', 'assignment', 'consists', 'of', '3', 'questions,', 'attempt', 'how', 'many', 'you', 'can', 'do', 'from', 'these.'], ['Feel', 'free', 'to', 'submit', 'the', 'assignment', 'if', 'you', 'cannot', 'finish', 'all,'], ['you', 'still', 'will', 'be', 'assessed', 'on', 'the', 'parts', 'attempted.'], ['The', 'objective', 'is', 'to', 'test', 'the', 'length', 'and', 'breadth', 'of', 'your', 'skill', 'set.']]\n"
          ],
          "name": "stdout"
        }
      ]
    },
    {
      "cell_type": "code",
      "metadata": {
        "colab": {
          "base_uri": "https://localhost:8080/"
        },
        "id": "2tqRdLqJ4Fdb",
        "outputId": "6b74ac61-107f-405f-d215-b32b67daea2e"
      },
      "source": [
        "from gensim.models import Word2Vec\r\n",
        "from gensim.models import KeyedVectors\r\n",
        "\r\n",
        "\r\n",
        "w2v_model=Word2Vec(list_of_sentence,min_count=1,size=50, workers=4)\r\n",
        "print(w2v_model.wv.most_similar('length'))\r\n",
        "print('='*50)\r\n",
        "print(w2v_model.wv.most_similar('breadth'))"
      ],
      "execution_count": 28,
      "outputs": [
        {
          "output_type": "stream",
          "text": [
            "[('and', 0.21619360148906708), ('of', 0.2066120058298111), ('attempted.', 0.20493753254413605), ('will', 0.185124933719635), ('questions,', 0.1794077605009079), ('Feel', 0.1274029016494751), ('the', 0.11219639331102371), ('these.', 0.1035282090306282), ('The', 0.0959504097700119), ('assignment', 0.06320326030254364)]\n",
            "==================================================\n",
            "[('how', 0.3782275915145874), ('cannot', 0.21269915997982025), ('and', 0.21061336994171143), ('3', 0.19928236305713654), ('set.', 0.19050908088684082), ('consists', 0.17837655544281006), ('from', 0.17221936583518982), ('can', 0.16202916204929352), ('attempted.', 0.12820710241794586), ('objective', 0.11591877043247223)]\n"
          ],
          "name": "stdout"
        }
      ]
    },
    {
      "cell_type": "code",
      "metadata": {
        "colab": {
          "base_uri": "https://localhost:8080/",
          "height": 137
        },
        "id": "nPduNW-Y450a",
        "outputId": "589f8baf-a123-45a9-c395-34f81ace1c07"
      },
      "source": [
        "w2v_model."
      ],
      "execution_count": 29,
      "outputs": [
        {
          "output_type": "error",
          "ename": "SyntaxError",
          "evalue": "ignored",
          "traceback": [
            "\u001b[0;36m  File \u001b[0;32m\"<ipython-input-29-793b8b05e5d1>\"\u001b[0;36m, line \u001b[0;32m1\u001b[0m\n\u001b[0;31m    w2v_model.\u001b[0m\n\u001b[0m              ^\u001b[0m\n\u001b[0;31mSyntaxError\u001b[0m\u001b[0;31m:\u001b[0m invalid syntax\n"
          ]
        }
      ]
    },
    {
      "cell_type": "code",
      "metadata": {
        "colab": {
          "base_uri": "https://localhost:8080/"
        },
        "id": "EKBATIA_432S",
        "outputId": "32e3d24b-4855-4fc3-d960-affe5743f92c"
      },
      "source": [
        "print(w2v_model.wv.vocab)"
      ],
      "execution_count": 30,
      "outputs": [
        {
          "output_type": "stream",
          "text": [
            "{'The': <gensim.models.keyedvectors.Vocab object at 0x7feb17ffeef0>, 'assignment': <gensim.models.keyedvectors.Vocab object at 0x7feb17ffef60>, 'consists': <gensim.models.keyedvectors.Vocab object at 0x7feaf1929908>, 'of': <gensim.models.keyedvectors.Vocab object at 0x7feaf1929b00>, '3': <gensim.models.keyedvectors.Vocab object at 0x7feaf13506a0>, 'questions,': <gensim.models.keyedvectors.Vocab object at 0x7feaf0a4dcf8>, 'attempt': <gensim.models.keyedvectors.Vocab object at 0x7feaf0a4dba8>, 'how': <gensim.models.keyedvectors.Vocab object at 0x7feaf0180550>, 'many': <gensim.models.keyedvectors.Vocab object at 0x7feaf0164780>, 'you': <gensim.models.keyedvectors.Vocab object at 0x7feaf010c358>, 'can': <gensim.models.keyedvectors.Vocab object at 0x7feaf010c390>, 'do': <gensim.models.keyedvectors.Vocab object at 0x7feaf010c3c8>, 'from': <gensim.models.keyedvectors.Vocab object at 0x7feaf010c400>, 'these.': <gensim.models.keyedvectors.Vocab object at 0x7feaf010c438>, 'Feel': <gensim.models.keyedvectors.Vocab object at 0x7feaf010c470>, 'free': <gensim.models.keyedvectors.Vocab object at 0x7feaf010c4a8>, 'to': <gensim.models.keyedvectors.Vocab object at 0x7feaf010c4e0>, 'submit': <gensim.models.keyedvectors.Vocab object at 0x7feaf010c518>, 'the': <gensim.models.keyedvectors.Vocab object at 0x7feaf010c550>, 'if': <gensim.models.keyedvectors.Vocab object at 0x7feaf010c588>, 'cannot': <gensim.models.keyedvectors.Vocab object at 0x7feaf010c5c0>, 'finish': <gensim.models.keyedvectors.Vocab object at 0x7feaf010c5f8>, 'all,': <gensim.models.keyedvectors.Vocab object at 0x7feaf010c630>, 'still': <gensim.models.keyedvectors.Vocab object at 0x7feaf010c668>, 'will': <gensim.models.keyedvectors.Vocab object at 0x7feaf010c6a0>, 'be': <gensim.models.keyedvectors.Vocab object at 0x7feaf010c6d8>, 'assessed': <gensim.models.keyedvectors.Vocab object at 0x7feaf010c710>, 'on': <gensim.models.keyedvectors.Vocab object at 0x7feaf010c748>, 'parts': <gensim.models.keyedvectors.Vocab object at 0x7feaf010c780>, 'attempted.': <gensim.models.keyedvectors.Vocab object at 0x7feaf010c7b8>, 'objective': <gensim.models.keyedvectors.Vocab object at 0x7feaf010c7f0>, 'is': <gensim.models.keyedvectors.Vocab object at 0x7feaf010c828>, 'test': <gensim.models.keyedvectors.Vocab object at 0x7feaf010c860>, 'length': <gensim.models.keyedvectors.Vocab object at 0x7feaf010c898>, 'and': <gensim.models.keyedvectors.Vocab object at 0x7feaf010c8d0>, 'breadth': <gensim.models.keyedvectors.Vocab object at 0x7feaf010c908>, 'your': <gensim.models.keyedvectors.Vocab object at 0x7feaf010c940>, 'skill': <gensim.models.keyedvectors.Vocab object at 0x7feaf010c978>, 'set.': <gensim.models.keyedvectors.Vocab object at 0x7feaf010c9b0>}\n"
          ],
          "name": "stdout"
        }
      ]
    },
    {
      "cell_type": "markdown",
      "metadata": {
        "id": "RLf9kBRaGkAi"
      },
      "source": [
        ""
      ]
    },
    {
      "cell_type": "code",
      "metadata": {
        "colab": {
          "base_uri": "https://localhost:8080/"
        },
        "id": "pvK5PwLX6PN5",
        "outputId": "f6a7acb2-d5e9-4404-b7e1-c96a64b314c1"
      },
      "source": [
        "print(w2v_model.wv['The'])\r\n",
        "print(\"=\"*50)\r\n",
        "print(w2v_model.wv['The'].shape)"
      ],
      "execution_count": 31,
      "outputs": [
        {
          "output_type": "stream",
          "text": [
            "[-0.00758409 -0.00700361 -0.00723112 -0.00145628 -0.00920956  0.0072149\n",
            " -0.00403382 -0.00595508 -0.00715696 -0.00841456 -0.00341241 -0.00288107\n",
            "  0.00455314 -0.00848849 -0.00524698 -0.00377291 -0.00402553  0.0035025\n",
            "  0.00779487  0.00903003 -0.0015602  -0.00730265  0.00669206 -0.00439658\n",
            "  0.00490309 -0.00433614 -0.0093769  -0.00642853 -0.00734298 -0.00544719\n",
            " -0.00546581  0.00483941 -0.00658817 -0.00141607  0.00089662 -0.00430769\n",
            "  0.00185002  0.00743771 -0.00765294  0.00120382 -0.00205165 -0.00670316\n",
            " -0.00159487 -0.00290207 -0.00754604 -0.00662179 -0.00292964 -0.00736675\n",
            "  0.00867706 -0.0024343 ]\n",
            "==================================================\n",
            "(50,)\n"
          ],
          "name": "stdout"
        }
      ]
    },
    {
      "cell_type": "code",
      "metadata": {
        "colab": {
          "base_uri": "https://localhost:8080/",
          "height": 330
        },
        "id": "futuGK9cHNJ0",
        "outputId": "4378c325-a89f-476e-c68b-55ad3fc9f348"
      },
      "source": [
        "print(w2v_model.wv['Ashutosh'])\r\n"
      ],
      "execution_count": 32,
      "outputs": [
        {
          "output_type": "error",
          "ename": "KeyError",
          "evalue": "ignored",
          "traceback": [
            "\u001b[0;31m---------------------------------------------------------------------------\u001b[0m",
            "\u001b[0;31mKeyError\u001b[0m                                  Traceback (most recent call last)",
            "\u001b[0;32m<ipython-input-32-757703193c39>\u001b[0m in \u001b[0;36m<module>\u001b[0;34m()\u001b[0m\n\u001b[0;32m----> 1\u001b[0;31m \u001b[0mprint\u001b[0m\u001b[0;34m(\u001b[0m\u001b[0mw2v_model\u001b[0m\u001b[0;34m.\u001b[0m\u001b[0mwv\u001b[0m\u001b[0;34m[\u001b[0m\u001b[0;34m'Ashutosh'\u001b[0m\u001b[0;34m]\u001b[0m\u001b[0;34m)\u001b[0m\u001b[0;34m\u001b[0m\u001b[0;34m\u001b[0m\u001b[0m\n\u001b[0m",
            "\u001b[0;32m/usr/local/lib/python3.6/dist-packages/gensim/models/keyedvectors.py\u001b[0m in \u001b[0;36m__getitem__\u001b[0;34m(self, entities)\u001b[0m\n\u001b[1;32m    335\u001b[0m         \u001b[0;32mif\u001b[0m \u001b[0misinstance\u001b[0m\u001b[0;34m(\u001b[0m\u001b[0mentities\u001b[0m\u001b[0;34m,\u001b[0m \u001b[0mstring_types\u001b[0m\u001b[0;34m)\u001b[0m\u001b[0;34m:\u001b[0m\u001b[0;34m\u001b[0m\u001b[0;34m\u001b[0m\u001b[0m\n\u001b[1;32m    336\u001b[0m             \u001b[0;31m# allow calls like trained_model['office'], as a shorthand for trained_model[['office']]\u001b[0m\u001b[0;34m\u001b[0m\u001b[0;34m\u001b[0m\u001b[0;34m\u001b[0m\u001b[0m\n\u001b[0;32m--> 337\u001b[0;31m             \u001b[0;32mreturn\u001b[0m \u001b[0mself\u001b[0m\u001b[0;34m.\u001b[0m\u001b[0mget_vector\u001b[0m\u001b[0;34m(\u001b[0m\u001b[0mentities\u001b[0m\u001b[0;34m)\u001b[0m\u001b[0;34m\u001b[0m\u001b[0;34m\u001b[0m\u001b[0m\n\u001b[0m\u001b[1;32m    338\u001b[0m \u001b[0;34m\u001b[0m\u001b[0m\n\u001b[1;32m    339\u001b[0m         \u001b[0;32mreturn\u001b[0m \u001b[0mvstack\u001b[0m\u001b[0;34m(\u001b[0m\u001b[0;34m[\u001b[0m\u001b[0mself\u001b[0m\u001b[0;34m.\u001b[0m\u001b[0mget_vector\u001b[0m\u001b[0;34m(\u001b[0m\u001b[0mentity\u001b[0m\u001b[0;34m)\u001b[0m \u001b[0;32mfor\u001b[0m \u001b[0mentity\u001b[0m \u001b[0;32min\u001b[0m \u001b[0mentities\u001b[0m\u001b[0;34m]\u001b[0m\u001b[0;34m)\u001b[0m\u001b[0;34m\u001b[0m\u001b[0;34m\u001b[0m\u001b[0m\n",
            "\u001b[0;32m/usr/local/lib/python3.6/dist-packages/gensim/models/keyedvectors.py\u001b[0m in \u001b[0;36mget_vector\u001b[0;34m(self, word)\u001b[0m\n\u001b[1;32m    453\u001b[0m \u001b[0;34m\u001b[0m\u001b[0m\n\u001b[1;32m    454\u001b[0m     \u001b[0;32mdef\u001b[0m \u001b[0mget_vector\u001b[0m\u001b[0;34m(\u001b[0m\u001b[0mself\u001b[0m\u001b[0;34m,\u001b[0m \u001b[0mword\u001b[0m\u001b[0;34m)\u001b[0m\u001b[0;34m:\u001b[0m\u001b[0;34m\u001b[0m\u001b[0;34m\u001b[0m\u001b[0m\n\u001b[0;32m--> 455\u001b[0;31m         \u001b[0;32mreturn\u001b[0m \u001b[0mself\u001b[0m\u001b[0;34m.\u001b[0m\u001b[0mword_vec\u001b[0m\u001b[0;34m(\u001b[0m\u001b[0mword\u001b[0m\u001b[0;34m)\u001b[0m\u001b[0;34m\u001b[0m\u001b[0;34m\u001b[0m\u001b[0m\n\u001b[0m\u001b[1;32m    456\u001b[0m \u001b[0;34m\u001b[0m\u001b[0m\n\u001b[1;32m    457\u001b[0m     \u001b[0;32mdef\u001b[0m \u001b[0mwords_closer_than\u001b[0m\u001b[0;34m(\u001b[0m\u001b[0mself\u001b[0m\u001b[0;34m,\u001b[0m \u001b[0mw1\u001b[0m\u001b[0;34m,\u001b[0m \u001b[0mw2\u001b[0m\u001b[0;34m)\u001b[0m\u001b[0;34m:\u001b[0m\u001b[0;34m\u001b[0m\u001b[0;34m\u001b[0m\u001b[0m\n",
            "\u001b[0;32m/usr/local/lib/python3.6/dist-packages/gensim/models/keyedvectors.py\u001b[0m in \u001b[0;36mword_vec\u001b[0;34m(self, word, use_norm)\u001b[0m\n\u001b[1;32m    450\u001b[0m             \u001b[0;32mreturn\u001b[0m \u001b[0mresult\u001b[0m\u001b[0;34m\u001b[0m\u001b[0;34m\u001b[0m\u001b[0m\n\u001b[1;32m    451\u001b[0m         \u001b[0;32melse\u001b[0m\u001b[0;34m:\u001b[0m\u001b[0;34m\u001b[0m\u001b[0;34m\u001b[0m\u001b[0m\n\u001b[0;32m--> 452\u001b[0;31m             \u001b[0;32mraise\u001b[0m \u001b[0mKeyError\u001b[0m\u001b[0;34m(\u001b[0m\u001b[0;34m\"word '%s' not in vocabulary\"\u001b[0m \u001b[0;34m%\u001b[0m \u001b[0mword\u001b[0m\u001b[0;34m)\u001b[0m\u001b[0;34m\u001b[0m\u001b[0;34m\u001b[0m\u001b[0m\n\u001b[0m\u001b[1;32m    453\u001b[0m \u001b[0;34m\u001b[0m\u001b[0m\n\u001b[1;32m    454\u001b[0m     \u001b[0;32mdef\u001b[0m \u001b[0mget_vector\u001b[0m\u001b[0;34m(\u001b[0m\u001b[0mself\u001b[0m\u001b[0;34m,\u001b[0m \u001b[0mword\u001b[0m\u001b[0;34m)\u001b[0m\u001b[0;34m:\u001b[0m\u001b[0;34m\u001b[0m\u001b[0;34m\u001b[0m\u001b[0m\n",
            "\u001b[0;31mKeyError\u001b[0m: \"word 'Ashutosh' not in vocabulary\""
          ]
        }
      ]
    },
    {
      "cell_type": "markdown",
      "metadata": {
        "id": "u2gaJUzg6xUd"
      },
      "source": [
        "## 5.Preprocessing"
      ]
    },
    {
      "cell_type": "markdown",
      "metadata": {
        "id": "ASb3FM5e0PXF"
      },
      "source": [
        "What things we need to remove. This is just a preliminary list. \r\n",
        "\r\n",
        "1. Begin by removing the html tags\r\n",
        "2. Remove any punctuations or limited set of special characters like , or . or # etc.\r\n",
        "3. Check if the word is made up of english letters and is not alpha-numeric\r\n",
        "4. Check to see if the length of the word is greater than 2 (as it was researched that there is no adjective in 2-letters)\r\n",
        "5. Convert the word to lowercase\r\n",
        "6. Remove Stopwords\r\n",
        "7. Finally Snowball Stemming the word (it was obsereved to be better than Porter Stemming)"
      ]
    },
    {
      "cell_type": "code",
      "metadata": {
        "id": "W3TKFl8d4MW9"
      },
      "source": [
        "line1 = r'Why is this $[...] when the same product is available for $[...] here?<br />http://www.amazon.com/VICTOR-FLY-MAGNET-BAIT-REFILL/dp/B00004RBDY<br /><br />The Victor M380 and M502 traps are unreal, of course -- total fly genocide. Pretty stinky, but only right nearby.'\r\n",
        "\r\n",
        "line2  =r'''I recently tried this flavor/brand and was surprised at how delicious these chips are.  The best thing was that there were a lot of \"brown\" chips in the bsg (my favorite), so I bought some more through amazon and shared with family and friends.  I am a little disappointed that there are not, so far, very many brown chips in these bags, but the flavor is still very good.  I like them better than the yogurt and green onion flavor because they do not seem to be as salty, and the onion flavor is better.  If you haven't eaten Kettle chips before, I recommend that you try a bag before buying bulk.  They are thicker and crunchier than Lays but just as fresh out of the bag.'''\r\n",
        "\r\n",
        "line3 = r'''Wow.  So far, two two-star reviews.  One obviously had no idea what they were ordering; the other wants crispy cookies.  Hey, I'm sorry; but these reviews do nobody any good beyond reminding us to look  before ordering.<br /><br />These are chocolate-oatmeal cookies.  If you don't like that combination, don't order this type of cookie.  I find the combo quite nice, really.  The oatmeal sort of \"calms\" the rich chocolate flavor and gives the cookie sort of a coconut-type consistency.  Now let's also remember that tastes differ; so, I've given my opinion.<br /><br />Then, these are soft, chewy cookies -- as advertised.  They are not \"crispy\" cookies, or the blurb would say \"crispy,\" rather than \"chewy.\"  I happen to like raw cookie dough; however, I don't see where these taste like raw cookie dough.  Both are soft, however, so is this the confusion?  And, yes, they stick together.  Soft cookies tend to do that.  They aren't individually wrapped, which would add to the cost.  Oh yeah, chocolate chip cookies tend to be somewhat sweet.<br /><br />So, if you want something hard and crisp, I suggest Nabiso's Ginger Snaps.  If you want a cookie that's soft, chewy and tastes like a combination of chocolate and oatmeal, give these a try.  I'm here to place my second order.'''\r\n",
        "\r\n",
        "line4 = r'''love to order my coffee on amazon.  easy and shows up quickly.<br />This k cup is great coffee.  dcaf is very good as well'''"
      ],
      "execution_count": 1,
      "outputs": []
    },
    {
      "cell_type": "markdown",
      "metadata": {
        "id": "LmJCqXEqKdPg"
      },
      "source": [
        "[Don't use regex with html](https://stackoverflow.com/questions/1732348/regex-match-open-tags-except-xhtml-self-contained-tags)"
      ]
    },
    {
      "cell_type": "code",
      "metadata": {
        "colab": {
          "base_uri": "https://localhost:8080/",
          "height": 55
        },
        "id": "s6P9uQF16Tgi",
        "outputId": "9bd35f48-fc0b-40f2-856a-660385f6a2de"
      },
      "source": [
        "import re\r\n",
        "# remove urls from text python: https://stackoverflow.com/a/40823105/4084039\r\n",
        "clean_line = re.sub(r\"http\\S+\", \"\", line1)\r\n",
        "clean_line"
      ],
      "execution_count": 3,
      "outputs": [
        {
          "output_type": "execute_result",
          "data": {
            "application/vnd.google.colaboratory.intrinsic+json": {
              "type": "string"
            },
            "text/plain": [
              "'Why is this $[...] when the same product is available for $[...] here?<br /> /><br />The Victor M380 and M502 traps are unreal, of course -- total fly genocide. Pretty stinky, but only right nearby.'"
            ]
          },
          "metadata": {
            "tags": []
          },
          "execution_count": 3
        }
      ]
    },
    {
      "cell_type": "markdown",
      "metadata": {
        "id": "J4iVsXw84lEP"
      },
      "source": [
        "Remove all html tags "
      ]
    },
    {
      "cell_type": "code",
      "metadata": {
        "colab": {
          "base_uri": "https://localhost:8080/"
        },
        "id": "GfSfrv6w4eSc",
        "outputId": "d49004a0-11fb-45f6-9644-329a80c3d87e"
      },
      "source": [
        "# https://stackoverflow.com/questions/16206380/python-beautifulsoup-how-to-remove-all-tags-from-an-element\r\n",
        "from bs4 import BeautifulSoup\r\n",
        "\r\n",
        "soup = BeautifulSoup(line1, 'lxml')\r\n",
        "text = soup.get_text()\r\n",
        "print(text)\r\n",
        "print(\"=\"*50)\r\n",
        "\r\n",
        "soup = BeautifulSoup(line2, 'lxml')\r\n",
        "text = soup.get_text()\r\n",
        "print(text)\r\n",
        "print(\"=\"*50)\r\n",
        "\r\n",
        "soup = BeautifulSoup(line3, 'lxml')\r\n",
        "text = soup.get_text()\r\n",
        "print(text)\r\n",
        "print(\"=\"*50)\r\n",
        "\r\n",
        "soup = BeautifulSoup(line4, 'lxml')\r\n",
        "text = soup.get_text()\r\n",
        "print(text)"
      ],
      "execution_count": 4,
      "outputs": [
        {
          "output_type": "stream",
          "text": [
            "Why is this $[...] when the same product is available for $[...] here?http://www.amazon.com/VICTOR-FLY-MAGNET-BAIT-REFILL/dp/B00004RBDYThe Victor M380 and M502 traps are unreal, of course -- total fly genocide. Pretty stinky, but only right nearby.\n",
            "==================================================\n",
            "I recently tried this flavor/brand and was surprised at how delicious these chips are.  The best thing was that there were a lot of \"brown\" chips in the bsg (my favorite), so I bought some more through amazon and shared with family and friends.  I am a little disappointed that there are not, so far, very many brown chips in these bags, but the flavor is still very good.  I like them better than the yogurt and green onion flavor because they do not seem to be as salty, and the onion flavor is better.  If you haven't eaten Kettle chips before, I recommend that you try a bag before buying bulk.  They are thicker and crunchier than Lays but just as fresh out of the bag.\n",
            "==================================================\n",
            "Wow.  So far, two two-star reviews.  One obviously had no idea what they were ordering; the other wants crispy cookies.  Hey, I'm sorry; but these reviews do nobody any good beyond reminding us to look  before ordering.These are chocolate-oatmeal cookies.  If you don't like that combination, don't order this type of cookie.  I find the combo quite nice, really.  The oatmeal sort of \"calms\" the rich chocolate flavor and gives the cookie sort of a coconut-type consistency.  Now let's also remember that tastes differ; so, I've given my opinion.Then, these are soft, chewy cookies -- as advertised.  They are not \"crispy\" cookies, or the blurb would say \"crispy,\" rather than \"chewy.\"  I happen to like raw cookie dough; however, I don't see where these taste like raw cookie dough.  Both are soft, however, so is this the confusion?  And, yes, they stick together.  Soft cookies tend to do that.  They aren't individually wrapped, which would add to the cost.  Oh yeah, chocolate chip cookies tend to be somewhat sweet.So, if you want something hard and crisp, I suggest Nabiso's Ginger Snaps.  If you want a cookie that's soft, chewy and tastes like a combination of chocolate and oatmeal, give these a try.  I'm here to place my second order.\n",
            "==================================================\n",
            "love to order my coffee on amazon.  easy and shows up quickly.This k cup is great coffee.  dcaf is very good as well\n"
          ],
          "name": "stdout"
        }
      ]
    },
    {
      "cell_type": "markdown",
      "metadata": {
        "id": "QxbfpzHP4z-A"
      },
      "source": [
        "Decontraction"
      ]
    },
    {
      "cell_type": "code",
      "metadata": {
        "id": "jH0ibiaC4q3V"
      },
      "source": [
        "# https://stackoverflow.com/a/47091490/4084039\r\n",
        "import re\r\n",
        "\r\n",
        "def decontracted(phrase):\r\n",
        "    # specific\r\n",
        "    phrase = re.sub(r\"won't\", \"will not\", phrase)\r\n",
        "    phrase = re.sub(r\"can\\'t\", \"can not\", phrase)\r\n",
        "\r\n",
        "    # general\r\n",
        "    phrase = re.sub(r\"n\\'t\", \" not\", phrase)\r\n",
        "    phrase = re.sub(r\"\\'re\", \" are\", phrase)\r\n",
        "    phrase = re.sub(r\"\\'s\", \" is\", phrase)\r\n",
        "    phrase = re.sub(r\"\\'d\", \" would\", phrase)\r\n",
        "    phrase = re.sub(r\"\\'ll\", \" will\", phrase)\r\n",
        "    phrase = re.sub(r\"\\'t\", \" not\", phrase)\r\n",
        "    phrase = re.sub(r\"\\'ve\", \" have\", phrase)\r\n",
        "    phrase = re.sub(r\"\\'m\", \" am\", phrase)\r\n",
        "    return phrase"
      ],
      "execution_count": 5,
      "outputs": []
    },
    {
      "cell_type": "markdown",
      "metadata": {
        "id": "4bd_0ofT42PU"
      },
      "source": [
        "*italicized text*"
      ]
    },
    {
      "cell_type": "code",
      "metadata": {
        "colab": {
          "base_uri": "https://localhost:8080/",
          "height": 149
        },
        "id": "DCKzdwvw44LU",
        "outputId": "46c28f45-23ab-497c-8b62-c20d79fc80a8"
      },
      "source": [
        "decontracted(line3)"
      ],
      "execution_count": 7,
      "outputs": [
        {
          "output_type": "execute_result",
          "data": {
            "application/vnd.google.colaboratory.intrinsic+json": {
              "type": "string"
            },
            "text/plain": [
              "'Wow.  So far, two two-star reviews.  One obviously had no idea what they were ordering; the other wants crispy cookies.  Hey, I am sorry; but these reviews do nobody any good beyond reminding us to look  before ordering.<br /><br />These are chocolate-oatmeal cookies.  If you do not like that combination, do not order this type of cookie.  I find the combo quite nice, really.  The oatmeal sort of \"calms\" the rich chocolate flavor and gives the cookie sort of a coconut-type consistency.  Now let is also remember that tastes differ; so, I have given my opinion.<br /><br />Then, these are soft, chewy cookies -- as advertised.  They are not \"crispy\" cookies, or the blurb would say \"crispy,\" rather than \"chewy.\"  I happen to like raw cookie dough; however, I do not see where these taste like raw cookie dough.  Both are soft, however, so is this the confusion?  And, yes, they stick together.  Soft cookies tend to do that.  They are not individually wrapped, which would add to the cost.  Oh yeah, chocolate chip cookies tend to be somewhat sweet.<br /><br />So, if you want something hard and crisp, I suggest Nabiso is Ginger Snaps.  If you want a cookie that is soft, chewy and tastes like a combination of chocolate and oatmeal, give these a try.  I am here to place my second order.'"
            ]
          },
          "metadata": {
            "tags": []
          },
          "execution_count": 7
        }
      ]
    },
    {
      "cell_type": "code",
      "metadata": {
        "colab": {
          "base_uri": "https://localhost:8080/"
        },
        "id": "3-hAMzFH5LPm",
        "outputId": "3689d7f2-26c1-4d55-b50f-3f7e9190e41a"
      },
      "source": [
        "#remove words with numbers python: https://stackoverflow.com/a/18082370/4084039\r\n",
        "output = re.sub(\"\\S*\\d\\S*\", \"\", line1).strip()\r\n",
        "print(output)"
      ],
      "execution_count": 9,
      "outputs": [
        {
          "output_type": "stream",
          "text": [
            "Why is this $[...] when the same product is available for $[...] here?<br  /><br />The Victor  and  traps are unreal, of course -- total fly genocide. Pretty stinky, but only right nearby.\n"
          ],
          "name": "stdout"
        }
      ]
    },
    {
      "cell_type": "markdown",
      "metadata": {
        "id": "VFJNQBuv5lbO"
      },
      "source": [
        "stop words"
      ]
    },
    {
      "cell_type": "code",
      "metadata": {
        "id": "URveRBP_4-lY"
      },
      "source": [
        "# https://gist.github.com/sebleier/554280\r\n",
        "# we are removing the words from the stop words list: 'no', 'nor', 'not'\r\n",
        "# <br /><br /> ==> after the above steps, we are getting \"br br\"\r\n",
        "# we are including them into stop words list\r\n",
        "# instead of <br /> if we have <br/> these tags would have revmoved in the 1st step\r\n",
        "\r\n",
        "stopwords= set(['br', 'the', 'i', 'me', 'my', 'myself', 'we', 'our', 'ours', 'ourselves', 'you', \"you're\", \"you've\",\\\r\n",
        "            \"you'll\", \"you'd\", 'your', 'yours', 'yourself', 'yourselves', 'he', 'him', 'his', 'himself', \\\r\n",
        "            'she', \"she's\", 'her', 'hers', 'herself', 'it', \"it's\", 'its', 'itself', 'they', 'them', 'their',\\\r\n",
        "            'theirs', 'themselves', 'what', 'which', 'who', 'whom', 'this', 'that', \"that'll\", 'these', 'those', \\\r\n",
        "            'am', 'is', 'are', 'was', 'were', 'be', 'been', 'being', 'have', 'has', 'had', 'having', 'do', 'does', \\\r\n",
        "            'did', 'doing', 'a', 'an', 'the', 'and', 'but', 'if', 'or', 'because', 'as', 'until', 'while', 'of', \\\r\n",
        "            'at', 'by', 'for', 'with', 'about', 'against', 'between', 'into', 'through', 'during', 'before', 'after',\\\r\n",
        "            'above', 'below', 'to', 'from', 'up', 'down', 'in', 'out', 'on', 'off', 'over', 'under', 'again', 'further',\\\r\n",
        "            'then', 'once', 'here', 'there', 'when', 'where', 'why', 'how', 'all', 'any', 'both', 'each', 'few', 'more',\\\r\n",
        "            'most', 'other', 'some', 'such', 'only', 'own', 'same', 'so', 'than', 'too', 'very', \\\r\n",
        "            's', 't', 'can', 'will', 'just', 'don', \"don't\", 'should', \"should've\", 'now', 'd', 'll', 'm', 'o', 're', \\\r\n",
        "            've', 'y', 'ain', 'aren', \"aren't\", 'couldn', \"couldn't\", 'didn', \"didn't\", 'doesn', \"doesn't\", 'hadn',\\\r\n",
        "            \"hadn't\", 'hasn', \"hasn't\", 'haven', \"haven't\", 'isn', \"isn't\", 'ma', 'mightn', \"mightn't\", 'mustn',\\\r\n",
        "            \"mustn't\", 'needn', \"needn't\", 'shan', \"shan't\", 'shouldn', \"shouldn't\", 'wasn', \"wasn't\", 'weren', \"weren't\", \\\r\n",
        "            'won', \"won't\", 'wouldn', \"wouldn't\"])"
      ],
      "execution_count": null,
      "outputs": []
    },
    {
      "cell_type": "code",
      "metadata": {
        "id": "ShKUXvAD54Ym"
      },
      "source": [
        "# Combining all the above stundents \r\n",
        "from tqdm import tqdm\r\n",
        "preprocessed_reviews = []\r\n",
        "# tqdm is for printing the status bar\r\n",
        "for sentance in tqdm(dataframe['text'].values):\r\n",
        "    sentance = re.sub(r\"http\\S+\", \"\", sentance)\r\n",
        "    sentance = BeautifulSoup(sentance, 'lxml').get_text()\r\n",
        "    sentance = decontracted(sentance)\r\n",
        "    sentance = re.sub(\"\\S*\\d\\S*\", \"\", sentance).strip()\r\n",
        "    sentance = re.sub('[^A-Za-z]+', ' ', sentance)\r\n",
        "    # https://gist.github.com/sebleier/554280\r\n",
        "    sentance = ' '.join(e.lower() for e in sentance.split() if e.lower() not in stopwords)\r\n",
        "    preprocessed_reviews.append(sentance.strip())"
      ],
      "execution_count": null,
      "outputs": []
    }
  ]
}