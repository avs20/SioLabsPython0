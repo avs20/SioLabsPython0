{
  "nbformat": 4,
  "nbformat_minor": 0,
  "metadata": {
    "colab": {
      "name": "2. PythonBasics.ipynb",
      "provenance": [],
      "authorship_tag": "ABX9TyME5gYUzXuzKJoQ0UxJDlnI",
      "include_colab_link": true
    },
    "kernelspec": {
      "name": "python3",
      "display_name": "Python 3"
    }
  },
  "cells": [
    {
      "cell_type": "markdown",
      "metadata": {
        "id": "view-in-github",
        "colab_type": "text"
      },
      "source": [
        "<a href=\"https://colab.research.google.com/github/avs20/SioLabsPython0/blob/main/2_PythonBasics.ipynb\" target=\"_parent\"><img src=\"https://colab.research.google.com/assets/colab-badge.svg\" alt=\"Open In Colab\"/></a>"
      ]
    },
    {
      "cell_type": "markdown",
      "metadata": {
        "id": "BtljbhwGWyyE"
      },
      "source": [
        "# Basics of Python\n",
        "\n",
        "1. Basic Syntax\n",
        "2. Calculator \n",
        "3. Operators\n",
        "4. Syntax Error\n",
        "5. Basic Data types (Int, float and string)\n",
        "6. Variables \n",
        "7. Assignment Operator ( = )\n",
        "8. Writing a program in python\n",
        "9. Special Functions - print(), str(), int(), float()\n",
        "10. Homework questions\n",
        "\n"
      ]
    },
    {
      "cell_type": "markdown",
      "metadata": {
        "id": "2hzJbKPOX1X9"
      },
      "source": [
        "## Calculator\n",
        "\n",
        "How to use the colab. \n",
        "\n",
        "There are 2 types of cells. \n",
        "Coding cells and markdown cells. \n",
        "\n",
        "The current cell in which this text is written is a markdown cell. \n",
        "\n",
        "In markdown cell we write text, add images and other stuff. \n",
        "This is used to tell the reader about what is happening, what are your comments and what is gonna be done next. \n",
        "\n",
        "This cells provides information and gives a structure to your code. \n",
        "\n"
      ]
    },
    {
      "cell_type": "markdown",
      "metadata": {
        "id": "rAfdlKLhYPfr"
      },
      "source": [
        "Now the next cell, below this text is a CODING cell. \n",
        "\n",
        "In coding cell we write code. Since, we are learning python so we write python code. Any valid python code can be written and run in the cell below. \n",
        "\n",
        "You can identify a coding cell by seeing square brackets [] at the start of the cell. The number inside the square bracker tells what in what order these cells are run. We will see this later. For the time being , in your Colab notebook, add a new code cell and type 2+2.\n",
        "\n",
        "Now to run the python code just written, you have 3 options \n",
        "1. Press Shift + Enter while selecting that cell \n",
        "2. Click on the play button at the left part of the coding cell \n",
        "3. Click on Runtime and Run Selection option to run the selected cell. \n",
        "\n",
        "You should see an output 4. \n",
        "\n",
        "This is how we run code in colab. We use coding cell to write the code and then run it. \n",
        "\n",
        "\n",
        "Reference : https://automatetheboringstuff.com/2e/chapter1/"
      ]
    },
    {
      "cell_type": "code",
      "metadata": {
        "id": "uviM5nQj1K-D",
        "outputId": "fab33524-4a85-47e0-ec4a-3fae711ca80c",
        "colab": {
          "base_uri": "https://localhost:8080/"
        }
      },
      "source": [
        " 2 + 2"
      ],
      "execution_count": null,
      "outputs": [
        {
          "output_type": "execute_result",
          "data": {
            "text/plain": [
              "4"
            ]
          },
          "metadata": {
            "tags": []
          },
          "execution_count": 3
        }
      ]
    },
    {
      "cell_type": "code",
      "metadata": {
        "id": "uCFOqyhm1gl0",
        "outputId": "46adf0f4-6706-4d7e-f74d-5b2d21ffa462",
        "colab": {
          "base_uri": "https://localhost:8080/"
        }
      },
      "source": [
        "1532+534"
      ],
      "execution_count": null,
      "outputs": [
        {
          "output_type": "execute_result",
          "data": {
            "text/plain": [
              "2066"
            ]
          },
          "metadata": {
            "tags": []
          },
          "execution_count": 4
        }
      ]
    },
    {
      "cell_type": "code",
      "metadata": {
        "id": "wD3NUulh1jf9",
        "outputId": "59d72921-4a0d-4471-da4a-e91c3f5f49e5",
        "colab": {
          "base_uri": "https://localhost:8080/"
        }
      },
      "source": [
        "1298*789"
      ],
      "execution_count": null,
      "outputs": [
        {
          "output_type": "execute_result",
          "data": {
            "text/plain": [
              "1024122"
            ]
          },
          "metadata": {
            "tags": []
          },
          "execution_count": 5
        }
      ]
    },
    {
      "cell_type": "markdown",
      "metadata": {
        "id": "YskoUjEZZXTT"
      },
      "source": [
        "### Expressions\n",
        "\n",
        "* values and operators\n",
        "* get reduced to a value \n",
        "* 2 + 2 = 4 \n",
        "* 2 = 2\n",
        "* We can use expression wherever value is required. \n",
        " \n"
      ]
    },
    {
      "cell_type": "code",
      "metadata": {
        "id": "OnH0NK4kZYex",
        "outputId": "c599e178-12f7-4416-8c0e-1a19bfd3fa28",
        "colab": {
          "base_uri": "https://localhost:8080/",
          "height": 136
        }
      },
      "source": [
        "2+2 = 4"
      ],
      "execution_count": null,
      "outputs": [
        {
          "output_type": "error",
          "ename": "SyntaxError",
          "evalue": "ignored",
          "traceback": [
            "\u001b[0;36m  File \u001b[0;32m\"<ipython-input-6-e8531a673daa>\"\u001b[0;36m, line \u001b[0;32m1\u001b[0m\n\u001b[0;31m    2+2 = 4\u001b[0m\n\u001b[0m           ^\u001b[0m\n\u001b[0;31mSyntaxError\u001b[0m\u001b[0;31m:\u001b[0m can't assign to operator\n"
          ]
        }
      ]
    },
    {
      "cell_type": "markdown",
      "metadata": {
        "id": "xvcCxlROZ13S"
      },
      "source": [
        "### Operators\n",
        "\n",
        "* Symbols to tell about operation \n",
        "* There are different types of operation that can be done. \n",
        "* We all know mathematical operators, +, -, *, / \n",
        "* Below are some more in addition to that "
      ]
    },
    {
      "cell_type": "markdown",
      "metadata": {
        "id": "PnLG1LVcZzd0"
      },
      "source": [
        "![image.png](data:image/png;base64,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)"
      ]
    },
    {
      "cell_type": "markdown",
      "metadata": {
        "id": "ueu6ZDNEaVQL"
      },
      "source": [
        "#### Examples of mathematical operations and results"
      ]
    },
    {
      "cell_type": "code",
      "metadata": {
        "id": "BcdCS5tFZ0-z",
        "outputId": "7e810fe5-1675-4bab-e36f-e6ccdb8015dd",
        "colab": {
          "base_uri": "https://localhost:8080/"
        }
      },
      "source": [
        "15**2"
      ],
      "execution_count": null,
      "outputs": [
        {
          "output_type": "execute_result",
          "data": {
            "text/plain": [
              "225"
            ]
          },
          "metadata": {
            "tags": []
          },
          "execution_count": 7
        }
      ]
    },
    {
      "cell_type": "code",
      "metadata": {
        "id": "zNPC2ZdZahi4",
        "outputId": "4e8412c9-e04a-4b16-c2fa-cf62a6ada965",
        "colab": {
          "base_uri": "https://localhost:8080/"
        }
      },
      "source": [
        "451 % 17"
      ],
      "execution_count": null,
      "outputs": [
        {
          "output_type": "execute_result",
          "data": {
            "text/plain": [
              "9"
            ]
          },
          "metadata": {
            "tags": []
          },
          "execution_count": 8
        }
      ]
    },
    {
      "cell_type": "code",
      "metadata": {
        "id": "BgmzCJqQ4ebj",
        "outputId": "286e2899-2907-4b51-ea55-c223d545f38d",
        "colab": {
          "base_uri": "https://localhost:8080/"
        }
      },
      "source": [
        "451 // 17 "
      ],
      "execution_count": null,
      "outputs": [
        {
          "output_type": "execute_result",
          "data": {
            "text/plain": [
              "26"
            ]
          },
          "metadata": {
            "tags": []
          },
          "execution_count": 9
        }
      ]
    },
    {
      "cell_type": "code",
      "metadata": {
        "id": "xzPxEn7h4ibI",
        "outputId": "45a65e2e-0c6e-45b2-d7c5-6ce3f46d14c4",
        "colab": {
          "base_uri": "https://localhost:8080/"
        }
      },
      "source": [
        "451 / 17 "
      ],
      "execution_count": null,
      "outputs": [
        {
          "output_type": "execute_result",
          "data": {
            "text/plain": [
              "26.529411764705884"
            ]
          },
          "metadata": {
            "tags": []
          },
          "execution_count": 10
        }
      ]
    },
    {
      "cell_type": "markdown",
      "metadata": {
        "id": "zQR-A3nUahDL"
      },
      "source": [
        "#### Evaluation of expressions \n",
        "\n",
        "![image.png](data:image/png;base64,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)"
      ]
    },
    {
      "cell_type": "code",
      "metadata": {
        "id": "LP6BkLbWany7"
      },
      "source": [
        ""
      ],
      "execution_count": null,
      "outputs": []
    },
    {
      "cell_type": "markdown",
      "metadata": {
        "id": "umgy-idpavEy"
      },
      "source": [
        "### Data types \n",
        "\n",
        "* int\n",
        "* float \n",
        "* string \n",
        "\n"
      ]
    },
    {
      "cell_type": "code",
      "metadata": {
        "id": "tnbh07TWayxE",
        "outputId": "151a4d0f-9b6a-4c20-fcf5-43b71e46c38d",
        "colab": {
          "base_uri": "https://localhost:8080/",
          "height": 36
        }
      },
      "source": [
        "name = 'Ashutosh'\n",
        "name "
      ],
      "execution_count": null,
      "outputs": [
        {
          "output_type": "execute_result",
          "data": {
            "application/vnd.google.colaboratory.intrinsic+json": {
              "type": "string"
            },
            "text/plain": [
              "'Ashutosh'"
            ]
          },
          "metadata": {
            "tags": []
          },
          "execution_count": 28
        }
      ]
    },
    {
      "cell_type": "code",
      "metadata": {
        "id": "o-2FO0JX-Uqy",
        "outputId": "fb0139eb-b3e2-4a11-f380-4987e976b671",
        "colab": {
          "base_uri": "https://localhost:8080/",
          "height": 36
        }
      },
      "source": [
        "name = \"Ashutosh2\"\n",
        "name"
      ],
      "execution_count": null,
      "outputs": [
        {
          "output_type": "execute_result",
          "data": {
            "application/vnd.google.colaboratory.intrinsic+json": {
              "type": "string"
            },
            "text/plain": [
              "'Ashutosh2'"
            ]
          },
          "metadata": {
            "tags": []
          },
          "execution_count": 29
        }
      ]
    },
    {
      "cell_type": "code",
      "metadata": {
        "id": "MxHQBvrm-ZzA",
        "outputId": "69ce91cf-2656-4ccd-bac6-4262acef8a45",
        "colab": {
          "base_uri": "https://localhost:8080/",
          "height": 36
        }
      },
      "source": [
        "name  = '''Ashutosh3'''\n",
        "name"
      ],
      "execution_count": null,
      "outputs": [
        {
          "output_type": "execute_result",
          "data": {
            "application/vnd.google.colaboratory.intrinsic+json": {
              "type": "string"
            },
            "text/plain": [
              "'Ashutosh3'"
            ]
          },
          "metadata": {
            "tags": []
          },
          "execution_count": 30
        }
      ]
    },
    {
      "cell_type": "code",
      "metadata": {
        "id": "MHrODOFJ-yX2",
        "outputId": "7053775f-3f4d-4746-9dde-3da8270322da",
        "colab": {
          "base_uri": "https://localhost:8080/",
          "height": 36
        }
      },
      "source": [
        "mystring = \"This room is Ashutosh's Room\"\n",
        "mystring"
      ],
      "execution_count": null,
      "outputs": [
        {
          "output_type": "execute_result",
          "data": {
            "application/vnd.google.colaboratory.intrinsic+json": {
              "type": "string"
            },
            "text/plain": [
              "\"This room is Ashutosh's Room\""
            ]
          },
          "metadata": {
            "tags": []
          },
          "execution_count": 35
        }
      ]
    },
    {
      "cell_type": "code",
      "metadata": {
        "id": "xj1cSgNw_KiO",
        "outputId": "4560c5a6-2ff0-4189-a742-8f749db36ae1",
        "colab": {
          "base_uri": "https://localhost:8080/",
          "height": 55
        }
      },
      "source": [
        "mystring = '''This is Ashutosh's r\n",
        "oom and he lives \n",
        "here. this room has a computer and a laptop\n",
        "and see what he\n",
        " can do in the room. '''\n",
        "mystring "
      ],
      "execution_count": null,
      "outputs": [
        {
          "output_type": "execute_result",
          "data": {
            "application/vnd.google.colaboratory.intrinsic+json": {
              "type": "string"
            },
            "text/plain": [
              "\"This is Ashutosh's r\\noom and he lives \\nhere. this room has a computer and a laptop\\nand see what he\\n can do in the room. \""
            ]
          },
          "metadata": {
            "tags": []
          },
          "execution_count": 37
        }
      ]
    },
    {
      "cell_type": "code",
      "metadata": {
        "id": "53akzoDp-pir",
        "outputId": "d9e087d6-31bc-4845-9ebf-743a638ce6ff",
        "colab": {
          "base_uri": "https://localhost:8080/"
        }
      },
      "source": [
        "name = 12 \n",
        "name"
      ],
      "execution_count": null,
      "outputs": [
        {
          "output_type": "execute_result",
          "data": {
            "text/plain": [
              "12"
            ]
          },
          "metadata": {
            "tags": []
          },
          "execution_count": 32
        }
      ]
    },
    {
      "cell_type": "markdown",
      "metadata": {
        "id": "hZVHUrq2eoZT"
      },
      "source": [
        "### Variables "
      ]
    },
    {
      "cell_type": "code",
      "metadata": {
        "id": "-Oqr0agDepzs",
        "outputId": "9caddef7-fd70-498a-baf6-1eca5b2e4369",
        "colab": {
          "base_uri": "https://localhost:8080/"
        }
      },
      "source": [
        "10000*12*2/100"
      ],
      "execution_count": null,
      "outputs": [
        {
          "output_type": "execute_result",
          "data": {
            "text/plain": [
              "2400.0"
            ]
          },
          "metadata": {
            "tags": []
          },
          "execution_count": 12
        }
      ]
    },
    {
      "cell_type": "code",
      "metadata": {
        "id": "PNTBEM5h6ptK",
        "outputId": "b5040964-0ddc-4d74-c42c-9e7643da3292",
        "colab": {
          "base_uri": "https://localhost:8080/"
        }
      },
      "source": [
        "30000*1.2*2 /100"
      ],
      "execution_count": null,
      "outputs": [
        {
          "output_type": "execute_result",
          "data": {
            "text/plain": [
              "720.0"
            ]
          },
          "metadata": {
            "tags": []
          },
          "execution_count": 14
        }
      ]
    },
    {
      "cell_type": "code",
      "metadata": {
        "id": "6u2PD6E_6wn3"
      },
      "source": [
        "principal = 10000\n",
        "rate = 12\n",
        "time = 3 "
      ],
      "execution_count": null,
      "outputs": []
    },
    {
      "cell_type": "code",
      "metadata": {
        "id": "MQe6bRMF64bu",
        "outputId": "14a3fa6f-8634-4737-e665-4c1aebebbce7",
        "colab": {
          "base_uri": "https://localhost:8080/"
        }
      },
      "source": [
        "principal"
      ],
      "execution_count": null,
      "outputs": [
        {
          "output_type": "execute_result",
          "data": {
            "text/plain": [
              "10000"
            ]
          },
          "metadata": {
            "tags": []
          },
          "execution_count": 16
        }
      ]
    },
    {
      "cell_type": "code",
      "metadata": {
        "id": "_mjb8WMj68XH",
        "outputId": "8ba010be-6ccf-4a27-8e6e-1c2447178620",
        "colab": {
          "base_uri": "https://localhost:8080/"
        }
      },
      "source": [
        "rate"
      ],
      "execution_count": null,
      "outputs": [
        {
          "output_type": "execute_result",
          "data": {
            "text/plain": [
              "12"
            ]
          },
          "metadata": {
            "tags": []
          },
          "execution_count": 17
        }
      ]
    },
    {
      "cell_type": "code",
      "metadata": {
        "id": "SwAMP_Re69-O",
        "outputId": "c487f4f2-cbd4-4853-9f95-04f291c82d41",
        "colab": {
          "base_uri": "https://localhost:8080/"
        }
      },
      "source": [
        "time"
      ],
      "execution_count": null,
      "outputs": [
        {
          "output_type": "execute_result",
          "data": {
            "text/plain": [
              "3"
            ]
          },
          "metadata": {
            "tags": []
          },
          "execution_count": 18
        }
      ]
    },
    {
      "cell_type": "code",
      "metadata": {
        "id": "rh5rJrV_7Ca6",
        "outputId": "1be5a447-31fe-46b1-93e2-520a815d57d5",
        "colab": {
          "base_uri": "https://localhost:8080/"
        }
      },
      "source": [
        "principal * rate * time / 100 "
      ],
      "execution_count": null,
      "outputs": [
        {
          "output_type": "execute_result",
          "data": {
            "text/plain": [
              "3600.0"
            ]
          },
          "metadata": {
            "tags": []
          },
          "execution_count": 19
        }
      ]
    },
    {
      "cell_type": "code",
      "metadata": {
        "id": "WPmGVfmO7IK1",
        "outputId": "391571b1-05a9-40a6-b139-71b7a9c30268",
        "colab": {
          "base_uri": "https://localhost:8080/"
        }
      },
      "source": [
        "principal = 30000 \n",
        "time = 5 \n",
        "principal * rate * time / 100 "
      ],
      "execution_count": null,
      "outputs": [
        {
          "output_type": "execute_result",
          "data": {
            "text/plain": [
              "18000.0"
            ]
          },
          "metadata": {
            "tags": []
          },
          "execution_count": 21
        }
      ]
    },
    {
      "cell_type": "code",
      "metadata": {
        "id": "xeRQlX_07Qre",
        "outputId": "f50a4b7c-7d2f-4b4c-c48a-f1c5cbb92052",
        "colab": {
          "base_uri": "https://localhost:8080/"
        }
      },
      "source": [
        "principal "
      ],
      "execution_count": null,
      "outputs": [
        {
          "output_type": "execute_result",
          "data": {
            "text/plain": [
              "30000"
            ]
          },
          "metadata": {
            "tags": []
          },
          "execution_count": 22
        }
      ]
    },
    {
      "cell_type": "code",
      "metadata": {
        "id": "No3zdmu87Ssa",
        "outputId": "34c67ab9-ec13-4c3e-e505-f5e296983e28",
        "colab": {
          "base_uri": "https://localhost:8080/"
        }
      },
      "source": [
        "time"
      ],
      "execution_count": null,
      "outputs": [
        {
          "output_type": "execute_result",
          "data": {
            "text/plain": [
              "5"
            ]
          },
          "metadata": {
            "tags": []
          },
          "execution_count": 23
        }
      ]
    },
    {
      "cell_type": "code",
      "metadata": {
        "id": "Y_Xwm5DN7jsU",
        "outputId": "87457b03-b1df-4a7a-e645-234a4c88fba8",
        "colab": {
          "base_uri": "https://localhost:8080/"
        }
      },
      "source": [
        "interest = principal * rate * time / 100\n",
        "interest"
      ],
      "execution_count": null,
      "outputs": [
        {
          "output_type": "execute_result",
          "data": {
            "text/plain": [
              "18000.0"
            ]
          },
          "metadata": {
            "tags": []
          },
          "execution_count": 24
        }
      ]
    },
    {
      "cell_type": "code",
      "metadata": {
        "id": "eUNCLXyq7wbg",
        "outputId": "2f8d2362-3bd4-4aa3-8ff3-a591c0faa62f",
        "colab": {
          "base_uri": "https://localhost:8080/"
        }
      },
      "source": [
        "principal =50000\n",
        "principal "
      ],
      "execution_count": null,
      "outputs": [
        {
          "output_type": "execute_result",
          "data": {
            "text/plain": [
              "50000"
            ]
          },
          "metadata": {
            "tags": []
          },
          "execution_count": 25
        }
      ]
    },
    {
      "cell_type": "code",
      "metadata": {
        "id": "kUyp4kcX8LMC",
        "outputId": "5600eda7-b45b-4290-a33e-5d9d24a9c67a",
        "colab": {
          "base_uri": "https://localhost:8080/"
        }
      },
      "source": [
        "interest"
      ],
      "execution_count": null,
      "outputs": [
        {
          "output_type": "execute_result",
          "data": {
            "text/plain": [
              "18000.0"
            ]
          },
          "metadata": {
            "tags": []
          },
          "execution_count": 26
        }
      ]
    },
    {
      "cell_type": "code",
      "metadata": {
        "id": "y2RmJdiv8Q9p",
        "outputId": "b775f5be-076f-4358-8d33-64bd31a1fcda",
        "colab": {
          "base_uri": "https://localhost:8080/"
        }
      },
      "source": [
        "interest = principal * rate * time / 100\n",
        "interest"
      ],
      "execution_count": null,
      "outputs": [
        {
          "output_type": "execute_result",
          "data": {
            "text/plain": [
              "30000.0"
            ]
          },
          "metadata": {
            "tags": []
          },
          "execution_count": 27
        }
      ]
    },
    {
      "cell_type": "markdown",
      "metadata": {
        "id": "UXTbUE2Sewnk"
      },
      "source": [
        "### The first program\n",
        "\n"
      ]
    },
    {
      "cell_type": "code",
      "metadata": {
        "id": "LFUNDvs86pMe"
      },
      "source": [
        ""
      ],
      "execution_count": null,
      "outputs": []
    },
    {
      "cell_type": "code",
      "metadata": {
        "id": "O4DHO6jie0XK",
        "outputId": "917a7bbf-4462-4b16-a822-727940d35c4b",
        "colab": {
          "base_uri": "https://localhost:8080/"
        }
      },
      "source": [
        "# This program says hello and asks for my name.\n",
        "\n",
        "print('Hello, world!')\n",
        "print('What is your name?')    # ask for their name\n",
        "myName = input()\n",
        "print('It is good to meet you, ' + myName)\n",
        "print('The length of your name is:')\n",
        "print(len(myName))\n",
        "print('What is your age?')    # ask for their age\n",
        "myAge = input()\n",
        "print('You will be ' + str(int(myAge) + 1) + ' in a year.')"
      ],
      "execution_count": null,
      "outputs": [
        {
          "output_type": "stream",
          "text": [
            "Hello, world!\n",
            "What is your name?\n",
            "Ashutosh\n",
            "It is good to meet you, Ashutosh\n",
            "The length of your name is:\n",
            "8\n",
            "What is your age?\n",
            "23\n",
            "You will be 24 in a year.\n"
          ],
          "name": "stdout"
        }
      ]
    },
    {
      "cell_type": "markdown",
      "metadata": {
        "id": "Hmc38Ao9_rMX"
      },
      "source": [
        "## Python Live Class 2 \n"
      ]
    },
    {
      "cell_type": "code",
      "metadata": {
        "id": "zDNQsPEB_qeI",
        "outputId": "de605f74-aaf1-48cb-dda4-6d53e1bf1a3f",
        "colab": {
          "base_uri": "https://localhost:8080/"
        }
      },
      "source": [
        "2.0 * 3.5"
      ],
      "execution_count": 1,
      "outputs": [
        {
          "output_type": "execute_result",
          "data": {
            "text/plain": [
              "7.0"
            ]
          },
          "metadata": {
            "tags": []
          },
          "execution_count": 1
        }
      ]
    },
    {
      "cell_type": "code",
      "metadata": {
        "id": "IxPPvnObe7qE",
        "outputId": "900e5a01-654a-4cda-eb54-7af0e43d3fa7",
        "colab": {
          "base_uri": "https://localhost:8080/"
        }
      },
      "source": [
        "2.0 + 3.5 "
      ],
      "execution_count": 2,
      "outputs": [
        {
          "output_type": "execute_result",
          "data": {
            "text/plain": [
              "5.5"
            ]
          },
          "metadata": {
            "tags": []
          },
          "execution_count": 2
        }
      ]
    },
    {
      "cell_type": "code",
      "metadata": {
        "id": "JCcCSVsgC-JY",
        "outputId": "e90e7958-7226-4f45-c9ac-a32be0f20f7e",
        "colab": {
          "base_uri": "https://localhost:8080/"
        }
      },
      "source": [
        "7.5 / 3.5 "
      ],
      "execution_count": 3,
      "outputs": [
        {
          "output_type": "execute_result",
          "data": {
            "text/plain": [
              "2.142857142857143"
            ]
          },
          "metadata": {
            "tags": []
          },
          "execution_count": 3
        }
      ]
    },
    {
      "cell_type": "code",
      "metadata": {
        "id": "QcJmVX_kDBOY"
      },
      "source": [
        "a  =  0.1 + 0.2 "
      ],
      "execution_count": 4,
      "outputs": []
    },
    {
      "cell_type": "code",
      "metadata": {
        "id": "pLthls_HDBQt",
        "outputId": "7b9e5442-8b7a-46ce-afd9-5b8401cc240a",
        "colab": {
          "base_uri": "https://localhost:8080/"
        }
      },
      "source": [
        "a"
      ],
      "execution_count": 5,
      "outputs": [
        {
          "output_type": "execute_result",
          "data": {
            "text/plain": [
              "0.30000000000000004"
            ]
          },
          "metadata": {
            "tags": []
          },
          "execution_count": 5
        }
      ]
    },
    {
      "cell_type": "code",
      "metadata": {
        "id": "3J90-Nk_DBVO"
      },
      "source": [
        "// , % , ** "
      ],
      "execution_count": null,
      "outputs": []
    },
    {
      "cell_type": "code",
      "metadata": {
        "id": "FSQBvKPkDBaL",
        "outputId": "7d24e039-673d-449e-f769-8232f50c3e43",
        "colab": {
          "base_uri": "https://localhost:8080/"
        }
      },
      "source": [
        "2 ** 3.5 "
      ],
      "execution_count": 6,
      "outputs": [
        {
          "output_type": "execute_result",
          "data": {
            "text/plain": [
              "11.313708498984761"
            ]
          },
          "metadata": {
            "tags": []
          },
          "execution_count": 6
        }
      ]
    },
    {
      "cell_type": "code",
      "metadata": {
        "id": "wLbqjwAsDBcn",
        "outputId": "2ff0eb21-910f-4da7-e53f-ef7425d13ef7",
        "colab": {
          "base_uri": "https://localhost:8080/"
        }
      },
      "source": [
        "2.5 % 2 "
      ],
      "execution_count": 7,
      "outputs": [
        {
          "output_type": "execute_result",
          "data": {
            "text/plain": [
              "0.5"
            ]
          },
          "metadata": {
            "tags": []
          },
          "execution_count": 7
        }
      ]
    },
    {
      "cell_type": "code",
      "metadata": {
        "id": "blKnWjG7DBfQ",
        "outputId": "8e3c514f-6ee0-4a8e-d059-b193f054771c",
        "colab": {
          "base_uri": "https://localhost:8080/"
        }
      },
      "source": [
        "4 // 3 "
      ],
      "execution_count": 8,
      "outputs": [
        {
          "output_type": "execute_result",
          "data": {
            "text/plain": [
              "1"
            ]
          },
          "metadata": {
            "tags": []
          },
          "execution_count": 8
        }
      ]
    },
    {
      "cell_type": "code",
      "metadata": {
        "id": "xrStGf6HDBic",
        "outputId": "be4ffbf0-d39b-4ce3-c2de-3e51859eb4d3",
        "colab": {
          "base_uri": "https://localhost:8080/"
        }
      },
      "source": [
        "4 // 3.0"
      ],
      "execution_count": 9,
      "outputs": [
        {
          "output_type": "execute_result",
          "data": {
            "text/plain": [
              "1.0"
            ]
          },
          "metadata": {
            "tags": []
          },
          "execution_count": 9
        }
      ]
    },
    {
      "cell_type": "markdown",
      "metadata": {
        "id": "ozNlBt4gFZZy"
      },
      "source": [
        "# Strings "
      ]
    },
    {
      "cell_type": "code",
      "metadata": {
        "id": "AXf451xMFXy8",
        "outputId": "53813fac-d65b-4d29-ff6c-3a7c48401b91",
        "colab": {
          "base_uri": "https://localhost:8080/",
          "height": 36
        }
      },
      "source": [
        "a = 'ashu'\n",
        "b = 'tosh'\n",
        "c = a + b \n",
        "c"
      ],
      "execution_count": 13,
      "outputs": [
        {
          "output_type": "execute_result",
          "data": {
            "application/vnd.google.colaboratory.intrinsic+json": {
              "type": "string"
            },
            "text/plain": [
              "'ashutosh'"
            ]
          },
          "metadata": {
            "tags": []
          },
          "execution_count": 13
        }
      ]
    },
    {
      "cell_type": "code",
      "metadata": {
        "id": "k7a3A7gZFX6-",
        "outputId": "40db9d90-00cc-4325-b2bf-802937164421",
        "colab": {
          "base_uri": "https://localhost:8080/",
          "height": 192
        }
      },
      "source": [
        "d = a - b \n",
        "d"
      ],
      "execution_count": 14,
      "outputs": [
        {
          "output_type": "error",
          "ename": "TypeError",
          "evalue": "ignored",
          "traceback": [
            "\u001b[0;31m---------------------------------------------------------------------------\u001b[0m",
            "\u001b[0;31mTypeError\u001b[0m                                 Traceback (most recent call last)",
            "\u001b[0;32m<ipython-input-14-885251a6e559>\u001b[0m in \u001b[0;36m<module>\u001b[0;34m()\u001b[0m\n\u001b[0;32m----> 1\u001b[0;31m \u001b[0md\u001b[0m \u001b[0;34m=\u001b[0m \u001b[0ma\u001b[0m \u001b[0;34m-\u001b[0m \u001b[0mb\u001b[0m\u001b[0;34m\u001b[0m\u001b[0;34m\u001b[0m\u001b[0m\n\u001b[0m\u001b[1;32m      2\u001b[0m \u001b[0md\u001b[0m\u001b[0;34m\u001b[0m\u001b[0;34m\u001b[0m\u001b[0m\n",
            "\u001b[0;31mTypeError\u001b[0m: unsupported operand type(s) for -: 'str' and 'str'"
          ]
        }
      ]
    },
    {
      "cell_type": "code",
      "metadata": {
        "id": "hYiHFIFTFX93",
        "outputId": "90d7685d-290b-4110-b502-77bcc68d8a52",
        "colab": {
          "base_uri": "https://localhost:8080/",
          "height": 174
        }
      },
      "source": [
        "a * b "
      ],
      "execution_count": 15,
      "outputs": [
        {
          "output_type": "error",
          "ename": "TypeError",
          "evalue": "ignored",
          "traceback": [
            "\u001b[0;31m---------------------------------------------------------------------------\u001b[0m",
            "\u001b[0;31mTypeError\u001b[0m                                 Traceback (most recent call last)",
            "\u001b[0;32m<ipython-input-15-6ca55548e5a8>\u001b[0m in \u001b[0;36m<module>\u001b[0;34m()\u001b[0m\n\u001b[0;32m----> 1\u001b[0;31m \u001b[0ma\u001b[0m \u001b[0;34m*\u001b[0m \u001b[0mb\u001b[0m\u001b[0;34m\u001b[0m\u001b[0;34m\u001b[0m\u001b[0m\n\u001b[0m",
            "\u001b[0;31mTypeError\u001b[0m: can't multiply sequence by non-int of type 'str'"
          ]
        }
      ]
    },
    {
      "cell_type": "code",
      "metadata": {
        "id": "vDNZWMeLFYBe",
        "outputId": "b75e2fe3-970b-469f-b106-3ba9fd28b157",
        "colab": {
          "base_uri": "https://localhost:8080/",
          "height": 174
        }
      },
      "source": [
        "a / b "
      ],
      "execution_count": 16,
      "outputs": [
        {
          "output_type": "error",
          "ename": "TypeError",
          "evalue": "ignored",
          "traceback": [
            "\u001b[0;31m---------------------------------------------------------------------------\u001b[0m",
            "\u001b[0;31mTypeError\u001b[0m                                 Traceback (most recent call last)",
            "\u001b[0;32m<ipython-input-16-a2c3c55d7cc4>\u001b[0m in \u001b[0;36m<module>\u001b[0;34m()\u001b[0m\n\u001b[0;32m----> 1\u001b[0;31m \u001b[0ma\u001b[0m \u001b[0;34m/\u001b[0m \u001b[0mb\u001b[0m\u001b[0;34m\u001b[0m\u001b[0;34m\u001b[0m\u001b[0m\n\u001b[0m",
            "\u001b[0;31mTypeError\u001b[0m: unsupported operand type(s) for /: 'str' and 'str'"
          ]
        }
      ]
    },
    {
      "cell_type": "code",
      "metadata": {
        "id": "48-i5uWgFYG1",
        "outputId": "53876f64-af59-46a4-f21e-5400c8281f33",
        "colab": {
          "base_uri": "https://localhost:8080/",
          "height": 174
        }
      },
      "source": [
        "'ashu' * 3.0 "
      ],
      "execution_count": 17,
      "outputs": [
        {
          "output_type": "error",
          "ename": "TypeError",
          "evalue": "ignored",
          "traceback": [
            "\u001b[0;31m---------------------------------------------------------------------------\u001b[0m",
            "\u001b[0;31mTypeError\u001b[0m                                 Traceback (most recent call last)",
            "\u001b[0;32m<ipython-input-17-ece532468a7a>\u001b[0m in \u001b[0;36m<module>\u001b[0;34m()\u001b[0m\n\u001b[0;32m----> 1\u001b[0;31m \u001b[0;34m'ashu'\u001b[0m \u001b[0;34m*\u001b[0m \u001b[0;36m3.0\u001b[0m\u001b[0;34m\u001b[0m\u001b[0;34m\u001b[0m\u001b[0m\n\u001b[0m",
            "\u001b[0;31mTypeError\u001b[0m: can't multiply sequence by non-int of type 'float'"
          ]
        }
      ]
    },
    {
      "cell_type": "code",
      "metadata": {
        "id": "fUqDjaX7FYFQ",
        "outputId": "654d1344-bb36-4cb6-f48e-0bb90446b890",
        "colab": {
          "base_uri": "https://localhost:8080/",
          "height": 36
        }
      },
      "source": [
        "'ashu' * 3 "
      ],
      "execution_count": 18,
      "outputs": [
        {
          "output_type": "execute_result",
          "data": {
            "application/vnd.google.colaboratory.intrinsic+json": {
              "type": "string"
            },
            "text/plain": [
              "'ashuashuashu'"
            ]
          },
          "metadata": {
            "tags": []
          },
          "execution_count": 18
        }
      ]
    },
    {
      "cell_type": "code",
      "metadata": {
        "id": "W3BC5q5UDBYz",
        "outputId": "14d735a4-c3ad-4e31-d4ab-b77001900b4e",
        "colab": {
          "base_uri": "https://localhost:8080/",
          "height": 36
        }
      },
      "source": [
        "'ashu' * 0"
      ],
      "execution_count": 20,
      "outputs": [
        {
          "output_type": "execute_result",
          "data": {
            "application/vnd.google.colaboratory.intrinsic+json": {
              "type": "string"
            },
            "text/plain": [
              "''"
            ]
          },
          "metadata": {
            "tags": []
          },
          "execution_count": 20
        }
      ]
    },
    {
      "cell_type": "code",
      "metadata": {
        "id": "5LMyseRwHSkB",
        "outputId": "dc6c5220-e4a1-4f6b-8834-48974e32df4a",
        "colab": {
          "base_uri": "https://localhost:8080/",
          "height": 174
        }
      },
      "source": [
        "'ashut' / 2"
      ],
      "execution_count": 21,
      "outputs": [
        {
          "output_type": "error",
          "ename": "TypeError",
          "evalue": "ignored",
          "traceback": [
            "\u001b[0;31m---------------------------------------------------------------------------\u001b[0m",
            "\u001b[0;31mTypeError\u001b[0m                                 Traceback (most recent call last)",
            "\u001b[0;32m<ipython-input-21-3beda776b608>\u001b[0m in \u001b[0;36m<module>\u001b[0;34m()\u001b[0m\n\u001b[0;32m----> 1\u001b[0;31m \u001b[0;34m'ashut'\u001b[0m \u001b[0;34m/\u001b[0m \u001b[0;36m2\u001b[0m\u001b[0;34m\u001b[0m\u001b[0;34m\u001b[0m\u001b[0m\n\u001b[0m",
            "\u001b[0;31mTypeError\u001b[0m: unsupported operand type(s) for /: 'str' and 'int'"
          ]
        }
      ]
    },
    {
      "cell_type": "code",
      "metadata": {
        "id": "7-OClYLGHYob",
        "outputId": "e83ad0c2-24f5-4a73-95f8-3bbfd2843b1b",
        "colab": {
          "base_uri": "https://localhost:8080/",
          "height": 174
        }
      },
      "source": [
        "'ashu' ** 2"
      ],
      "execution_count": 22,
      "outputs": [
        {
          "output_type": "error",
          "ename": "TypeError",
          "evalue": "ignored",
          "traceback": [
            "\u001b[0;31m---------------------------------------------------------------------------\u001b[0m",
            "\u001b[0;31mTypeError\u001b[0m                                 Traceback (most recent call last)",
            "\u001b[0;32m<ipython-input-22-91909e14dded>\u001b[0m in \u001b[0;36m<module>\u001b[0;34m()\u001b[0m\n\u001b[0;32m----> 1\u001b[0;31m \u001b[0;34m'ashu'\u001b[0m \u001b[0;34m**\u001b[0m \u001b[0;36m2\u001b[0m\u001b[0;34m\u001b[0m\u001b[0;34m\u001b[0m\u001b[0m\n\u001b[0m",
            "\u001b[0;31mTypeError\u001b[0m: unsupported operand type(s) for ** or pow(): 'str' and 'int'"
          ]
        }
      ]
    },
    {
      "cell_type": "markdown",
      "metadata": {
        "id": "U40my0WyHiCC"
      },
      "source": [
        "Functions : \n",
        "\n",
        "type()\n",
        "\n",
        "function use -   function_name(input)\n",
        "\n",
        "type(haathi)\n",
        "\n",
        "output - datatype of haathi "
      ]
    },
    {
      "cell_type": "code",
      "metadata": {
        "id": "I85VVlj5HbUc"
      },
      "source": [
        "haathi = 876.45 "
      ],
      "execution_count": 23,
      "outputs": []
    },
    {
      "cell_type": "code",
      "metadata": {
        "id": "14wsn5svHbXC",
        "outputId": "8835ad75-156d-4782-fdbb-dcb77800cc92",
        "colab": {
          "base_uri": "https://localhost:8080/"
        }
      },
      "source": [
        "type(haathi)"
      ],
      "execution_count": 24,
      "outputs": [
        {
          "output_type": "execute_result",
          "data": {
            "text/plain": [
              "float"
            ]
          },
          "metadata": {
            "tags": []
          },
          "execution_count": 24
        }
      ]
    },
    {
      "cell_type": "code",
      "metadata": {
        "id": "youTxdsaHbal",
        "outputId": "a0e777e9-4cc9-42d4-ab83-b5570a591c2f",
        "colab": {
          "base_uri": "https://localhost:8080/"
        }
      },
      "source": [
        "haathi = 'ashutosh'\n",
        "type(haathi)"
      ],
      "execution_count": 25,
      "outputs": [
        {
          "output_type": "execute_result",
          "data": {
            "text/plain": [
              "str"
            ]
          },
          "metadata": {
            "tags": []
          },
          "execution_count": 25
        }
      ]
    },
    {
      "cell_type": "code",
      "metadata": {
        "id": "HkAlF9u-HbdY",
        "outputId": "88d17693-7a55-4bd4-ed77-a6a5131e102a",
        "colab": {
          "base_uri": "https://localhost:8080/"
        }
      },
      "source": [
        "type(10)"
      ],
      "execution_count": 26,
      "outputs": [
        {
          "output_type": "execute_result",
          "data": {
            "text/plain": [
              "int"
            ]
          },
          "metadata": {
            "tags": []
          },
          "execution_count": 26
        }
      ]
    },
    {
      "cell_type": "code",
      "metadata": {
        "id": "Ck1fbs20HbiF",
        "outputId": "b499f146-f3a0-494e-82bc-0a1f2e659125",
        "colab": {
          "base_uri": "https://localhost:8080/"
        }
      },
      "source": [
        "type(10.5)"
      ],
      "execution_count": 27,
      "outputs": [
        {
          "output_type": "execute_result",
          "data": {
            "text/plain": [
              "float"
            ]
          },
          "metadata": {
            "tags": []
          },
          "execution_count": 27
        }
      ]
    },
    {
      "cell_type": "markdown",
      "metadata": {
        "id": "pTq2feMNIoD0"
      },
      "source": [
        "Type conversion\n",
        "\n",
        "Conversion functions \n",
        "\n",
        "\n",
        "int(input)\n",
        "\n",
        "float(input)\n",
        "\n",
        "str(input)\n",
        "\n",
        "output will be datatype of function name \n",
        "\n"
      ]
    },
    {
      "cell_type": "code",
      "metadata": {
        "id": "oNM_eKC6HbmZ",
        "outputId": "9f5b3fc5-32be-4b24-9198-c43ea3c8142b",
        "colab": {
          "base_uri": "https://localhost:8080/"
        }
      },
      "source": [
        "haathi = 10.5 \n",
        "haathi2 = int(haathi)\n",
        "\n",
        "type(haathi2)"
      ],
      "execution_count": 29,
      "outputs": [
        {
          "output_type": "execute_result",
          "data": {
            "text/plain": [
              "int"
            ]
          },
          "metadata": {
            "tags": []
          },
          "execution_count": 29
        }
      ]
    },
    {
      "cell_type": "code",
      "metadata": {
        "id": "jpVb2OxvImML",
        "outputId": "0aaaa9c5-bd9f-4080-fa30-df7025fdda52",
        "colab": {
          "base_uri": "https://localhost:8080/"
        }
      },
      "source": [
        "a = 10 \n",
        "b = float(a)\n",
        "type(b)\n",
        "\n"
      ],
      "execution_count": 30,
      "outputs": [
        {
          "output_type": "execute_result",
          "data": {
            "text/plain": [
              "float"
            ]
          },
          "metadata": {
            "tags": []
          },
          "execution_count": 30
        }
      ]
    },
    {
      "cell_type": "code",
      "metadata": {
        "id": "cFJ5Bji2ImOa",
        "outputId": "3c3c2686-6220-4ded-91b1-c3939fbbf5b6",
        "colab": {
          "base_uri": "https://localhost:8080/"
        }
      },
      "source": [
        "b"
      ],
      "execution_count": 31,
      "outputs": [
        {
          "output_type": "execute_result",
          "data": {
            "text/plain": [
              "10.0"
            ]
          },
          "metadata": {
            "tags": []
          },
          "execution_count": 31
        }
      ]
    },
    {
      "cell_type": "code",
      "metadata": {
        "id": "U1xq60JIImR0",
        "outputId": "1cbb708e-f49f-466b-d581-cca77cb9dd72",
        "colab": {
          "base_uri": "https://localhost:8080/"
        }
      },
      "source": [
        "a = 10 \n",
        "b = str(a)\n",
        "type(b)"
      ],
      "execution_count": 32,
      "outputs": [
        {
          "output_type": "execute_result",
          "data": {
            "text/plain": [
              "str"
            ]
          },
          "metadata": {
            "tags": []
          },
          "execution_count": 32
        }
      ]
    },
    {
      "cell_type": "code",
      "metadata": {
        "id": "_OOJO3DJImWG",
        "outputId": "35fcc8f3-edbd-4fff-d032-68f5054022ab",
        "colab": {
          "base_uri": "https://localhost:8080/",
          "height": 36
        }
      },
      "source": [
        "b "
      ],
      "execution_count": 33,
      "outputs": [
        {
          "output_type": "execute_result",
          "data": {
            "application/vnd.google.colaboratory.intrinsic+json": {
              "type": "string"
            },
            "text/plain": [
              "'10'"
            ]
          },
          "metadata": {
            "tags": []
          },
          "execution_count": 33
        }
      ]
    },
    {
      "cell_type": "markdown",
      "metadata": {
        "id": "A3KQKyyfJPEg"
      },
      "source": [
        "int, float can be  converted to str without any issue \n",
        "\n",
        "int can be converted to float and float can be converted to int without any issue \n",
        "\n",
        "\n"
      ]
    },
    {
      "cell_type": "code",
      "metadata": {
        "id": "-8g49kYlImap",
        "outputId": "cefa1ad7-e7b2-42f6-a7da-7063fa30ce7a",
        "colab": {
          "base_uri": "https://localhost:8080/"
        }
      },
      "source": [
        "a = '10.5'\n",
        "b = float(a)\n",
        "b"
      ],
      "execution_count": 34,
      "outputs": [
        {
          "output_type": "execute_result",
          "data": {
            "text/plain": [
              "10.5"
            ]
          },
          "metadata": {
            "tags": []
          },
          "execution_count": 34
        }
      ]
    },
    {
      "cell_type": "code",
      "metadata": {
        "id": "Jquql0tbImd3",
        "outputId": "232e0625-ffe6-4dca-82bf-fe5051dd41b9",
        "colab": {
          "base_uri": "https://localhost:8080/",
          "height": 211
        }
      },
      "source": [
        "a = '10.5'\n",
        "b = int(a)\n",
        "b"
      ],
      "execution_count": 35,
      "outputs": [
        {
          "output_type": "error",
          "ename": "ValueError",
          "evalue": "ignored",
          "traceback": [
            "\u001b[0;31m---------------------------------------------------------------------------\u001b[0m",
            "\u001b[0;31mValueError\u001b[0m                                Traceback (most recent call last)",
            "\u001b[0;32m<ipython-input-35-b2902c7a7302>\u001b[0m in \u001b[0;36m<module>\u001b[0;34m()\u001b[0m\n\u001b[1;32m      1\u001b[0m \u001b[0ma\u001b[0m \u001b[0;34m=\u001b[0m \u001b[0;34m'10.5'\u001b[0m\u001b[0;34m\u001b[0m\u001b[0;34m\u001b[0m\u001b[0m\n\u001b[0;32m----> 2\u001b[0;31m \u001b[0mb\u001b[0m \u001b[0;34m=\u001b[0m \u001b[0mint\u001b[0m\u001b[0;34m(\u001b[0m\u001b[0ma\u001b[0m\u001b[0;34m)\u001b[0m\u001b[0;34m\u001b[0m\u001b[0;34m\u001b[0m\u001b[0m\n\u001b[0m\u001b[1;32m      3\u001b[0m \u001b[0mb\u001b[0m\u001b[0;34m\u001b[0m\u001b[0;34m\u001b[0m\u001b[0m\n",
            "\u001b[0;31mValueError\u001b[0m: invalid literal for int() with base 10: '10.5'"
          ]
        }
      ]
    },
    {
      "cell_type": "markdown",
      "metadata": {
        "id": "9gpkmGeYJo7V"
      },
      "source": [
        "if converting str to int make sure there is nothing other than numbers "
      ]
    },
    {
      "cell_type": "code",
      "metadata": {
        "id": "8YERigUlImix",
        "outputId": "e1bec3d1-17a4-421d-a88b-da6dd21c2260",
        "colab": {
          "base_uri": "https://localhost:8080/"
        }
      },
      "source": [
        "a = '10.5'\n",
        "b = float(a)\n",
        "c = int(b)\n",
        "c"
      ],
      "execution_count": 37,
      "outputs": [
        {
          "output_type": "execute_result",
          "data": {
            "text/plain": [
              "10"
            ]
          },
          "metadata": {
            "tags": []
          },
          "execution_count": 37
        }
      ]
    },
    {
      "cell_type": "code",
      "metadata": {
        "id": "FdcSsCfvImhM",
        "outputId": "59901e6a-f9c6-436c-8ed4-ae34cb751e58",
        "colab": {
          "base_uri": "https://localhost:8080/",
          "height": 192
        }
      },
      "source": [
        "mystr = ' ashu got 10 '\n",
        "int(mystr)"
      ],
      "execution_count": 38,
      "outputs": [
        {
          "output_type": "error",
          "ename": "ValueError",
          "evalue": "ignored",
          "traceback": [
            "\u001b[0;31m---------------------------------------------------------------------------\u001b[0m",
            "\u001b[0;31mValueError\u001b[0m                                Traceback (most recent call last)",
            "\u001b[0;32m<ipython-input-38-bd0ca6de3035>\u001b[0m in \u001b[0;36m<module>\u001b[0;34m()\u001b[0m\n\u001b[1;32m      1\u001b[0m \u001b[0mmystr\u001b[0m \u001b[0;34m=\u001b[0m \u001b[0;34m' ashu got 10 '\u001b[0m\u001b[0;34m\u001b[0m\u001b[0;34m\u001b[0m\u001b[0m\n\u001b[0;32m----> 2\u001b[0;31m \u001b[0mint\u001b[0m\u001b[0;34m(\u001b[0m\u001b[0mmystr\u001b[0m\u001b[0;34m)\u001b[0m\u001b[0;34m\u001b[0m\u001b[0;34m\u001b[0m\u001b[0m\n\u001b[0m",
            "\u001b[0;31mValueError\u001b[0m: invalid literal for int() with base 10: ' ashu got 10 '"
          ]
        }
      ]
    },
    {
      "cell_type": "markdown",
      "metadata": {
        "id": "7YnKJBsvKmUO"
      },
      "source": [
        "Input \n",
        "\n",
        "\n",
        "input()"
      ]
    },
    {
      "cell_type": "code",
      "metadata": {
        "id": "bwbU-ucNImZV",
        "outputId": "a0b4e9ef-5810-4896-be55-44fbe3b37ef2",
        "colab": {
          "base_uri": "https://localhost:8080/",
          "height": 55
        }
      },
      "source": [
        "input()"
      ],
      "execution_count": 39,
      "outputs": [
        {
          "output_type": "stream",
          "text": [
            "10\n"
          ],
          "name": "stdout"
        },
        {
          "output_type": "execute_result",
          "data": {
            "application/vnd.google.colaboratory.intrinsic+json": {
              "type": "string"
            },
            "text/plain": [
              "'10'"
            ]
          },
          "metadata": {
            "tags": []
          },
          "execution_count": 39
        }
      ]
    },
    {
      "cell_type": "code",
      "metadata": {
        "id": "kc7rJ6NWImUx",
        "outputId": "86163a66-48fe-43b4-bbf7-843bdd8206d8",
        "colab": {
          "base_uri": "https://localhost:8080/"
        }
      },
      "source": [
        "principal = input()"
      ],
      "execution_count": 40,
      "outputs": [
        {
          "output_type": "stream",
          "text": [
            "10000\n"
          ],
          "name": "stdout"
        }
      ]
    },
    {
      "cell_type": "code",
      "metadata": {
        "id": "9QlnU3b7HbpV",
        "outputId": "a3ff3d7c-b710-4bd1-f902-7d9ee77216bc",
        "colab": {
          "base_uri": "https://localhost:8080/",
          "height": 36
        }
      },
      "source": [
        "principal "
      ],
      "execution_count": 41,
      "outputs": [
        {
          "output_type": "execute_result",
          "data": {
            "application/vnd.google.colaboratory.intrinsic+json": {
              "type": "string"
            },
            "text/plain": [
              "'10000'"
            ]
          },
          "metadata": {
            "tags": []
          },
          "execution_count": 41
        }
      ]
    },
    {
      "cell_type": "code",
      "metadata": {
        "id": "lFg5_AKWHbuS",
        "outputId": "d34da908-690e-470d-9d2d-bb0f9647e1db",
        "colab": {
          "base_uri": "https://localhost:8080/"
        }
      },
      "source": [
        "rate = input()"
      ],
      "execution_count": 42,
      "outputs": [
        {
          "output_type": "stream",
          "text": [
            "12\n"
          ],
          "name": "stdout"
        }
      ]
    },
    {
      "cell_type": "code",
      "metadata": {
        "id": "5jH0aNQZHbsp",
        "outputId": "03893592-8c4d-46d7-bd8d-19104f2e640c",
        "colab": {
          "base_uri": "https://localhost:8080/",
          "height": 174
        }
      },
      "source": [
        "interest = principal * rate * 1 / 100"
      ],
      "execution_count": 43,
      "outputs": [
        {
          "output_type": "error",
          "ename": "TypeError",
          "evalue": "ignored",
          "traceback": [
            "\u001b[0;31m---------------------------------------------------------------------------\u001b[0m",
            "\u001b[0;31mTypeError\u001b[0m                                 Traceback (most recent call last)",
            "\u001b[0;32m<ipython-input-43-1b0781445c11>\u001b[0m in \u001b[0;36m<module>\u001b[0;34m()\u001b[0m\n\u001b[0;32m----> 1\u001b[0;31m \u001b[0minterest\u001b[0m \u001b[0;34m=\u001b[0m \u001b[0mprincipal\u001b[0m \u001b[0;34m*\u001b[0m \u001b[0mrate\u001b[0m \u001b[0;34m*\u001b[0m \u001b[0;36m1\u001b[0m \u001b[0;34m/\u001b[0m \u001b[0;36m100\u001b[0m\u001b[0;34m\u001b[0m\u001b[0;34m\u001b[0m\u001b[0m\n\u001b[0m",
            "\u001b[0;31mTypeError\u001b[0m: can't multiply sequence by non-int of type 'str'"
          ]
        }
      ]
    },
    {
      "cell_type": "code",
      "metadata": {
        "id": "c_uk1rAjK3cb",
        "outputId": "8f52a6e0-cb41-49d4-fdfd-a95220d9ad11",
        "colab": {
          "base_uri": "https://localhost:8080/"
        }
      },
      "source": [
        "principal = input()\n",
        "principal = int(principal)"
      ],
      "execution_count": 44,
      "outputs": [
        {
          "output_type": "stream",
          "text": [
            "12000\n"
          ],
          "name": "stdout"
        }
      ]
    },
    {
      "cell_type": "code",
      "metadata": {
        "id": "bnnvI2iQK3fK",
        "outputId": "5178aece-fa78-4ae0-9ac8-9e03882da7f9",
        "colab": {
          "base_uri": "https://localhost:8080/"
        }
      },
      "source": [
        "principal "
      ],
      "execution_count": 45,
      "outputs": [
        {
          "output_type": "execute_result",
          "data": {
            "text/plain": [
              "12000"
            ]
          },
          "metadata": {
            "tags": []
          },
          "execution_count": 45
        }
      ]
    },
    {
      "cell_type": "code",
      "metadata": {
        "id": "QBYxPln4K3iq",
        "outputId": "87ba475d-62ad-4ca6-b52b-eeeef45b235e",
        "colab": {
          "base_uri": "https://localhost:8080/"
        }
      },
      "source": [
        "principal = int(input())\n",
        "rate = int(input())\n",
        "time = int(input())"
      ],
      "execution_count": 47,
      "outputs": [
        {
          "output_type": "stream",
          "text": [
            "12\n",
            "12000\n",
            "1\n"
          ],
          "name": "stdout"
        }
      ]
    },
    {
      "cell_type": "code",
      "metadata": {
        "id": "DBOBT1SOK3nh",
        "outputId": "ef052879-8083-4b8a-a9b1-6dffcdccc374",
        "colab": {
          "base_uri": "https://localhost:8080/"
        }
      },
      "source": [
        "principal = input('Enter the principal amount')"
      ],
      "execution_count": 48,
      "outputs": [
        {
          "output_type": "stream",
          "text": [
            "Enter the principal amount12000\n"
          ],
          "name": "stdout"
        }
      ]
    },
    {
      "cell_type": "code",
      "metadata": {
        "id": "lYzR_ls-K3l3",
        "outputId": "fa71653a-ba18-4923-ca5f-5e80bc09facd",
        "colab": {
          "base_uri": "https://localhost:8080/",
          "height": 36
        }
      },
      "source": [
        "principal "
      ],
      "execution_count": 49,
      "outputs": [
        {
          "output_type": "execute_result",
          "data": {
            "application/vnd.google.colaboratory.intrinsic+json": {
              "type": "string"
            },
            "text/plain": [
              "'12000'"
            ]
          },
          "metadata": {
            "tags": []
          },
          "execution_count": 49
        }
      ]
    },
    {
      "cell_type": "code",
      "metadata": {
        "id": "Ivy8uxncHblD",
        "outputId": "168dd52b-4f58-4dc4-8c96-2a5502068d9f",
        "colab": {
          "base_uri": "https://localhost:8080/"
        }
      },
      "source": [
        "principal = input('Enter the principal amount')\n",
        "principal = int(principal)"
      ],
      "execution_count": 50,
      "outputs": [
        {
          "output_type": "stream",
          "text": [
            "Enter the principal amount14000\n"
          ],
          "name": "stdout"
        }
      ]
    },
    {
      "cell_type": "code",
      "metadata": {
        "id": "CqnLa-WbHbgm",
        "outputId": "ef35fda4-e8a5-4712-f690-1414b4b6e674",
        "colab": {
          "base_uri": "https://localhost:8080/"
        }
      },
      "source": [
        "principal "
      ],
      "execution_count": 51,
      "outputs": [
        {
          "output_type": "execute_result",
          "data": {
            "text/plain": [
              "14000"
            ]
          },
          "metadata": {
            "tags": []
          },
          "execution_count": 51
        }
      ]
    },
    {
      "cell_type": "markdown",
      "metadata": {
        "id": "sl1uD7RLLoQw"
      },
      "source": [
        "len()\n",
        "\n",
        "sequence -- string \n",
        "\n",
        "len(string) -- > length of string "
      ]
    },
    {
      "cell_type": "code",
      "metadata": {
        "id": "s9tix8jDLwBO"
      },
      "source": [
        "name = 'ashutosh'\n",
        "length = len(name)"
      ],
      "execution_count": 52,
      "outputs": []
    },
    {
      "cell_type": "code",
      "metadata": {
        "id": "Bd9ZfbaaLwD4",
        "outputId": "ace98b85-1f2f-4dd7-937a-5e52d1dea356",
        "colab": {
          "base_uri": "https://localhost:8080/"
        }
      },
      "source": [
        "length "
      ],
      "execution_count": 53,
      "outputs": [
        {
          "output_type": "execute_result",
          "data": {
            "text/plain": [
              "8"
            ]
          },
          "metadata": {
            "tags": []
          },
          "execution_count": 53
        }
      ]
    },
    {
      "cell_type": "code",
      "metadata": {
        "id": "LjTf6x3DLwGZ",
        "outputId": "9c59e41f-1dbe-4c02-f3d3-f0bba57d3a4d",
        "colab": {
          "base_uri": "https://localhost:8080/"
        }
      },
      "source": [
        "len('ashutosh singh is a good boy')"
      ],
      "execution_count": 54,
      "outputs": [
        {
          "output_type": "execute_result",
          "data": {
            "text/plain": [
              "28"
            ]
          },
          "metadata": {
            "tags": []
          },
          "execution_count": 54
        }
      ]
    },
    {
      "cell_type": "markdown",
      "metadata": {
        "id": "_ZEjEBxmL9G_"
      },
      "source": [
        "print() \n",
        "\n",
        "print(input) prints the value of input "
      ]
    },
    {
      "cell_type": "code",
      "metadata": {
        "id": "9UCXuWTnLwMC",
        "outputId": "7fdf528f-de36-4fb9-e80f-ac0e82f25034",
        "colab": {
          "base_uri": "https://localhost:8080/"
        }
      },
      "source": [
        "name = 'ashu'\n",
        "print(name)\n",
        "age = 10\n",
        "age "
      ],
      "execution_count": 55,
      "outputs": [
        {
          "output_type": "stream",
          "text": [
            "ashu\n"
          ],
          "name": "stdout"
        },
        {
          "output_type": "execute_result",
          "data": {
            "text/plain": [
              "10"
            ]
          },
          "metadata": {
            "tags": []
          },
          "execution_count": 55
        }
      ]
    },
    {
      "cell_type": "code",
      "metadata": {
        "id": "t-TFwFfELwOy",
        "outputId": "636428aa-8394-4e5a-878c-b16674ac5534",
        "colab": {
          "base_uri": "https://localhost:8080/"
        }
      },
      "source": [
        "print('My name is ',age)"
      ],
      "execution_count": 58,
      "outputs": [
        {
          "output_type": "stream",
          "text": [
            "My name is  10\n"
          ],
          "name": "stdout"
        }
      ]
    },
    {
      "cell_type": "code",
      "metadata": {
        "id": "38E25IsCLwRj",
        "outputId": "dfb6f799-fcf0-4381-a467-c52d8eabbcab",
        "colab": {
          "base_uri": "https://localhost:8080/"
        }
      },
      "source": [
        "print('My name is ', name, 'and my age is ',age)"
      ],
      "execution_count": 60,
      "outputs": [
        {
          "output_type": "stream",
          "text": [
            "My name is  ashu and my age is  10\n"
          ],
          "name": "stdout"
        }
      ]
    },
    {
      "cell_type": "markdown",
      "metadata": {
        "id": "d_HdzlR9MfKW"
      },
      "source": [
        "## Comments \n",
        "\n",
        "non -execuatable code \n",
        "\n",
        "\n",
        "\n"
      ]
    },
    {
      "cell_type": "code",
      "metadata": {
        "id": "T0T78MvBLwUx",
        "outputId": "fe50a0b6-1efc-42a2-f962-ca24511c039f",
        "colab": {
          "base_uri": "https://localhost:8080/",
          "height": 136
        }
      },
      "source": [
        "# I am creating a variable name\n",
        "name = 'ashu'\n",
        "# I am printing a variable \n",
        "# and then assigning\n",
        "print(name)\n",
        "age = 10\n",
        "age "
      ],
      "execution_count": 62,
      "outputs": [
        {
          "output_type": "error",
          "ename": "SyntaxError",
          "evalue": "ignored",
          "traceback": [
            "\u001b[0;36m  File \u001b[0;32m\"<ipython-input-62-4e4850213c1b>\"\u001b[0;36m, line \u001b[0;32m4\u001b[0m\n\u001b[0;31m    and then assigning\u001b[0m\n\u001b[0m      ^\u001b[0m\n\u001b[0;31mSyntaxError\u001b[0m\u001b[0;31m:\u001b[0m invalid syntax\n"
          ]
        }
      ]
    },
    {
      "cell_type": "code",
      "metadata": {
        "id": "VtXs5bcNLwYN",
        "outputId": "1443a074-38c9-454a-acc2-fd5e4f1d2a64",
        "colab": {
          "base_uri": "https://localhost:8080/"
        }
      },
      "source": [
        "# I am creating a variable name\n",
        "name = 'ashu'\n",
        "'''\n",
        "I am printing a variable  and \n",
        "then creating an age variable. \n",
        "'''\n",
        "print(name)\n",
        "age = 10\n",
        "age "
      ],
      "execution_count": 63,
      "outputs": [
        {
          "output_type": "stream",
          "text": [
            "ashu\n"
          ],
          "name": "stdout"
        },
        {
          "output_type": "execute_result",
          "data": {
            "text/plain": [
              "10"
            ]
          },
          "metadata": {
            "tags": []
          },
          "execution_count": 63
        }
      ]
    },
    {
      "cell_type": "code",
      "metadata": {
        "id": "1g808oi7LwbX"
      },
      "source": [
        ""
      ],
      "execution_count": null,
      "outputs": []
    },
    {
      "cell_type": "code",
      "metadata": {
        "id": "NoCw54q3LwKx"
      },
      "source": [
        ""
      ],
      "execution_count": null,
      "outputs": []
    },
    {
      "cell_type": "markdown",
      "metadata": {
        "id": "ioBf3yIzfJu6"
      },
      "source": [
        "# Homework \n",
        "\n",
        "Practice Questions\n",
        "\n",
        "1. Which of the following are operators, and which are values?\n",
        "\n",
        "```\n",
        "*\n",
        "'hello'\n",
        "-88.8\n",
        "-\n",
        "/\n",
        "+\n",
        "5\n",
        "```\n",
        "\n",
        "2. Which of the following is a variable, and which is a string?\n",
        "\n",
        "```\n",
        "spam\n",
        "'spam'\n",
        "```\n",
        "\n",
        "3. Name three data types.\n",
        "\n",
        "4. What is an expression made up of? What do all expressions do?\n",
        "\n",
        "5. This chapter introduced assignment statements, like `spam = 10.` What is the difference between an expression and a statement?\n",
        "\n",
        "6. What does the variable bacon contain after the following code runs?\n",
        "```\n",
        "bacon = 20\n",
        "bacon + 1\n",
        "```\n",
        "7. What should the following two expressions evaluate to?\n",
        "```\n",
        "'spam' + 'spamspam'\n",
        "'spam' * 3\n",
        "```\n",
        "8. Why is eggs a valid variable name while 100 is invalid?\n",
        "\n",
        "9. What three functions can be used to get the integer, floating-point number, or string version of a value?\n",
        "\n",
        "10. Why does this expression cause an error? How can you fix it?\n",
        "\n",
        "`'I have eaten ' + 99 + ' burritos.'`\n",
        "\n",
        "Extra credit: Search online for the Python documentation for the len() function. It "
      ]
    },
    {
      "cell_type": "code",
      "metadata": {
        "id": "etSnDJF4Lu5L"
      },
      "source": [
        ""
      ],
      "execution_count": null,
      "outputs": []
    },
    {
      "cell_type": "code",
      "metadata": {
        "id": "x6D8Ib53fKhK"
      },
      "source": [
        ""
      ],
      "execution_count": null,
      "outputs": []
    }
  ]
}