{
  "nbformat": 4,
  "nbformat_minor": 0,
  "metadata": {
    "colab": {
      "name": "OOPS Classes modules in Python.ipynb",
      "provenance": [],
      "authorship_tag": "ABX9TyMu81Jqmf2VGOM66QU9yD/r",
      "include_colab_link": true
    },
    "kernelspec": {
      "name": "python3",
      "display_name": "Python 3"
    }
  },
  "cells": [
    {
      "cell_type": "markdown",
      "metadata": {
        "id": "view-in-github",
        "colab_type": "text"
      },
      "source": [
        "<a href=\"https://colab.research.google.com/github/avs20/SioLabsPython0/blob/main/10_OOPS_Classes_modules_in_Python.ipynb\" target=\"_parent\"><img src=\"https://colab.research.google.com/assets/colab-badge.svg\" alt=\"Open In Colab\"/></a>"
      ]
    },
    {
      "cell_type": "markdown",
      "metadata": {
        "id": "J9xfn5aYfl9L"
      },
      "source": [
        "OOP\n",
        "-----\n",
        "\n",
        "object oriented programming \n",
        "\n",
        "\n"
      ]
    },
    {
      "cell_type": "code",
      "metadata": {
        "id": "370wA28ylKEE"
      },
      "source": [
        "class Bird:\n",
        "\n",
        "  def __init__(self):\n",
        "    print('Inside the constructor')\n",
        "    self.color = None\n",
        "    self.wingspan = None\n",
        "    self.flyheight = None\n",
        "\n",
        "  def fly(self):\n",
        "    print('FLy Fly Fly')\n",
        "\n",
        "  "
      ],
      "execution_count": 15,
      "outputs": []
    },
    {
      "cell_type": "code",
      "metadata": {
        "colab": {
          "base_uri": "https://localhost:8080/"
        },
        "id": "EGyxkejamxvB",
        "outputId": "8de762cd-b3aa-4e31-b688-ffcd1a9597a5"
      },
      "source": [
        "sparrow = Bird()\n"
      ],
      "execution_count": 16,
      "outputs": [
        {
          "output_type": "stream",
          "text": [
            "Inside the constructor\n"
          ],
          "name": "stdout"
        }
      ]
    },
    {
      "cell_type": "code",
      "metadata": {
        "colab": {
          "base_uri": "https://localhost:8080/"
        },
        "id": "kTF4yYgCnBio",
        "outputId": "92296f64-9d19-4b34-b22a-b60b697490dd"
      },
      "source": [
        "print(sparrow.color)\n",
        "print(sparrow.wingspan)\n",
        "print(sparrow.flyheight)"
      ],
      "execution_count": 17,
      "outputs": [
        {
          "output_type": "stream",
          "text": [
            "None\n",
            "None\n",
            "None\n"
          ],
          "name": "stdout"
        }
      ]
    },
    {
      "cell_type": "code",
      "metadata": {
        "colab": {
          "base_uri": "https://localhost:8080/"
        },
        "id": "2f-AYicTnzcS",
        "outputId": "e9fface1-c80d-4d1d-8f7f-fb98e0dd5858"
      },
      "source": [
        "sparrow.color = 'blue'\n",
        "print(sparrow.color)"
      ],
      "execution_count": 18,
      "outputs": [
        {
          "output_type": "stream",
          "text": [
            "blue\n"
          ],
          "name": "stdout"
        }
      ]
    },
    {
      "cell_type": "code",
      "metadata": {
        "id": "NwfKV8GnpH_C"
      },
      "source": [
        "sparrow.wingspan = 7\n",
        "sparrow.flyheight = 15"
      ],
      "execution_count": 19,
      "outputs": []
    },
    {
      "cell_type": "code",
      "metadata": {
        "colab": {
          "base_uri": "https://localhost:8080/"
        },
        "id": "IzyBe4IHpP3a",
        "outputId": "d841a6bb-091e-46b4-8aaa-ee969af4fb39"
      },
      "source": [
        "print(sparrow.color)\n",
        "print(sparrow.wingspan)\n",
        "print(sparrow.flyheight)"
      ],
      "execution_count": 20,
      "outputs": [
        {
          "output_type": "stream",
          "text": [
            "blue\n",
            "7\n",
            "15\n"
          ],
          "name": "stdout"
        }
      ]
    },
    {
      "cell_type": "code",
      "metadata": {
        "colab": {
          "base_uri": "https://localhost:8080/"
        },
        "id": "wujLHWVzpUxl",
        "outputId": "7e795eb5-95d5-4fed-d1bb-a0a34e5adf4b"
      },
      "source": [
        "sparrow.fly()"
      ],
      "execution_count": 21,
      "outputs": [
        {
          "output_type": "stream",
          "text": [
            "FLy Fly Fly\n"
          ],
          "name": "stdout"
        }
      ]
    },
    {
      "cell_type": "code",
      "metadata": {
        "id": "csRn0PCbpWMM"
      },
      "source": [
        "class Bird:\n",
        "\n",
        "  def __init__(self):\n",
        "    print('Inside the constructor')\n",
        "    self.color = None\n",
        "    self.wingspan = None\n",
        "    self.flyheight = None\n",
        "\n",
        "  def fly(self, height):\n",
        "    self.flyheight = height\n",
        "    print (\"Fly away you \",self.color,'bird. At a height of ',self.flyheight,'with your wings of ', self.wingspan)"
      ],
      "execution_count": 24,
      "outputs": []
    },
    {
      "cell_type": "code",
      "metadata": {
        "colab": {
          "base_uri": "https://localhost:8080/"
        },
        "id": "wMwXPkTOqBn5",
        "outputId": "1dea8f33-a058-40b6-9348-8cffff0f92f1"
      },
      "source": [
        "sparrow = Bird()\n",
        "sparrow.color = 'blue'\n",
        "sparrow.wingspan = 7\n",
        "sparrow.flyheight = 15\n",
        "\n",
        "sparrow.fly(25)"
      ],
      "execution_count": 26,
      "outputs": [
        {
          "output_type": "stream",
          "text": [
            "Inside the constructor\n",
            "Fly away you  blue bird. At a height of  25 with your wings of  7\n"
          ],
          "name": "stdout"
        }
      ]
    },
    {
      "cell_type": "code",
      "metadata": {
        "colab": {
          "base_uri": "https://localhost:8080/"
        },
        "id": "rkAt9U5tradp",
        "outputId": "e0aad9ac-bd35-485c-eda0-7830bc24e754"
      },
      "source": [
        "print(sparrow.flyheight)"
      ],
      "execution_count": 27,
      "outputs": [
        {
          "output_type": "stream",
          "text": [
            "25\n"
          ],
          "name": "stdout"
        }
      ]
    },
    {
      "cell_type": "code",
      "metadata": {
        "colab": {
          "base_uri": "https://localhost:8080/"
        },
        "id": "-vLg-dhkrdID",
        "outputId": "8a74f3df-0c4d-45d5-8c5e-34e13b098019"
      },
      "source": [
        "mylist = [10,4,3,6,15]\n",
        "\n",
        "mylist.sort()\n",
        "\n",
        "print(mylist)"
      ],
      "execution_count": 28,
      "outputs": [
        {
          "output_type": "stream",
          "text": [
            "[3, 4, 6, 10, 15]\n"
          ],
          "name": "stdout"
        }
      ]
    },
    {
      "cell_type": "code",
      "metadata": {
        "id": "xdTQ0p6Etl1L"
      },
      "source": [
        "class Bird:\n",
        "\n",
        "  def __init__(self, color, wingspan, height):\n",
        "    print('Inside the constructor')\n",
        "    self.color = color\n",
        "    self.wingspan = wingspan\n",
        "    self.flyheight = height\n",
        "\n",
        "  def fly(self):\n",
        "    print (\"Fly away you \",self.color,'bird. At a height of ',self.flyheight,'with your wings of ', self.wingspan)"
      ],
      "execution_count": 29,
      "outputs": []
    },
    {
      "cell_type": "code",
      "metadata": {
        "colab": {
          "base_uri": "https://localhost:8080/"
        },
        "id": "Jme82tEot2UA",
        "outputId": "2d59dae7-8c47-4da8-9667-c13694b8df3b"
      },
      "source": [
        "eagle = Bird('black', 70, 700)"
      ],
      "execution_count": 30,
      "outputs": [
        {
          "output_type": "stream",
          "text": [
            "Inside the constructor\n"
          ],
          "name": "stdout"
        }
      ]
    },
    {
      "cell_type": "code",
      "metadata": {
        "colab": {
          "base_uri": "https://localhost:8080/"
        },
        "id": "495nYurft9ZO",
        "outputId": "7d859063-9a7d-4c01-a7ab-d2b86ba41ad9"
      },
      "source": [
        "eagle.fly()"
      ],
      "execution_count": 31,
      "outputs": [
        {
          "output_type": "stream",
          "text": [
            "Fly away you  black bird. At a height of  700 with your wings of  70\n"
          ],
          "name": "stdout"
        }
      ]
    },
    {
      "cell_type": "code",
      "metadata": {
        "colab": {
          "base_uri": "https://localhost:8080/"
        },
        "id": "DSl8J7ZSuRXC",
        "outputId": "e6443e4f-059e-454d-fbb4-646d5b720558"
      },
      "source": [
        "class Bird:\n",
        "\n",
        "  def __init__(self, color = 'green', wingspan = 10, height = 50):\n",
        "    print('Inside the constructor')\n",
        "    self.color = color\n",
        "    self.wingspan = wingspan\n",
        "    self.flyheight = height\n",
        "    self.beak = 'simple'\n",
        "\n",
        "  def fly(self):\n",
        "    print (\"Fly away you \",self.color,'bird. At a height of ',\n",
        "           self.flyheight,'with your wings of ', self.wingspan,\n",
        "           'you have beautiful beak of type', self.beak)\n",
        "    \n",
        "  def eat():\n",
        "    print('Eat away you beautiful creature')\n",
        "\n",
        "sparrow = Bird('grey', 7, 15)\n",
        "sparrow.fly()\n",
        "\n",
        "# static methods. \n",
        "Bird.eat()"
      ],
      "execution_count": 35,
      "outputs": [
        {
          "output_type": "stream",
          "text": [
            "Inside the constructor\n",
            "Fly away you  grey bird. At a height of  15 with your wings of  7 you have beautiful beak of type simple\n",
            "Eat away you beautiful creature\n"
          ],
          "name": "stdout"
        }
      ]
    },
    {
      "cell_type": "code",
      "metadata": {
        "colab": {
          "base_uri": "https://localhost:8080/"
        },
        "id": "oCRzCgHtv-9v",
        "outputId": "0a10a19f-15e8-42c8-bca0-b20f541d217b"
      },
      "source": [
        "class Bird:\n",
        "\n",
        "  def __init__(self, color = 'green', wingspan = 10, height = 50):\n",
        "    print('Inside the constructor')\n",
        "    self.color = color\n",
        "    self.wingspan = wingspan\n",
        "    self.flyheight = height\n",
        "    self.beak = 'simple'\n",
        "\n",
        "  def fly(self):\n",
        "    print (\"Fly away you \",self.color,'bird. At a height of ',\n",
        "           self.flyheight,'with your wings of ', self.wingspan,\n",
        "           'you have beautiful beak of type', self.beak)\n",
        "    \n",
        "  def eat():\n",
        "    print('Eat away you beautiful creature')\n",
        "\n",
        "sparrow = Bird('grey', 7, 15)\n",
        "sparrow.fly()\n",
        "\n"
      ],
      "execution_count": 37,
      "outputs": [
        {
          "output_type": "stream",
          "text": [
            "Inside the constructor\n",
            "Fly away you  grey bird. At a height of  15 with your wings of  7 you have beautiful beak of type simple\n"
          ],
          "name": "stdout"
        }
      ]
    },
    {
      "cell_type": "code",
      "metadata": {
        "colab": {
          "base_uri": "https://localhost:8080/"
        },
        "id": "Fugti4lbwECT",
        "outputId": "93bfd070-994d-4975-8b40-9fa4eddfae34"
      },
      "source": [
        "parrot = Bird()"
      ],
      "execution_count": 38,
      "outputs": [
        {
          "output_type": "stream",
          "text": [
            "Inside the constructor\n"
          ],
          "name": "stdout"
        }
      ]
    },
    {
      "cell_type": "code",
      "metadata": {
        "colab": {
          "base_uri": "https://localhost:8080/"
        },
        "id": "S1-aKpYYwNBv",
        "outputId": "649a930b-3c7d-4fc9-e57c-e79fd272e642"
      },
      "source": [
        "parrot.fly()"
      ],
      "execution_count": 39,
      "outputs": [
        {
          "output_type": "stream",
          "text": [
            "Fly away you  green bird. At a height of  50 with your wings of  10 you have beautiful beak of type simple\n"
          ],
          "name": "stdout"
        }
      ]
    },
    {
      "cell_type": "code",
      "metadata": {
        "id": "TWkqpf4zwiVv"
      },
      "source": [
        "class Bird:\n",
        "\n",
        "  def __init__(self):\n",
        "    print('Inside the constructor')\n",
        "    self.color = color\n",
        "    self.wingspan = wingspan\n",
        "    self.flyheight = height\n",
        "    self.beak = 'simple'\n",
        "\n",
        "  def fly(self):\n",
        "    print (\"Fly away you \",self.color,'bird. At a height of ',\n",
        "           self.flyheight,'with your wings of ', self.wingspan,\n",
        "           'you have beautiful beak of type', self.beak)\n",
        "    \n",
        "  def eat():\n",
        "    print('Eat away you beautiful creature')\n",
        "\n",
        "sparrow = Bird('grey', 7, 15)\n",
        "sparrow.fly()\n",
        "\n",
        "# static methods. \n",
        "Bird.eat()"
      ],
      "execution_count": null,
      "outputs": []
    }
  ]
}