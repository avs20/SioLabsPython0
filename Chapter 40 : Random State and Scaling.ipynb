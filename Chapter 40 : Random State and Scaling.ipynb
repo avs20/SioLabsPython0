{
  "nbformat": 4,
  "nbformat_minor": 0,
  "metadata": {
    "colab": {
      "name": "Classification and kNN.ipynb",
      "provenance": [],
      "authorship_tag": "ABX9TyPQUtQyC+AXbsdXziCaOiPP",
      "include_colab_link": true
    },
    "kernelspec": {
      "name": "python3",
      "display_name": "Python 3"
    }
  },
  "cells": [
    {
      "cell_type": "markdown",
      "metadata": {
        "id": "view-in-github",
        "colab_type": "text"
      },
      "source": [
        "<a href=\"https://colab.research.google.com/github/avs20/Accurate-Expense-Manager/blob/master/39%20%3A%20Scaling%20and%20random_state.ipynb\" target=\"_parent\"><img src=\"https://colab.research.google.com/assets/colab-badge.svg\" alt=\"Open In Colab\"/></a>"
      ]
    },
    {
      "cell_type": "code",
      "metadata": {
        "id": "DUlxfscC2aMW"
      },
      "source": [
        "import pandas as pd \r\n",
        "import sklearn \r\n",
        "import numpy\r\n",
        "import matplotlib.pyplot as plt\r\n",
        "%matplotlib inline "
      ],
      "execution_count": 1,
      "outputs": []
    },
    {
      "cell_type": "code",
      "metadata": {
        "id": "-vtBNhKp3uVx"
      },
      "source": [
        "from sklearn.datasets import load_iris\r\n",
        "data = load_iris()"
      ],
      "execution_count": 2,
      "outputs": []
    },
    {
      "cell_type": "code",
      "metadata": {
        "colab": {
          "base_uri": "https://localhost:8080/"
        },
        "id": "m8jRr4LS37yE",
        "outputId": "d8e4eba7-f1af-4a8d-aeec-c2ee8bb7eed9"
      },
      "source": [
        "print(data)"
      ],
      "execution_count": 3,
      "outputs": [
        {
          "output_type": "stream",
          "text": [
            "{'data': array([[5.1, 3.5, 1.4, 0.2],\n",
            "       [4.9, 3. , 1.4, 0.2],\n",
            "       [4.7, 3.2, 1.3, 0.2],\n",
            "       [4.6, 3.1, 1.5, 0.2],\n",
            "       [5. , 3.6, 1.4, 0.2],\n",
            "       [5.4, 3.9, 1.7, 0.4],\n",
            "       [4.6, 3.4, 1.4, 0.3],\n",
            "       [5. , 3.4, 1.5, 0.2],\n",
            "       [4.4, 2.9, 1.4, 0.2],\n",
            "       [4.9, 3.1, 1.5, 0.1],\n",
            "       [5.4, 3.7, 1.5, 0.2],\n",
            "       [4.8, 3.4, 1.6, 0.2],\n",
            "       [4.8, 3. , 1.4, 0.1],\n",
            "       [4.3, 3. , 1.1, 0.1],\n",
            "       [5.8, 4. , 1.2, 0.2],\n",
            "       [5.7, 4.4, 1.5, 0.4],\n",
            "       [5.4, 3.9, 1.3, 0.4],\n",
            "       [5.1, 3.5, 1.4, 0.3],\n",
            "       [5.7, 3.8, 1.7, 0.3],\n",
            "       [5.1, 3.8, 1.5, 0.3],\n",
            "       [5.4, 3.4, 1.7, 0.2],\n",
            "       [5.1, 3.7, 1.5, 0.4],\n",
            "       [4.6, 3.6, 1. , 0.2],\n",
            "       [5.1, 3.3, 1.7, 0.5],\n",
            "       [4.8, 3.4, 1.9, 0.2],\n",
            "       [5. , 3. , 1.6, 0.2],\n",
            "       [5. , 3.4, 1.6, 0.4],\n",
            "       [5.2, 3.5, 1.5, 0.2],\n",
            "       [5.2, 3.4, 1.4, 0.2],\n",
            "       [4.7, 3.2, 1.6, 0.2],\n",
            "       [4.8, 3.1, 1.6, 0.2],\n",
            "       [5.4, 3.4, 1.5, 0.4],\n",
            "       [5.2, 4.1, 1.5, 0.1],\n",
            "       [5.5, 4.2, 1.4, 0.2],\n",
            "       [4.9, 3.1, 1.5, 0.2],\n",
            "       [5. , 3.2, 1.2, 0.2],\n",
            "       [5.5, 3.5, 1.3, 0.2],\n",
            "       [4.9, 3.6, 1.4, 0.1],\n",
            "       [4.4, 3. , 1.3, 0.2],\n",
            "       [5.1, 3.4, 1.5, 0.2],\n",
            "       [5. , 3.5, 1.3, 0.3],\n",
            "       [4.5, 2.3, 1.3, 0.3],\n",
            "       [4.4, 3.2, 1.3, 0.2],\n",
            "       [5. , 3.5, 1.6, 0.6],\n",
            "       [5.1, 3.8, 1.9, 0.4],\n",
            "       [4.8, 3. , 1.4, 0.3],\n",
            "       [5.1, 3.8, 1.6, 0.2],\n",
            "       [4.6, 3.2, 1.4, 0.2],\n",
            "       [5.3, 3.7, 1.5, 0.2],\n",
            "       [5. , 3.3, 1.4, 0.2],\n",
            "       [7. , 3.2, 4.7, 1.4],\n",
            "       [6.4, 3.2, 4.5, 1.5],\n",
            "       [6.9, 3.1, 4.9, 1.5],\n",
            "       [5.5, 2.3, 4. , 1.3],\n",
            "       [6.5, 2.8, 4.6, 1.5],\n",
            "       [5.7, 2.8, 4.5, 1.3],\n",
            "       [6.3, 3.3, 4.7, 1.6],\n",
            "       [4.9, 2.4, 3.3, 1. ],\n",
            "       [6.6, 2.9, 4.6, 1.3],\n",
            "       [5.2, 2.7, 3.9, 1.4],\n",
            "       [5. , 2. , 3.5, 1. ],\n",
            "       [5.9, 3. , 4.2, 1.5],\n",
            "       [6. , 2.2, 4. , 1. ],\n",
            "       [6.1, 2.9, 4.7, 1.4],\n",
            "       [5.6, 2.9, 3.6, 1.3],\n",
            "       [6.7, 3.1, 4.4, 1.4],\n",
            "       [5.6, 3. , 4.5, 1.5],\n",
            "       [5.8, 2.7, 4.1, 1. ],\n",
            "       [6.2, 2.2, 4.5, 1.5],\n",
            "       [5.6, 2.5, 3.9, 1.1],\n",
            "       [5.9, 3.2, 4.8, 1.8],\n",
            "       [6.1, 2.8, 4. , 1.3],\n",
            "       [6.3, 2.5, 4.9, 1.5],\n",
            "       [6.1, 2.8, 4.7, 1.2],\n",
            "       [6.4, 2.9, 4.3, 1.3],\n",
            "       [6.6, 3. , 4.4, 1.4],\n",
            "       [6.8, 2.8, 4.8, 1.4],\n",
            "       [6.7, 3. , 5. , 1.7],\n",
            "       [6. , 2.9, 4.5, 1.5],\n",
            "       [5.7, 2.6, 3.5, 1. ],\n",
            "       [5.5, 2.4, 3.8, 1.1],\n",
            "       [5.5, 2.4, 3.7, 1. ],\n",
            "       [5.8, 2.7, 3.9, 1.2],\n",
            "       [6. , 2.7, 5.1, 1.6],\n",
            "       [5.4, 3. , 4.5, 1.5],\n",
            "       [6. , 3.4, 4.5, 1.6],\n",
            "       [6.7, 3.1, 4.7, 1.5],\n",
            "       [6.3, 2.3, 4.4, 1.3],\n",
            "       [5.6, 3. , 4.1, 1.3],\n",
            "       [5.5, 2.5, 4. , 1.3],\n",
            "       [5.5, 2.6, 4.4, 1.2],\n",
            "       [6.1, 3. , 4.6, 1.4],\n",
            "       [5.8, 2.6, 4. , 1.2],\n",
            "       [5. , 2.3, 3.3, 1. ],\n",
            "       [5.6, 2.7, 4.2, 1.3],\n",
            "       [5.7, 3. , 4.2, 1.2],\n",
            "       [5.7, 2.9, 4.2, 1.3],\n",
            "       [6.2, 2.9, 4.3, 1.3],\n",
            "       [5.1, 2.5, 3. , 1.1],\n",
            "       [5.7, 2.8, 4.1, 1.3],\n",
            "       [6.3, 3.3, 6. , 2.5],\n",
            "       [5.8, 2.7, 5.1, 1.9],\n",
            "       [7.1, 3. , 5.9, 2.1],\n",
            "       [6.3, 2.9, 5.6, 1.8],\n",
            "       [6.5, 3. , 5.8, 2.2],\n",
            "       [7.6, 3. , 6.6, 2.1],\n",
            "       [4.9, 2.5, 4.5, 1.7],\n",
            "       [7.3, 2.9, 6.3, 1.8],\n",
            "       [6.7, 2.5, 5.8, 1.8],\n",
            "       [7.2, 3.6, 6.1, 2.5],\n",
            "       [6.5, 3.2, 5.1, 2. ],\n",
            "       [6.4, 2.7, 5.3, 1.9],\n",
            "       [6.8, 3. , 5.5, 2.1],\n",
            "       [5.7, 2.5, 5. , 2. ],\n",
            "       [5.8, 2.8, 5.1, 2.4],\n",
            "       [6.4, 3.2, 5.3, 2.3],\n",
            "       [6.5, 3. , 5.5, 1.8],\n",
            "       [7.7, 3.8, 6.7, 2.2],\n",
            "       [7.7, 2.6, 6.9, 2.3],\n",
            "       [6. , 2.2, 5. , 1.5],\n",
            "       [6.9, 3.2, 5.7, 2.3],\n",
            "       [5.6, 2.8, 4.9, 2. ],\n",
            "       [7.7, 2.8, 6.7, 2. ],\n",
            "       [6.3, 2.7, 4.9, 1.8],\n",
            "       [6.7, 3.3, 5.7, 2.1],\n",
            "       [7.2, 3.2, 6. , 1.8],\n",
            "       [6.2, 2.8, 4.8, 1.8],\n",
            "       [6.1, 3. , 4.9, 1.8],\n",
            "       [6.4, 2.8, 5.6, 2.1],\n",
            "       [7.2, 3. , 5.8, 1.6],\n",
            "       [7.4, 2.8, 6.1, 1.9],\n",
            "       [7.9, 3.8, 6.4, 2. ],\n",
            "       [6.4, 2.8, 5.6, 2.2],\n",
            "       [6.3, 2.8, 5.1, 1.5],\n",
            "       [6.1, 2.6, 5.6, 1.4],\n",
            "       [7.7, 3. , 6.1, 2.3],\n",
            "       [6.3, 3.4, 5.6, 2.4],\n",
            "       [6.4, 3.1, 5.5, 1.8],\n",
            "       [6. , 3. , 4.8, 1.8],\n",
            "       [6.9, 3.1, 5.4, 2.1],\n",
            "       [6.7, 3.1, 5.6, 2.4],\n",
            "       [6.9, 3.1, 5.1, 2.3],\n",
            "       [5.8, 2.7, 5.1, 1.9],\n",
            "       [6.8, 3.2, 5.9, 2.3],\n",
            "       [6.7, 3.3, 5.7, 2.5],\n",
            "       [6.7, 3. , 5.2, 2.3],\n",
            "       [6.3, 2.5, 5. , 1.9],\n",
            "       [6.5, 3. , 5.2, 2. ],\n",
            "       [6.2, 3.4, 5.4, 2.3],\n",
            "       [5.9, 3. , 5.1, 1.8]]), 'target': array([0, 0, 0, 0, 0, 0, 0, 0, 0, 0, 0, 0, 0, 0, 0, 0, 0, 0, 0, 0, 0, 0,\n",
            "       0, 0, 0, 0, 0, 0, 0, 0, 0, 0, 0, 0, 0, 0, 0, 0, 0, 0, 0, 0, 0, 0,\n",
            "       0, 0, 0, 0, 0, 0, 1, 1, 1, 1, 1, 1, 1, 1, 1, 1, 1, 1, 1, 1, 1, 1,\n",
            "       1, 1, 1, 1, 1, 1, 1, 1, 1, 1, 1, 1, 1, 1, 1, 1, 1, 1, 1, 1, 1, 1,\n",
            "       1, 1, 1, 1, 1, 1, 1, 1, 1, 1, 1, 1, 2, 2, 2, 2, 2, 2, 2, 2, 2, 2,\n",
            "       2, 2, 2, 2, 2, 2, 2, 2, 2, 2, 2, 2, 2, 2, 2, 2, 2, 2, 2, 2, 2, 2,\n",
            "       2, 2, 2, 2, 2, 2, 2, 2, 2, 2, 2, 2, 2, 2, 2, 2, 2, 2]), 'target_names': array(['setosa', 'versicolor', 'virginica'], dtype='<U10'), 'DESCR': '.. _iris_dataset:\\n\\nIris plants dataset\\n--------------------\\n\\n**Data Set Characteristics:**\\n\\n    :Number of Instances: 150 (50 in each of three classes)\\n    :Number of Attributes: 4 numeric, predictive attributes and the class\\n    :Attribute Information:\\n        - sepal length in cm\\n        - sepal width in cm\\n        - petal length in cm\\n        - petal width in cm\\n        - class:\\n                - Iris-Setosa\\n                - Iris-Versicolour\\n                - Iris-Virginica\\n                \\n    :Summary Statistics:\\n\\n    ============== ==== ==== ======= ===== ====================\\n                    Min  Max   Mean    SD   Class Correlation\\n    ============== ==== ==== ======= ===== ====================\\n    sepal length:   4.3  7.9   5.84   0.83    0.7826\\n    sepal width:    2.0  4.4   3.05   0.43   -0.4194\\n    petal length:   1.0  6.9   3.76   1.76    0.9490  (high!)\\n    petal width:    0.1  2.5   1.20   0.76    0.9565  (high!)\\n    ============== ==== ==== ======= ===== ====================\\n\\n    :Missing Attribute Values: None\\n    :Class Distribution: 33.3% for each of 3 classes.\\n    :Creator: R.A. Fisher\\n    :Donor: Michael Marshall (MARSHALL%PLU@io.arc.nasa.gov)\\n    :Date: July, 1988\\n\\nThe famous Iris database, first used by Sir R.A. Fisher. The dataset is taken\\nfrom Fisher\\'s paper. Note that it\\'s the same as in R, but not as in the UCI\\nMachine Learning Repository, which has two wrong data points.\\n\\nThis is perhaps the best known database to be found in the\\npattern recognition literature.  Fisher\\'s paper is a classic in the field and\\nis referenced frequently to this day.  (See Duda & Hart, for example.)  The\\ndata set contains 3 classes of 50 instances each, where each class refers to a\\ntype of iris plant.  One class is linearly separable from the other 2; the\\nlatter are NOT linearly separable from each other.\\n\\n.. topic:: References\\n\\n   - Fisher, R.A. \"The use of multiple measurements in taxonomic problems\"\\n     Annual Eugenics, 7, Part II, 179-188 (1936); also in \"Contributions to\\n     Mathematical Statistics\" (John Wiley, NY, 1950).\\n   - Duda, R.O., & Hart, P.E. (1973) Pattern Classification and Scene Analysis.\\n     (Q327.D83) John Wiley & Sons.  ISBN 0-471-22361-1.  See page 218.\\n   - Dasarathy, B.V. (1980) \"Nosing Around the Neighborhood: A New System\\n     Structure and Classification Rule for Recognition in Partially Exposed\\n     Environments\".  IEEE Transactions on Pattern Analysis and Machine\\n     Intelligence, Vol. PAMI-2, No. 1, 67-71.\\n   - Gates, G.W. (1972) \"The Reduced Nearest Neighbor Rule\".  IEEE Transactions\\n     on Information Theory, May 1972, 431-433.\\n   - See also: 1988 MLC Proceedings, 54-64.  Cheeseman et al\"s AUTOCLASS II\\n     conceptual clustering system finds 3 classes in the data.\\n   - Many, many more ...', 'feature_names': ['sepal length (cm)', 'sepal width (cm)', 'petal length (cm)', 'petal width (cm)'], 'filename': '/usr/local/lib/python3.6/dist-packages/sklearn/datasets/data/iris.csv'}\n"
          ],
          "name": "stdout"
        }
      ]
    },
    {
      "cell_type": "markdown",
      "metadata": {
        "id": "NLQrhYOv8fsV"
      },
      "source": [
        "## 0 - 'setosa',\r\n",
        "## 1 - 'versicolor',\r\n",
        "## 2 - 'virginica'"
      ]
    },
    {
      "cell_type": "code",
      "metadata": {
        "colab": {
          "base_uri": "https://localhost:8080/"
        },
        "id": "VX4C2FUF3-aO",
        "outputId": "577a57b7-2c24-4fc1-8afe-97064bcb38f0"
      },
      "source": [
        "print(data['DESCR'])"
      ],
      "execution_count": 4,
      "outputs": [
        {
          "output_type": "stream",
          "text": [
            ".. _iris_dataset:\n",
            "\n",
            "Iris plants dataset\n",
            "--------------------\n",
            "\n",
            "**Data Set Characteristics:**\n",
            "\n",
            "    :Number of Instances: 150 (50 in each of three classes)\n",
            "    :Number of Attributes: 4 numeric, predictive attributes and the class\n",
            "    :Attribute Information:\n",
            "        - sepal length in cm\n",
            "        - sepal width in cm\n",
            "        - petal length in cm\n",
            "        - petal width in cm\n",
            "        - class:\n",
            "                - Iris-Setosa\n",
            "                - Iris-Versicolour\n",
            "                - Iris-Virginica\n",
            "                \n",
            "    :Summary Statistics:\n",
            "\n",
            "    ============== ==== ==== ======= ===== ====================\n",
            "                    Min  Max   Mean    SD   Class Correlation\n",
            "    ============== ==== ==== ======= ===== ====================\n",
            "    sepal length:   4.3  7.9   5.84   0.83    0.7826\n",
            "    sepal width:    2.0  4.4   3.05   0.43   -0.4194\n",
            "    petal length:   1.0  6.9   3.76   1.76    0.9490  (high!)\n",
            "    petal width:    0.1  2.5   1.20   0.76    0.9565  (high!)\n",
            "    ============== ==== ==== ======= ===== ====================\n",
            "\n",
            "    :Missing Attribute Values: None\n",
            "    :Class Distribution: 33.3% for each of 3 classes.\n",
            "    :Creator: R.A. Fisher\n",
            "    :Donor: Michael Marshall (MARSHALL%PLU@io.arc.nasa.gov)\n",
            "    :Date: July, 1988\n",
            "\n",
            "The famous Iris database, first used by Sir R.A. Fisher. The dataset is taken\n",
            "from Fisher's paper. Note that it's the same as in R, but not as in the UCI\n",
            "Machine Learning Repository, which has two wrong data points.\n",
            "\n",
            "This is perhaps the best known database to be found in the\n",
            "pattern recognition literature.  Fisher's paper is a classic in the field and\n",
            "is referenced frequently to this day.  (See Duda & Hart, for example.)  The\n",
            "data set contains 3 classes of 50 instances each, where each class refers to a\n",
            "type of iris plant.  One class is linearly separable from the other 2; the\n",
            "latter are NOT linearly separable from each other.\n",
            "\n",
            ".. topic:: References\n",
            "\n",
            "   - Fisher, R.A. \"The use of multiple measurements in taxonomic problems\"\n",
            "     Annual Eugenics, 7, Part II, 179-188 (1936); also in \"Contributions to\n",
            "     Mathematical Statistics\" (John Wiley, NY, 1950).\n",
            "   - Duda, R.O., & Hart, P.E. (1973) Pattern Classification and Scene Analysis.\n",
            "     (Q327.D83) John Wiley & Sons.  ISBN 0-471-22361-1.  See page 218.\n",
            "   - Dasarathy, B.V. (1980) \"Nosing Around the Neighborhood: A New System\n",
            "     Structure and Classification Rule for Recognition in Partially Exposed\n",
            "     Environments\".  IEEE Transactions on Pattern Analysis and Machine\n",
            "     Intelligence, Vol. PAMI-2, No. 1, 67-71.\n",
            "   - Gates, G.W. (1972) \"The Reduced Nearest Neighbor Rule\".  IEEE Transactions\n",
            "     on Information Theory, May 1972, 431-433.\n",
            "   - See also: 1988 MLC Proceedings, 54-64.  Cheeseman et al\"s AUTOCLASS II\n",
            "     conceptual clustering system finds 3 classes in the data.\n",
            "   - Many, many more ...\n"
          ],
          "name": "stdout"
        }
      ]
    },
    {
      "cell_type": "code",
      "metadata": {
        "id": "I9T30Ir34DfD"
      },
      "source": [
        "X = data['data']"
      ],
      "execution_count": 5,
      "outputs": []
    },
    {
      "cell_type": "code",
      "metadata": {
        "id": "Cif4yvLM5LdA"
      },
      "source": [
        "y = data['target']"
      ],
      "execution_count": 6,
      "outputs": []
    },
    {
      "cell_type": "code",
      "metadata": {
        "colab": {
          "base_uri": "https://localhost:8080/",
          "height": 206
        },
        "id": "EWgQYkOr5Jad",
        "outputId": "c1b36a1d-cf45-4078-9bc6-d53cdc5f3105"
      },
      "source": [
        "df = pd.DataFrame(X, columns = [\"Sepal Length\", \"Sepal Width\", \"Petal Length\", \"Petal Width\"])\r\n",
        "df.head()"
      ],
      "execution_count": 7,
      "outputs": [
        {
          "output_type": "execute_result",
          "data": {
            "text/html": [
              "<div>\n",
              "<style scoped>\n",
              "    .dataframe tbody tr th:only-of-type {\n",
              "        vertical-align: middle;\n",
              "    }\n",
              "\n",
              "    .dataframe tbody tr th {\n",
              "        vertical-align: top;\n",
              "    }\n",
              "\n",
              "    .dataframe thead th {\n",
              "        text-align: right;\n",
              "    }\n",
              "</style>\n",
              "<table border=\"1\" class=\"dataframe\">\n",
              "  <thead>\n",
              "    <tr style=\"text-align: right;\">\n",
              "      <th></th>\n",
              "      <th>Sepal Length</th>\n",
              "      <th>Sepal Width</th>\n",
              "      <th>Petal Length</th>\n",
              "      <th>Petal Width</th>\n",
              "    </tr>\n",
              "  </thead>\n",
              "  <tbody>\n",
              "    <tr>\n",
              "      <th>0</th>\n",
              "      <td>5.1</td>\n",
              "      <td>3.5</td>\n",
              "      <td>1.4</td>\n",
              "      <td>0.2</td>\n",
              "    </tr>\n",
              "    <tr>\n",
              "      <th>1</th>\n",
              "      <td>4.9</td>\n",
              "      <td>3.0</td>\n",
              "      <td>1.4</td>\n",
              "      <td>0.2</td>\n",
              "    </tr>\n",
              "    <tr>\n",
              "      <th>2</th>\n",
              "      <td>4.7</td>\n",
              "      <td>3.2</td>\n",
              "      <td>1.3</td>\n",
              "      <td>0.2</td>\n",
              "    </tr>\n",
              "    <tr>\n",
              "      <th>3</th>\n",
              "      <td>4.6</td>\n",
              "      <td>3.1</td>\n",
              "      <td>1.5</td>\n",
              "      <td>0.2</td>\n",
              "    </tr>\n",
              "    <tr>\n",
              "      <th>4</th>\n",
              "      <td>5.0</td>\n",
              "      <td>3.6</td>\n",
              "      <td>1.4</td>\n",
              "      <td>0.2</td>\n",
              "    </tr>\n",
              "  </tbody>\n",
              "</table>\n",
              "</div>"
            ],
            "text/plain": [
              "   Sepal Length  Sepal Width  Petal Length  Petal Width\n",
              "0           5.1          3.5           1.4          0.2\n",
              "1           4.9          3.0           1.4          0.2\n",
              "2           4.7          3.2           1.3          0.2\n",
              "3           4.6          3.1           1.5          0.2\n",
              "4           5.0          3.6           1.4          0.2"
            ]
          },
          "metadata": {
            "tags": []
          },
          "execution_count": 7
        }
      ]
    },
    {
      "cell_type": "code",
      "metadata": {
        "colab": {
          "base_uri": "https://localhost:8080/",
          "height": 295
        },
        "id": "iTexVc996fW2",
        "outputId": "c59d0d04-dc91-401a-ad23-5f3d37de4482"
      },
      "source": [
        "import seaborn as sns\r\n",
        "fig, ax = plt.subplots()\r\n",
        "ax.scatter(df['Sepal Length'], df['Petal Length'])\r\n",
        "ax.set_title('Sepals vs Petals')\r\n",
        "ax.set_xlabel('Sepals Length(cm)')\r\n",
        "ax.set_ylabel('Petals Length(cm)')\r\n",
        "plt.show()"
      ],
      "execution_count": 10,
      "outputs": [
        {
          "output_type": "display_data",
          "data": {
            "image/png": "[encoded data removed]",
            "text/plain": [
              "<Figure size 432x288 with 1 Axes>"
            ]
          },
          "metadata": {
            "tags": [],
            "needs_background": "light"
          }
        }
      ]
    },
    {
      "cell_type": "code",
      "metadata": {
        "colab": {
          "base_uri": "https://localhost:8080/",
          "height": 401
        },
        "id": "gGbWrWzV80MO",
        "outputId": "48072af2-eeb1-47cc-a7ec-ccb0061d0887"
      },
      "source": [
        "sns.relplot(x = 'Sepal Length', y = 'Petal Length', data = df, hue = y)"
      ],
      "execution_count": 11,
      "outputs": [
        {
          "output_type": "execute_result",
          "data": {
            "text/plain": [
              "<seaborn.axisgrid.FacetGrid at 0x7f7a30f06940>"
            ]
          },
          "metadata": {
            "tags": []
          },
          "execution_count": 11
        },
        {
          "output_type": "display_data",
          "data": {
            "image/png": "[encoded data removed]",
            "text/plain": [
              "<Figure size 402.375x360 with 1 Axes>"
            ]
          },
          "metadata": {
            "tags": [],
            "needs_background": "light"
          }
        }
      ]
    },
    {
      "cell_type": "code",
      "metadata": {
        "colab": {
          "base_uri": "https://localhost:8080/",
          "height": 295
        },
        "id": "VTUykox97CSd",
        "outputId": "8f1acfd7-05cc-4a86-dfe3-a3803bedb884"
      },
      "source": [
        "fig, ax = plt.subplots()\r\n",
        "ax.scatter(df['Sepal Width'], df['Petal Width'])\r\n",
        "ax.set_title('Sepals vs Petals')\r\n",
        "ax.set_xlabel('Sepals Width(cm)')\r\n",
        "ax.set_ylabel('Petals Width(cm)')\r\n",
        "plt.show()"
      ],
      "execution_count": 12,
      "outputs": [
        {
          "output_type": "display_data",
          "data": {
            "image/png": "[encoded data removed]",
            "text/plain": [
              "<Figure size 432x288 with 1 Axes>"
            ]
          },
          "metadata": {
            "tags": [],
            "needs_background": "light"
          }
        }
      ]
    },
    {
      "cell_type": "code",
      "metadata": {
        "colab": {
          "base_uri": "https://localhost:8080/",
          "height": 383
        },
        "id": "ceCsPGHX8B1u",
        "outputId": "0adbc774-e7d5-40d4-fb47-2e203f579ac8"
      },
      "source": [
        "import seaborn as sns \r\n",
        "\r\n",
        "sns.relplot(x = 'Sepal Width',y ='Petal Width', data = df, hue = y, kind = \"scatter\")\r\n",
        "\r\n",
        "plt.show()"
      ],
      "execution_count": 13,
      "outputs": [
        {
          "output_type": "display_data",
          "data": {
            "image/png": "[encoded data removed]",
            "text/plain": [
              "<Figure size 402.375x360 with 1 Axes>"
            ]
          },
          "metadata": {
            "tags": [],
            "needs_background": "light"
          }
        }
      ]
    },
    {
      "cell_type": "code",
      "metadata": {
        "id": "gj1vi5RT8S2P"
      },
      "source": [
        "from sklearn.neighbors import KNeighborsClassifier"
      ],
      "execution_count": 14,
      "outputs": []
    },
    {
      "cell_type": "code",
      "metadata": {
        "id": "IZxjDUyBDsvn"
      },
      "source": [
        "knn = KNeighborsClassifier(n_neighbors= 3)\r\n"
      ],
      "execution_count": 15,
      "outputs": []
    },
    {
      "cell_type": "code",
      "metadata": {
        "colab": {
          "base_uri": "https://localhost:8080/"
        },
        "id": "lZxTohc3D4Ld",
        "outputId": "a9c1b0a5-be52-415e-88e9-d5d160726ab9"
      },
      "source": [
        "knn.fit(X, y)"
      ],
      "execution_count": 16,
      "outputs": [
        {
          "output_type": "execute_result",
          "data": {
            "text/plain": [
              "KNeighborsClassifier(algorithm='auto', leaf_size=30, metric='minkowski',\n",
              "                     metric_params=None, n_jobs=None, n_neighbors=3, p=2,\n",
              "                     weights='uniform')"
            ]
          },
          "metadata": {
            "tags": []
          },
          "execution_count": 16
        }
      ]
    },
    {
      "cell_type": "code",
      "metadata": {
        "colab": {
          "base_uri": "https://localhost:8080/"
        },
        "id": "3XOsvDGfD8PM",
        "outputId": "8e246222-6933-43c7-ee4d-6a13423edbbe"
      },
      "source": [
        "knn.predict([[2.5, 2.5, 6.5, 4.5]])"
      ],
      "execution_count": 17,
      "outputs": [
        {
          "output_type": "execute_result",
          "data": {
            "text/plain": [
              "array([2])"
            ]
          },
          "metadata": {
            "tags": []
          },
          "execution_count": 17
        }
      ]
    },
    {
      "cell_type": "code",
      "metadata": {
        "id": "c0BvWasEEDau"
      },
      "source": [
        "preds = knn.predict(X)"
      ],
      "execution_count": 18,
      "outputs": []
    },
    {
      "cell_type": "code",
      "metadata": {
        "id": "eZo4pferETKO",
        "colab": {
          "base_uri": "https://localhost:8080/"
        },
        "outputId": "bdf36e34-49a4-4742-b8f9-490b3f7e8721"
      },
      "source": [
        "preds"
      ],
      "execution_count": 19,
      "outputs": [
        {
          "output_type": "execute_result",
          "data": {
            "text/plain": [
              "array([0, 0, 0, 0, 0, 0, 0, 0, 0, 0, 0, 0, 0, 0, 0, 0, 0, 0, 0, 0, 0, 0,\n",
              "       0, 0, 0, 0, 0, 0, 0, 0, 0, 0, 0, 0, 0, 0, 0, 0, 0, 0, 0, 0, 0, 0,\n",
              "       0, 0, 0, 0, 0, 0, 1, 1, 1, 1, 1, 1, 1, 1, 1, 1, 1, 1, 1, 1, 1, 1,\n",
              "       1, 1, 1, 1, 2, 1, 2, 1, 1, 1, 1, 1, 1, 1, 1, 1, 1, 2, 1, 1, 1, 1,\n",
              "       1, 1, 1, 1, 1, 1, 1, 1, 1, 1, 1, 1, 2, 2, 2, 2, 2, 2, 1, 2, 2, 2,\n",
              "       2, 2, 2, 2, 2, 2, 2, 2, 2, 1, 2, 2, 2, 2, 2, 2, 2, 2, 2, 2, 2, 2,\n",
              "       2, 1, 2, 2, 2, 2, 2, 2, 2, 2, 2, 2, 2, 2, 2, 2, 2, 2])"
            ]
          },
          "metadata": {
            "tags": []
          },
          "execution_count": 19
        }
      ]
    },
    {
      "cell_type": "code",
      "metadata": {
        "id": "HEcw6bIeEUKk",
        "colab": {
          "base_uri": "https://localhost:8080/"
        },
        "outputId": "61698cca-9d4e-4173-cd6e-576760c937ad"
      },
      "source": [
        "from sklearn.metrics import accuracy_score\r\n",
        "\r\n",
        "print(accuracy_score(y, preds))"
      ],
      "execution_count": 20,
      "outputs": [
        {
          "output_type": "stream",
          "text": [
            "0.96\n"
          ],
          "name": "stdout"
        }
      ]
    },
    {
      "cell_type": "code",
      "metadata": {
        "colab": {
          "base_uri": "https://localhost:8080/"
        },
        "id": "mXojJgcoF8Mf",
        "outputId": "77ce1a2b-1e4e-4af3-ca2f-679bb69acf57"
      },
      "source": [
        "144/150\r\n"
      ],
      "execution_count": 21,
      "outputs": [
        {
          "output_type": "execute_result",
          "data": {
            "text/plain": [
              "0.96"
            ]
          },
          "metadata": {
            "tags": []
          },
          "execution_count": 21
        }
      ]
    },
    {
      "cell_type": "code",
      "metadata": {
        "colab": {
          "base_uri": "https://localhost:8080/"
        },
        "id": "-JJiNC4xF96s",
        "outputId": "fe14f579-76f9-4570-a599-6592cee45f6b"
      },
      "source": [
        "from sklearn.metrics import confusion_matrix\r\n",
        "confusion_matrix(y, preds)"
      ],
      "execution_count": 22,
      "outputs": [
        {
          "output_type": "execute_result",
          "data": {
            "text/plain": [
              "array([[50,  0,  0],\n",
              "       [ 0, 47,  3],\n",
              "       [ 0,  3, 47]])"
            ]
          },
          "metadata": {
            "tags": []
          },
          "execution_count": 22
        }
      ]
    },
    {
      "cell_type": "code",
      "metadata": {
        "colab": {
          "base_uri": "https://localhost:8080/"
        },
        "id": "nGr6B3nsGR9V",
        "outputId": "1c869773-3f1b-44ca-9d11-e5518f0c7e28"
      },
      "source": [
        "import numpy as np \r\n",
        "# now we will check with different values of k and see how accuracy changes with different values\r\n",
        "accuracy = []\r\n",
        "models = []\r\n",
        "\r\n",
        "for k in range(1, 12):\r\n",
        "  kNN = KNeighborsClassifier(n_neighbors = k)\r\n",
        "  kNN.fit(X, y)\r\n",
        "  preds = kNN.predict(X)\r\n",
        "  accuracy.append(accuracy_score(y, preds))\r\n",
        "  models.append(kNN)\r\n",
        "\r\n",
        "results_df = pd.DataFrame({'k':np.arange(1,12), 'accuracy': accuracy})\r\n",
        "\r\n",
        "print(results_df)\r\n"
      ],
      "execution_count": 23,
      "outputs": [
        {
          "output_type": "stream",
          "text": [
            "     k  accuracy\n",
            "0    1  1.000000\n",
            "1    2  0.980000\n",
            "2    3  0.960000\n",
            "3    4  0.960000\n",
            "4    5  0.966667\n",
            "5    6  0.973333\n",
            "6    7  0.973333\n",
            "7    8  0.980000\n",
            "8    9  0.980000\n",
            "9   10  0.980000\n",
            "10  11  0.973333\n"
          ],
          "name": "stdout"
        }
      ]
    },
    {
      "cell_type": "code",
      "metadata": {
        "colab": {
          "base_uri": "https://localhost:8080/",
          "height": 401
        },
        "id": "_zkGB2Y2ImhP",
        "outputId": "d4a2fa6c-5441-4588-aa7a-59e54039c3e6"
      },
      "source": [
        "sns.relplot(x = 'k', y = 'accuracy', data = results_df, kind=\"line\")"
      ],
      "execution_count": 24,
      "outputs": [
        {
          "output_type": "execute_result",
          "data": {
            "text/plain": [
              "<seaborn.axisgrid.FacetGrid at 0x7f7a2a96a550>"
            ]
          },
          "metadata": {
            "tags": []
          },
          "execution_count": 24
        },
        {
          "output_type": "display_data",
          "data": {
            "image/png": "[encoded data removed]",
            "text/plain": [
              "<Figure size 360x360 with 1 Axes>"
            ]
          },
          "metadata": {
            "tags": [],
            "needs_background": "light"
          }
        }
      ]
    },
    {
      "cell_type": "code",
      "metadata": {
        "id": "fLk24Ec_I09N"
      },
      "source": [
        ""
      ],
      "execution_count": 24,
      "outputs": []
    },
    {
      "cell_type": "markdown",
      "metadata": {
        "id": "iP9SvuxVKWYZ"
      },
      "source": [
        "# 100 %\r\n"
      ]
    },
    {
      "cell_type": "code",
      "metadata": {
        "colab": {
          "base_uri": "https://localhost:8080/"
        },
        "id": "q4gWcoekKXhN",
        "outputId": "9d1a6030-8920-4cda-de9b-ec3bbb6fcbe8"
      },
      "source": [
        "kNN = KNeighborsClassifier(n_neighbors = 1)\r\n",
        "kNN.fit(X, y)\r\n",
        "preds = kNN.predict(X)\r\n",
        "accuracy_score(y, preds)"
      ],
      "execution_count": 25,
      "outputs": [
        {
          "output_type": "execute_result",
          "data": {
            "text/plain": [
              "1.0"
            ]
          },
          "metadata": {
            "tags": []
          },
          "execution_count": 25
        }
      ]
    },
    {
      "cell_type": "code",
      "metadata": {
        "colab": {
          "base_uri": "https://localhost:8080/"
        },
        "id": "C-Fr3TRWPemm",
        "outputId": "ef68658d-b9fa-44c3-f021-9c354193814e"
      },
      "source": [
        "# train test split \r\n",
        "from sklearn.model_selection import train_test_split\r\n",
        "\r\n",
        "train_X, test_X, train_y, test_y = train_test_split(X, y, test_size = 0.3 )\r\n",
        "\r\n",
        "print(train_X.shape)\r\n",
        "print(train_y.shape)\r\n",
        "print(test_X.shape)\r\n",
        "print(test_y.shape)"
      ],
      "execution_count": 26,
      "outputs": [
        {
          "output_type": "stream",
          "text": [
            "(105, 4)\n",
            "(105,)\n",
            "(45, 4)\n",
            "(45,)\n"
          ],
          "name": "stdout"
        }
      ]
    },
    {
      "cell_type": "code",
      "metadata": {
        "colab": {
          "base_uri": "https://localhost:8080/"
        },
        "id": "oXeoXRjeQEFU",
        "outputId": "9d32700b-f5d2-40ef-b2cc-bf5db145a36e"
      },
      "source": [
        "kNN = KNeighborsClassifier(n_neighbors = 5)\r\n",
        "kNN.fit(train_X, train_y)\r\n",
        "preds = kNN.predict(test_X)\r\n",
        "accuracy_score(test_y, preds)"
      ],
      "execution_count": 27,
      "outputs": [
        {
          "output_type": "execute_result",
          "data": {
            "text/plain": [
              "0.9555555555555556"
            ]
          },
          "metadata": {
            "tags": []
          },
          "execution_count": 27
        }
      ]
    },
    {
      "cell_type": "markdown",
      "metadata": {
        "id": "dCGKs-gjdutU"
      },
      "source": [
        "## dividing the dataset\r\n"
      ]
    },
    {
      "cell_type": "code",
      "metadata": {
        "id": "gS6qfY8iQNj_",
        "colab": {
          "base_uri": "https://localhost:8080/"
        },
        "outputId": "bac0e5fc-584b-4af0-a1b6-ceb567e1f039"
      },
      "source": [
        "# train test split \r\n",
        "from sklearn.model_selection import train_test_split\r\n",
        "\r\n",
        "train_X, test_X, train_y, test_y = train_test_split(X, y, test_size = 0.3 )\r\n",
        "\r\n",
        "print(train_X.shape)\r\n",
        "print(train_y.shape)\r\n",
        "print(test_X.shape)\r\n",
        "print(test_y.shape)\r\n",
        "\r\n",
        "print(train_y)\r\n",
        "print(\"=======================\")\r\n",
        "print(test_y)"
      ],
      "execution_count": 28,
      "outputs": [
        {
          "output_type": "stream",
          "text": [
            "(105, 4)\n",
            "(105,)\n",
            "(45, 4)\n",
            "(45,)\n",
            "[2 1 1 1 2 2 2 2 0 1 0 0 2 0 2 1 0 1 0 2 2 0 0 0 0 0 2 2 2 1 2 1 1 2 0 1 0\n",
            " 2 0 2 0 1 0 2 2 0 0 1 0 1 0 0 0 2 2 1 2 1 2 0 0 0 1 0 0 0 0 1 1 2 2 1 1 1\n",
            " 0 2 0 1 0 2 1 1 0 1 0 2 0 1 1 1 1 2 1 0 1 0 1 0 1 1 2 1 1 1 2]\n",
            "=======================\n",
            "[2 1 0 0 0 2 2 2 1 2 2 2 1 2 2 0 1 2 0 1 1 1 0 2 0 2 1 2 2 1 0 1 2 2 2 0 1\n",
            " 2 0 1 0 0 1 2 2]\n"
          ],
          "name": "stdout"
        }
      ]
    },
    {
      "cell_type": "code",
      "metadata": {
        "colab": {
          "base_uri": "https://localhost:8080/"
        },
        "id": "ovfYAbP9d1kU",
        "outputId": "c7140976-af82-4af3-ce10-bbf5a9aee7f5"
      },
      "source": [
        "# train test split \r\n",
        "from sklearn.model_selection import train_test_split\r\n",
        "\r\n",
        "train_X, test_X, train_y, test_y = train_test_split(X, y, test_size = 0.3 )\r\n",
        "\r\n",
        "print(train_X.shape)\r\n",
        "print(train_y.shape)\r\n",
        "print(test_X.shape)\r\n",
        "print(test_y.shape)\r\n",
        "\r\n",
        "print(train_y)\r\n",
        "print(\"=======================\")\r\n",
        "print(test_y)"
      ],
      "execution_count": 29,
      "outputs": [
        {
          "output_type": "stream",
          "text": [
            "(105, 4)\n",
            "(105,)\n",
            "(45, 4)\n",
            "(45,)\n",
            "[0 2 0 2 2 0 1 0 0 2 1 1 1 0 2 1 0 0 0 2 1 1 1 1 0 2 1 0 2 1 2 1 2 0 1 0 1\n",
            " 1 0 2 0 0 1 2 1 1 2 2 0 0 0 0 0 0 0 1 2 1 2 2 0 1 0 1 0 0 1 2 2 2 2 1 2 2\n",
            " 0 2 2 2 1 1 2 2 2 0 1 0 1 1 0 2 0 2 1 1 0 0 2 1 0 1 1 1 2 2 0]\n",
            "=======================\n",
            "[2 1 2 1 0 2 0 2 0 1 0 2 2 1 0 1 0 0 0 1 0 2 1 1 1 2 2 2 0 2 0 0 1 2 0 0 1\n",
            " 1 1 2 2 1 2 1 2]\n"
          ],
          "name": "stdout"
        }
      ]
    },
    {
      "cell_type": "code",
      "metadata": {
        "colab": {
          "base_uri": "https://localhost:8080/"
        },
        "id": "_-F9MwWoe0wz",
        "outputId": "6bf05795-0ff7-411a-8ae4-026b8f7e61fd"
      },
      "source": [
        "# train test split \r\n",
        "from sklearn.model_selection import train_test_split\r\n",
        "\r\n",
        "train_X, test_X, train_y, test_y = train_test_split(X, y, test_size = 0.3, random_state = 42 )\r\n",
        "\r\n",
        "print(train_X.shape)\r\n",
        "print(train_y.shape)\r\n",
        "print(test_X.shape)\r\n",
        "print(test_y.shape)\r\n",
        "\r\n",
        "print(train_y)\r\n",
        "print(test_y)\r\n",
        "print(\"=======================\")\r\n",
        "train_X, test_X, train_y, test_y = train_test_split(X, y, test_size = 0.3, random_state = 42 )\r\n",
        "\r\n",
        "print(train_X.shape)\r\n",
        "print(train_y.shape)\r\n",
        "print(test_X.shape)\r\n",
        "print(test_y.shape)\r\n",
        "\r\n",
        "print(train_y)\r\n",
        "print(test_y)"
      ],
      "execution_count": 31,
      "outputs": [
        {
          "output_type": "stream",
          "text": [
            "(105, 4)\n",
            "(105,)\n",
            "(45, 4)\n",
            "(45,)\n",
            "[1 2 2 1 2 1 2 1 0 2 1 0 0 0 1 2 0 0 0 1 0 1 2 0 1 2 0 2 2 1 1 2 1 0 1 2 0\n",
            " 0 1 1 0 2 0 0 1 1 2 1 2 2 1 0 0 2 2 0 0 0 1 2 0 2 2 0 1 1 2 1 2 0 2 1 2 1\n",
            " 1 1 0 1 1 0 1 2 2 0 1 2 2 0 2 0 1 2 2 1 2 1 1 2 2 0 1 2 0 1 2]\n",
            "[1 0 2 1 1 0 1 2 1 1 2 0 0 0 0 1 2 1 1 2 0 2 0 2 2 2 2 2 0 0 0 0 1 0 0 2 1\n",
            " 0 0 0 2 1 1 0 0]\n",
            "=======================\n",
            "(105, 4)\n",
            "(105,)\n",
            "(45, 4)\n",
            "(45,)\n",
            "[1 2 2 1 2 1 2 1 0 2 1 0 0 0 1 2 0 0 0 1 0 1 2 0 1 2 0 2 2 1 1 2 1 0 1 2 0\n",
            " 0 1 1 0 2 0 0 1 1 2 1 2 2 1 0 0 2 2 0 0 0 1 2 0 2 2 0 1 1 2 1 2 0 2 1 2 1\n",
            " 1 1 0 1 1 0 1 2 2 0 1 2 2 0 2 0 1 2 2 1 2 1 1 2 2 0 1 2 0 1 2]\n",
            "[1 0 2 1 1 0 1 2 1 1 2 0 0 0 0 1 2 1 1 2 0 2 0 2 2 2 2 2 0 0 0 0 1 0 0 2 1\n",
            " 0 0 0 2 1 1 0 0]\n"
          ],
          "name": "stdout"
        }
      ]
    },
    {
      "cell_type": "markdown",
      "metadata": {
        "id": "kq-ezMydfnFU"
      },
      "source": [
        "KNN Regression \r\n",
        "-------\r\n"
      ]
    },
    {
      "cell_type": "code",
      "metadata": {
        "id": "SCelG24hfEZD"
      },
      "source": [
        "from sklearn.preprocessing import StandardScaler\r\n"
      ],
      "execution_count": 33,
      "outputs": []
    },
    {
      "cell_type": "code",
      "metadata": {
        "colab": {
          "base_uri": "https://localhost:8080/"
        },
        "id": "n8Y_7bZzkHdt",
        "outputId": "0c4cd564-50a1-402c-de90-545c2ea68ab7"
      },
      "source": [
        "train_X"
      ],
      "execution_count": 34,
      "outputs": [
        {
          "output_type": "execute_result",
          "data": {
            "text/plain": [
              "array([[5.5, 2.4, 3.7, 1. ],\n",
              "       [6.3, 2.8, 5.1, 1.5],\n",
              "       [6.4, 3.1, 5.5, 1.8],\n",
              "       [6.6, 3. , 4.4, 1.4],\n",
              "       [7.2, 3.6, 6.1, 2.5],\n",
              "       [5.7, 2.9, 4.2, 1.3],\n",
              "       [7.6, 3. , 6.6, 2.1],\n",
              "       [5.6, 3. , 4.5, 1.5],\n",
              "       [5.1, 3.5, 1.4, 0.2],\n",
              "       [7.7, 2.8, 6.7, 2. ],\n",
              "       [5.8, 2.7, 4.1, 1. ],\n",
              "       [5.2, 3.4, 1.4, 0.2],\n",
              "       [5. , 3.5, 1.3, 0.3],\n",
              "       [5.1, 3.8, 1.9, 0.4],\n",
              "       [5. , 2. , 3.5, 1. ],\n",
              "       [6.3, 2.7, 4.9, 1.8],\n",
              "       [4.8, 3.4, 1.9, 0.2],\n",
              "       [5. , 3. , 1.6, 0.2],\n",
              "       [5.1, 3.3, 1.7, 0.5],\n",
              "       [5.6, 2.7, 4.2, 1.3],\n",
              "       [5.1, 3.4, 1.5, 0.2],\n",
              "       [5.7, 3. , 4.2, 1.2],\n",
              "       [7.7, 3.8, 6.7, 2.2],\n",
              "       [4.6, 3.2, 1.4, 0.2],\n",
              "       [6.2, 2.9, 4.3, 1.3],\n",
              "       [5.7, 2.5, 5. , 2. ],\n",
              "       [5.5, 4.2, 1.4, 0.2],\n",
              "       [6. , 3. , 4.8, 1.8],\n",
              "       [5.8, 2.7, 5.1, 1.9],\n",
              "       [6. , 2.2, 4. , 1. ],\n",
              "       [5.4, 3. , 4.5, 1.5],\n",
              "       [6.2, 3.4, 5.4, 2.3],\n",
              "       [5.5, 2.3, 4. , 1.3],\n",
              "       [5.4, 3.9, 1.7, 0.4],\n",
              "       [5. , 2.3, 3.3, 1. ],\n",
              "       [6.4, 2.7, 5.3, 1.9],\n",
              "       [5. , 3.3, 1.4, 0.2],\n",
              "       [5. , 3.2, 1.2, 0.2],\n",
              "       [5.5, 2.4, 3.8, 1.1],\n",
              "       [6.7, 3. , 5. , 1.7],\n",
              "       [4.9, 3.1, 1.5, 0.2],\n",
              "       [5.8, 2.8, 5.1, 2.4],\n",
              "       [5. , 3.4, 1.5, 0.2],\n",
              "       [5. , 3.5, 1.6, 0.6],\n",
              "       [5.9, 3.2, 4.8, 1.8],\n",
              "       [5.1, 2.5, 3. , 1.1],\n",
              "       [6.9, 3.2, 5.7, 2.3],\n",
              "       [6. , 2.7, 5.1, 1.6],\n",
              "       [6.1, 2.6, 5.6, 1.4],\n",
              "       [7.7, 3. , 6.1, 2.3],\n",
              "       [5.5, 2.5, 4. , 1.3],\n",
              "       [4.4, 2.9, 1.4, 0.2],\n",
              "       [4.3, 3. , 1.1, 0.1],\n",
              "       [6. , 2.2, 5. , 1.5],\n",
              "       [7.2, 3.2, 6. , 1.8],\n",
              "       [4.6, 3.1, 1.5, 0.2],\n",
              "       [5.1, 3.5, 1.4, 0.3],\n",
              "       [4.4, 3. , 1.3, 0.2],\n",
              "       [6.3, 2.5, 4.9, 1.5],\n",
              "       [6.3, 3.4, 5.6, 2.4],\n",
              "       [4.6, 3.4, 1.4, 0.3],\n",
              "       [6.8, 3. , 5.5, 2.1],\n",
              "       [6.3, 3.3, 6. , 2.5],\n",
              "       [4.7, 3.2, 1.3, 0.2],\n",
              "       [6.1, 2.9, 4.7, 1.4],\n",
              "       [6.5, 2.8, 4.6, 1.5],\n",
              "       [6.2, 2.8, 4.8, 1.8],\n",
              "       [7. , 3.2, 4.7, 1.4],\n",
              "       [6.4, 3.2, 5.3, 2.3],\n",
              "       [5.1, 3.8, 1.6, 0.2],\n",
              "       [6.9, 3.1, 5.4, 2.1],\n",
              "       [5.9, 3. , 4.2, 1.5],\n",
              "       [6.5, 3. , 5.2, 2. ],\n",
              "       [5.7, 2.6, 3.5, 1. ],\n",
              "       [5.2, 2.7, 3.9, 1.4],\n",
              "       [6.1, 3. , 4.6, 1.4],\n",
              "       [4.5, 2.3, 1.3, 0.3],\n",
              "       [6.6, 2.9, 4.6, 1.3],\n",
              "       [5.5, 2.6, 4.4, 1.2],\n",
              "       [5.3, 3.7, 1.5, 0.2],\n",
              "       [5.6, 3. , 4.1, 1.3],\n",
              "       [7.3, 2.9, 6.3, 1.8],\n",
              "       [6.7, 3.3, 5.7, 2.1],\n",
              "       [5.1, 3.7, 1.5, 0.4],\n",
              "       [4.9, 2.4, 3.3, 1. ],\n",
              "       [6.7, 3.3, 5.7, 2.5],\n",
              "       [7.2, 3. , 5.8, 1.6],\n",
              "       [4.9, 3.6, 1.4, 0.1],\n",
              "       [6.7, 3.1, 5.6, 2.4],\n",
              "       [4.9, 3. , 1.4, 0.2],\n",
              "       [6.9, 3.1, 4.9, 1.5],\n",
              "       [7.4, 2.8, 6.1, 1.9],\n",
              "       [6.3, 2.9, 5.6, 1.8],\n",
              "       [5.7, 2.8, 4.1, 1.3],\n",
              "       [6.5, 3. , 5.5, 1.8],\n",
              "       [6.3, 2.3, 4.4, 1.3],\n",
              "       [6.4, 2.9, 4.3, 1.3],\n",
              "       [5.6, 2.8, 4.9, 2. ],\n",
              "       [5.9, 3. , 5.1, 1.8],\n",
              "       [5.4, 3.4, 1.7, 0.2],\n",
              "       [6.1, 2.8, 4. , 1.3],\n",
              "       [4.9, 2.5, 4.5, 1.7],\n",
              "       [5.8, 4. , 1.2, 0.2],\n",
              "       [5.8, 2.6, 4. , 1.2],\n",
              "       [7.1, 3. , 5.9, 2.1]])"
            ]
          },
          "metadata": {
            "tags": []
          },
          "execution_count": 34
        }
      ]
    },
    {
      "cell_type": "code",
      "metadata": {
        "id": "OGyO8Q0BkMmG"
      },
      "source": [
        "scaler = StandardScaler()\r\n",
        "scaler.fit(train_X)\r\n",
        "scaled_value = scaler.transform(train_X) "
      ],
      "execution_count": 37,
      "outputs": []
    },
    {
      "cell_type": "code",
      "metadata": {
        "colab": {
          "base_uri": "https://localhost:8080/"
        },
        "id": "IX1JrquPkd31",
        "outputId": "06580f53-123d-487d-b4af-cbf55e177890"
      },
      "source": [
        "scaled_value"
      ],
      "execution_count": 38,
      "outputs": [
        {
          "output_type": "execute_result",
          "data": {
            "text/plain": [
              "array([[-0.4134164 , -1.46200287, -0.09951105, -0.32339776],\n",
              "       [ 0.55122187, -0.50256349,  0.71770262,  0.35303182],\n",
              "       [ 0.67180165,  0.21701605,  0.95119225,  0.75888956],\n",
              "       [ 0.91296121, -0.02284379,  0.30909579,  0.2177459 ],\n",
              "       [ 1.63643991,  1.41631528,  1.30142668,  1.70589097],\n",
              "       [-0.17225683, -0.26270364,  0.19235097,  0.08245999],\n",
              "       [ 2.11875905, -0.02284379,  1.59328871,  1.16474731],\n",
              "       [-0.29283662, -0.02284379,  0.36746819,  0.35303182],\n",
              "       [-0.89573553,  1.17645543, -1.44207638, -1.40568508],\n",
              "       [ 2.23933883, -0.50256349,  1.65166111,  1.0294614 ],\n",
              "       [-0.05167705, -0.74242333,  0.13397857, -0.32339776],\n",
              "       [-0.77515575,  0.93659559, -1.44207638, -1.40568508],\n",
              "       [-1.01631531,  1.17645543, -1.50044878, -1.27039917],\n",
              "       [-0.89573553,  1.89603497, -1.15021435, -1.13511325],\n",
              "       [-1.01631531, -2.42144225, -0.21625586, -0.32339776],\n",
              "       [ 0.55122187, -0.74242333,  0.60095781,  0.75888956],\n",
              "       [-1.25747488,  0.93659559, -1.15021435, -1.40568508],\n",
              "       [-1.01631531, -0.02284379, -1.32533157, -1.40568508],\n",
              "       [-0.89573553,  0.69673574, -1.26695916, -0.99982734],\n",
              "       [-0.29283662, -0.74242333,  0.19235097,  0.08245999],\n",
              "       [-0.89573553,  0.93659559, -1.38370397, -1.40568508],\n",
              "       [-0.17225683, -0.02284379,  0.19235097, -0.05282593],\n",
              "       [ 2.23933883,  1.89603497,  1.65166111,  1.30003323],\n",
              "       [-1.49863445,  0.4568759 , -1.44207638, -1.40568508],\n",
              "       [ 0.43064208, -0.26270364,  0.25072338,  0.08245999],\n",
              "       [-0.17225683, -1.22214302,  0.65933022,  1.0294614 ],\n",
              "       [-0.4134164 ,  2.85547435, -1.44207638, -1.40568508],\n",
              "       [ 0.18948252, -0.02284379,  0.54258541,  0.75888956],\n",
              "       [-0.05167705, -0.74242333,  0.71770262,  0.89417548],\n",
              "       [ 0.18948252, -1.94172256,  0.07560616, -0.32339776],\n",
              "       [-0.53399618, -0.02284379,  0.36746819,  0.35303182],\n",
              "       [ 0.43064208,  0.93659559,  0.89281984,  1.43531914],\n",
              "       [-0.4134164 , -1.70186271,  0.07560616,  0.08245999],\n",
              "       [-0.53399618,  2.13589481, -1.26695916, -1.13511325],\n",
              "       [-1.01631531, -1.70186271, -0.33300068, -0.32339776],\n",
              "       [ 0.67180165, -0.74242333,  0.83444743,  0.89417548],\n",
              "       [-1.01631531,  0.69673574, -1.44207638, -1.40568508],\n",
              "       [-1.01631531,  0.4568759 , -1.55882119, -1.40568508],\n",
              "       [-0.4134164 , -1.46200287, -0.04113865, -0.18811184],\n",
              "       [ 1.033541  , -0.02284379,  0.65933022,  0.62360365],\n",
              "       [-1.1368951 ,  0.21701605, -1.38370397, -1.40568508],\n",
              "       [-0.05167705, -0.50256349,  0.71770262,  1.57060506],\n",
              "       [-1.01631531,  0.93659559, -1.38370397, -1.40568508],\n",
              "       [-1.01631531,  1.17645543, -1.32533157, -0.86454142],\n",
              "       [ 0.06890273,  0.4568759 ,  0.54258541,  0.75888956],\n",
              "       [-0.89573553, -1.22214302, -0.50811789, -0.18811184],\n",
              "       [ 1.27470056,  0.4568759 ,  1.06793706,  1.43531914],\n",
              "       [ 0.18948252, -0.74242333,  0.71770262,  0.48831773],\n",
              "       [ 0.3100623 , -0.98228318,  1.00956465,  0.2177459 ],\n",
              "       [ 2.23933883, -0.02284379,  1.30142668,  1.43531914],\n",
              "       [-0.4134164 , -1.22214302,  0.07560616,  0.08245999],\n",
              "       [-1.73979401, -0.26270364, -1.44207638, -1.40568508],\n",
              "       [-1.8603738 , -0.02284379, -1.6171936 , -1.540971  ],\n",
              "       [ 0.18948252, -1.94172256,  0.65933022,  0.35303182],\n",
              "       [ 1.63643991,  0.4568759 ,  1.24305427,  0.75888956],\n",
              "       [-1.49863445,  0.21701605, -1.38370397, -1.40568508],\n",
              "       [-0.89573553,  1.17645543, -1.44207638, -1.27039917],\n",
              "       [-1.73979401, -0.02284379, -1.50044878, -1.40568508],\n",
              "       [ 0.55122187, -1.22214302,  0.60095781,  0.35303182],\n",
              "       [ 0.55122187,  0.93659559,  1.00956465,  1.57060506],\n",
              "       [-1.49863445,  0.93659559, -1.44207638, -1.27039917],\n",
              "       [ 1.15412078, -0.02284379,  0.95119225,  1.16474731],\n",
              "       [ 0.55122187,  0.69673574,  1.24305427,  1.70589097],\n",
              "       [-1.37805466,  0.4568759 , -1.50044878, -1.40568508],\n",
              "       [ 0.3100623 , -0.26270364,  0.484213  ,  0.2177459 ],\n",
              "       [ 0.79238143, -0.50256349,  0.4258406 ,  0.35303182],\n",
              "       [ 0.43064208, -0.50256349,  0.54258541,  0.75888956],\n",
              "       [ 1.39528035,  0.4568759 ,  0.484213  ,  0.2177459 ],\n",
              "       [ 0.67180165,  0.4568759 ,  0.83444743,  1.43531914],\n",
              "       [-0.89573553,  1.89603497, -1.32533157, -1.40568508],\n",
              "       [ 1.27470056,  0.21701605,  0.89281984,  1.16474731],\n",
              "       [ 0.06890273, -0.02284379,  0.19235097,  0.35303182],\n",
              "       [ 0.79238143, -0.02284379,  0.77607503,  1.0294614 ],\n",
              "       [-0.17225683, -0.98228318, -0.21625586, -0.32339776],\n",
              "       [-0.77515575, -0.74242333,  0.01723376,  0.2177459 ],\n",
              "       [ 0.3100623 , -0.02284379,  0.4258406 ,  0.2177459 ],\n",
              "       [-1.61921423, -1.70186271, -1.50044878, -1.27039917],\n",
              "       [ 0.91296121, -0.26270364,  0.4258406 ,  0.08245999],\n",
              "       [-0.4134164 , -0.98228318,  0.30909579, -0.05282593],\n",
              "       [-0.65457597,  1.65617512, -1.38370397, -1.40568508],\n",
              "       [-0.29283662, -0.02284379,  0.13397857,  0.08245999],\n",
              "       [ 1.7570197 , -0.26270364,  1.41817149,  0.75888956],\n",
              "       [ 1.033541  ,  0.69673574,  1.06793706,  1.16474731],\n",
              "       [-0.89573553,  1.65617512, -1.38370397, -1.13511325],\n",
              "       [-1.1368951 , -1.46200287, -0.33300068, -0.32339776],\n",
              "       [ 1.033541  ,  0.69673574,  1.06793706,  1.70589097],\n",
              "       [ 1.63643991, -0.02284379,  1.12630946,  0.48831773],\n",
              "       [-1.1368951 ,  1.41631528, -1.44207638, -1.540971  ],\n",
              "       [ 1.033541  ,  0.21701605,  1.00956465,  1.57060506],\n",
              "       [-1.1368951 , -0.02284379, -1.44207638, -1.40568508],\n",
              "       [ 1.27470056,  0.21701605,  0.60095781,  0.35303182],\n",
              "       [ 1.87759948, -0.50256349,  1.30142668,  0.89417548],\n",
              "       [ 0.55122187, -0.26270364,  1.00956465,  0.75888956],\n",
              "       [-0.17225683, -0.50256349,  0.13397857,  0.08245999],\n",
              "       [ 0.79238143, -0.02284379,  0.95119225,  0.75888956],\n",
              "       [ 0.55122187, -1.70186271,  0.30909579,  0.08245999],\n",
              "       [ 0.67180165, -0.26270364,  0.25072338,  0.08245999],\n",
              "       [-0.29283662, -0.50256349,  0.60095781,  1.0294614 ],\n",
              "       [ 0.06890273, -0.02284379,  0.71770262,  0.75888956],\n",
              "       [-0.53399618,  0.93659559, -1.26695916, -1.40568508],\n",
              "       [ 0.3100623 , -0.50256349,  0.07560616,  0.08245999],\n",
              "       [-1.1368951 , -1.22214302,  0.36746819,  0.62360365],\n",
              "       [-0.05167705,  2.37575466, -1.55882119, -1.40568508],\n",
              "       [-0.05167705, -0.98228318,  0.07560616, -0.05282593],\n",
              "       [ 1.51586013, -0.02284379,  1.18468187,  1.16474731]])"
            ]
          },
          "metadata": {
            "tags": []
          },
          "execution_count": 38
        }
      ]
    },
    {
      "cell_type": "code",
      "metadata": {
        "colab": {
          "base_uri": "https://localhost:8080/"
        },
        "id": "La7if_7rksHE",
        "outputId": "f02aa0a9-e312-49c2-f800-5d6617847df8"
      },
      "source": [
        "np.mean(scaled_value[:,0])"
      ],
      "execution_count": 39,
      "outputs": [
        {
          "output_type": "execute_result",
          "data": {
            "text/plain": [
              "2.5418820487608346e-15"
            ]
          },
          "metadata": {
            "tags": []
          },
          "execution_count": 39
        }
      ]
    },
    {
      "cell_type": "markdown",
      "metadata": {
        "id": "on2s5vf_nHh8"
      },
      "source": [
        "Work with scaling \r\n"
      ]
    },
    {
      "cell_type": "code",
      "metadata": {
        "id": "imtlzry6k5HT"
      },
      "source": [
        "from sklearn.datasets import load_boston\r\n",
        "from sklearn.linear_model import LinearRegression\r\n"
      ],
      "execution_count": 53,
      "outputs": []
    },
    {
      "cell_type": "code",
      "metadata": {
        "id": "OR2jFPfXnSNR"
      },
      "source": [
        "X, y = load_boston(return_X_y=True)"
      ],
      "execution_count": 61,
      "outputs": []
    },
    {
      "cell_type": "code",
      "metadata": {
        "id": "Vq2tG8ibnbJu"
      },
      "source": [
        "lreg = LinearRegression()\r\n",
        "lreg.fit(X,y)\r\n",
        "preds = lreg.predict(X)"
      ],
      "execution_count": 62,
      "outputs": []
    },
    {
      "cell_type": "code",
      "metadata": {
        "id": "1EOZlZdqnnQ9"
      },
      "source": [
        "from sklearn.metrics import r2_score, mean_squared_error"
      ],
      "execution_count": 63,
      "outputs": []
    },
    {
      "cell_type": "code",
      "metadata": {
        "colab": {
          "base_uri": "https://localhost:8080/"
        },
        "id": "bdScErZknkKq",
        "outputId": "a51740db-2cfb-42bb-f39b-a5b1017491ea"
      },
      "source": [
        "print('Rsquared value', r2_score(y, preds))\r\n",
        "print('RMSE value', np.sqrt(mean_squared_error(y, preds)))"
      ],
      "execution_count": 64,
      "outputs": [
        {
          "output_type": "stream",
          "text": [
            "Rsquared value 0.7406426641094095\n",
            "RMSE value 4.679191295697281\n"
          ],
          "name": "stdout"
        }
      ]
    },
    {
      "cell_type": "code",
      "metadata": {
        "colab": {
          "base_uri": "https://localhost:8080/"
        },
        "id": "auSrfd8GpEW_",
        "outputId": "e73adb43-bcb0-4de9-c99a-8ba124131184"
      },
      "source": [
        "old_coef = lreg.coef_\r\n",
        "print(lreg.coef_)"
      ],
      "execution_count": 65,
      "outputs": [
        {
          "output_type": "stream",
          "text": [
            "[-1.08011358e-01  4.64204584e-02  2.05586264e-02  2.68673382e+00\n",
            " -1.77666112e+01  3.80986521e+00  6.92224640e-04 -1.47556685e+00\n",
            "  3.06049479e-01 -1.23345939e-02 -9.52747232e-01  9.31168327e-03\n",
            " -5.24758378e-01]\n"
          ],
          "name": "stdout"
        }
      ]
    },
    {
      "cell_type": "code",
      "metadata": {
        "colab": {
          "base_uri": "https://localhost:8080/"
        },
        "id": "o01dPTw5oAvb",
        "outputId": "baa46733-51b7-4279-aff5-5c814531818c"
      },
      "source": [
        "X_scaled = scaler.fit_transform(X)\r\n",
        "\r\n",
        "lreg.fit(X_scaled,y)\r\n",
        "preds = lreg.predict(X_scaled)\r\n",
        "\r\n",
        "print('Rsquared value', r2_score(y, preds))\r\n",
        "print('RMSE value', np.sqrt(mean_squared_error(y, preds)))\r\n",
        "print(lreg.coef_)"
      ],
      "execution_count": 66,
      "outputs": [
        {
          "output_type": "stream",
          "text": [
            "Rsquared value 0.7406426641094095\n",
            "RMSE value 4.679191295697281\n",
            "[-0.92814606  1.08156863  0.1409      0.68173972 -2.05671827  2.67423017\n",
            "  0.01946607 -3.10404426  2.66221764 -2.07678168 -2.06060666  0.84926842\n",
            " -3.74362713]\n"
          ],
          "name": "stdout"
        }
      ]
    },
    {
      "cell_type": "code",
      "metadata": {
        "colab": {
          "base_uri": "https://localhost:8080/"
        },
        "id": "WfVrbJ4gozer",
        "outputId": "1c330f55-ce9b-469a-dce7-84747d2f94e3"
      },
      "source": [
        "new_coef = lreg.coef_\r\n",
        "\r\n",
        "old_coef / new_coef"
      ],
      "execution_count": 67,
      "outputs": [
        {
          "output_type": "execute_result",
          "data": {
            "text/plain": [
              "array([1.16373233e-01, 4.29195681e-02, 1.45909346e-01, 3.94099643e+00,\n",
              "       8.63833006e+00, 1.42465868e+00, 3.55605719e-02, 4.75369139e-01,\n",
              "       1.14960353e-01, 5.93928289e-03, 4.62362493e-01, 1.09643584e-02,\n",
              "       1.40173783e-01])"
            ]
          },
          "metadata": {
            "tags": []
          },
          "execution_count": 67
        }
      ]
    },
    {
      "cell_type": "code",
      "metadata": {
        "id": "wbKUpA6Fpl2M"
      },
      "source": [
        ""
      ],
      "execution_count": null,
      "outputs": []
    }
  ]
}
