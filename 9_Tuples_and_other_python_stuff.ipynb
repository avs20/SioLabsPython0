{
  "nbformat": 4,
  "nbformat_minor": 0,
  "metadata": {
    "colab": {
      "name": "Tuples and other python stuff.ipynb",
      "provenance": [],
      "authorship_tag": "ABX9TyNoob6TACIRSCIiEqAE64k6",
      "include_colab_link": true
    },
    "kernelspec": {
      "name": "python3",
      "display_name": "Python 3"
    }
  },
  "cells": [
    {
      "cell_type": "markdown",
      "metadata": {
        "id": "view-in-github",
        "colab_type": "text"
      },
      "source": [
        "<a href=\"https://colab.research.google.com/github/avs20/SioLabsPython0/blob/main/9_Tuples_and_other_python_stuff.ipynb\" target=\"_parent\"><img src=\"https://colab.research.google.com/assets/colab-badge.svg\" alt=\"Open In Colab\"/></a>"
      ]
    },
    {
      "cell_type": "markdown",
      "metadata": {
        "id": "hLebMNWLYgbU"
      },
      "source": [
        "Tuples\n",
        "----------\n"
      ]
    },
    {
      "cell_type": "code",
      "metadata": {
        "colab": {
          "base_uri": "https://localhost:8080/"
        },
        "id": "AsvARBonZ8gD",
        "outputId": "2374e000-a447-45c4-ad0c-255827526b82"
      },
      "source": [
        "mytuple = 10,20,30,40,50 \n",
        "\n",
        "print(mytuple)"
      ],
      "execution_count": 1,
      "outputs": [
        {
          "output_type": "stream",
          "text": [
            "(10, 20, 30, 40, 50)\n"
          ],
          "name": "stdout"
        }
      ]
    },
    {
      "cell_type": "code",
      "metadata": {
        "colab": {
          "base_uri": "https://localhost:8080/"
        },
        "id": "ADeL_USQaJ5y",
        "outputId": "4552f6db-ad8f-427e-b347-5bc7ea997091"
      },
      "source": [
        "type(mytuple)"
      ],
      "execution_count": 2,
      "outputs": [
        {
          "output_type": "execute_result",
          "data": {
            "text/plain": [
              "tuple"
            ]
          },
          "metadata": {
            "tags": []
          },
          "execution_count": 2
        }
      ]
    },
    {
      "cell_type": "code",
      "metadata": {
        "id": "2FUn887GaLEe"
      },
      "source": [
        "mytuple2 = (10,20,30,40,50)"
      ],
      "execution_count": 3,
      "outputs": []
    },
    {
      "cell_type": "code",
      "metadata": {
        "colab": {
          "base_uri": "https://localhost:8080/"
        },
        "id": "qPcDZoKBaQUF",
        "outputId": "de3ccab8-e382-4cce-d43a-6a0e8ff753de"
      },
      "source": [
        "mytuple"
      ],
      "execution_count": 5,
      "outputs": [
        {
          "output_type": "execute_result",
          "data": {
            "text/plain": [
              "(10, 20, 30, 40, 50)"
            ]
          },
          "metadata": {
            "tags": []
          },
          "execution_count": 5
        }
      ]
    },
    {
      "cell_type": "code",
      "metadata": {
        "id": "lMtPhRfVaRWz"
      },
      "source": [
        "mytuple3 = 10,"
      ],
      "execution_count": 6,
      "outputs": []
    },
    {
      "cell_type": "code",
      "metadata": {
        "colab": {
          "base_uri": "https://localhost:8080/"
        },
        "id": "uaJuJJ1JaaaX",
        "outputId": "550b0959-f69c-44a1-d517-fcb64dcd73c1"
      },
      "source": [
        "print(mytuple3)"
      ],
      "execution_count": 7,
      "outputs": [
        {
          "output_type": "stream",
          "text": [
            "(10,)\n"
          ],
          "name": "stdout"
        }
      ]
    },
    {
      "cell_type": "code",
      "metadata": {
        "colab": {
          "base_uri": "https://localhost:8080/"
        },
        "id": "WRICyGJCacoe",
        "outputId": "308ffc01-120d-4b3b-db47-c8f62ee3beec"
      },
      "source": [
        "mytuple2 = (10,20,30,40,50)\n",
        "\n",
        "print(mytuple[0])\n",
        "print(mytuple[-1])\n",
        "print(mytuple[0:2])"
      ],
      "execution_count": 9,
      "outputs": [
        {
          "output_type": "stream",
          "text": [
            "10\n",
            "50\n",
            "(10, 20)\n"
          ],
          "name": "stdout"
        }
      ]
    },
    {
      "cell_type": "code",
      "metadata": {
        "colab": {
          "base_uri": "https://localhost:8080/",
          "height": 172
        },
        "id": "4PA4xBBLawtb",
        "outputId": "e115d0e3-00fb-42c1-aee5-03a85ee421ad"
      },
      "source": [
        "mytuple[2] = 100"
      ],
      "execution_count": 10,
      "outputs": [
        {
          "output_type": "error",
          "ename": "TypeError",
          "evalue": "ignored",
          "traceback": [
            "\u001b[0;31m---------------------------------------------------------------------------\u001b[0m",
            "\u001b[0;31mTypeError\u001b[0m                                 Traceback (most recent call last)",
            "\u001b[0;32m<ipython-input-10-a23c675c81df>\u001b[0m in \u001b[0;36m<module>\u001b[0;34m()\u001b[0m\n\u001b[0;32m----> 1\u001b[0;31m \u001b[0mmytuple\u001b[0m\u001b[0;34m[\u001b[0m\u001b[0;36m2\u001b[0m\u001b[0;34m]\u001b[0m \u001b[0;34m=\u001b[0m \u001b[0;36m100\u001b[0m\u001b[0;34m\u001b[0m\u001b[0;34m\u001b[0m\u001b[0m\n\u001b[0m",
            "\u001b[0;31mTypeError\u001b[0m: 'tuple' object does not support item assignment"
          ]
        }
      ]
    },
    {
      "cell_type": "code",
      "metadata": {
        "colab": {
          "base_uri": "https://localhost:8080/"
        },
        "id": "ACtqWrKJa3UT",
        "outputId": "d9a51893-803c-4fa9-8a25-0b8b4d60c167"
      },
      "source": [
        "mytuple1 = (10,20,30)\n",
        "mytuple2 = (10,20,34)\n",
        "\n",
        "mytuple1 + mytuple2"
      ],
      "execution_count": 12,
      "outputs": [
        {
          "output_type": "execute_result",
          "data": {
            "text/plain": [
              "(10, 20, 30, 10, 20, 34)"
            ]
          },
          "metadata": {
            "tags": []
          },
          "execution_count": 12
        }
      ]
    },
    {
      "cell_type": "code",
      "metadata": {
        "colab": {
          "base_uri": "https://localhost:8080/"
        },
        "id": "L1JoZmcybADh",
        "outputId": "5bff4e15-36bb-4188-cd5e-ecd98b7b720e"
      },
      "source": [
        "mytuple * 3"
      ],
      "execution_count": 13,
      "outputs": [
        {
          "output_type": "execute_result",
          "data": {
            "text/plain": [
              "(10, 20, 30, 40, 50, 10, 20, 30, 40, 50, 10, 20, 30, 40, 50)"
            ]
          },
          "metadata": {
            "tags": []
          },
          "execution_count": 13
        }
      ]
    },
    {
      "cell_type": "code",
      "metadata": {
        "colab": {
          "base_uri": "https://localhost:8080/"
        },
        "id": "hqmCEjsVbEvY",
        "outputId": "562c6a3a-6893-467e-8464-cfaa50c48837"
      },
      "source": [
        "mytuple1 = (10,20,30)\n",
        "mytuple2 = (10,20,34)\n",
        "\n",
        "print(mytuple1 < mytuple2)"
      ],
      "execution_count": 14,
      "outputs": [
        {
          "output_type": "stream",
          "text": [
            "True\n"
          ],
          "name": "stdout"
        }
      ]
    },
    {
      "cell_type": "code",
      "metadata": {
        "colab": {
          "base_uri": "https://localhost:8080/"
        },
        "id": "YDg9unjAbTuN",
        "outputId": "8d968c33-2bad-43a7-ca0a-fdc69e5a8dc2"
      },
      "source": [
        "mytuple1 = (10,18,30)\n",
        "mytuple2 = (10,20,100000)\n",
        "\n",
        "print(mytuple1 < mytuple2)"
      ],
      "execution_count": 15,
      "outputs": [
        {
          "output_type": "stream",
          "text": [
            "True\n"
          ],
          "name": "stdout"
        }
      ]
    },
    {
      "cell_type": "code",
      "metadata": {
        "colab": {
          "base_uri": "https://localhost:8080/",
          "height": 209
        },
        "id": "7uiQBqHqbe6N",
        "outputId": "9b547450-d5c0-48a8-ce59-f77c1d7fd691"
      },
      "source": [
        "mytuple1 = (10,18,30)\n",
        "mytuple2 = (10,\"ashu\",100000)\n",
        "\n",
        "print(mytuple1 < mytuple2)"
      ],
      "execution_count": 16,
      "outputs": [
        {
          "output_type": "error",
          "ename": "TypeError",
          "evalue": "ignored",
          "traceback": [
            "\u001b[0;31m---------------------------------------------------------------------------\u001b[0m",
            "\u001b[0;31mTypeError\u001b[0m                                 Traceback (most recent call last)",
            "\u001b[0;32m<ipython-input-16-fcc26d93ac56>\u001b[0m in \u001b[0;36m<module>\u001b[0;34m()\u001b[0m\n\u001b[1;32m      2\u001b[0m \u001b[0mmytuple2\u001b[0m \u001b[0;34m=\u001b[0m \u001b[0;34m(\u001b[0m\u001b[0;36m10\u001b[0m\u001b[0;34m,\u001b[0m\u001b[0;34m\"ashu\"\u001b[0m\u001b[0;34m,\u001b[0m\u001b[0;36m100000\u001b[0m\u001b[0;34m)\u001b[0m\u001b[0;34m\u001b[0m\u001b[0;34m\u001b[0m\u001b[0m\n\u001b[1;32m      3\u001b[0m \u001b[0;34m\u001b[0m\u001b[0m\n\u001b[0;32m----> 4\u001b[0;31m \u001b[0mprint\u001b[0m\u001b[0;34m(\u001b[0m\u001b[0mmytuple1\u001b[0m \u001b[0;34m<\u001b[0m \u001b[0mmytuple2\u001b[0m\u001b[0;34m)\u001b[0m\u001b[0;34m\u001b[0m\u001b[0;34m\u001b[0m\u001b[0m\n\u001b[0m",
            "\u001b[0;31mTypeError\u001b[0m: '<' not supported between instances of 'int' and 'str'"
          ]
        }
      ]
    },
    {
      "cell_type": "code",
      "metadata": {
        "id": "-_Q6FMfObnPR"
      },
      "source": [
        "import math\n",
        "\n",
        "def get_values(x, y, theta):\n",
        "  h = math.sqrt(x**2 + y**2)\n",
        "\n",
        "  x_axis = h * cos(theta)\n",
        "  y_axis = h * sin(theta)\n",
        "\n",
        "  return [x_axis, y_axis]\n"
      ],
      "execution_count": null,
      "outputs": []
    },
    {
      "cell_type": "code",
      "metadata": {
        "colab": {
          "base_uri": "https://localhost:8080/"
        },
        "id": "dPvpGQMfc-36",
        "outputId": "724b42a2-cdbd-4c00-944d-209569181c0f"
      },
      "source": [
        "my_dict = {\n",
        "    'breakfast':'apple',\n",
        "    'lunch' : 'mango',\n",
        "    'snacks' : 'banana',\n",
        "    'dinner' : 'orange'\n",
        "}\n",
        "\n",
        "print(my_dict)"
      ],
      "execution_count": 17,
      "outputs": [
        {
          "output_type": "stream",
          "text": [
            "{'breakfast': 'apple', 'lunch': 'mango', 'snacks': 'banana', 'dinner': 'orange'}\n"
          ],
          "name": "stdout"
        }
      ]
    },
    {
      "cell_type": "code",
      "metadata": {
        "colab": {
          "base_uri": "https://localhost:8080/"
        },
        "id": "jBDenaeldKMO",
        "outputId": "0fffa95b-7d15-4fa0-f2bb-6e72ee3872ec"
      },
      "source": [
        "print(my_dict.keys())"
      ],
      "execution_count": 18,
      "outputs": [
        {
          "output_type": "stream",
          "text": [
            "dict_keys(['breakfast', 'lunch', 'snacks', 'dinner'])\n"
          ],
          "name": "stdout"
        }
      ]
    },
    {
      "cell_type": "code",
      "metadata": {
        "colab": {
          "base_uri": "https://localhost:8080/"
        },
        "id": "rGzSSoOHdPHp",
        "outputId": "bbe1c284-67fb-4f37-b724-2f7e483813d1"
      },
      "source": [
        "my_dict.items()"
      ],
      "execution_count": 19,
      "outputs": [
        {
          "output_type": "execute_result",
          "data": {
            "text/plain": [
              "dict_items([('breakfast', 'apple'), ('lunch', 'mango'), ('snacks', 'banana'), ('dinner', 'orange')])"
            ]
          },
          "metadata": {
            "tags": []
          },
          "execution_count": 19
        }
      ]
    },
    {
      "cell_type": "code",
      "metadata": {
        "colab": {
          "base_uri": "https://localhost:8080/"
        },
        "id": "XH3GYuxgdRjN",
        "outputId": "f1af0950-d0e3-41ca-c4fa-ee4741533d1a"
      },
      "source": [
        "for key in my_dict:\n",
        "  print(key, ':', my_dict[key])"
      ],
      "execution_count": 20,
      "outputs": [
        {
          "output_type": "stream",
          "text": [
            "breakfast : apple\n",
            "lunch : mango\n",
            "snacks : banana\n",
            "dinner : orange\n"
          ],
          "name": "stdout"
        }
      ]
    },
    {
      "cell_type": "code",
      "metadata": {
        "colab": {
          "base_uri": "https://localhost:8080/"
        },
        "id": "D4N4nUEWdabw",
        "outputId": "30853a39-a8a8-4f50-fb77-17cfac737f40"
      },
      "source": [
        "for key, value in my_dict.items():\n",
        "  print(key, ':',value)"
      ],
      "execution_count": 21,
      "outputs": [
        {
          "output_type": "stream",
          "text": [
            "breakfast : apple\n",
            "lunch : mango\n",
            "snacks : banana\n",
            "dinner : orange\n"
          ],
          "name": "stdout"
        }
      ]
    },
    {
      "cell_type": "code",
      "metadata": {
        "id": "nnnxTy-kdhdu"
      },
      "source": [
        ""
      ],
      "execution_count": null,
      "outputs": []
    },
    {
      "cell_type": "markdown",
      "metadata": {
        "id": "0G0Ts9zNd_Mr"
      },
      "source": [
        "WhiteSpace Characters in python \n",
        "-------\n"
      ]
    },
    {
      "cell_type": "code",
      "metadata": {
        "colab": {
          "base_uri": "https://localhost:8080/"
        },
        "id": "pRCtVZzTeC3Q",
        "outputId": "f04c7489-0ac1-4ab0-96fc-b79bdca7fa2c"
      },
      "source": [
        "print('I love python')"
      ],
      "execution_count": 22,
      "outputs": [
        {
          "output_type": "stream",
          "text": [
            "I love python\n"
          ],
          "name": "stdout"
        }
      ]
    },
    {
      "cell_type": "code",
      "metadata": {
        "colab": {
          "base_uri": "https://localhost:8080/"
        },
        "id": "037ozh6pelKS",
        "outputId": "f187ea7f-1dc1-4559-c88e-d8d28324d186"
      },
      "source": [
        "print('I love \\t python')"
      ],
      "execution_count": 23,
      "outputs": [
        {
          "output_type": "stream",
          "text": [
            "I love \t python\n"
          ],
          "name": "stdout"
        }
      ]
    },
    {
      "cell_type": "code",
      "metadata": {
        "colab": {
          "base_uri": "https://localhost:8080/"
        },
        "id": "jef8fC3Keznk",
        "outputId": "e7578922-7dd1-4a20-f972-c6c678ea909d"
      },
      "source": [
        "print(' I love python\\n I love c++')"
      ],
      "execution_count": 24,
      "outputs": [
        {
          "output_type": "stream",
          "text": [
            " I love python\n",
            " I love c++\n"
          ],
          "name": "stdout"
        }
      ]
    },
    {
      "cell_type": "code",
      "metadata": {
        "colab": {
          "base_uri": "https://localhost:8080/"
        },
        "id": "3D6W-SRbe73Z",
        "outputId": "6e1cbcfe-881d-41b9-ff53-80ac7d4d686c"
      },
      "source": [
        "print(' I love python\\r\\n I love c++')"
      ],
      "execution_count": 25,
      "outputs": [
        {
          "output_type": "stream",
          "text": [
            " I love python\r\n",
            " I love c++\n"
          ],
          "name": "stdout"
        }
      ]
    },
    {
      "cell_type": "code",
      "metadata": {
        "id": "k2Pz7FYWe8w4"
      },
      "source": [
        "mystr.rstrip()\n",
        "\n"
      ],
      "execution_count": null,
      "outputs": []
    },
    {
      "cell_type": "code",
      "metadata": {
        "colab": {
          "base_uri": "https://localhost:8080/"
        },
        "id": "zg02g8Mmf5aO",
        "outputId": "bb400cd5-399a-40ae-884b-6375789c68d6"
      },
      "source": [
        "mystr = \"ashutosh singh\"\n",
        "\n",
        "print(mystr.strip())"
      ],
      "execution_count": 26,
      "outputs": [
        {
          "output_type": "stream",
          "text": [
            "ashutosh singh\n"
          ],
          "name": "stdout"
        }
      ]
    },
    {
      "cell_type": "code",
      "metadata": {
        "colab": {
          "base_uri": "https://localhost:8080/"
        },
        "id": "7gqi72mbgM46",
        "outputId": "4b841c34-b4a1-41d5-e73b-c20036968a93"
      },
      "source": [
        "mystr = \"ashutosh singh   \"\n",
        "print(len(mystr))\n",
        "mystr2 = mystr.rstrip()\n",
        "print(len(mystr2))"
      ],
      "execution_count": 27,
      "outputs": [
        {
          "output_type": "stream",
          "text": [
            "17\n",
            "14\n"
          ],
          "name": "stdout"
        }
      ]
    },
    {
      "cell_type": "markdown",
      "metadata": {
        "id": "u-PBPv0lhf_w"
      },
      "source": [
        "Combining conditional statements \n",
        "\n"
      ]
    },
    {
      "cell_type": "code",
      "metadata": {
        "colab": {
          "base_uri": "https://localhost:8080/"
        },
        "id": "PaeACmxdhjXD",
        "outputId": "991b312b-a96c-4e89-8502-94918f832a35"
      },
      "source": [
        "a = 75\n",
        "\n",
        "print(a > 70)"
      ],
      "execution_count": 28,
      "outputs": [
        {
          "output_type": "stream",
          "text": [
            "True\n"
          ],
          "name": "stdout"
        }
      ]
    },
    {
      "cell_type": "code",
      "metadata": {
        "colab": {
          "base_uri": "https://localhost:8080/"
        },
        "id": "b0G9J2PQiHgh",
        "outputId": "b3d7b3f4-f005-4e34-bc5d-85feb1cfaa29"
      },
      "source": [
        "print(a < 80)"
      ],
      "execution_count": 29,
      "outputs": [
        {
          "output_type": "stream",
          "text": [
            "True\n"
          ],
          "name": "stdout"
        }
      ]
    },
    {
      "cell_type": "code",
      "metadata": {
        "colab": {
          "base_uri": "https://localhost:8080/"
        },
        "id": "qDYUdKQaiJcI",
        "outputId": "82372800-493d-4cc5-8f34-df2e1d2e94cb"
      },
      "source": [
        "if a > 70:\n",
        "  if a < 80 :\n",
        "    print('True')"
      ],
      "execution_count": 30,
      "outputs": [
        {
          "output_type": "stream",
          "text": [
            "True\n"
          ],
          "name": "stdout"
        }
      ]
    },
    {
      "cell_type": "code",
      "metadata": {
        "id": "esIr2ErAiPdv"
      },
      "source": [
        "# and \n",
        "# or \n",
        "# not \n",
        "\n"
      ],
      "execution_count": 31,
      "outputs": []
    },
    {
      "cell_type": "code",
      "metadata": {
        "id": "GIBFEensiUCR"
      },
      "source": [
        ""
      ],
      "execution_count": null,
      "outputs": []
    },
    {
      "cell_type": "markdown",
      "metadata": {
        "id": "8WqEgB1JiUuA"
      },
      "source": [
        "and - > combine 2 conditions and return true if both of them are true\n",
        "\n",
        "OR - combine 2 conditions and return true if at least 1 of them is true. \n",
        "\n",
        "not →  return true if condition is false,\n",
        "        return false if condition is true "
      ]
    },
    {
      "cell_type": "code",
      "metadata": {
        "colab": {
          "base_uri": "https://localhost:8080/"
        },
        "id": "YKb6jtytilST",
        "outputId": "d9095268-3cbd-44a0-cbb0-461f396dfedf"
      },
      "source": [
        "if a > 70 and a < 80:\n",
        "  print('True')"
      ],
      "execution_count": 32,
      "outputs": [
        {
          "output_type": "stream",
          "text": [
            "True\n"
          ],
          "name": "stdout"
        }
      ]
    },
    {
      "cell_type": "code",
      "metadata": {
        "colab": {
          "base_uri": "https://localhost:8080/"
        },
        "id": "dmE74wZJitG7",
        "outputId": "8af68f67-29a6-4f9d-da10-04bb36eac030"
      },
      "source": [
        "_12_marks = 80\n",
        "test_score = 89\n",
        "\n",
        "if _12_marks > 90 or test_score > 80:\n",
        "  print('Scholarship granted')"
      ],
      "execution_count": 33,
      "outputs": [
        {
          "output_type": "stream",
          "text": [
            "Scholarship granted\n"
          ],
          "name": "stdout"
        }
      ]
    },
    {
      "cell_type": "code",
      "metadata": {
        "colab": {
          "base_uri": "https://localhost:8080/"
        },
        "id": "ZWBlJGdRjEi-",
        "outputId": "727cda8f-bc53-4802-f8b1-642bcc9bb8cd"
      },
      "source": [
        "if not _12_marks > 90:\n",
        "  print('markes not above 90')"
      ],
      "execution_count": 34,
      "outputs": [
        {
          "output_type": "stream",
          "text": [
            "markes not above 90\n"
          ],
          "name": "stdout"
        }
      ]
    },
    {
      "cell_type": "code",
      "metadata": {
        "id": "PA2yhJc4jK-t"
      },
      "source": [
        ""
      ],
      "execution_count": null,
      "outputs": []
    },
    {
      "cell_type": "markdown",
      "metadata": {
        "id": "OeUrAqgJjXjL"
      },
      "source": [
        "Scope in python\n",
        "----------"
      ]
    },
    {
      "cell_type": "code",
      "metadata": {
        "colab": {
          "base_uri": "https://localhost:8080/"
        },
        "id": "HuOw2xVAjZU5",
        "outputId": "edb0d444-1620-4ad9-bb7c-a744a5158598"
      },
      "source": [
        "rate = 10\n",
        "\n",
        "principal = int(input())\n",
        "time = int(input())\n",
        "\n",
        "\n",
        "def calc_interest(principal, time):\n",
        "  interest = principal * rate * time / 100\n",
        "  return interest\n",
        "\n",
        "print(calc_interest(principal, time))"
      ],
      "execution_count": 36,
      "outputs": [
        {
          "output_type": "stream",
          "text": [
            "1000\n",
            "10\n",
            "1000.0\n"
          ],
          "name": "stdout"
        }
      ]
    },
    {
      "cell_type": "code",
      "metadata": {
        "colab": {
          "base_uri": "https://localhost:8080/",
          "height": 265
        },
        "id": "EiTQmDoFkhdp",
        "outputId": "5cb8046e-efe1-4814-8984-b7db4bee0fc5"
      },
      "source": [
        "rate = 10\n",
        "\n",
        "principal = int(input())\n",
        "time = int(input())\n",
        "\n",
        "\n",
        "def calc_interest(principal, time):\n",
        "  interest = principal * rate * time / 100\n",
        "  return interest\n",
        "\n",
        "print(calc_interest(principal, time))\n",
        "print(interest)"
      ],
      "execution_count": 37,
      "outputs": [
        {
          "output_type": "stream",
          "text": [
            "1000\n",
            "10\n",
            "1000.0\n"
          ],
          "name": "stdout"
        },
        {
          "output_type": "error",
          "ename": "NameError",
          "evalue": "ignored",
          "traceback": [
            "\u001b[0;31m---------------------------------------------------------------------------\u001b[0m",
            "\u001b[0;31mNameError\u001b[0m                                 Traceback (most recent call last)",
            "\u001b[0;32m<ipython-input-37-3336dc977d54>\u001b[0m in \u001b[0;36m<module>\u001b[0;34m()\u001b[0m\n\u001b[1;32m     10\u001b[0m \u001b[0;34m\u001b[0m\u001b[0m\n\u001b[1;32m     11\u001b[0m \u001b[0mprint\u001b[0m\u001b[0;34m(\u001b[0m\u001b[0mcalc_interest\u001b[0m\u001b[0;34m(\u001b[0m\u001b[0mprincipal\u001b[0m\u001b[0;34m,\u001b[0m \u001b[0mtime\u001b[0m\u001b[0;34m)\u001b[0m\u001b[0;34m)\u001b[0m\u001b[0;34m\u001b[0m\u001b[0;34m\u001b[0m\u001b[0m\n\u001b[0;32m---> 12\u001b[0;31m \u001b[0mprint\u001b[0m\u001b[0;34m(\u001b[0m\u001b[0minterest\u001b[0m\u001b[0;34m)\u001b[0m\u001b[0;34m\u001b[0m\u001b[0;34m\u001b[0m\u001b[0m\n\u001b[0m",
            "\u001b[0;31mNameError\u001b[0m: name 'interest' is not defined"
          ]
        }
      ]
    },
    {
      "cell_type": "code",
      "metadata": {
        "id": "RFNEpGVJlVo3"
      },
      "source": [
        ""
      ],
      "execution_count": null,
      "outputs": []
    },
    {
      "cell_type": "markdown",
      "metadata": {
        "id": "PmCVRXyolV7E"
      },
      "source": [
        "range() function "
      ]
    },
    {
      "cell_type": "code",
      "metadata": {
        "colab": {
          "base_uri": "https://localhost:8080/"
        },
        "id": "71eVlZrllXPF",
        "outputId": "3d85a774-28e5-4fba-c3e8-6c9ebc901e72"
      },
      "source": [
        "list(range(5))"
      ],
      "execution_count": 39,
      "outputs": [
        {
          "output_type": "execute_result",
          "data": {
            "text/plain": [
              "[0, 1, 2, 3, 4]"
            ]
          },
          "metadata": {
            "tags": []
          },
          "execution_count": 39
        }
      ]
    },
    {
      "cell_type": "code",
      "metadata": {
        "colab": {
          "base_uri": "https://localhost:8080/"
        },
        "id": "rsH_GVoElbjZ",
        "outputId": "0f42a618-cf6f-4bea-9eba-38f4d582b699"
      },
      "source": [
        "list(range(12,24))"
      ],
      "execution_count": 40,
      "outputs": [
        {
          "output_type": "execute_result",
          "data": {
            "text/plain": [
              "[12, 13, 14, 15, 16, 17, 18, 19, 20, 21, 22, 23]"
            ]
          },
          "metadata": {
            "tags": []
          },
          "execution_count": 40
        }
      ]
    },
    {
      "cell_type": "code",
      "metadata": {
        "colab": {
          "base_uri": "https://localhost:8080/"
        },
        "id": "btkv98Tylwsh",
        "outputId": "f247da55-6be6-419c-933f-68682ed6177e"
      },
      "source": [
        "list(range(12,24, 2))"
      ],
      "execution_count": 41,
      "outputs": [
        {
          "output_type": "execute_result",
          "data": {
            "text/plain": [
              "[12, 14, 16, 18, 20, 22]"
            ]
          },
          "metadata": {
            "tags": []
          },
          "execution_count": 41
        }
      ]
    },
    {
      "cell_type": "code",
      "metadata": {
        "colab": {
          "base_uri": "https://localhost:8080/"
        },
        "id": "xU3YU5OLly3S",
        "outputId": "f10d83cc-374a-406f-a62a-ffcdd0ae7170"
      },
      "source": [
        "list(range(12,24, -1))"
      ],
      "execution_count": 42,
      "outputs": [
        {
          "output_type": "execute_result",
          "data": {
            "text/plain": [
              "[]"
            ]
          },
          "metadata": {
            "tags": []
          },
          "execution_count": 42
        }
      ]
    },
    {
      "cell_type": "code",
      "metadata": {
        "colab": {
          "base_uri": "https://localhost:8080/"
        },
        "id": "OSwtlx4yl1Xy",
        "outputId": "86f609d0-6955-438c-c9d7-6c3807fb5ebf"
      },
      "source": [
        "list(range(24,12, -1))"
      ],
      "execution_count": 43,
      "outputs": [
        {
          "output_type": "execute_result",
          "data": {
            "text/plain": [
              "[24, 23, 22, 21, 20, 19, 18, 17, 16, 15, 14, 13]"
            ]
          },
          "metadata": {
            "tags": []
          },
          "execution_count": 43
        }
      ]
    },
    {
      "cell_type": "code",
      "metadata": {
        "colab": {
          "base_uri": "https://localhost:8080/"
        },
        "id": "BsHdc0Bgl3hU",
        "outputId": "e4c708e4-433b-4df0-da76-81adad90c0e9"
      },
      "source": [
        "for i in range(10):\n",
        "  print('I love python')"
      ],
      "execution_count": 44,
      "outputs": [
        {
          "output_type": "stream",
          "text": [
            "I love python\n",
            "I love python\n",
            "I love python\n",
            "I love python\n",
            "I love python\n",
            "I love python\n",
            "I love python\n",
            "I love python\n",
            "I love python\n",
            "I love python\n"
          ],
          "name": "stdout"
        }
      ]
    },
    {
      "cell_type": "code",
      "metadata": {
        "colab": {
          "base_uri": "https://localhost:8080/"
        },
        "id": "2HtRJ1Mxl98F",
        "outputId": "c05d74ff-8e71-43d3-8cb8-91901bac2617"
      },
      "source": [
        "for i in range(len(\"ashutosh\")):\n",
        "  print(\"i love python\")"
      ],
      "execution_count": 45,
      "outputs": [
        {
          "output_type": "stream",
          "text": [
            "i love python\n",
            "i love python\n",
            "i love python\n",
            "i love python\n",
            "i love python\n",
            "i love python\n",
            "i love python\n",
            "i love python\n"
          ],
          "name": "stdout"
        }
      ]
    },
    {
      "cell_type": "code",
      "metadata": {
        "colab": {
          "base_uri": "https://localhost:8080/"
        },
        "id": "pKDgXFXhmLuX",
        "outputId": "78ea83f5-dd9f-4f87-a79d-e0ced5a64688"
      },
      "source": [
        "for i in range(len(\"ashutosh\")):\n",
        "  print(i)"
      ],
      "execution_count": 46,
      "outputs": [
        {
          "output_type": "stream",
          "text": [
            "0\n",
            "1\n",
            "2\n",
            "3\n",
            "4\n",
            "5\n",
            "6\n",
            "7\n"
          ],
          "name": "stdout"
        }
      ]
    },
    {
      "cell_type": "code",
      "metadata": {
        "id": "dkcK2S-CmR6d"
      },
      "source": [
        ""
      ],
      "execution_count": null,
      "outputs": []
    }
  ]
}