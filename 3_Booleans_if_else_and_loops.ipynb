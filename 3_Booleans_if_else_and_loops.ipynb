{
  "nbformat": 4,
  "nbformat_minor": 0,
  "metadata": {
    "colab": {
      "name": "3 -Booleans - if -else and loops.ipynb",
      "provenance": [],
      "authorship_tag": "ABX9TyP8qM9A9tHfH+XIrv42gA/p",
      "include_colab_link": true
    },
    "kernelspec": {
      "name": "python3",
      "display_name": "Python 3"
    }
  },
  "cells": [
    {
      "cell_type": "markdown",
      "metadata": {
        "id": "view-in-github",
        "colab_type": "text"
      },
      "source": [
        "<a href=\"https://colab.research.google.com/github/avs20/SioLabsPython0/blob/main/3_Booleans_if_else_and_loops.ipynb\" target=\"_parent\"><img src=\"https://colab.research.google.com/assets/colab-badge.svg\" alt=\"Open In Colab\"/></a>"
      ]
    },
    {
      "cell_type": "markdown",
      "metadata": {
        "id": "j38EOk1uAWDc"
      },
      "source": [
        "Today we will learn about booleans. \n",
        "\n"
      ]
    },
    {
      "cell_type": "markdown",
      "metadata": {
        "id": "5brez5czAgUu"
      },
      "source": [
        "int \n",
        "\n",
        "float \n",
        "\n",
        "string \n",
        "\n",
        "Expressions : \n",
        "\n",
        "values and operators -→ which evaluates to a value \n",
        "\n",
        "2 * 3 \n",
        "\n",
        "6\n",
        "\n"
      ]
    },
    {
      "cell_type": "markdown",
      "metadata": {
        "id": "aR5zGFtBAvd7"
      },
      "source": [
        "If something is bigger or smaller \n",
        "\n",
        "If some thing is equal to other thing \n",
        "\n",
        "2 things are not same \n",
        "\n",
        "yes \n",
        "\n",
        "no \n",
        "\n",
        "10 > 5  → Yes \n",
        "\n",
        "\n",
        "5 > 10 → No\n",
        "\n",
        "\n",
        "\n",
        "* True \n",
        "* False \n",
        "\n",
        "a = 10 \n",
        "\n",
        "a > 5 → True \n",
        "\n",
        "5 > a → False\n"
      ]
    },
    {
      "cell_type": "code",
      "metadata": {
        "id": "iOQweRYmAPpV",
        "outputId": "88507833-b58b-4221-fa8f-af5be8107712",
        "colab": {
          "base_uri": "https://localhost:8080/"
        }
      },
      "source": [
        "True "
      ],
      "execution_count": 1,
      "outputs": [
        {
          "output_type": "execute_result",
          "data": {
            "text/plain": [
              "True"
            ]
          },
          "metadata": {
            "tags": []
          },
          "execution_count": 1
        }
      ]
    },
    {
      "cell_type": "code",
      "metadata": {
        "id": "Ntcglm7gBw7v",
        "outputId": "d7391799-e5e9-430e-fdb9-52e74b549de8",
        "colab": {
          "base_uri": "https://localhost:8080/"
        }
      },
      "source": [
        "False"
      ],
      "execution_count": 2,
      "outputs": [
        {
          "output_type": "execute_result",
          "data": {
            "text/plain": [
              "False"
            ]
          },
          "metadata": {
            "tags": []
          },
          "execution_count": 2
        }
      ]
    },
    {
      "cell_type": "code",
      "metadata": {
        "id": "ip_M6PIWB2E6",
        "outputId": "18071625-5ab5-48cb-f4b3-bba2c4725e84",
        "colab": {
          "base_uri": "https://localhost:8080/",
          "height": 172
        }
      },
      "source": [
        "true"
      ],
      "execution_count": 4,
      "outputs": [
        {
          "output_type": "error",
          "ename": "NameError",
          "evalue": "ignored",
          "traceback": [
            "\u001b[0;31m---------------------------------------------------------------------------\u001b[0m",
            "\u001b[0;31mNameError\u001b[0m                                 Traceback (most recent call last)",
            "\u001b[0;32m<ipython-input-4-724ba28f4a9a>\u001b[0m in \u001b[0;36m<module>\u001b[0;34m()\u001b[0m\n\u001b[0;32m----> 1\u001b[0;31m \u001b[0mtrue\u001b[0m\u001b[0;34m\u001b[0m\u001b[0;34m\u001b[0m\u001b[0m\n\u001b[0m",
            "\u001b[0;31mNameError\u001b[0m: name 'true' is not defined"
          ]
        }
      ]
    },
    {
      "cell_type": "code",
      "metadata": {
        "id": "wW3jMOniB4R1",
        "outputId": "e6bb3628-7697-4a39-931d-bc4fbdd20e2c",
        "colab": {
          "base_uri": "https://localhost:8080/"
        }
      },
      "source": [
        "a = 10 \n",
        "\n",
        "a > 5"
      ],
      "execution_count": 5,
      "outputs": [
        {
          "output_type": "execute_result",
          "data": {
            "text/plain": [
              "True"
            ]
          },
          "metadata": {
            "tags": []
          },
          "execution_count": 5
        }
      ]
    },
    {
      "cell_type": "code",
      "metadata": {
        "id": "3kfkVSSZCFv0",
        "outputId": "6da6843d-d6da-4be3-90c0-f97a0cdbf856",
        "colab": {
          "base_uri": "https://localhost:8080/"
        }
      },
      "source": [
        "5 > a"
      ],
      "execution_count": 6,
      "outputs": [
        {
          "output_type": "execute_result",
          "data": {
            "text/plain": [
              "False"
            ]
          },
          "metadata": {
            "tags": []
          },
          "execution_count": 6
        }
      ]
    },
    {
      "cell_type": "markdown",
      "metadata": {
        "id": "QUeyxR5vCKOZ"
      },
      "source": [
        "## Comparison Operators \n",
        "\n",
        "* `>` \n",
        "* `<` \n",
        "* `>=`\n",
        "* `<=`\n",
        "* `==`  → equality -  if 2 values are same it will return True\n",
        "* `!=`  → not  equality - if 2 values are not same it will return True\n",
        "\n"
      ]
    },
    {
      "cell_type": "code",
      "metadata": {
        "id": "RWo9iSPyChEA"
      },
      "source": [
        "a = 10 \n",
        "b = 20 "
      ],
      "execution_count": 7,
      "outputs": []
    },
    {
      "cell_type": "code",
      "metadata": {
        "id": "1YrPwvWYCocT",
        "outputId": "037ab08b-aa64-4a3d-e02a-74b7dec6cd26",
        "colab": {
          "base_uri": "https://localhost:8080/"
        }
      },
      "source": [
        "a < b "
      ],
      "execution_count": 8,
      "outputs": [
        {
          "output_type": "execute_result",
          "data": {
            "text/plain": [
              "True"
            ]
          },
          "metadata": {
            "tags": []
          },
          "execution_count": 8
        }
      ]
    },
    {
      "cell_type": "code",
      "metadata": {
        "id": "uZ2WxDOTCp5B",
        "outputId": "f2be87ae-0990-4d44-e0bb-0edeffd33a66",
        "colab": {
          "base_uri": "https://localhost:8080/"
        }
      },
      "source": [
        "a > b "
      ],
      "execution_count": 9,
      "outputs": [
        {
          "output_type": "execute_result",
          "data": {
            "text/plain": [
              "False"
            ]
          },
          "metadata": {
            "tags": []
          },
          "execution_count": 9
        }
      ]
    },
    {
      "cell_type": "code",
      "metadata": {
        "id": "KfbfdwEwCrOJ",
        "outputId": "6cc6ad36-438d-4f5b-b467-1e42fc0d178b",
        "colab": {
          "base_uri": "https://localhost:8080/"
        }
      },
      "source": [
        "c = 10 \n",
        "\n",
        "a <= c"
      ],
      "execution_count": 10,
      "outputs": [
        {
          "output_type": "execute_result",
          "data": {
            "text/plain": [
              "True"
            ]
          },
          "metadata": {
            "tags": []
          },
          "execution_count": 10
        }
      ]
    },
    {
      "cell_type": "code",
      "metadata": {
        "id": "GW2ck4ULCvn3",
        "outputId": "6ae82275-1be0-4259-9d0d-9313b7a74e94",
        "colab": {
          "base_uri": "https://localhost:8080/"
        }
      },
      "source": [
        "a >= c "
      ],
      "execution_count": 11,
      "outputs": [
        {
          "output_type": "execute_result",
          "data": {
            "text/plain": [
              "True"
            ]
          },
          "metadata": {
            "tags": []
          },
          "execution_count": 11
        }
      ]
    },
    {
      "cell_type": "code",
      "metadata": {
        "id": "MEuSn4KyCyTl",
        "outputId": "55728f0f-4ca5-4c57-8565-b2b28dd7233c",
        "colab": {
          "base_uri": "https://localhost:8080/"
        }
      },
      "source": [
        "a == c "
      ],
      "execution_count": 12,
      "outputs": [
        {
          "output_type": "execute_result",
          "data": {
            "text/plain": [
              "True"
            ]
          },
          "metadata": {
            "tags": []
          },
          "execution_count": 12
        }
      ]
    },
    {
      "cell_type": "code",
      "metadata": {
        "id": "sOoVWnkyC8mm",
        "outputId": "ff538be9-ad34-4d14-e34d-da404227c935",
        "colab": {
          "base_uri": "https://localhost:8080/"
        }
      },
      "source": [
        "a != c "
      ],
      "execution_count": 13,
      "outputs": [
        {
          "output_type": "execute_result",
          "data": {
            "text/plain": [
              "False"
            ]
          },
          "metadata": {
            "tags": []
          },
          "execution_count": 13
        }
      ]
    },
    {
      "cell_type": "code",
      "metadata": {
        "id": "mY1nSxS_C_xm",
        "outputId": "043e3195-2795-476b-ab2a-27e417eb481c",
        "colab": {
          "base_uri": "https://localhost:8080/"
        }
      },
      "source": [
        "b != c "
      ],
      "execution_count": 14,
      "outputs": [
        {
          "output_type": "execute_result",
          "data": {
            "text/plain": [
              "True"
            ]
          },
          "metadata": {
            "tags": []
          },
          "execution_count": 14
        }
      ]
    },
    {
      "cell_type": "code",
      "metadata": {
        "id": "6dkoZ6sBDBVN"
      },
      "source": [
        "a =! c \n"
      ],
      "execution_count": 17,
      "outputs": []
    },
    {
      "cell_type": "markdown",
      "metadata": {
        "id": "DMEfLkqjDhTf"
      },
      "source": [
        "Conditionals"
      ]
    },
    {
      "cell_type": "code",
      "metadata": {
        "id": "7yxVVvuqDTBy"
      },
      "source": [
        "principa = input()\n",
        "rate = ()\n",
        "time = ()\n",
        "\n",
        "si = p*r*t / 100; \n",
        "\n"
      ],
      "execution_count": null,
      "outputs": []
    },
    {
      "cell_type": "markdown",
      "metadata": {
        "id": "ZfpnveBZFKCw"
      },
      "source": [
        "agar time > 5 ho to rate 7.5 \n",
        "\n",
        "agar time < 5 ho to rate 10.5 \n",
        "\n",
        "agar = if \n",
        "\n",
        "\n",
        "## if block \n",
        "\n",
        "Syntax \n",
        "----\n",
        "\n",
        "```\n",
        "if condition : \n",
        "<leave space> code which we want to runt\n",
        "<leave space> if condition is true\n",
        "\n",
        "```\n",
        "\n",
        "in C/java \n",
        "\n",
        "```\n",
        "if (condition) {\n",
        "code if conditoin is true \n",
        "}\n",
        "```\n",
        "\n"
      ]
    },
    {
      "cell_type": "code",
      "metadata": {
        "id": "OHYFtTexGe1t",
        "outputId": "1932e9f1-5397-43e9-fee1-903a789a92cb",
        "colab": {
          "base_uri": "https://localhost:8080/"
        }
      },
      "source": [
        "principal = int(input('Enter principal'))\n",
        "time = int(input('Enter time'))\n",
        "\n",
        "rate = 10.5\n",
        "if time > 5 :\n",
        "    rate = 7.5 \n",
        "\n",
        "interest = principal * rate * time / 100\n",
        "print(interest)      "
      ],
      "execution_count": 19,
      "outputs": [
        {
          "output_type": "stream",
          "text": [
            "Enter principal10000\n",
            "Enter time6\n",
            "4500.0\n"
          ],
          "name": "stdout"
        }
      ]
    },
    {
      "cell_type": "code",
      "metadata": {
        "id": "7y6Kzg12HI26",
        "outputId": "82ec72b8-e639-4755-91e1-956d4832ea22",
        "colab": {
          "base_uri": "https://localhost:8080/"
        }
      },
      "source": [
        "10000*10.5 * 6 /100"
      ],
      "execution_count": 20,
      "outputs": [
        {
          "output_type": "execute_result",
          "data": {
            "text/plain": [
              "6300.0"
            ]
          },
          "metadata": {
            "tags": []
          },
          "execution_count": 20
        }
      ]
    },
    {
      "cell_type": "code",
      "metadata": {
        "id": "sYucLs0IHLhm",
        "outputId": "9b5727a0-388a-4b4d-a5a7-cc92647c7681",
        "colab": {
          "base_uri": "https://localhost:8080/"
        }
      },
      "source": [
        "principal = int(input('Enter principal'))\n",
        "time = int(input('Enter time'))\n",
        "\n",
        "rate = 10.5\n",
        "if time > 5 :\n",
        "    print('You get a discount of 3%')\n",
        "    rate = 7.5 \n",
        "\n",
        "interest = principal * rate * time / 100\n",
        "print(interest)      "
      ],
      "execution_count": 22,
      "outputs": [
        {
          "output_type": "stream",
          "text": [
            "Enter principal10000\n",
            "Enter time6\n",
            "You get a discount of 3%\n",
            "4500.0\n"
          ],
          "name": "stdout"
        }
      ]
    },
    {
      "cell_type": "code",
      "metadata": {
        "id": "D6MLhpIzJYBT",
        "outputId": "28f56f58-df98-4109-e8a9-f3cfb2dc8832",
        "colab": {
          "base_uri": "https://localhost:8080/"
        }
      },
      "source": [
        "principal = int(input('Enter principal'))\n",
        "time = int(input('Enter time'))\n",
        "\n",
        "rate = 10.5\n",
        "if time > 5 :\n",
        "    print('You get a discount of 3%')\n",
        "    rate = 7.5 \n",
        "\n",
        "interest = principal * rate * time / 100\n",
        "print(interest)      "
      ],
      "execution_count": 25,
      "outputs": [
        {
          "output_type": "stream",
          "text": [
            "Enter principal10000\n",
            "Enter time5\n",
            "5250.0\n"
          ],
          "name": "stdout"
        }
      ]
    },
    {
      "cell_type": "markdown",
      "metadata": {
        "id": "PIEukAKQKeaA"
      },
      "source": [
        "## else \n",
        "\n",
        "if condition:\n",
        "    \n",
        "else:\n",
        "    "
      ]
    },
    {
      "cell_type": "code",
      "metadata": {
        "id": "Ve3DH4U-LALn",
        "outputId": "bc1e00ea-8389-40fb-cde9-4e24cd3c1ce2",
        "colab": {
          "base_uri": "https://localhost:8080/"
        }
      },
      "source": [
        "principal = int(input('Enter principal'))\n",
        "time = int(input('Enter time'))\n",
        "\n",
        "rate = 10.5\n",
        "if time > 5 :\n",
        "    print('You get a discount of 3%')\n",
        "    rate = 7.5\n",
        "else : \n",
        "  print('You can get a discount of 3% if your time is > 5')\n",
        "\n",
        "interest = principal * rate * time / 100\n",
        "print(interest)      "
      ],
      "execution_count": 26,
      "outputs": [
        {
          "output_type": "stream",
          "text": [
            "Enter principal1000\n",
            "Enter time1\n",
            "You can get a discount of 3% if your time is > 5\n",
            "105.0\n"
          ],
          "name": "stdout"
        }
      ]
    },
    {
      "cell_type": "code",
      "metadata": {
        "id": "YmkuBAf-Le4x",
        "outputId": "3058edc9-2b48-4b56-80a2-4de063314db0",
        "colab": {
          "base_uri": "https://localhost:8080/"
        }
      },
      "source": [
        "'''\n",
        "90+ - > A+\n",
        "80-90 - > A\n",
        "70-80- B \n",
        "60-70 - > C\n",
        "<60 - > D\n",
        "'''\n",
        "\n",
        "\n",
        "marks = 75\n",
        "# print the grade \n",
        "\n",
        "if marks > 90:\n",
        "  print('A+')\n",
        "\n",
        "elif marks > 80:\n",
        "  print('A')\n",
        "\n",
        "elif marks > 70:\n",
        "  print('B')\n",
        "\n",
        "elif marks > 60:\n",
        "  print('C')\n",
        "\n",
        "else : \n",
        "  print('D')\n",
        "\n",
        "\n"
      ],
      "execution_count": 27,
      "outputs": [
        {
          "output_type": "stream",
          "text": [
            "B\n"
          ],
          "name": "stdout"
        }
      ]
    }
  ]
}