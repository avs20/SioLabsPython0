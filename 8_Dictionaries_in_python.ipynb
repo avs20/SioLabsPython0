{
  "nbformat": 4,
  "nbformat_minor": 0,
  "metadata": {
    "colab": {
      "name": "8_Dictionaries_in_python.ipynb",
      "provenance": [],
      "collapsed_sections": [],
      "authorship_tag": "ABX9TyNmN7TK6cNoAhUjcNJciIc0",
      "include_colab_link": true
    },
    "kernelspec": {
      "name": "python3",
      "display_name": "Python 3"
    }
  },
  "cells": [
    {
      "cell_type": "markdown",
      "metadata": {
        "id": "view-in-github",
        "colab_type": "text"
      },
      "source": [
        "<a href=\"https://colab.research.google.com/github/avs20/SioLabsPython0/blob/main/8_Dictionaries_in_python.ipynb\" target=\"_parent\"><img src=\"https://colab.research.google.com/assets/colab-badge.svg\" alt=\"Open In Colab\"/></a>"
      ]
    },
    {
      "cell_type": "code",
      "metadata": {
        "id": "nNemaz2mLYdx",
        "outputId": "48a376a1-3776-4f6c-e609-ed6a05cc83b7",
        "colab": {
          "base_uri": "https://localhost:8080/"
        }
      },
      "source": [
        "#Write a Python function to multiply all the numbers in a list\n",
        "\n",
        "numList = [24,12,31,16,25,3]\n",
        "\n",
        "def mulList( nList ):\n",
        "   result = 1\n",
        "   for num in nList:\n",
        "     result = result * num\n",
        "    \n",
        "   return result\n",
        "\n",
        "output = mulList(numList)\n",
        "print(output)"
      ],
      "execution_count": 2,
      "outputs": [
        {
          "output_type": "stream",
          "text": [
            "10713600\n"
          ],
          "name": "stdout"
        }
      ]
    },
    {
      "cell_type": "code",
      "metadata": {
        "id": "FCQ_jty9NXmf",
        "outputId": "5f723e22-2e53-4a59-ed6f-f62362486fa5",
        "colab": {
          "base_uri": "https://localhost:8080/"
        }
      },
      "source": [
        "mylist = []\n",
        "for i in range(5):\n",
        "   mylist.append(int(input()))\n",
        "\n",
        "print(mulList(mylist))"
      ],
      "execution_count": 3,
      "outputs": [
        {
          "output_type": "stream",
          "text": [
            "12\n",
            "14\n",
            "16\n",
            "18\n",
            "20\n",
            "967680\n"
          ],
          "name": "stdout"
        }
      ]
    },
    {
      "cell_type": "markdown",
      "metadata": {
        "id": "581tQzUJOxDD"
      },
      "source": [
        "Dictionaries\n",
        "-----------"
      ]
    },
    {
      "cell_type": "code",
      "metadata": {
        "id": "gWPeZ_lkOynz",
        "outputId": "381da4f8-fc1d-4c6e-87db-340fae3509c1",
        "colab": {
          "base_uri": "https://localhost:8080/"
        }
      },
      "source": [
        "# how to make a dictionary \n",
        "# dict()\n",
        "\n",
        "# creates empty dictionary\n",
        "mydict = dict()\n",
        "\n",
        "print(mydict)\n",
        "print(type(mydict))"
      ],
      "execution_count": 4,
      "outputs": [
        {
          "output_type": "stream",
          "text": [
            "{}\n",
            "<class 'dict'>\n"
          ],
          "name": "stdout"
        }
      ]
    },
    {
      "cell_type": "code",
      "metadata": {
        "id": "DBRy6bJuQhCL",
        "outputId": "d60d52cb-334f-43b2-8969-ba0686d860d9",
        "colab": {
          "base_uri": "https://localhost:8080/"
        }
      },
      "source": [
        "# how to add value in dictionary\n",
        "'''\n",
        "mylist = ['apple']\n",
        "'''\n",
        "\n",
        "mydict = { 'breakfast' : 'banana'   }\n",
        "print(mydict)"
      ],
      "execution_count": 5,
      "outputs": [
        {
          "output_type": "stream",
          "text": [
            "{'breakfast': 'banana'}\n"
          ],
          "name": "stdout"
        }
      ]
    },
    {
      "cell_type": "code",
      "metadata": {
        "id": "BZQYv3mdQ8ej",
        "outputId": "73b0a534-95de-4d79-89cf-45c3e71ae22b",
        "colab": {
          "base_uri": "https://localhost:8080/"
        }
      },
      "source": [
        "mydict['lunch'] = 'mango'\n",
        "print(mydict)"
      ],
      "execution_count": 6,
      "outputs": [
        {
          "output_type": "stream",
          "text": [
            "{'breakfast': 'banana', 'lunch': 'mango'}\n"
          ],
          "name": "stdout"
        }
      ]
    },
    {
      "cell_type": "code",
      "metadata": {
        "id": "46ohAAR4RCBz",
        "outputId": "4d57993c-de41-477b-c2e4-61912e65be6a",
        "colab": {
          "base_uri": "https://localhost:8080/"
        }
      },
      "source": [
        "mydict['snacks'] = 'apple'\n",
        "mydict['dinner'] = 'orange'\n",
        "\n",
        "print(mydict)"
      ],
      "execution_count": 7,
      "outputs": [
        {
          "output_type": "stream",
          "text": [
            "{'breakfast': 'banana', 'lunch': 'mango', 'snacks': 'apple', 'dinner': 'orange'}\n"
          ],
          "name": "stdout"
        }
      ]
    },
    {
      "cell_type": "code",
      "metadata": {
        "id": "XfhM75m_RYyt",
        "outputId": "bfd18d1a-b800-4875-83c6-5937374f9ef6",
        "colab": {
          "base_uri": "https://localhost:8080/"
        }
      },
      "source": [
        "print(mydict['snacks'])"
      ],
      "execution_count": 8,
      "outputs": [
        {
          "output_type": "stream",
          "text": [
            "apple\n"
          ],
          "name": "stdout"
        }
      ]
    },
    {
      "cell_type": "code",
      "metadata": {
        "id": "DgRt2Eo3RgQT",
        "outputId": "a9be8b86-027f-4e07-d718-0fbb310add28",
        "colab": {
          "base_uri": "https://localhost:8080/"
        }
      },
      "source": [
        "print(mydict['breakfast'])"
      ],
      "execution_count": 9,
      "outputs": [
        {
          "output_type": "stream",
          "text": [
            "banana\n"
          ],
          "name": "stdout"
        }
      ]
    },
    {
      "cell_type": "code",
      "metadata": {
        "id": "lnZUUeKnRmqr",
        "outputId": "f3424c42-1964-4e91-a107-f411cc40c1e5",
        "colab": {
          "base_uri": "https://localhost:8080/",
          "height": 172
        }
      },
      "source": [
        "print(mydict['apple'])"
      ],
      "execution_count": 10,
      "outputs": [
        {
          "output_type": "error",
          "ename": "KeyError",
          "evalue": "ignored",
          "traceback": [
            "\u001b[0;31m---------------------------------------------------------------------------\u001b[0m",
            "\u001b[0;31mKeyError\u001b[0m                                  Traceback (most recent call last)",
            "\u001b[0;32m<ipython-input-10-d30eda35f3c3>\u001b[0m in \u001b[0;36m<module>\u001b[0;34m()\u001b[0m\n\u001b[0;32m----> 1\u001b[0;31m \u001b[0mprint\u001b[0m\u001b[0;34m(\u001b[0m\u001b[0mmydict\u001b[0m\u001b[0;34m[\u001b[0m\u001b[0;34m'apple'\u001b[0m\u001b[0;34m]\u001b[0m\u001b[0;34m)\u001b[0m\u001b[0;34m\u001b[0m\u001b[0;34m\u001b[0m\u001b[0m\n\u001b[0m",
            "\u001b[0;31mKeyError\u001b[0m: 'apple'"
          ]
        }
      ]
    },
    {
      "cell_type": "code",
      "metadata": {
        "id": "GgYUb0VaSBmC",
        "outputId": "309987b8-3184-4810-a867-57fe273ae70c",
        "colab": {
          "base_uri": "https://localhost:8080/"
        }
      },
      "source": [
        "mydict['dinner'] = 'guava'\n",
        "print(mydict)"
      ],
      "execution_count": 11,
      "outputs": [
        {
          "output_type": "stream",
          "text": [
            "{'breakfast': 'banana', 'lunch': 'mango', 'snacks': 'apple', 'dinner': 'guava'}\n"
          ],
          "name": "stdout"
        }
      ]
    },
    {
      "cell_type": "code",
      "metadata": {
        "id": "_deFXMqnSWzz"
      },
      "source": [
        "del mydict['snacks']"
      ],
      "execution_count": 12,
      "outputs": []
    },
    {
      "cell_type": "code",
      "metadata": {
        "id": "BYTMplITSaag",
        "outputId": "2d44f9c7-65cf-405a-bd67-ed14f374e4e4",
        "colab": {
          "base_uri": "https://localhost:8080/"
        }
      },
      "source": [
        "print(mydict)"
      ],
      "execution_count": 13,
      "outputs": [
        {
          "output_type": "stream",
          "text": [
            "{'breakfast': 'banana', 'lunch': 'mango', 'dinner': 'guava'}\n"
          ],
          "name": "stdout"
        }
      ]
    },
    {
      "cell_type": "code",
      "metadata": {
        "id": "OdMjXcVVSbSM",
        "outputId": "58d6aa77-f681-446e-9858-e3ecd6d4b1dd",
        "colab": {
          "base_uri": "https://localhost:8080/"
        }
      },
      "source": [
        "mydict.pop('breakfast')\n",
        "print(mydict)"
      ],
      "execution_count": 15,
      "outputs": [
        {
          "output_type": "stream",
          "text": [
            "{'lunch': 'mango', 'dinner': 'guava'}\n"
          ],
          "name": "stdout"
        }
      ]
    },
    {
      "cell_type": "code",
      "metadata": {
        "id": "94kaK333S1n_",
        "outputId": "b3e11173-79af-4876-d584-4a9aaa169196",
        "colab": {
          "base_uri": "https://localhost:8080/"
        }
      },
      "source": [
        "# how to use in for loop \n",
        "\n",
        "'''\n",
        "for item in mylist:\n",
        "  print(item)\n",
        "'''\n",
        "\n",
        "for key in mydict:\n",
        "  print(key,':', mydict[key])\n",
        "\n"
      ],
      "execution_count": 18,
      "outputs": [
        {
          "output_type": "stream",
          "text": [
            "lunch : mango\n",
            "dinner : guava\n"
          ],
          "name": "stdout"
        }
      ]
    },
    {
      "cell_type": "markdown",
      "metadata": {
        "id": "eLzUgpfOTstk"
      },
      "source": [
        "dictionaries are used in counting\n",
        "\n",
        "if the key is in dictionary or not \n",
        "\n",
        "```\n",
        "if key in mydict:\n",
        "```"
      ]
    },
    {
      "cell_type": "code",
      "metadata": {
        "id": "rKKeXYDSTuyV",
        "outputId": "c7187847-6752-451e-96b8-9ec7fa0fbaa3",
        "colab": {
          "base_uri": "https://localhost:8080/"
        }
      },
      "source": [
        "print(mydict)"
      ],
      "execution_count": 19,
      "outputs": [
        {
          "output_type": "stream",
          "text": [
            "{'lunch': 'mango', 'dinner': 'guava'}\n"
          ],
          "name": "stdout"
        }
      ]
    },
    {
      "cell_type": "code",
      "metadata": {
        "id": "ePbSp9PtUIJ6",
        "outputId": "99b18c36-3ad3-4743-a770-96dd1085e1f9",
        "colab": {
          "base_uri": "https://localhost:8080/"
        }
      },
      "source": [
        "if 'snacks' in mydict:\n",
        "    print('snacks is presnet in dict')\n",
        "else:\n",
        "    print('snacks is NOT PRESENT in dict')"
      ],
      "execution_count": 20,
      "outputs": [
        {
          "output_type": "stream",
          "text": [
            "snacks is NOT PRESENT in dict\n"
          ],
          "name": "stdout"
        }
      ]
    },
    {
      "cell_type": "code",
      "metadata": {
        "id": "5IN91bIbUHHM",
        "outputId": "b5858e9f-36ab-4637-e9dc-8b294ec06656",
        "colab": {
          "base_uri": "https://localhost:8080/"
        }
      },
      "source": [
        "if 'lunch' in mydict:\n",
        "    print('lunch is presnet in dict')\n",
        "else:\n",
        "    print('lunch is NOT PRESENT in dict')"
      ],
      "execution_count": 21,
      "outputs": [
        {
          "output_type": "stream",
          "text": [
            "lunch is presnet in dict\n"
          ],
          "name": "stdout"
        }
      ]
    },
    {
      "cell_type": "code",
      "metadata": {
        "id": "HuWHkh7DUaTD",
        "outputId": "95db7889-8de1-4190-db9e-6fdaeb615021",
        "colab": {
          "base_uri": "https://localhost:8080/"
        }
      },
      "source": [
        "'lunch' in mydict"
      ],
      "execution_count": 22,
      "outputs": [
        {
          "output_type": "execute_result",
          "data": {
            "text/plain": [
              "True"
            ]
          },
          "metadata": {
            "tags": []
          },
          "execution_count": 22
        }
      ]
    },
    {
      "cell_type": "code",
      "metadata": {
        "id": "3EEPEcjWUcsW",
        "outputId": "9a14905b-80c6-4272-9d5d-7daaac0f0761",
        "colab": {
          "base_uri": "https://localhost:8080/"
        }
      },
      "source": [
        "'snacks' in mydict"
      ],
      "execution_count": 23,
      "outputs": [
        {
          "output_type": "execute_result",
          "data": {
            "text/plain": [
              "False"
            ]
          },
          "metadata": {
            "tags": []
          },
          "execution_count": 23
        }
      ]
    },
    {
      "cell_type": "markdown",
      "metadata": {
        "id": "kKeK9_jvWScT"
      },
      "source": [
        "Find the frequency of each character in the string \n",
        "\n",
        "Highland Quality"
      ]
    },
    {
      "cell_type": "code",
      "metadata": {
        "id": "9j9vAs9-WXsv",
        "outputId": "43076d56-7a76-4349-a0ce-38cf59edea58",
        "colab": {
          "base_uri": "https://localhost:8080/"
        }
      },
      "source": [
        "mystr = 'Highland Quality'\n",
        "\n",
        "mydict = {}\n",
        "\n",
        "for ch in mystr:\n",
        "  if ch not in mydict:\n",
        "      mydict[ch] = 1\n",
        "  else:\n",
        "      mydict[ch] = mydict[ch] + 1\n",
        "\n",
        "print(mydict)\n"
      ],
      "execution_count": 24,
      "outputs": [
        {
          "output_type": "stream",
          "text": [
            "{'H': 1, 'i': 2, 'g': 1, 'h': 1, 'l': 2, 'a': 2, 'n': 1, 'd': 1, ' ': 1, 'Q': 1, 'u': 1, 't': 1, 'y': 1}\n"
          ],
          "name": "stdout"
        }
      ]
    },
    {
      "cell_type": "code",
      "metadata": {
        "id": "gLxj0brdYKy2",
        "outputId": "dd090019-8a5b-4c88-ef9e-e51e669839d2",
        "colab": {
          "base_uri": "https://localhost:8080/"
        }
      },
      "source": [
        "speech = '''\n",
        "The Prime Minister Narendra Modi’s appeal to spiritual leaders to help popularise ‘vocal for local’ for AatmNirbhar Bharat yesterday has found huge response among the prominent spiritual leaders of the country. The ‘sant samaj’ has responded to the Prime Minister’s appeal with great enthusiasm. The Spiritual personalities have come forward with public commitment to promote and popularise ‘vocal for local’ for AatmNirbhar Bharat and have pledged their support for the cause.\n",
        "\n",
        "The Prime Minister’s call came at the unveiling of the ‘Statue of Peace’ to mark the 151st Birth Anniversary celebrations of Jainacharya Shree Vijay Vallabh Surishwer Ji Maharaj, via video conferencing, yesterday. Shri Modi had said, as the base of the freedom struggle was provided by the bhakti movement, similarly, today, basis of the AatmNirbhar Bharat will be provided by the saints, mahatma, mahants and acharyas of our country. He called on the spiritual leaders, to promote AatmNirbhar Bharat in their preaching and interactions with their followers.\n",
        "\n",
        "Sri Sri Ravi Shankar said that in support of the Prime Minister call, youngsters in his organizations have created an app and Sri Sri reiterated the commitment to AatmNirbhar Bharat in things of day to day use.\n",
        "\n",
        "Baba Ramdev also pledged support of Patanjali and his followers to the enterprise of AatmNirbhar Bharat. He offered to get in touch with other spiritual leaders and bring them on the platform of ‘vocal for local’.\n",
        "\n",
        "Sadguru Jaggi Vasudev tweeted in response to the Prime Minister’s call “Self-reliance is a fundamental strength that is vital for a strong and stable Nation. Not to stand in isolation but for resilience of national fiber and be of significance in the world. Only possible with committed Citizenry.”\n",
        "\n",
        "Swami Awadheshanand responded with the unified support on behalf of the top spiritual leaders and called the Prime Minister call inspiring.\n",
        "\n",
        "Bhawat Kathakar and Spiritual personality Devaki Nandan Thakur said that on the call of the Prime Minister his followers have made ‘vocal for local’ their life’s motto.\n",
        "\n",
        "Sentiment of support and appreciation for the call for AatmNirbhar Bharat resonates through the messages of the spiritual leaders. They are not only supporting the call on a personal level but are offering to coordinate the response of the ‘sant samaj’, calling upon their supporters to adopt the ideals of ‘vocal for local’ also they are pledging their infrastructure and resources to the cause. The unstinting support for the movement can be seen in the following messages.\n",
        "'''\n",
        "\n",
        "print(speech)"
      ],
      "execution_count": 25,
      "outputs": [
        {
          "output_type": "stream",
          "text": [
            "\n",
            "The Prime Minister Narendra Modi’s appeal to spiritual leaders to help popularise ‘vocal for local’ for AatmNirbhar Bharat yesterday has found huge response among the prominent spiritual leaders of the country. The ‘sant samaj’ has responded to the Prime Minister’s appeal with great enthusiasm. The Spiritual personalities have come forward with public commitment to promote and popularise ‘vocal for local’ for AatmNirbhar Bharat and have pledged their support for the cause.\n",
            "\n",
            "The Prime Minister’s call came at the unveiling of the ‘Statue of Peace’ to mark the 151st Birth Anniversary celebrations of Jainacharya Shree Vijay Vallabh Surishwer Ji Maharaj, via video conferencing, yesterday. Shri Modi had said, as the base of the freedom struggle was provided by the bhakti movement, similarly, today, basis of the AatmNirbhar Bharat will be provided by the saints, mahatma, mahants and acharyas of our country. He called on the spiritual leaders, to promote AatmNirbhar Bharat in their preaching and interactions with their followers.\n",
            "\n",
            "Sri Sri Ravi Shankar said that in support of the Prime Minister call, youngsters in his organizations have created an app and Sri Sri reiterated the commitment to AatmNirbhar Bharat in things of day to day use.\n",
            "\n",
            "Baba Ramdev also pledged support of Patanjali and his followers to the enterprise of AatmNirbhar Bharat. He offered to get in touch with other spiritual leaders and bring them on the platform of ‘vocal for local’.\n",
            "\n",
            "Sadguru Jaggi Vasudev tweeted in response to the Prime Minister’s call “Self-reliance is a fundamental strength that is vital for a strong and stable Nation. Not to stand in isolation but for resilience of national fiber and be of significance in the world. Only possible with committed Citizenry.”\n",
            "\n",
            "Swami Awadheshanand responded with the unified support on behalf of the top spiritual leaders and called the Prime Minister call inspiring.\n",
            "\n",
            "Bhawat Kathakar and Spiritual personality Devaki Nandan Thakur said that on the call of the Prime Minister his followers have made ‘vocal for local’ their life’s motto.\n",
            "\n",
            "Sentiment of support and appreciation for the call for AatmNirbhar Bharat resonates through the messages of the spiritual leaders. They are not only supporting the call on a personal level but are offering to coordinate the response of the ‘sant samaj’, calling upon their supporters to adopt the ideals of ‘vocal for local’ also they are pledging their infrastructure and resources to the cause. The unstinting support for the movement can be seen in the following messages.\n",
            "\n"
          ],
          "name": "stdout"
        }
      ]
    },
    {
      "cell_type": "code",
      "metadata": {
        "id": "gSsH9KfhYOZN",
        "outputId": "72d83acd-04d7-4310-9352-d1d77b20ebe5",
        "colab": {
          "base_uri": "https://localhost:8080/"
        }
      },
      "source": [
        "# count the frequency of words in this release\n",
        "\n",
        "# to convert string to list use split\n",
        "\n",
        "mystr = 'The quick brown fox jump over the lazy dog'\n",
        "\n",
        "print(mystr.split())\n",
        "\n",
        "wordlist = mystr.split()\n",
        "\n",
        "for word in wordlist:\n",
        "  print(word)\n"
      ],
      "execution_count": 27,
      "outputs": [
        {
          "output_type": "stream",
          "text": [
            "['The', 'quick', 'brown', 'fox', 'jump', 'over', 'the', 'lazy', 'dog']\n",
            "The\n",
            "quick\n",
            "brown\n",
            "fox\n",
            "jump\n",
            "over\n",
            "the\n",
            "lazy\n",
            "dog\n"
          ],
          "name": "stdout"
        }
      ]
    },
    {
      "cell_type": "code",
      "metadata": {
        "id": "KrwlJ0rOYo41",
        "outputId": "f1d7ad8c-0161-44ed-fc15-2471ce2ea55b",
        "colab": {
          "base_uri": "https://localhost:8080/"
        }
      },
      "source": [
        "mystr = 'The,quick,brown,fox,jump,over,the,lazy,dog'\n",
        "\n",
        "print(mystr.split())\n"
      ],
      "execution_count": 28,
      "outputs": [
        {
          "output_type": "stream",
          "text": [
            "['The,quick,brown,fox,jump,over,the,lazy,dog']\n"
          ],
          "name": "stdout"
        }
      ]
    },
    {
      "cell_type": "code",
      "metadata": {
        "id": "ufk8bD3RYzK3",
        "outputId": "c727d077-6f90-4f84-ee00-e2ffe8f9c3d9",
        "colab": {
          "base_uri": "https://localhost:8080/"
        }
      },
      "source": [
        "print(mystr.split(','))\n"
      ],
      "execution_count": 29,
      "outputs": [
        {
          "output_type": "stream",
          "text": [
            "['The', 'quick', 'brown', 'fox', 'jump', 'over', 'the', 'lazy', 'dog']\n"
          ],
          "name": "stdout"
        }
      ]
    },
    {
      "cell_type": "code",
      "metadata": {
        "id": "Xdw2zKQeZCys",
        "outputId": "e47101b9-7c86-481c-8dfb-bddafd3cdcae",
        "colab": {
          "base_uri": "https://localhost:8080/"
        }
      },
      "source": [
        "wordlist = speech.split()\n",
        "\n",
        "wordCount = {}\n",
        "\n",
        "for word in wordlist:\n",
        "  if word.lower() in wordCount:\n",
        "      wordCount[word.lower()] = wordCount[word.lower()] + 1\n",
        "  else:\n",
        "      wordCount[word.lower()] = 1\n",
        "\n",
        "print(wordCount)"
      ],
      "execution_count": 35,
      "outputs": [
        {
          "output_type": "stream",
          "text": [
            "{'the': 39, 'prime': 7, 'minister': 4, 'narendra': 1, 'modi’s': 1, 'appeal': 2, 'to': 15, 'spiritual': 8, 'leaders': 4, 'help': 1, 'popularise': 2, '‘vocal': 5, 'for': 13, 'local’': 4, 'aatmnirbhar': 7, 'bharat': 6, 'yesterday': 1, 'has': 2, 'found': 1, 'huge': 1, 'response': 3, 'among': 1, 'prominent': 1, 'of': 20, 'country.': 2, '‘sant': 2, 'samaj’': 1, 'responded': 2, 'minister’s': 3, 'with': 6, 'great': 1, 'enthusiasm.': 1, 'personalities': 1, 'have': 4, 'come': 1, 'forward': 1, 'public': 1, 'commitment': 2, 'promote': 2, 'and': 13, 'pledged': 2, 'their': 6, 'support': 6, 'cause.': 2, 'call': 6, 'came': 1, 'at': 1, 'unveiling': 1, '‘statue': 1, 'peace’': 1, 'mark': 1, '151st': 1, 'birth': 1, 'anniversary': 1, 'celebrations': 1, 'jainacharya': 1, 'shree': 1, 'vijay': 1, 'vallabh': 1, 'surishwer': 1, 'ji': 1, 'maharaj,': 1, 'via': 1, 'video': 1, 'conferencing,': 1, 'yesterday.': 1, 'shri': 1, 'modi': 1, 'had': 1, 'said,': 1, 'as': 1, 'base': 1, 'freedom': 1, 'struggle': 1, 'was': 1, 'provided': 2, 'by': 2, 'bhakti': 1, 'movement,': 1, 'similarly,': 1, 'today,': 1, 'basis': 1, 'will': 1, 'be': 3, 'saints,': 1, 'mahatma,': 1, 'mahants': 1, 'acharyas': 1, 'our': 1, 'he': 2, 'called': 2, 'on': 5, 'leaders,': 1, 'in': 9, 'preaching': 1, 'interactions': 1, 'followers.': 1, 'sri': 4, 'ravi': 1, 'shankar': 1, 'said': 2, 'that': 3, 'call,': 1, 'youngsters': 1, 'his': 3, 'organizations': 1, 'created': 1, 'an': 1, 'app': 1, 'reiterated': 1, 'things': 1, 'day': 2, 'use.': 1, 'baba': 1, 'ramdev': 1, 'also': 2, 'patanjali': 1, 'followers': 2, 'enterprise': 1, 'bharat.': 1, 'offered': 1, 'get': 1, 'touch': 1, 'other': 1, 'bring': 1, 'them': 1, 'platform': 1, 'local’.': 1, 'sadguru': 1, 'jaggi': 1, 'vasudev': 1, 'tweeted': 1, '“self-reliance': 1, 'is': 2, 'a': 3, 'fundamental': 1, 'strength': 1, 'vital': 1, 'strong': 1, 'stable': 1, 'nation.': 1, 'not': 2, 'stand': 1, 'isolation': 1, 'but': 2, 'resilience': 1, 'national': 1, 'fiber': 1, 'significance': 1, 'world.': 1, 'only': 2, 'possible': 1, 'committed': 1, 'citizenry.”': 1, 'swami': 1, 'awadheshanand': 1, 'unified': 1, 'behalf': 1, 'top': 1, 'inspiring.': 1, 'bhawat': 1, 'kathakar': 1, 'personality': 1, 'devaki': 1, 'nandan': 1, 'thakur': 1, 'made': 1, 'life’s': 1, 'motto.': 1, 'sentiment': 1, 'appreciation': 1, 'resonates': 1, 'through': 1, 'messages': 1, 'leaders.': 1, 'they': 2, 'are': 3, 'supporting': 1, 'personal': 1, 'level': 1, 'offering': 1, 'coordinate': 1, 'samaj’,': 1, 'calling': 1, 'upon': 1, 'supporters': 1, 'adopt': 1, 'ideals': 1, 'pledging': 1, 'infrastructure': 1, 'resources': 1, 'unstinting': 1, 'movement': 1, 'can': 1, 'seen': 1, 'following': 1, 'messages.': 1}\n"
          ],
          "name": "stdout"
        }
      ]
    },
    {
      "cell_type": "code",
      "metadata": {
        "id": "GeYVtPI5Zlk5",
        "outputId": "868feedf-26f4-4727-954b-e4a011fe5059",
        "colab": {
          "base_uri": "https://localhost:8080/"
        }
      },
      "source": [
        "list(wordCount.keys())"
      ],
      "execution_count": 36,
      "outputs": [
        {
          "output_type": "execute_result",
          "data": {
            "text/plain": [
              "['the',\n",
              " 'prime',\n",
              " 'minister',\n",
              " 'narendra',\n",
              " 'modi’s',\n",
              " 'appeal',\n",
              " 'to',\n",
              " 'spiritual',\n",
              " 'leaders',\n",
              " 'help',\n",
              " 'popularise',\n",
              " '‘vocal',\n",
              " 'for',\n",
              " 'local’',\n",
              " 'aatmnirbhar',\n",
              " 'bharat',\n",
              " 'yesterday',\n",
              " 'has',\n",
              " 'found',\n",
              " 'huge',\n",
              " 'response',\n",
              " 'among',\n",
              " 'prominent',\n",
              " 'of',\n",
              " 'country.',\n",
              " '‘sant',\n",
              " 'samaj’',\n",
              " 'responded',\n",
              " 'minister’s',\n",
              " 'with',\n",
              " 'great',\n",
              " 'enthusiasm.',\n",
              " 'personalities',\n",
              " 'have',\n",
              " 'come',\n",
              " 'forward',\n",
              " 'public',\n",
              " 'commitment',\n",
              " 'promote',\n",
              " 'and',\n",
              " 'pledged',\n",
              " 'their',\n",
              " 'support',\n",
              " 'cause.',\n",
              " 'call',\n",
              " 'came',\n",
              " 'at',\n",
              " 'unveiling',\n",
              " '‘statue',\n",
              " 'peace’',\n",
              " 'mark',\n",
              " '151st',\n",
              " 'birth',\n",
              " 'anniversary',\n",
              " 'celebrations',\n",
              " 'jainacharya',\n",
              " 'shree',\n",
              " 'vijay',\n",
              " 'vallabh',\n",
              " 'surishwer',\n",
              " 'ji',\n",
              " 'maharaj,',\n",
              " 'via',\n",
              " 'video',\n",
              " 'conferencing,',\n",
              " 'yesterday.',\n",
              " 'shri',\n",
              " 'modi',\n",
              " 'had',\n",
              " 'said,',\n",
              " 'as',\n",
              " 'base',\n",
              " 'freedom',\n",
              " 'struggle',\n",
              " 'was',\n",
              " 'provided',\n",
              " 'by',\n",
              " 'bhakti',\n",
              " 'movement,',\n",
              " 'similarly,',\n",
              " 'today,',\n",
              " 'basis',\n",
              " 'will',\n",
              " 'be',\n",
              " 'saints,',\n",
              " 'mahatma,',\n",
              " 'mahants',\n",
              " 'acharyas',\n",
              " 'our',\n",
              " 'he',\n",
              " 'called',\n",
              " 'on',\n",
              " 'leaders,',\n",
              " 'in',\n",
              " 'preaching',\n",
              " 'interactions',\n",
              " 'followers.',\n",
              " 'sri',\n",
              " 'ravi',\n",
              " 'shankar',\n",
              " 'said',\n",
              " 'that',\n",
              " 'call,',\n",
              " 'youngsters',\n",
              " 'his',\n",
              " 'organizations',\n",
              " 'created',\n",
              " 'an',\n",
              " 'app',\n",
              " 'reiterated',\n",
              " 'things',\n",
              " 'day',\n",
              " 'use.',\n",
              " 'baba',\n",
              " 'ramdev',\n",
              " 'also',\n",
              " 'patanjali',\n",
              " 'followers',\n",
              " 'enterprise',\n",
              " 'bharat.',\n",
              " 'offered',\n",
              " 'get',\n",
              " 'touch',\n",
              " 'other',\n",
              " 'bring',\n",
              " 'them',\n",
              " 'platform',\n",
              " 'local’.',\n",
              " 'sadguru',\n",
              " 'jaggi',\n",
              " 'vasudev',\n",
              " 'tweeted',\n",
              " '“self-reliance',\n",
              " 'is',\n",
              " 'a',\n",
              " 'fundamental',\n",
              " 'strength',\n",
              " 'vital',\n",
              " 'strong',\n",
              " 'stable',\n",
              " 'nation.',\n",
              " 'not',\n",
              " 'stand',\n",
              " 'isolation',\n",
              " 'but',\n",
              " 'resilience',\n",
              " 'national',\n",
              " 'fiber',\n",
              " 'significance',\n",
              " 'world.',\n",
              " 'only',\n",
              " 'possible',\n",
              " 'committed',\n",
              " 'citizenry.”',\n",
              " 'swami',\n",
              " 'awadheshanand',\n",
              " 'unified',\n",
              " 'behalf',\n",
              " 'top',\n",
              " 'inspiring.',\n",
              " 'bhawat',\n",
              " 'kathakar',\n",
              " 'personality',\n",
              " 'devaki',\n",
              " 'nandan',\n",
              " 'thakur',\n",
              " 'made',\n",
              " 'life’s',\n",
              " 'motto.',\n",
              " 'sentiment',\n",
              " 'appreciation',\n",
              " 'resonates',\n",
              " 'through',\n",
              " 'messages',\n",
              " 'leaders.',\n",
              " 'they',\n",
              " 'are',\n",
              " 'supporting',\n",
              " 'personal',\n",
              " 'level',\n",
              " 'offering',\n",
              " 'coordinate',\n",
              " 'samaj’,',\n",
              " 'calling',\n",
              " 'upon',\n",
              " 'supporters',\n",
              " 'adopt',\n",
              " 'ideals',\n",
              " 'pledging',\n",
              " 'infrastructure',\n",
              " 'resources',\n",
              " 'unstinting',\n",
              " 'movement',\n",
              " 'can',\n",
              " 'seen',\n",
              " 'following',\n",
              " 'messages.']"
            ]
          },
          "metadata": {
            "tags": []
          },
          "execution_count": 36
        }
      ]
    },
    {
      "cell_type": "code",
      "metadata": {
        "id": "AN_R9YG9Ztip",
        "outputId": "4846516a-2698-438d-f7fb-6bd4b3528df1",
        "colab": {
          "base_uri": "https://localhost:8080/"
        }
      },
      "source": [
        "mystr = 'Highland Quality'\n",
        "\n",
        "mydict = {}\n",
        "\n",
        "for ch in mystr:\n",
        "  if ch.lower() not in mydict:\n",
        "      mydict[ch.lower()] = 1\n",
        "  else:\n",
        "      mydict[ch.lower()] = mydict[ch.lower()] + 1\n",
        "\n",
        "print(mydict)"
      ],
      "execution_count": 37,
      "outputs": [
        {
          "output_type": "stream",
          "text": [
            "{'h': 2, 'i': 2, 'g': 1, 'l': 2, 'a': 2, 'n': 1, 'd': 1, ' ': 1, 'q': 1, 'u': 1, 't': 1, 'y': 1}\n"
          ],
          "name": "stdout"
        }
      ]
    }
  ]
}