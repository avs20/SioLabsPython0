{
  "nbformat": 4,
  "nbformat_minor": 0,
  "metadata": {
    "colab": {
      "name": "LinearRegression.ipynb",
      "provenance": [],
      "authorship_tag": "ABX9TyP9JvrJO/Wo8VHh8trRxE6j",
      "include_colab_link": true
    },
    "kernelspec": {
      "name": "python3",
      "display_name": "Python 3"
    }
  },
  "cells": [
    {
      "cell_type": "markdown",
      "metadata": {
        "id": "view-in-github",
        "colab_type": "text"
      },
      "source": [
        "<a href=\"https://colab.research.google.com/github/avs20/SioLabsPython0/blob/main/LinearRegression.ipynb\" target=\"_parent\"><img src=\"https://colab.research.google.com/assets/colab-badge.svg\" alt=\"Open In Colab\"/></a>"
      ]
    },
    {
      "cell_type": "code",
      "metadata": {
        "id": "xvW-OVjHajVt"
      },
      "source": [
        "import pandas as pd \r\n",
        "import numpy as np"
      ],
      "execution_count": 1,
      "outputs": []
    },
    {
      "cell_type": "code",
      "metadata": {
        "colab": {
          "base_uri": "https://localhost:8080/",
          "height": 206
        },
        "id": "QitCvGYLdTo4",
        "outputId": "a9379c7a-6209-4f54-a8cf-5d48cb589aee"
      },
      "source": [
        "data = pd.read_csv(\"https://raw.githubusercontent.com/avs20/MSIT_ML_CLASS/master/datasets/boston_housing.csv\")\r\n",
        "data.head()\r\n"
      ],
      "execution_count": 5,
      "outputs": [
        {
          "output_type": "execute_result",
          "data": {
            "text/html": [
              "<div>\n",
              "<style scoped>\n",
              "    .dataframe tbody tr th:only-of-type {\n",
              "        vertical-align: middle;\n",
              "    }\n",
              "\n",
              "    .dataframe tbody tr th {\n",
              "        vertical-align: top;\n",
              "    }\n",
              "\n",
              "    .dataframe thead th {\n",
              "        text-align: right;\n",
              "    }\n",
              "</style>\n",
              "<table border=\"1\" class=\"dataframe\">\n",
              "  <thead>\n",
              "    <tr style=\"text-align: right;\">\n",
              "      <th></th>\n",
              "      <th>RM</th>\n",
              "      <th>LSTAT</th>\n",
              "      <th>PTRATIO</th>\n",
              "      <th>MEDV</th>\n",
              "    </tr>\n",
              "  </thead>\n",
              "  <tbody>\n",
              "    <tr>\n",
              "      <th>0</th>\n",
              "      <td>6.575</td>\n",
              "      <td>4.98</td>\n",
              "      <td>15.3</td>\n",
              "      <td>504000.0</td>\n",
              "    </tr>\n",
              "    <tr>\n",
              "      <th>1</th>\n",
              "      <td>6.421</td>\n",
              "      <td>9.14</td>\n",
              "      <td>17.8</td>\n",
              "      <td>453600.0</td>\n",
              "    </tr>\n",
              "    <tr>\n",
              "      <th>2</th>\n",
              "      <td>7.185</td>\n",
              "      <td>4.03</td>\n",
              "      <td>17.8</td>\n",
              "      <td>728700.0</td>\n",
              "    </tr>\n",
              "    <tr>\n",
              "      <th>3</th>\n",
              "      <td>6.998</td>\n",
              "      <td>2.94</td>\n",
              "      <td>18.7</td>\n",
              "      <td>701400.0</td>\n",
              "    </tr>\n",
              "    <tr>\n",
              "      <th>4</th>\n",
              "      <td>7.147</td>\n",
              "      <td>5.33</td>\n",
              "      <td>18.7</td>\n",
              "      <td>760200.0</td>\n",
              "    </tr>\n",
              "  </tbody>\n",
              "</table>\n",
              "</div>"
            ],
            "text/plain": [
              "      RM  LSTAT  PTRATIO      MEDV\n",
              "0  6.575   4.98     15.3  504000.0\n",
              "1  6.421   9.14     17.8  453600.0\n",
              "2  7.185   4.03     17.8  728700.0\n",
              "3  6.998   2.94     18.7  701400.0\n",
              "4  7.147   5.33     18.7  760200.0"
            ]
          },
          "metadata": {
            "tags": []
          },
          "execution_count": 5
        }
      ]
    },
    {
      "cell_type": "code",
      "metadata": {
        "colab": {
          "base_uri": "https://localhost:8080/"
        },
        "id": "Y44C3w9Pdb1W",
        "outputId": "82f1250d-e085-460f-88f5-5334c37c8e67"
      },
      "source": [
        "clean_data = data[[\"RM\",\"MEDV\"]].values\r\n",
        "clean_data[:20]"
      ],
      "execution_count": 6,
      "outputs": [
        {
          "output_type": "execute_result",
          "data": {
            "text/plain": [
              "array([[6.575e+00, 5.040e+05],\n",
              "       [6.421e+00, 4.536e+05],\n",
              "       [7.185e+00, 7.287e+05],\n",
              "       [6.998e+00, 7.014e+05],\n",
              "       [7.147e+00, 7.602e+05],\n",
              "       [6.430e+00, 6.027e+05],\n",
              "       [6.012e+00, 4.809e+05],\n",
              "       [6.172e+00, 5.691e+05],\n",
              "       [5.631e+00, 3.465e+05],\n",
              "       [6.004e+00, 3.969e+05],\n",
              "       [6.377e+00, 3.150e+05],\n",
              "       [6.009e+00, 3.969e+05],\n",
              "       [5.889e+00, 4.557e+05],\n",
              "       [5.949e+00, 4.284e+05],\n",
              "       [6.096e+00, 3.822e+05],\n",
              "       [5.834e+00, 4.179e+05],\n",
              "       [5.935e+00, 4.851e+05],\n",
              "       [5.990e+00, 3.675e+05],\n",
              "       [5.456e+00, 4.242e+05],\n",
              "       [5.727e+00, 3.822e+05]])"
            ]
          },
          "metadata": {
            "tags": []
          },
          "execution_count": 6
        }
      ]
    },
    {
      "cell_type": "code",
      "metadata": {
        "colab": {
          "base_uri": "https://localhost:8080/",
          "height": 276
        },
        "id": "3aLqUlBYeJEl",
        "outputId": "56410afe-01de-4c5b-c3bb-d4e5eced30e7"
      },
      "source": [
        "import matplotlib.pyplot as plt\r\n",
        "%matplotlib inline\r\n",
        "plt.style.use('ggplot')\r\n",
        "\r\n",
        "plt.scatter(clean_data[:,0],clean_data[:,1])\r\n",
        "plt.show()"
      ],
      "execution_count": 7,
      "outputs": [
        {
          "output_type": "display_data",
          "data": {
            "image/png": "[encoded data removed]",
            "text/plain": [
              "<Figure size 432x288 with 1 Axes>"
            ]
          },
          "metadata": {
            "tags": []
          }
        }
      ]
    },
    {
      "cell_type": "code",
      "metadata": {
        "id": "stXRu7s7eTaW"
      },
      "source": [
        "\r\n",
        "\r\n",
        "def compute_errors(m,b, points):\r\n",
        "    error = 0\r\n",
        "    for point in points:\r\n",
        "        x = point[0]\r\n",
        "        y = point[1]\r\n",
        "        \r\n",
        "        error += (y - (m*x + b))**2\r\n",
        "    \r\n",
        "    \r\n",
        "    return error / len(points)\r\n",
        "\r\n"
      ],
      "execution_count": 8,
      "outputs": []
    },
    {
      "cell_type": "code",
      "metadata": {
        "colab": {
          "base_uri": "https://localhost:8080/"
        },
        "id": "04KhoZHceWn0",
        "outputId": "19cf35ea-973c-4184-d2c4-568e8f31f762"
      },
      "source": [
        "compute_errors(0,0,clean_data)"
      ],
      "execution_count": 9,
      "outputs": [
        {
          "output_type": "execute_result",
          "data": {
            "text/plain": [
              "233709014171.77914"
            ]
          },
          "metadata": {
            "tags": []
          },
          "execution_count": 9
        }
      ]
    },
    {
      "cell_type": "code",
      "metadata": {
        "id": "E8mX4LuGebtE"
      },
      "source": [
        "\r\n",
        "\r\n",
        "#get the data \r\n",
        "def step_gradient(b_current, m_current, points, learningRate):\r\n",
        "    b_gradient = 0\r\n",
        "    m_gradient = 0\r\n",
        "    N = float(len(points))\r\n",
        "    \r\n",
        "    for i in range(0, len(points)):\r\n",
        "        \r\n",
        "        x = points[i,0]\r\n",
        "        y = points[i,1]\r\n",
        "        b_gradient += -(2/N) * (y - ((m_current * x) + b_current))\r\n",
        "        m_gradient += -(2/N) * x * (y - ((m_current * x) + b_current))\r\n",
        "        \r\n",
        "    new_b = b_current - (learningRate * b_gradient)\r\n",
        "    new_m = m_current - (learningRate * m_gradient)\r\n",
        "    return [new_b, new_m]\r\n",
        "\r\n"
      ],
      "execution_count": 10,
      "outputs": []
    },
    {
      "cell_type": "code",
      "metadata": {
        "colab": {
          "base_uri": "https://localhost:8080/"
        },
        "id": "qEaoYAFcef1O",
        "outputId": "20cf560a-4fde-40d4-94f2-405ef9d49ca5"
      },
      "source": [
        "#how to use the function\r\n",
        "step_gradient(0,0,clean_data, 0.0001)"
      ],
      "execution_count": 11,
      "outputs": [
        {
          "output_type": "execute_result",
          "data": {
            "text/plain": [
              "[90.86858895705524, 581.855422331288]"
            ]
          },
          "metadata": {
            "tags": []
          },
          "execution_count": 11
        }
      ]
    },
    {
      "cell_type": "code",
      "metadata": {
        "colab": {
          "base_uri": "https://localhost:8080/"
        },
        "id": "c3vxMtteejiN",
        "outputId": "faa09c40-3dc2-4a5b-d70e-0352847fb550"
      },
      "source": [
        "points = clean_data\r\n",
        "\r\n",
        "learning_rate = 0.001\r\n",
        "initial_b = 0 # initial y-intercept guess\r\n",
        "initial_m = 0 # initial slope guess\r\n",
        "num_iterations = 10000\r\n",
        "\r\n",
        "b = initial_b\r\n",
        "m = initial_m\r\n",
        "first_error = compute_errors(m,b,points)\r\n",
        "print(\"We are starting at  b = \",initial_b,\" m = \", initial_m, \"start error= \", first_error )\r\n",
        "error_list = []\r\n",
        "for i in range(num_iterations):\r\n",
        "    \r\n",
        "    b,m = step_gradient(b,m, points, learning_rate)\r\n",
        "    error_list.append(compute_errors(m,b,points))\r\n",
        "    \r\n",
        "print(\"Ending at b = \", b, \" m = \", m, \"error = \", error_list[-1])"
      ],
      "execution_count": 12,
      "outputs": [
        {
          "output_type": "stream",
          "text": [
            "We are starting at  b =  0  m =  0 start error=  233709014171.77914\n",
            "Ending at b =  -113603.63065541758  m =  91915.5511515763 error =  17194167755.528584\n"
          ],
          "name": "stdout"
        }
      ]
    },
    {
      "cell_type": "code",
      "metadata": {
        "colab": {
          "base_uri": "https://localhost:8080/",
          "height": 294
        },
        "id": "Q06ghw1feqy4",
        "outputId": "d61e6a6d-4bf5-43f6-ad0e-3b4f447417cc"
      },
      "source": [
        "plt.plot(error_list)"
      ],
      "execution_count": 13,
      "outputs": [
        {
          "output_type": "execute_result",
          "data": {
            "text/plain": [
              "[<matplotlib.lines.Line2D at 0x7fd7be707dd8>]"
            ]
          },
          "metadata": {
            "tags": []
          },
          "execution_count": 13
        },
        {
          "output_type": "display_data",
          "data": {
            "image/png": "[encoded data removed]",
            "text/plain": [
              "<Figure size 432x288 with 1 Axes>"
            ]
          },
          "metadata": {
            "tags": []
          }
        }
      ]
    },
    {
      "cell_type": "code",
      "metadata": {
        "colab": {
          "base_uri": "https://localhost:8080/"
        },
        "id": "67RSf2oSeuh3",
        "outputId": "76ba88d6-ecac-4368-efe1-68fd74913261"
      },
      "source": [
        "\r\n",
        "\r\n",
        "x = np.arange(1,10)\r\n",
        "y = m*x + b\r\n",
        "print(x)\r\n",
        "print(y)\r\n",
        "\r\n"
      ],
      "execution_count": 14,
      "outputs": [
        {
          "output_type": "stream",
          "text": [
            "[1 2 3 4 5 6 7 8 9]\n",
            "[-21688.07950384  70227.47164774 162143.02279931 254058.57395089\n",
            " 345974.12510246 437889.67625404 529805.22740562 621720.77855719\n",
            " 713636.32970877]\n"
          ],
          "name": "stdout"
        }
      ]
    },
    {
      "cell_type": "code",
      "metadata": {
        "colab": {
          "base_uri": "https://localhost:8080/",
          "height": 294
        },
        "id": "4rLRZ4HTexaM",
        "outputId": "d4b9a538-1e65-4ac3-c060-77442b61da1c"
      },
      "source": [
        "plt.scatter(clean_data[:,0],clean_data[:,1])\r\n",
        "\r\n",
        "\r\n",
        "plt.plot(x,y,c=\"g\")"
      ],
      "execution_count": 15,
      "outputs": [
        {
          "output_type": "execute_result",
          "data": {
            "text/plain": [
              "[<matplotlib.lines.Line2D at 0x7fd7be718898>]"
            ]
          },
          "metadata": {
            "tags": []
          },
          "execution_count": 15
        },
        {
          "output_type": "display_data",
          "data": {
            "image/png": "[encoded data removed]",
            "text/plain": [
              "<Figure size 432x288 with 1 Axes>"
            ]
          },
          "metadata": {
            "tags": []
          }
        }
      ]
    }
  ]
}