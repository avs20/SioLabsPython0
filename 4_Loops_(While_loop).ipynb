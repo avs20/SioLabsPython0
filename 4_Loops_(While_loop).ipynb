{
  "nbformat": 4,
  "nbformat_minor": 0,
  "metadata": {
    "colab": {
      "name": "4. Loops (While loop).ipynb",
      "provenance": [],
      "collapsed_sections": [],
      "authorship_tag": "ABX9TyP0uPIgRZAwMICDPEeJyTbw",
      "include_colab_link": true
    },
    "kernelspec": {
      "name": "python3",
      "display_name": "Python 3"
    }
  },
  "cells": [
    {
      "cell_type": "markdown",
      "metadata": {
        "id": "view-in-github",
        "colab_type": "text"
      },
      "source": [
        "<a href=\"https://colab.research.google.com/github/avs20/SioLabsPython0/blob/main/4_Loops_(While_loop).ipynb\" target=\"_parent\"><img src=\"https://colab.research.google.com/assets/colab-badge.svg\" alt=\"Open In Colab\"/></a>"
      ]
    },
    {
      "cell_type": "markdown",
      "metadata": {
        "id": "Dc_ijzl2Ius0"
      },
      "source": [
        "## Last Class \n",
        "\n",
        "* conditional operations \n",
        "* condition - epxressions with conditional operator\n",
        "* if \n",
        "* if - else \n",
        "* if - elif - else \n"
      ]
    },
    {
      "cell_type": "markdown",
      "metadata": {
        "id": "duduEIdILzdz"
      },
      "source": [
        "## While loops \n",
        "\n",
        "Syntax \n",
        "-----\n",
        "\n",
        "```\n",
        "while <condition expr>:\n",
        "    run code \n",
        "    run code \n",
        "    run code \n",
        "\n",
        "run code outside the loop \n",
        "```\n",
        "\n"
      ]
    },
    {
      "cell_type": "code",
      "metadata": {
        "id": "84Q7U8KiIW4-",
        "outputId": "f5e636f5-d957-401a-96e9-e07fbab8a836",
        "colab": {
          "base_uri": "https://localhost:8080/"
        }
      },
      "source": [
        "print('I Love Python')\n",
        "print('I Love Python')\n",
        "print('I Love Python')\n",
        "print('I Love Python')\n",
        "print('I Love Python')\n",
        "\n",
        "print('I Love Python')\n",
        "print('I Love Python')\n",
        "print('I Love Python')\n",
        "print('I Love Python')\n",
        "print('I Love Python')\n",
        "\n",
        "print('I Love Python')\n",
        "print('I Love Python')\n",
        "print('I Love Python')\n",
        "print('I Love Python')\n",
        "print('I Love Python')\n",
        "\n",
        "print('I Love Python')\n",
        "print('I Love Python')\n",
        "print('I Love Python')\n",
        "print('I Love Python')\n",
        "print('I Love Python')\n"
      ],
      "execution_count": 2,
      "outputs": [
        {
          "output_type": "stream",
          "text": [
            "I Love Python\n",
            "I Love Python\n",
            "I Love Python\n",
            "I Love Python\n",
            "I Love Python\n",
            "I Love Python\n",
            "I Love Python\n",
            "I Love Python\n",
            "I Love Python\n",
            "I Love Python\n",
            "I Love Python\n",
            "I Love Python\n",
            "I Love Python\n",
            "I Love Python\n",
            "I Love Python\n",
            "I Love Python\n",
            "I Love Python\n",
            "I Love Python\n",
            "I Love Python\n",
            "I Love Python\n"
          ],
          "name": "stdout"
        }
      ]
    },
    {
      "cell_type": "code",
      "metadata": {
        "id": "DWjrYh7mMMXr",
        "outputId": "341ab207-8635-4a21-aaa4-31d35d18bab8",
        "colab": {
          "base_uri": "https://localhost:8080/"
        }
      },
      "source": [
        "# using loops \n",
        "\n",
        "count = 0\n",
        "while count < 20:\n",
        "  print('I Love Python')\n",
        "  count = count + 1\n",
        "\n"
      ],
      "execution_count": 4,
      "outputs": [
        {
          "output_type": "stream",
          "text": [
            "I Love Python\n",
            "I Love Python\n",
            "I Love Python\n",
            "I Love Python\n",
            "I Love Python\n",
            "I Love Python\n",
            "I Love Python\n",
            "I Love Python\n",
            "I Love Python\n",
            "I Love Python\n",
            "I Love Python\n",
            "I Love Python\n",
            "I Love Python\n",
            "I Love Python\n",
            "I Love Python\n",
            "I Love Python\n",
            "I Love Python\n",
            "I Love Python\n",
            "I Love Python\n",
            "I Love Python\n"
          ],
          "name": "stdout"
        }
      ]
    },
    {
      "cell_type": "code",
      "metadata": {
        "id": "O0EoDmGvON5y"
      },
      "source": [
        "# using unlimited loops \n",
        "# don't run it \n",
        "\n",
        "count = 0\n",
        "while count < 20:\n",
        "  print('I Love Python')"
      ],
      "execution_count": null,
      "outputs": []
    },
    {
      "cell_type": "markdown",
      "metadata": {
        "id": "MbJG-9ZIP5e7"
      },
      "source": [
        "1 - 100 \n",
        "\n",
        "multiple of 3  -> Fizz \n",
        "\n",
        "multiple of 5 -> Buzz \n",
        "\n",
        "multiple of 15 - > Fizzbuzz "
      ]
    },
    {
      "cell_type": "code",
      "metadata": {
        "id": "ir9Z6FbpPsAX",
        "outputId": "35e9cd4d-c1c8-4efe-977a-a65709e4946f",
        "colab": {
          "base_uri": "https://localhost:8080/"
        }
      },
      "source": [
        "count = 1 \n",
        "\n",
        "while count < 101:\n",
        "\n",
        "  if count % 15 == 0  :\n",
        "    print('FizzBuzz')\n",
        "  elif count % 5 == 0:\n",
        "    print('Buzz')\n",
        "  elif count % 3 == 0 :\n",
        "    print('Fizz')\n",
        "  elif count % 23 ==0:\n",
        "    count = count + 1\n",
        "    continue\n",
        "  else:\n",
        "    print(count)\n",
        "\n",
        "  count = count + 1 "
      ],
      "execution_count": 13,
      "outputs": [
        {
          "output_type": "stream",
          "text": [
            "1\n",
            "2\n",
            "Fizz\n",
            "4\n",
            "Buzz\n",
            "Fizz\n",
            "7\n",
            "8\n",
            "Fizz\n",
            "Buzz\n",
            "11\n",
            "Fizz\n",
            "13\n",
            "14\n",
            "FizzBuzz\n",
            "16\n",
            "17\n",
            "Fizz\n",
            "19\n",
            "Buzz\n",
            "Fizz\n",
            "22\n",
            "Fizz\n",
            "Buzz\n",
            "26\n",
            "Fizz\n",
            "28\n",
            "29\n",
            "FizzBuzz\n",
            "31\n",
            "32\n",
            "Fizz\n",
            "34\n",
            "Buzz\n",
            "Fizz\n",
            "37\n",
            "38\n",
            "Fizz\n",
            "Buzz\n",
            "41\n",
            "Fizz\n",
            "43\n",
            "44\n",
            "FizzBuzz\n",
            "47\n",
            "Fizz\n",
            "49\n",
            "Buzz\n",
            "Fizz\n",
            "52\n",
            "53\n",
            "Fizz\n",
            "Buzz\n",
            "56\n",
            "Fizz\n",
            "58\n",
            "59\n",
            "FizzBuzz\n",
            "61\n",
            "62\n",
            "Fizz\n",
            "64\n",
            "Buzz\n",
            "Fizz\n",
            "67\n",
            "68\n",
            "Fizz\n",
            "Buzz\n",
            "71\n",
            "Fizz\n",
            "73\n",
            "74\n",
            "FizzBuzz\n",
            "76\n",
            "77\n",
            "Fizz\n",
            "79\n",
            "Buzz\n",
            "Fizz\n",
            "82\n",
            "83\n",
            "Fizz\n",
            "Buzz\n",
            "86\n",
            "Fizz\n",
            "88\n",
            "89\n",
            "FizzBuzz\n",
            "91\n",
            "Fizz\n",
            "94\n",
            "Buzz\n",
            "Fizz\n",
            "97\n",
            "98\n",
            "Fizz\n",
            "Buzz\n"
          ],
          "name": "stdout"
        }
      ]
    },
    {
      "cell_type": "markdown",
      "metadata": {
        "id": "qyT-sVzDSEoH"
      },
      "source": [
        "## String Functions\n",
        "\n",
        "mystr = 'ashutosh'\n",
        "\n",
        "myste = \"ashutosh\"\n",
        "\n",
        "mystr3 = '''ashutosh'''\n",
        "\n",
        "\n"
      ]
    },
    {
      "cell_type": "code",
      "metadata": {
        "id": "tpbqrhBaSG13",
        "outputId": "dbcd558f-fe84-4efc-e44a-385e07da942d",
        "colab": {
          "base_uri": "https://localhost:8080/"
        }
      },
      "source": [
        "name = \"ashu\"\n",
        "\n",
        "print(name.capitalize())"
      ],
      "execution_count": 14,
      "outputs": [
        {
          "output_type": "stream",
          "text": [
            "Ashu\n"
          ],
          "name": "stdout"
        }
      ]
    },
    {
      "cell_type": "markdown",
      "metadata": {
        "id": "sxrUDSKITlku"
      },
      "source": [
        ""
      ]
    },
    {
      "cell_type": "code",
      "metadata": {
        "id": "3magEySzTw2S",
        "outputId": "62ab1fa8-6ee3-43d2-8369-91672b3ea713",
        "colab": {
          "base_uri": "https://localhost:8080/"
        }
      },
      "source": [
        "statement = \"ashu is dhashu\"\n",
        "\n",
        "print(statement.count(\"ashu\"))\n",
        "\n",
        "\n",
        "\n",
        "\n"
      ],
      "execution_count": 15,
      "outputs": [
        {
          "output_type": "stream",
          "text": [
            "2\n"
          ],
          "name": "stdout"
        }
      ]
    },
    {
      "cell_type": "code",
      "metadata": {
        "id": "r0Dq5ytnTzWt",
        "outputId": "e7aaf915-66c2-45a6-f431-cdb3d6341689",
        "colab": {
          "base_uri": "https://localhost:8080/"
        }
      },
      "source": [
        "# endswith \n",
        "\n",
        "filename = \"ashutosh-shimla-trip.jpg\"\n",
        "\n",
        "filename.endswith(\".jpg\")"
      ],
      "execution_count": 16,
      "outputs": [
        {
          "output_type": "execute_result",
          "data": {
            "text/plain": [
              "True"
            ]
          },
          "metadata": {
            "tags": []
          },
          "execution_count": 16
        }
      ]
    },
    {
      "cell_type": "code",
      "metadata": {
        "id": "dyUKDjT9UDyY",
        "outputId": "254f60d0-b8a4-4c8a-df93-0dd29c1b9cad",
        "colab": {
          "base_uri": "https://localhost:8080/"
        }
      },
      "source": [
        "# endswith \n",
        "\n",
        "filename = \"ashutosh-shimla-trip.jpg\"\n",
        "\n",
        "filename.endswith(\".xls\")"
      ],
      "execution_count": 18,
      "outputs": [
        {
          "output_type": "execute_result",
          "data": {
            "text/plain": [
              "False"
            ]
          },
          "metadata": {
            "tags": []
          },
          "execution_count": 18
        }
      ]
    },
    {
      "cell_type": "code",
      "metadata": {
        "id": "lHylL4rvUHBD",
        "outputId": "e5fcf4c7-6719-477e-acc6-900805838ad9",
        "colab": {
          "base_uri": "https://localhost:8080/"
        }
      },
      "source": [
        "# startswith\n",
        "\n",
        "filename = \"ashutosh-shimla-trip.jpg\"\n",
        "\n",
        "filename.startswith(\"ashutosh\")"
      ],
      "execution_count": 19,
      "outputs": [
        {
          "output_type": "execute_result",
          "data": {
            "text/plain": [
              "True"
            ]
          },
          "metadata": {
            "tags": []
          },
          "execution_count": 19
        }
      ]
    },
    {
      "cell_type": "code",
      "metadata": {
        "id": "ryJ3KMmiUW5h",
        "outputId": "635978db-60c0-4ad9-c03c-e59b496d9bf3",
        "colab": {
          "base_uri": "https://localhost:8080/"
        }
      },
      "source": [
        "filename.startswith(\"boo\")"
      ],
      "execution_count": 20,
      "outputs": [
        {
          "output_type": "execute_result",
          "data": {
            "text/plain": [
              "False"
            ]
          },
          "metadata": {
            "tags": []
          },
          "execution_count": 20
        }
      ]
    },
    {
      "cell_type": "code",
      "metadata": {
        "id": "AS4jF3unUcJo",
        "outputId": "3d5bbf00-87e3-4fd4-969c-9465b2cef1c8",
        "colab": {
          "base_uri": "https://localhost:8080/",
          "height": 36
        }
      },
      "source": [
        "filename.upper()"
      ],
      "execution_count": 21,
      "outputs": [
        {
          "output_type": "execute_result",
          "data": {
            "application/vnd.google.colaboratory.intrinsic+json": {
              "type": "string"
            },
            "text/plain": [
              "'ASHUTOSH-SHIMLA-TRIP.JPG'"
            ]
          },
          "metadata": {
            "tags": []
          },
          "execution_count": 21
        }
      ]
    },
    {
      "cell_type": "code",
      "metadata": {
        "id": "K3ACn2z4UfrK",
        "outputId": "10cc1944-ae8c-4f4c-9c98-fe8fa88435f4",
        "colab": {
          "base_uri": "https://localhost:8080/",
          "height": 36
        }
      },
      "source": [
        "filename"
      ],
      "execution_count": 22,
      "outputs": [
        {
          "output_type": "execute_result",
          "data": {
            "application/vnd.google.colaboratory.intrinsic+json": {
              "type": "string"
            },
            "text/plain": [
              "'ashutosh-shimla-trip.jpg'"
            ]
          },
          "metadata": {
            "tags": []
          },
          "execution_count": 22
        }
      ]
    },
    {
      "cell_type": "code",
      "metadata": {
        "id": "qQXgvCS3Uj2t"
      },
      "source": [
        "upper_filename = filename.upper()"
      ],
      "execution_count": 23,
      "outputs": []
    },
    {
      "cell_type": "code",
      "metadata": {
        "id": "L36VkKK1Uq4R",
        "outputId": "504d48a8-f6af-4a54-dc4c-c3e15c1eda0a",
        "colab": {
          "base_uri": "https://localhost:8080/",
          "height": 36
        }
      },
      "source": [
        "upper_filename"
      ],
      "execution_count": 24,
      "outputs": [
        {
          "output_type": "execute_result",
          "data": {
            "application/vnd.google.colaboratory.intrinsic+json": {
              "type": "string"
            },
            "text/plain": [
              "'ASHUTOSH-SHIMLA-TRIP.JPG'"
            ]
          },
          "metadata": {
            "tags": []
          },
          "execution_count": 24
        }
      ]
    },
    {
      "cell_type": "code",
      "metadata": {
        "id": "m2yB2Rb3UsdO",
        "outputId": "2cc1ef83-202d-4469-d629-0183a8c85501",
        "colab": {
          "base_uri": "https://localhost:8080/",
          "height": 36
        }
      },
      "source": [
        "filename"
      ],
      "execution_count": 25,
      "outputs": [
        {
          "output_type": "execute_result",
          "data": {
            "application/vnd.google.colaboratory.intrinsic+json": {
              "type": "string"
            },
            "text/plain": [
              "'ashutosh-shimla-trip.jpg'"
            ]
          },
          "metadata": {
            "tags": []
          },
          "execution_count": 25
        }
      ]
    },
    {
      "cell_type": "code",
      "metadata": {
        "id": "whzNzMWIUtTh",
        "outputId": "96c7f393-c85a-43c0-80e1-36aab25b14e5",
        "colab": {
          "base_uri": "https://localhost:8080/",
          "height": 36
        }
      },
      "source": [
        "upper_filename.lower()"
      ],
      "execution_count": 26,
      "outputs": [
        {
          "output_type": "execute_result",
          "data": {
            "application/vnd.google.colaboratory.intrinsic+json": {
              "type": "string"
            },
            "text/plain": [
              "'ashutosh-shimla-trip.jpg'"
            ]
          },
          "metadata": {
            "tags": []
          },
          "execution_count": 26
        }
      ]
    },
    {
      "cell_type": "code",
      "metadata": {
        "id": "Rb7FDBSrUvtt",
        "outputId": "aec61796-7a21-4e68-d43f-dc85639108b5",
        "colab": {
          "base_uri": "https://localhost:8080/"
        }
      },
      "source": [
        "filename.isalpha()"
      ],
      "execution_count": 27,
      "outputs": [
        {
          "output_type": "execute_result",
          "data": {
            "text/plain": [
              "False"
            ]
          },
          "metadata": {
            "tags": []
          },
          "execution_count": 27
        }
      ]
    },
    {
      "cell_type": "code",
      "metadata": {
        "id": "P5ttkbvbU50_",
        "outputId": "1261c5ce-0b9f-459e-e806-38eb433d9263",
        "colab": {
          "base_uri": "https://localhost:8080/"
        }
      },
      "source": [
        "\"ashutosh\".isalpha()"
      ],
      "execution_count": 28,
      "outputs": [
        {
          "output_type": "execute_result",
          "data": {
            "text/plain": [
              "True"
            ]
          },
          "metadata": {
            "tags": []
          },
          "execution_count": 28
        }
      ]
    },
    {
      "cell_type": "code",
      "metadata": {
        "id": "w_o5NfpTU8ZI",
        "outputId": "8fbc28ed-25b0-4b65-d0b2-932088d926d7",
        "colab": {
          "base_uri": "https://localhost:8080/"
        }
      },
      "source": [
        "\"ashutosh\".istitle()"
      ],
      "execution_count": 30,
      "outputs": [
        {
          "output_type": "execute_result",
          "data": {
            "text/plain": [
              "False"
            ]
          },
          "metadata": {
            "tags": []
          },
          "execution_count": 30
        }
      ]
    },
    {
      "cell_type": "code",
      "metadata": {
        "id": "Co_sXoU8VMGN",
        "outputId": "e347ff3e-7d9a-47b4-d5a1-801ba73ba866",
        "colab": {
          "base_uri": "https://localhost:8080/"
        }
      },
      "source": [
        "\"Ashutosh\".istitle()"
      ],
      "execution_count": 31,
      "outputs": [
        {
          "output_type": "execute_result",
          "data": {
            "text/plain": [
              "True"
            ]
          },
          "metadata": {
            "tags": []
          },
          "execution_count": 31
        }
      ]
    },
    {
      "cell_type": "code",
      "metadata": {
        "id": "z6hRKwLgVPlF"
      },
      "source": [
        ""
      ],
      "execution_count": null,
      "outputs": []
    },
    {
      "cell_type": "markdown",
      "metadata": {
        "id": "X3Opcaf-VUmb"
      },
      "source": [
        "https://docs.python.org/2.5/lib/string-methods.html "
      ]
    },
    {
      "cell_type": "code",
      "metadata": {
        "id": "FzZJtVzrVVQn"
      },
      "source": [
        ""
      ],
      "execution_count": null,
      "outputs": []
    }
  ]
}