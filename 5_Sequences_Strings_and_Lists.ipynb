{
  "nbformat": 4,
  "nbformat_minor": 0,
  "metadata": {
    "colab": {
      "name": "Sequences-Strings and Lists.ipynb",
      "provenance": [],
      "authorship_tag": "ABX9TyOqwW1q422pEhvJfur01mqw",
      "include_colab_link": true
    },
    "kernelspec": {
      "name": "python3",
      "display_name": "Python 3"
    }
  },
  "cells": [
    {
      "cell_type": "markdown",
      "metadata": {
        "id": "view-in-github",
        "colab_type": "text"
      },
      "source": [
        "<a href=\"https://colab.research.google.com/github/avs20/SioLabsPython0/blob/main/5_Sequences_Strings_and_Lists.ipynb\" target=\"_parent\"><img src=\"https://colab.research.google.com/assets/colab-badge.svg\" alt=\"Open In Colab\"/></a>"
      ]
    },
    {
      "cell_type": "markdown",
      "metadata": {
        "id": "siG0XqUiH-yZ"
      },
      "source": [
        "## Sequences : \n",
        "\n",
        "Sequences are things that come one after another. \n",
        "\n",
        "What are string ?\n",
        "\n",
        "They are a sequence of characters. \n",
        "\n",
        "\"banana\"\n",
        "\n",
        "```\n",
        " b    a    n    a     n     a     \n",
        "```\n",
        "\n",
        "\n",
        "\n",
        "\n",
        "---\n",
        "\n",
        "`[]` operator\n",
        "\n",
        "`[]` operator is used to access characters in the string. \n",
        "\n",
        "[index] → gets the character at given position \n",
        "\n",
        "Note\n",
        "--------\n",
        "position → start at 0 not at 1 \n",
        "\n",
        "![image.png](data:image/png;base64,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)\n"
      ]
    },
    {
      "cell_type": "code",
      "metadata": {
        "id": "Qk2MlbBaH536",
        "outputId": "9ae46c83-5019-4316-cb27-766ed2834122",
        "colab": {
          "base_uri": "https://localhost:8080/",
          "height": 36
        }
      },
      "source": [
        "mystr = \"banana\"\n",
        "\n",
        "mystr[1]"
      ],
      "execution_count": null,
      "outputs": [
        {
          "output_type": "execute_result",
          "data": {
            "application/vnd.google.colaboratory.intrinsic+json": {
              "type": "string"
            },
            "text/plain": [
              "'a'"
            ]
          },
          "metadata": {
            "tags": []
          },
          "execution_count": 8
        }
      ]
    },
    {
      "cell_type": "code",
      "metadata": {
        "id": "3x2V1lNaLeGT",
        "outputId": "f23d9e31-00a0-4e5a-b562-6d5762a1a6c2",
        "colab": {
          "base_uri": "https://localhost:8080/",
          "height": 36
        }
      },
      "source": [
        "mystr[5]"
      ],
      "execution_count": null,
      "outputs": [
        {
          "output_type": "execute_result",
          "data": {
            "application/vnd.google.colaboratory.intrinsic+json": {
              "type": "string"
            },
            "text/plain": [
              "'a'"
            ]
          },
          "metadata": {
            "tags": []
          },
          "execution_count": 9
        }
      ]
    },
    {
      "cell_type": "code",
      "metadata": {
        "id": "G7N8ULymWkfr",
        "outputId": "5f7efbe1-e0a7-4a23-9bb3-ef2b12bb11fe",
        "colab": {
          "base_uri": "https://localhost:8080/"
        }
      },
      "source": [
        "mystr = \"ashutosh\"\n",
        "\n",
        "print(mystr[3])\n"
      ],
      "execution_count": null,
      "outputs": [
        {
          "output_type": "stream",
          "text": [
            "u\n"
          ],
          "name": "stdout"
        }
      ]
    },
    {
      "cell_type": "markdown",
      "metadata": {
        "id": "w3sWoUWgMG00"
      },
      "source": [
        "get the length of string \n",
        "\n",
        "```\n",
        "len()\n",
        "```\n",
        "\n",
        "`len()` → gives the number of characters in the string \n",
        "\n"
      ]
    },
    {
      "cell_type": "code",
      "metadata": {
        "id": "hUZB5fLVL5Qj",
        "outputId": "b1492aaf-a30c-45cb-d7c4-f9841890cd5e",
        "colab": {
          "base_uri": "https://localhost:8080/"
        }
      },
      "source": [
        "len(mystr)"
      ],
      "execution_count": null,
      "outputs": [
        {
          "output_type": "execute_result",
          "data": {
            "text/plain": [
              "8"
            ]
          },
          "metadata": {
            "tags": []
          },
          "execution_count": 12
        }
      ]
    },
    {
      "cell_type": "code",
      "metadata": {
        "id": "1GcX7z74NTAK",
        "outputId": "df3a2852-0086-48ab-ba05-0634bbc90bce",
        "colab": {
          "base_uri": "https://localhost:8080/",
          "height": 191
        }
      },
      "source": [
        "length = len(mystr)\n",
        "mystr[length]"
      ],
      "execution_count": null,
      "outputs": [
        {
          "output_type": "error",
          "ename": "IndexError",
          "evalue": "ignored",
          "traceback": [
            "\u001b[0;31m---------------------------------------------------------------------------\u001b[0m",
            "\u001b[0;31mIndexError\u001b[0m                                Traceback (most recent call last)",
            "\u001b[0;32m<ipython-input-13-622b85078d3f>\u001b[0m in \u001b[0;36m<module>\u001b[0;34m()\u001b[0m\n\u001b[1;32m      1\u001b[0m \u001b[0mlength\u001b[0m \u001b[0;34m=\u001b[0m \u001b[0mlen\u001b[0m\u001b[0;34m(\u001b[0m\u001b[0mmystr\u001b[0m\u001b[0;34m)\u001b[0m\u001b[0;34m\u001b[0m\u001b[0;34m\u001b[0m\u001b[0m\n\u001b[0;32m----> 2\u001b[0;31m \u001b[0mmystr\u001b[0m\u001b[0;34m[\u001b[0m\u001b[0mlength\u001b[0m\u001b[0;34m]\u001b[0m\u001b[0;34m\u001b[0m\u001b[0;34m\u001b[0m\u001b[0m\n\u001b[0m",
            "\u001b[0;31mIndexError\u001b[0m: string index out of range"
          ]
        }
      ]
    },
    {
      "cell_type": "markdown",
      "metadata": {
        "id": "8MgNGe3SNzfi"
      },
      "source": [
        "Slices \n",
        "----\n",
        "\n",
        "Segement of string, a part of string \n",
        "\n",
        "Selecting some part of data \n",
        "\n",
        "Selection is done using `[]`\n",
        "\n",
        "This selection is also done using `[]`\n",
        "\n",
        "```\n",
        "variable_name[startIdx : endIdx]\n",
        "```\n",
        "\n"
      ]
    },
    {
      "cell_type": "code",
      "metadata": {
        "id": "ILpo9L49NYZx",
        "outputId": "ddc63c99-6af4-471c-886b-33f3bd44bf0b",
        "colab": {
          "base_uri": "https://localhost:8080/"
        }
      },
      "source": [
        "mystr = \"ashutosh\"\n",
        "\n",
        "print(mystr[ 0 : 3])"
      ],
      "execution_count": null,
      "outputs": [
        {
          "output_type": "stream",
          "text": [
            "ash\n"
          ],
          "name": "stdout"
        }
      ]
    },
    {
      "cell_type": "code",
      "metadata": {
        "id": "x3mkYR8vYZYG",
        "outputId": "efe20180-da0f-4b61-e69e-30b17f783fd4",
        "colab": {
          "base_uri": "https://localhost:8080/",
          "height": 36
        }
      },
      "source": [
        "mystr[0 : 4]"
      ],
      "execution_count": null,
      "outputs": [
        {
          "output_type": "execute_result",
          "data": {
            "application/vnd.google.colaboratory.intrinsic+json": {
              "type": "string"
            },
            "text/plain": [
              "'ashu'"
            ]
          },
          "metadata": {
            "tags": []
          },
          "execution_count": 15
        }
      ]
    },
    {
      "cell_type": "markdown",
      "metadata": {
        "id": "s8_5vOqXO6a5"
      },
      "source": [
        "```\n",
        "variable_name[startIdx : endIdx]\n",
        "```\n",
        "\n",
        "1. What if we remove startIdx?\n",
        "2. What if we remove endIdx?\n",
        "3. What if we remove both?\n"
      ]
    },
    {
      "cell_type": "code",
      "metadata": {
        "id": "-7QDyIsFYl1j",
        "outputId": "ff7e73c5-3a58-4075-883e-993490210d7b",
        "colab": {
          "base_uri": "https://localhost:8080/",
          "height": 36
        }
      },
      "source": [
        "mystr[ : 4]"
      ],
      "execution_count": null,
      "outputs": [
        {
          "output_type": "execute_result",
          "data": {
            "application/vnd.google.colaboratory.intrinsic+json": {
              "type": "string"
            },
            "text/plain": [
              "'ashu'"
            ]
          },
          "metadata": {
            "tags": []
          },
          "execution_count": 16
        }
      ]
    },
    {
      "cell_type": "code",
      "metadata": {
        "id": "UIktXmUCY0Hu",
        "outputId": "494b7b83-0582-4e2b-9b7e-35f9c3a0b94a",
        "colab": {
          "base_uri": "https://localhost:8080/",
          "height": 36
        }
      },
      "source": [
        "mystr[4:8]"
      ],
      "execution_count": null,
      "outputs": [
        {
          "output_type": "execute_result",
          "data": {
            "application/vnd.google.colaboratory.intrinsic+json": {
              "type": "string"
            },
            "text/plain": [
              "'tosh'"
            ]
          },
          "metadata": {
            "tags": []
          },
          "execution_count": 17
        }
      ]
    },
    {
      "cell_type": "code",
      "metadata": {
        "id": "va2jvrovY31k",
        "outputId": "c9b6a5ed-824c-4d09-d59d-611d73842c00",
        "colab": {
          "base_uri": "https://localhost:8080/",
          "height": 36
        }
      },
      "source": [
        "mystr[ 4 : ]"
      ],
      "execution_count": null,
      "outputs": [
        {
          "output_type": "execute_result",
          "data": {
            "application/vnd.google.colaboratory.intrinsic+json": {
              "type": "string"
            },
            "text/plain": [
              "'tosh'"
            ]
          },
          "metadata": {
            "tags": []
          },
          "execution_count": 18
        }
      ]
    },
    {
      "cell_type": "code",
      "metadata": {
        "id": "csLDAVj6ZFjD",
        "outputId": "824721d5-b0b6-44cb-da0b-324fd5cc62ee",
        "colab": {
          "base_uri": "https://localhost:8080/",
          "height": 36
        }
      },
      "source": [
        "mystr [ : ]"
      ],
      "execution_count": null,
      "outputs": [
        {
          "output_type": "execute_result",
          "data": {
            "application/vnd.google.colaboratory.intrinsic+json": {
              "type": "string"
            },
            "text/plain": [
              "'ashutosh'"
            ]
          },
          "metadata": {
            "tags": []
          },
          "execution_count": 19
        }
      ]
    },
    {
      "cell_type": "markdown",
      "metadata": {
        "id": "wTaq6mPYPHTZ"
      },
      "source": [
        "Immutability of string \n",
        "-----\n",
        "\n",
        "Strings can be created but cannot be changed. \n",
        "\n",
        "If you want to modify something create a new string \n",
        "\n"
      ]
    },
    {
      "cell_type": "code",
      "metadata": {
        "id": "93SNph1-Zvgk"
      },
      "source": [
        "mystr = \"ashu\""
      ],
      "execution_count": null,
      "outputs": []
    },
    {
      "cell_type": "code",
      "metadata": {
        "id": "MJui6HIMPQDG",
        "outputId": "8b996bfd-1181-415b-b947-92317da9fc45",
        "colab": {
          "base_uri": "https://localhost:8080/",
          "height": 209
        }
      },
      "source": [
        "greeting = 'Hello Python'\n",
        "\n",
        "greeting[0] = 'J'"
      ],
      "execution_count": null,
      "outputs": [
        {
          "output_type": "error",
          "ename": "TypeError",
          "evalue": "ignored",
          "traceback": [
            "\u001b[0;31m---------------------------------------------------------------------------\u001b[0m",
            "\u001b[0;31mTypeError\u001b[0m                                 Traceback (most recent call last)",
            "\u001b[0;32m<ipython-input-20-e47a43a70d09>\u001b[0m in \u001b[0;36m<module>\u001b[0;34m()\u001b[0m\n\u001b[1;32m      1\u001b[0m \u001b[0mgreeting\u001b[0m \u001b[0;34m=\u001b[0m \u001b[0;34m'Hello Python'\u001b[0m\u001b[0;34m\u001b[0m\u001b[0;34m\u001b[0m\u001b[0m\n\u001b[1;32m      2\u001b[0m \u001b[0;34m\u001b[0m\u001b[0m\n\u001b[0;32m----> 3\u001b[0;31m \u001b[0mgreeting\u001b[0m\u001b[0;34m[\u001b[0m\u001b[0;36m0\u001b[0m\u001b[0;34m]\u001b[0m \u001b[0;34m=\u001b[0m \u001b[0;34m'J'\u001b[0m\u001b[0;34m\u001b[0m\u001b[0;34m\u001b[0m\u001b[0m\n\u001b[0m",
            "\u001b[0;31mTypeError\u001b[0m: 'str' object does not support item assignment"
          ]
        }
      ]
    },
    {
      "cell_type": "code",
      "metadata": {
        "id": "BU29hws7Z_ZM",
        "outputId": "54ea2a26-63a7-4d04-df6e-79e6a09e5760",
        "colab": {
          "base_uri": "https://localhost:8080/"
        }
      },
      "source": [
        "greeting = 'Hello Python'\n",
        "print(id(greeting))\n",
        "greeting = 'Jello Python'\n",
        "print(id(greeting))"
      ],
      "execution_count": null,
      "outputs": [
        {
          "output_type": "stream",
          "text": [
            "140397575377968\n",
            "140397575378032\n"
          ],
          "name": "stdout"
        }
      ]
    },
    {
      "cell_type": "code",
      "metadata": {
        "id": "ns1AklPGcWFx",
        "outputId": "a67e4b6b-15be-4ca2-9fe2-4affd1c131e3",
        "colab": {
          "base_uri": "https://localhost:8080/",
          "height": 36
        }
      },
      "source": [
        "greeting[:4] + 'i' + greeting[5:]"
      ],
      "execution_count": null,
      "outputs": [
        {
          "output_type": "execute_result",
          "data": {
            "application/vnd.google.colaboratory.intrinsic+json": {
              "type": "string"
            },
            "text/plain": [
              "'Jelli Python'"
            ]
          },
          "metadata": {
            "tags": []
          },
          "execution_count": 23
        }
      ]
    },
    {
      "cell_type": "code",
      "metadata": {
        "id": "2RsvGoYMcmGW",
        "outputId": "1c413b84-7c9c-442d-ed61-c2ce25dd0b4b",
        "colab": {
          "base_uri": "https://localhost:8080/",
          "height": 36
        }
      },
      "source": [
        "greeting.replace('o','p')"
      ],
      "execution_count": null,
      "outputs": [
        {
          "output_type": "execute_result",
          "data": {
            "application/vnd.google.colaboratory.intrinsic+json": {
              "type": "string"
            },
            "text/plain": [
              "'Jellp Pythpn'"
            ]
          },
          "metadata": {
            "tags": []
          },
          "execution_count": 24
        }
      ]
    },
    {
      "cell_type": "code",
      "metadata": {
        "id": "iWPSH4WHPUuY"
      },
      "source": [
        "new_greeting = 'J' + greeting[1:]"
      ],
      "execution_count": null,
      "outputs": []
    },
    {
      "cell_type": "markdown",
      "metadata": {
        "id": "1VBBvC_3PnoC"
      },
      "source": [
        "## For loop \n",
        "\n",
        "* list through items in a collection \n",
        "\n",
        "e.g. \n",
        "\n",
        "1. characters in a word \n",
        "2. word in list of words \n",
        "3. lines in a text file \n",
        "\n",
        "When we have something (some collection/sequence) to go through we use for loop \n",
        "\n",
        "Syntax\n",
        "----\n",
        "\n",
        "```\n",
        "for item in collection_name:\n",
        "    print(item)\n",
        "    #use item here \n",
        "```\n",
        "\n"
      ]
    },
    {
      "cell_type": "code",
      "metadata": {
        "id": "bYjabkRsP_l0",
        "outputId": "54ce8da1-e7d9-4daf-e9fc-0cb25ada2ec2",
        "colab": {
          "base_uri": "https://localhost:8080/"
        }
      },
      "source": [
        "# print each character in string \n",
        "mystr = \"ashutosh\"\n",
        "\n",
        "for character in mystr : \n",
        "    print(character)\n"
      ],
      "execution_count": null,
      "outputs": [
        {
          "output_type": "stream",
          "text": [
            "a\n",
            "s\n",
            "h\n",
            "u\n",
            "t\n",
            "o\n",
            "s\n",
            "h\n"
          ],
          "name": "stdout"
        }
      ]
    },
    {
      "cell_type": "code",
      "metadata": {
        "id": "LG9ocWlBejzZ",
        "outputId": "12340278-1539-4e19-e4bd-6e3105c26145",
        "colab": {
          "base_uri": "https://localhost:8080/"
        }
      },
      "source": [
        "for haathi in mystr : \n",
        "    print(haathi)"
      ],
      "execution_count": null,
      "outputs": [
        {
          "output_type": "stream",
          "text": [
            "a\n",
            "s\n",
            "h\n",
            "u\n",
            "t\n",
            "o\n",
            "s\n",
            "h\n"
          ],
          "name": "stdout"
        }
      ]
    },
    {
      "cell_type": "code",
      "metadata": {
        "id": "Ga1Dty3oQCz6",
        "outputId": "ff0c5abe-0cce-47aa-cd97-7364c5ba50f6",
        "colab": {
          "base_uri": "https://localhost:8080/"
        }
      },
      "source": [
        "# count occurence of a character in a word \n",
        "\n",
        "mystr = \"ashutosh\"\n",
        "\n",
        "count = 0\n",
        "for char in mystr:\n",
        "    if char == \"z\":\n",
        "        count = count + 1\n",
        "    \n",
        "print(count)\n"
      ],
      "execution_count": 1,
      "outputs": [
        {
          "output_type": "stream",
          "text": [
            "0\n"
          ],
          "name": "stdout"
        }
      ]
    },
    {
      "cell_type": "markdown",
      "metadata": {
        "id": "Jqz_jbhdQHC2"
      },
      "source": [
        "## `in` Operator \n",
        "\n",
        "This is used to check one string in another string \n",
        "\n",
        "```\n",
        "'a' in 'banana'\n",
        "```\n",
        "\n",
        "More use later "
      ]
    },
    {
      "cell_type": "code",
      "metadata": {
        "id": "4UPLKM6AgJkr",
        "outputId": "704c643c-731b-4393-b878-b37146d6903a",
        "colab": {
          "base_uri": "https://localhost:8080/"
        }
      },
      "source": [
        "'ashu' in 'ashutosh'"
      ],
      "execution_count": null,
      "outputs": [
        {
          "output_type": "execute_result",
          "data": {
            "text/plain": [
              "True"
            ]
          },
          "metadata": {
            "tags": []
          },
          "execution_count": 31
        }
      ]
    },
    {
      "cell_type": "markdown",
      "metadata": {
        "id": "aH6vb5HPNY8I"
      },
      "source": [
        "Like String is a sequence of characters \n",
        "\n",
        "There are other sequences in the python language \n",
        "\n",
        "* string → sequence of characters \n",
        "* list → sequence of python objects\n",
        "* tuple → seq of grouped object"
      ]
    },
    {
      "cell_type": "markdown",
      "metadata": {
        "id": "cmnYCaHoQeDn"
      },
      "source": [
        "## Lists in Python \n",
        "\n",
        "List is a sequence of python objects. \n",
        "\n",
        "What objects we have seen \n",
        "\n",
        "* int \n",
        "* float \n",
        "* string \n",
        "* boolean\n",
        "\n",
        "### How to create a list \n",
        "\n",
        "There are many ways simplest is to use `[]`\n",
        "\n",
        "```\n",
        "mylist = [10, 20, 30]\n",
        "print(mylist)\n",
        "```\n",
        "\n"
      ]
    },
    {
      "cell_type": "code",
      "metadata": {
        "id": "nNKHTCVhQyg8",
        "outputId": "1c002179-c644-41fb-c98e-e6922fc22be9",
        "colab": {
          "base_uri": "https://localhost:8080/"
        }
      },
      "source": [
        "mylist = [ 10, 20, 30 ]\n",
        "\n",
        "print(mylist)"
      ],
      "execution_count": 2,
      "outputs": [
        {
          "output_type": "stream",
          "text": [
            "[10, 20, 30]\n"
          ],
          "name": "stdout"
        }
      ]
    },
    {
      "cell_type": "code",
      "metadata": {
        "id": "AXyFBveJo8_g",
        "outputId": "0eb0c484-cae3-42cc-d08a-f0f3c8ad3053",
        "colab": {
          "base_uri": "https://localhost:8080/"
        }
      },
      "source": [
        "mylist2 = [10, 20, 10.5]\n",
        "print(mylist2)"
      ],
      "execution_count": 3,
      "outputs": [
        {
          "output_type": "stream",
          "text": [
            "[10, 20, 10.5]\n"
          ],
          "name": "stdout"
        }
      ]
    },
    {
      "cell_type": "code",
      "metadata": {
        "id": "gO80X_1lpL_p",
        "outputId": "a273c880-11f9-4bf4-88c6-e58840e01640",
        "colab": {
          "base_uri": "https://localhost:8080/"
        }
      },
      "source": [
        "mylist3 = [ 10, 20.5 , 'python']\n",
        "print(mylist3)"
      ],
      "execution_count": 4,
      "outputs": [
        {
          "output_type": "stream",
          "text": [
            "[10, 20.5, 'python']\n"
          ],
          "name": "stdout"
        }
      ]
    },
    {
      "cell_type": "code",
      "metadata": {
        "id": "j1bJ_rGJpUB8",
        "outputId": "06b03245-8c49-4bb5-88af-f9b5b448b220",
        "colab": {
          "base_uri": "https://localhost:8080/"
        }
      },
      "source": [
        "mylist4 = [ 10, 20.5 , 'python', True]\n",
        "print(mylist4)"
      ],
      "execution_count": 5,
      "outputs": [
        {
          "output_type": "stream",
          "text": [
            "[10, 20.5, 'python', True]\n"
          ],
          "name": "stdout"
        }
      ]
    },
    {
      "cell_type": "markdown",
      "metadata": {
        "id": "d6Rjfl7NQyoV"
      },
      "source": [
        "Empty List \n",
        "\n",
        "```\n",
        "mylist = []\n",
        "```\n",
        "\n"
      ]
    },
    {
      "cell_type": "code",
      "metadata": {
        "id": "f8wk1wUJQ1bw",
        "outputId": "0204c53b-dca5-48ef-cd1d-b0ddf6de3829",
        "colab": {
          "base_uri": "https://localhost:8080/"
        }
      },
      "source": [
        "mylist5 = []\n",
        "print(mylist5)"
      ],
      "execution_count": 8,
      "outputs": [
        {
          "output_type": "stream",
          "text": [
            "[]\n"
          ],
          "name": "stdout"
        }
      ]
    },
    {
      "cell_type": "markdown",
      "metadata": {
        "id": "vtoKTqZsQ1kw"
      },
      "source": [
        "We can use for loop to go over each item in list \n"
      ]
    },
    {
      "cell_type": "code",
      "metadata": {
        "id": "FEqIHHWeQ8Yp",
        "outputId": "cb1960d5-bd8a-4977-b5f5-02eb1fe78dff",
        "colab": {
          "base_uri": "https://localhost:8080/"
        }
      },
      "source": [
        "fruits = ['banana', 'apple', 'orange', 'kiwi', 'mango']\n",
        "\n",
        "for fruit in fruits:\n",
        "  print(fruit)\n",
        "  print(fruit.upper())"
      ],
      "execution_count": 10,
      "outputs": [
        {
          "output_type": "stream",
          "text": [
            "banana\n",
            "BANANA\n",
            "apple\n",
            "APPLE\n",
            "orange\n",
            "ORANGE\n",
            "kiwi\n",
            "KIWI\n",
            "mango\n",
            "MANGO\n"
          ],
          "name": "stdout"
        }
      ]
    },
    {
      "cell_type": "code",
      "metadata": {
        "id": "8xEIUssFqTzX",
        "outputId": "749e8a01-235b-4ba8-bd43-c40703dc6ab5",
        "colab": {
          "base_uri": "https://localhost:8080/"
        }
      },
      "source": [
        "fruits = [10, 10.5, 'orange', True]\n",
        "\n",
        "for fruit in fruits:\n",
        "  print(fruit)\n",
        "  print(type(fruit))\n",
        "  "
      ],
      "execution_count": 11,
      "outputs": [
        {
          "output_type": "stream",
          "text": [
            "10\n",
            "<class 'int'>\n",
            "10.5\n",
            "<class 'float'>\n",
            "orange\n",
            "<class 'str'>\n",
            "True\n",
            "<class 'bool'>\n"
          ],
          "name": "stdout"
        }
      ]
    },
    {
      "cell_type": "code",
      "metadata": {
        "id": "l4To-PwHqkBy",
        "outputId": "65db80d1-e37b-4c28-fa7e-3d7d35877013",
        "colab": {
          "base_uri": "https://localhost:8080/"
        }
      },
      "source": [
        "mylist7 = [10, 10.5, 'orange', True]\n",
        "\n",
        "print(mylist7[0])\n",
        "\n"
      ],
      "execution_count": 12,
      "outputs": [
        {
          "output_type": "stream",
          "text": [
            "10\n"
          ],
          "name": "stdout"
        }
      ]
    },
    {
      "cell_type": "code",
      "metadata": {
        "id": "fQ2wcb5tqwBJ",
        "outputId": "801d6dd2-f18c-4817-b5e9-d0d7470b27d3",
        "colab": {
          "base_uri": "https://localhost:8080/"
        }
      },
      "source": [
        "print(mylist7[3])"
      ],
      "execution_count": 13,
      "outputs": [
        {
          "output_type": "stream",
          "text": [
            "True\n"
          ],
          "name": "stdout"
        }
      ]
    },
    {
      "cell_type": "code",
      "metadata": {
        "id": "UeOAT6s0q6XJ",
        "outputId": "e7a95c14-99f6-42d1-94fa-5b07b99c8237",
        "colab": {
          "base_uri": "https://localhost:8080/"
        }
      },
      "source": [
        "mylist8 = [10, 10.5, 'orange', True]\n",
        "\n",
        "print(mylist8[:])"
      ],
      "execution_count": 14,
      "outputs": [
        {
          "output_type": "stream",
          "text": [
            "[10, 10.5, 'orange', True]\n"
          ],
          "name": "stdout"
        }
      ]
    },
    {
      "cell_type": "code",
      "metadata": {
        "id": "u7PJL59wrA5z",
        "outputId": "842baab4-0d26-4ac7-91f7-7deaecaff360",
        "colab": {
          "base_uri": "https://localhost:8080/"
        }
      },
      "source": [
        "mylist8 = [10, 10.5, 'orange', True]\n",
        "\n",
        "print(mylist8[0:2])"
      ],
      "execution_count": 15,
      "outputs": [
        {
          "output_type": "stream",
          "text": [
            "[10, 10.5]\n"
          ],
          "name": "stdout"
        }
      ]
    },
    {
      "cell_type": "code",
      "metadata": {
        "id": "fwHi-4_qrSVC",
        "outputId": "7b3b44bb-7e2e-4642-9090-ddc012e3264e",
        "colab": {
          "base_uri": "https://localhost:8080/"
        }
      },
      "source": [
        "mylist8 = [10, 10.5, 'orange', True]\n",
        "\n",
        "print(mylist8[0:])"
      ],
      "execution_count": 16,
      "outputs": [
        {
          "output_type": "stream",
          "text": [
            "[10, 10.5, 'orange', True]\n"
          ],
          "name": "stdout"
        }
      ]
    },
    {
      "cell_type": "code",
      "metadata": {
        "id": "KSmi1uRlrWgy",
        "outputId": "f9e05afb-f906-4041-8a43-1989db8db975",
        "colab": {
          "base_uri": "https://localhost:8080/"
        }
      },
      "source": [
        "mylist8 = [10, 10.5, 'orange', True]\n",
        "\n",
        "print(mylist8[2:])"
      ],
      "execution_count": 17,
      "outputs": [
        {
          "output_type": "stream",
          "text": [
            "['orange', True]\n"
          ],
          "name": "stdout"
        }
      ]
    },
    {
      "cell_type": "markdown",
      "metadata": {
        "id": "qSmx1dhlQ8hy"
      },
      "source": [
        "Lists are mutable → we can change items in a list unlike string \n",
        "\n"
      ]
    },
    {
      "cell_type": "code",
      "metadata": {
        "id": "F5vZ7gcrRBpy",
        "outputId": "4aa2cc47-44af-443b-dfd5-735ae7a0bebf",
        "colab": {
          "base_uri": "https://localhost:8080/"
        }
      },
      "source": [
        "mylist10 = [10, 10.5, 'orange', True]\n",
        "\n",
        "print(mylist10)\n",
        "print(id(mylist10))\n",
        "\n",
        "\n",
        "mylist10[2] = 'mango'\n",
        "\n",
        "print(id(mylist10))\n"
      ],
      "execution_count": 19,
      "outputs": [
        {
          "output_type": "stream",
          "text": [
            "[10, 10.5, 'orange', True]\n",
            "140039407832904\n",
            "140039407832904\n"
          ],
          "name": "stdout"
        }
      ]
    },
    {
      "cell_type": "markdown",
      "metadata": {
        "id": "RBgl2KwMRBxY"
      },
      "source": [
        "Mathematical operator on list \n",
        "-----\n",
        "\n",
        "1. `+` operator → concatenates 2 list \n",
        "2. `*` operator → replicates the list n times"
      ]
    },
    {
      "cell_type": "code",
      "metadata": {
        "id": "Leb5oKpGRLs8",
        "outputId": "773c6998-857d-4d0e-8fe8-14be6c5138d0",
        "colab": {
          "base_uri": "https://localhost:8080/"
        }
      },
      "source": [
        "print('ashu' + 'tosh')"
      ],
      "execution_count": 20,
      "outputs": [
        {
          "output_type": "stream",
          "text": [
            "ashutosh\n"
          ],
          "name": "stdout"
        }
      ]
    },
    {
      "cell_type": "code",
      "metadata": {
        "id": "UWNl9ua2sSbh",
        "outputId": "7e955b11-421b-4dde-e858-06bba6918e68",
        "colab": {
          "base_uri": "https://localhost:8080/"
        }
      },
      "source": [
        "mylist1 = [10,20,30]\n",
        "mylist2 = ['banana', 'mango']\n",
        "\n",
        "mylist3 = mylist1 + mylist2\n",
        "print(mylist3)"
      ],
      "execution_count": 21,
      "outputs": [
        {
          "output_type": "stream",
          "text": [
            "[10, 20, 30, 'banana', 'mango']\n"
          ],
          "name": "stdout"
        }
      ]
    },
    {
      "cell_type": "code",
      "metadata": {
        "id": "xq04sMJ1skuG",
        "outputId": "d68c05b9-f707-422d-d5af-bdfaea9c7628",
        "colab": {
          "base_uri": "https://localhost:8080/",
          "height": 36
        }
      },
      "source": [
        "'ashu' * 3 "
      ],
      "execution_count": 22,
      "outputs": [
        {
          "output_type": "execute_result",
          "data": {
            "application/vnd.google.colaboratory.intrinsic+json": {
              "type": "string"
            },
            "text/plain": [
              "'ashuashuashu'"
            ]
          },
          "metadata": {
            "tags": []
          },
          "execution_count": 22
        }
      ]
    },
    {
      "cell_type": "code",
      "metadata": {
        "id": "YaIbrOhAsopC",
        "outputId": "86484b2c-1e9c-4435-d2cb-96c302e87a3b",
        "colab": {
          "base_uri": "https://localhost:8080/"
        }
      },
      "source": [
        "mylist1 = [10,20,30]\n",
        "\n",
        "mylist2 = mylist1 * 3\n",
        "print(mylist2)"
      ],
      "execution_count": 25,
      "outputs": [
        {
          "output_type": "stream",
          "text": [
            "[10, 20, 30, 10, 20, 30, 10, 20, 30]\n"
          ],
          "name": "stdout"
        }
      ]
    },
    {
      "cell_type": "markdown",
      "metadata": {
        "id": "WN0cB4_qRL3o"
      },
      "source": [
        "*Slicing* in Lists \n",
        "\n",
        "Same as string \n"
      ]
    },
    {
      "cell_type": "markdown",
      "metadata": {
        "id": "ZHH7OzougXz3"
      },
      "source": [
        "#### Slicing with stepping \n",
        "\n",
        "\n",
        "[startIdx : endIdx : step]\n",
        "\n",
        "banana\n",
        "\n"
      ]
    },
    {
      "cell_type": "code",
      "metadata": {
        "id": "x_SNv9VxRPO8",
        "outputId": "6e8478dd-1706-4a7b-f2cb-71dfcf372f3a",
        "colab": {
          "base_uri": "https://localhost:8080/",
          "height": 36
        }
      },
      "source": [
        "name = \"ashutosh\"\n",
        "\n",
        "name[0:8]"
      ],
      "execution_count": 26,
      "outputs": [
        {
          "output_type": "execute_result",
          "data": {
            "application/vnd.google.colaboratory.intrinsic+json": {
              "type": "string"
            },
            "text/plain": [
              "'ashutosh'"
            ]
          },
          "metadata": {
            "tags": []
          },
          "execution_count": 26
        }
      ]
    },
    {
      "cell_type": "code",
      "metadata": {
        "id": "ZEYXTfa-tFSj",
        "outputId": "a04574ed-904a-4492-93b6-88c1f3247811",
        "colab": {
          "base_uri": "https://localhost:8080/",
          "height": 36
        }
      },
      "source": [
        "name[0:8:1]"
      ],
      "execution_count": 27,
      "outputs": [
        {
          "output_type": "execute_result",
          "data": {
            "application/vnd.google.colaboratory.intrinsic+json": {
              "type": "string"
            },
            "text/plain": [
              "'ashutosh'"
            ]
          },
          "metadata": {
            "tags": []
          },
          "execution_count": 27
        }
      ]
    },
    {
      "cell_type": "code",
      "metadata": {
        "id": "jvdtJskytJdq",
        "outputId": "e9c4245c-4448-4227-c6f8-d04917ec5461",
        "colab": {
          "base_uri": "https://localhost:8080/",
          "height": 36
        }
      },
      "source": [
        "name[0:8:2]"
      ],
      "execution_count": 28,
      "outputs": [
        {
          "output_type": "execute_result",
          "data": {
            "application/vnd.google.colaboratory.intrinsic+json": {
              "type": "string"
            },
            "text/plain": [
              "'ahts'"
            ]
          },
          "metadata": {
            "tags": []
          },
          "execution_count": 28
        }
      ]
    },
    {
      "cell_type": "code",
      "metadata": {
        "id": "0ntPjvvrtQ4U",
        "outputId": "ac7230fc-ef86-4246-913e-bb3aff1e0c03",
        "colab": {
          "base_uri": "https://localhost:8080/",
          "height": 36
        }
      },
      "source": [
        "name[0:8:4]"
      ],
      "execution_count": 29,
      "outputs": [
        {
          "output_type": "execute_result",
          "data": {
            "application/vnd.google.colaboratory.intrinsic+json": {
              "type": "string"
            },
            "text/plain": [
              "'at'"
            ]
          },
          "metadata": {
            "tags": []
          },
          "execution_count": 29
        }
      ]
    },
    {
      "cell_type": "code",
      "metadata": {
        "id": "Coi32ND4tUXb",
        "outputId": "76cfc356-423d-4397-dbe6-f4b31a7dd999",
        "colab": {
          "base_uri": "https://localhost:8080/",
          "height": 36
        }
      },
      "source": [
        "name[0:8:-1]"
      ],
      "execution_count": 30,
      "outputs": [
        {
          "output_type": "execute_result",
          "data": {
            "application/vnd.google.colaboratory.intrinsic+json": {
              "type": "string"
            },
            "text/plain": [
              "''"
            ]
          },
          "metadata": {
            "tags": []
          },
          "execution_count": 30
        }
      ]
    },
    {
      "cell_type": "code",
      "metadata": {
        "id": "U2_ZpyPOtwwf",
        "outputId": "e8fb92fe-0844-42a3-8dbc-90c62ef63bca",
        "colab": {
          "base_uri": "https://localhost:8080/",
          "height": 36
        }
      },
      "source": [
        "name = 'ashutosh'\n",
        "\n",
        "name[-1]"
      ],
      "execution_count": 31,
      "outputs": [
        {
          "output_type": "execute_result",
          "data": {
            "application/vnd.google.colaboratory.intrinsic+json": {
              "type": "string"
            },
            "text/plain": [
              "'h'"
            ]
          },
          "metadata": {
            "tags": []
          },
          "execution_count": 31
        }
      ]
    },
    {
      "cell_type": "code",
      "metadata": {
        "id": "JnmyrxtRt890",
        "outputId": "c18e670b-63f3-4a19-a290-3e4badc3b7b7",
        "colab": {
          "base_uri": "https://localhost:8080/"
        }
      },
      "source": [
        "print(name[4])\n",
        "print(name[-4])"
      ],
      "execution_count": 32,
      "outputs": [
        {
          "output_type": "stream",
          "text": [
            "t\n",
            "t\n"
          ],
          "name": "stdout"
        }
      ]
    },
    {
      "cell_type": "code",
      "metadata": {
        "id": "WpG2flmNuCzV",
        "outputId": "2cf4d125-7241-4234-eec9-4febbc3420ba",
        "colab": {
          "base_uri": "https://localhost:8080/"
        }
      },
      "source": [
        "print(name[0])\n",
        "print(name[-8])"
      ],
      "execution_count": 33,
      "outputs": [
        {
          "output_type": "stream",
          "text": [
            "a\n",
            "a\n"
          ],
          "name": "stdout"
        }
      ]
    },
    {
      "cell_type": "code",
      "metadata": {
        "id": "Tn7H_XriuIH7",
        "outputId": "73e89e90-4566-4fcf-dedc-f135c9ebee0a",
        "colab": {
          "base_uri": "https://localhost:8080/"
        }
      },
      "source": [
        "print(name[2:5])\n",
        "print(name[-6:-3])"
      ],
      "execution_count": 34,
      "outputs": [
        {
          "output_type": "stream",
          "text": [
            "hut\n",
            "hut\n"
          ],
          "name": "stdout"
        }
      ]
    },
    {
      "cell_type": "code",
      "metadata": {
        "id": "q118fbNWuX3-",
        "outputId": "47846217-811b-43b5-de9d-106334b0cfc5",
        "colab": {
          "base_uri": "https://localhost:8080/",
          "height": 36
        }
      },
      "source": [
        "name[7:0:-1]"
      ],
      "execution_count": 36,
      "outputs": [
        {
          "output_type": "execute_result",
          "data": {
            "application/vnd.google.colaboratory.intrinsic+json": {
              "type": "string"
            },
            "text/plain": [
              "'hsotuhs'"
            ]
          },
          "metadata": {
            "tags": []
          },
          "execution_count": 36
        }
      ]
    },
    {
      "cell_type": "code",
      "metadata": {
        "id": "7lYem6Duu00X",
        "outputId": "f3c3d98f-1f63-4e03-a6d7-02dd25846ce4",
        "colab": {
          "base_uri": "https://localhost:8080/",
          "height": 36
        }
      },
      "source": [
        "name[7:0]"
      ],
      "execution_count": 37,
      "outputs": [
        {
          "output_type": "execute_result",
          "data": {
            "application/vnd.google.colaboratory.intrinsic+json": {
              "type": "string"
            },
            "text/plain": [
              "''"
            ]
          },
          "metadata": {
            "tags": []
          },
          "execution_count": 37
        }
      ]
    },
    {
      "cell_type": "code",
      "metadata": {
        "id": "XkCNlccXu5gZ",
        "outputId": "042d5552-6a9e-4c14-d948-7e54169cefb3",
        "colab": {
          "base_uri": "https://localhost:8080/",
          "height": 36
        }
      },
      "source": [
        "name[::-1]"
      ],
      "execution_count": 38,
      "outputs": [
        {
          "output_type": "execute_result",
          "data": {
            "application/vnd.google.colaboratory.intrinsic+json": {
              "type": "string"
            },
            "text/plain": [
              "'hsotuhsa'"
            ]
          },
          "metadata": {
            "tags": []
          },
          "execution_count": 38
        }
      ]
    },
    {
      "cell_type": "code",
      "metadata": {
        "id": "1QNXf4Cgu-dz",
        "outputId": "885b32c7-981b-4506-acf8-036dd460bb47",
        "colab": {
          "base_uri": "https://localhost:8080/"
        }
      },
      "source": [
        "mylist7[::-1]"
      ],
      "execution_count": 39,
      "outputs": [
        {
          "output_type": "execute_result",
          "data": {
            "text/plain": [
              "[True, 'orange', 10.5, 10]"
            ]
          },
          "metadata": {
            "tags": []
          },
          "execution_count": 39
        }
      ]
    },
    {
      "cell_type": "markdown",
      "metadata": {
        "id": "MLmFOz0egdB2"
      },
      "source": [
        "#### Reversing"
      ]
    },
    {
      "cell_type": "markdown",
      "metadata": {
        "id": "AT-XENGHRP5h"
      },
      "source": [
        "List Methods :\n",
        "\n",
        "\n",
        "1. append()\n",
        "2. extend()\n",
        "3. pop(index)\n",
        "4. pop()\n",
        "5. del[index]\n",
        "6. remove(item)\n",
        "\n",
        "\n"
      ]
    },
    {
      "cell_type": "code",
      "metadata": {
        "id": "Obob3tcPRc_C",
        "outputId": "e3471414-6fa7-4a5c-92ac-f79f44abfb73",
        "colab": {
          "base_uri": "https://localhost:8080/"
        }
      },
      "source": [
        "mylist11 = ['c', 'c++','python', 'java', 'sql','c#', 'ruby']\n",
        "print(len(mylist11))"
      ],
      "execution_count": 40,
      "outputs": [
        {
          "output_type": "stream",
          "text": [
            "7\n"
          ],
          "name": "stdout"
        }
      ]
    },
    {
      "cell_type": "code",
      "metadata": {
        "id": "omlbURHLwlbE",
        "outputId": "b30ba235-1d26-4c40-eeab-431009cc27fd",
        "colab": {
          "base_uri": "https://localhost:8080/"
        }
      },
      "source": [
        "mylist11.append('javascript')\n",
        "print(mylist11)"
      ],
      "execution_count": 41,
      "outputs": [
        {
          "output_type": "stream",
          "text": [
            "['c', 'c++', 'python', 'java', 'sql', 'c#', 'ruby', 'javascript']\n"
          ],
          "name": "stdout"
        }
      ]
    },
    {
      "cell_type": "code",
      "metadata": {
        "id": "6AIhAntQwuUc",
        "outputId": "a0e065fa-7ee9-43da-8def-fbb774d8e418",
        "colab": {
          "base_uri": "https://localhost:8080/"
        }
      },
      "source": [
        "# extend - adds the items of new list \n",
        "\n",
        "tool_list = ['jupyter', 'colab', 'idle', 'pycharm']\n",
        "\n",
        "mylist11.append(tool_list)\n",
        "print(mylist11)\n",
        "\n",
        "mylist11.remove(tool_list)"
      ],
      "execution_count": 43,
      "outputs": [
        {
          "output_type": "stream",
          "text": [
            "['c', 'c++', 'python', 'java', 'sql', 'c#', 'ruby', 'javascript', ['jupyter', 'colab', 'idle', 'pycharm'], ['jupyter', 'colab', 'idle', 'pycharm']]\n"
          ],
          "name": "stdout"
        }
      ]
    },
    {
      "cell_type": "code",
      "metadata": {
        "id": "1tH9AXzSxQQU",
        "outputId": "95080310-bcec-4f43-8076-b981c0935fa8",
        "colab": {
          "base_uri": "https://localhost:8080/"
        }
      },
      "source": [
        "print(mylist11)\n",
        "\n",
        "mylist11.extend(tool_list)\n",
        "\n",
        "print(mylist11)"
      ],
      "execution_count": 47,
      "outputs": [
        {
          "output_type": "stream",
          "text": [
            "['c', 'c++', 'python', 'java', 'sql', 'c#', 'ruby', 'javascript']\n",
            "['c', 'c++', 'python', 'java', 'sql', 'c#', 'ruby', 'javascript', 'jupyter', 'colab', 'idle', 'pycharm']\n"
          ],
          "name": "stdout"
        }
      ]
    },
    {
      "cell_type": "code",
      "metadata": {
        "id": "o4bwsfITxxyU",
        "outputId": "762dd6fd-0d70-481c-da9e-8ea6b1705a1b",
        "colab": {
          "base_uri": "https://localhost:8080/",
          "height": 73
        }
      },
      "source": [
        "# for removing things from the list \n",
        "\n",
        "# remove the item at specific position \n",
        "deleted_item = mylist11.pop(2)\n",
        "print(deleted_item)\n",
        "print(mylist11)\n",
        "'''\n",
        "pop()\n",
        "del[index]\n",
        "remove(item)\n",
        "'''"
      ],
      "execution_count": 49,
      "outputs": [
        {
          "output_type": "stream",
          "text": [
            "java\n",
            "['c', 'c++', 'sql', 'c#', 'ruby', 'javascript', 'jupyter', 'colab', 'idle', 'pycharm']\n"
          ],
          "name": "stdout"
        },
        {
          "output_type": "execute_result",
          "data": {
            "application/vnd.google.colaboratory.intrinsic+json": {
              "type": "string"
            },
            "text/plain": [
              "'\\npop()\\ndel[index]\\nremove(item)\\n'"
            ]
          },
          "metadata": {
            "tags": []
          },
          "execution_count": 49
        }
      ]
    },
    {
      "cell_type": "code",
      "metadata": {
        "id": "1rL1J8pnyIU0",
        "outputId": "460629f6-c626-475a-8c5e-0ee9f4ee4af7",
        "colab": {
          "base_uri": "https://localhost:8080/"
        }
      },
      "source": [
        "#deletes the last item of list\n",
        "\n",
        "deleted_item = mylist11.pop()\n",
        "print(deleted_item)\n",
        "print(mylist11)\n",
        "\n"
      ],
      "execution_count": 53,
      "outputs": [
        {
          "output_type": "stream",
          "text": [
            "colab\n",
            "['c', 'c++', 'sql', 'c#', 'ruby', 'jupyter']\n"
          ],
          "name": "stdout"
        }
      ]
    },
    {
      "cell_type": "code",
      "metadata": {
        "id": "MhpWg9m8yVSy",
        "outputId": "7b4e5f10-db90-4ee3-f117-bc2861d71a6a",
        "colab": {
          "base_uri": "https://localhost:8080/",
          "height": 136
        }
      },
      "source": [
        "\n",
        "deleted_item = del mylist11[-1]\n",
        "print(deleted_item)\n",
        "print(mylist11)\n"
      ],
      "execution_count": 54,
      "outputs": [
        {
          "output_type": "error",
          "ename": "SyntaxError",
          "evalue": "ignored",
          "traceback": [
            "\u001b[0;36m  File \u001b[0;32m\"<ipython-input-54-f2a50656ee92>\"\u001b[0;36m, line \u001b[0;32m2\u001b[0m\n\u001b[0;31m    deleted_item = del mylist11[-1]\u001b[0m\n\u001b[0m                     ^\u001b[0m\n\u001b[0;31mSyntaxError\u001b[0m\u001b[0;31m:\u001b[0m invalid syntax\n"
          ]
        }
      ]
    },
    {
      "cell_type": "code",
      "metadata": {
        "id": "YERuDkicynHA",
        "outputId": "d4c293dd-6c16-4522-a0d8-68a9a27c8f57",
        "colab": {
          "base_uri": "https://localhost:8080/"
        }
      },
      "source": [
        "# remove helps us in removing by value\n",
        "\n",
        "mylist11.remove('javascript')\n",
        "print(mylist11)\n"
      ],
      "execution_count": 52,
      "outputs": [
        {
          "output_type": "stream",
          "text": [
            "['c', 'c++', 'sql', 'c#', 'ruby', 'jupyter', 'colab']\n"
          ],
          "name": "stdout"
        }
      ]
    },
    {
      "cell_type": "markdown",
      "metadata": {
        "id": "2BYhbYvURcbA"
      },
      "source": [
        "Functions on list \n",
        "------\n",
        "\n",
        "1. len()\n",
        "2. max()\n",
        "3. min()\n",
        "4. sum()\n",
        "5. sort()\n"
      ]
    },
    {
      "cell_type": "code",
      "metadata": {
        "id": "BxUGNVnszYXE",
        "outputId": "29f59ac3-e5d9-4b3e-d6f4-953583934530",
        "colab": {
          "base_uri": "https://localhost:8080/"
        }
      },
      "source": [
        "print(mylist11)\n",
        "len(mylist11)"
      ],
      "execution_count": 56,
      "outputs": [
        {
          "output_type": "stream",
          "text": [
            "['c', 'c++', 'sql', 'c#', 'ruby', 'jupyter']\n"
          ],
          "name": "stdout"
        },
        {
          "output_type": "execute_result",
          "data": {
            "text/plain": [
              "6"
            ]
          },
          "metadata": {
            "tags": []
          },
          "execution_count": 56
        }
      ]
    },
    {
      "cell_type": "code",
      "metadata": {
        "id": "gAUcYFmEzhML",
        "outputId": "6b2a0493-0302-4185-b267-655c6817e7c1",
        "colab": {
          "base_uri": "https://localhost:8080/"
        }
      },
      "source": [
        "num_list = [24,12, 31, 16, 25, 9, 4]\n",
        "max(num_list)"
      ],
      "execution_count": 57,
      "outputs": [
        {
          "output_type": "execute_result",
          "data": {
            "text/plain": [
              "31"
            ]
          },
          "metadata": {
            "tags": []
          },
          "execution_count": 57
        }
      ]
    },
    {
      "cell_type": "code",
      "metadata": {
        "id": "8SpLt3sLzpmF",
        "outputId": "fd1e27e7-8e95-4e6c-cb12-d242b4211085",
        "colab": {
          "base_uri": "https://localhost:8080/"
        }
      },
      "source": [
        "num_list = [24,12, 31, 16, 25, 9, 4]\n",
        "min(num_list)"
      ],
      "execution_count": 58,
      "outputs": [
        {
          "output_type": "execute_result",
          "data": {
            "text/plain": [
              "4"
            ]
          },
          "metadata": {
            "tags": []
          },
          "execution_count": 58
        }
      ]
    },
    {
      "cell_type": "code",
      "metadata": {
        "id": "_BmFFVJNzr8z",
        "outputId": "8210b500-c41f-460b-8732-db6cbbcdf636",
        "colab": {
          "base_uri": "https://localhost:8080/",
          "height": 191
        }
      },
      "source": [
        "num_list = [24,12, 31, 16, 25, 9, 4]\n",
        "sum(num_list)"
      ],
      "execution_count": 65,
      "outputs": [
        {
          "output_type": "error",
          "ename": "AttributeError",
          "evalue": "ignored",
          "traceback": [
            "\u001b[0;31m---------------------------------------------------------------------------\u001b[0m",
            "\u001b[0;31mAttributeError\u001b[0m                            Traceback (most recent call last)",
            "\u001b[0;32m<ipython-input-65-e66e68759908>\u001b[0m in \u001b[0;36m<module>\u001b[0;34m()\u001b[0m\n\u001b[1;32m      1\u001b[0m \u001b[0mnum_list\u001b[0m \u001b[0;34m=\u001b[0m \u001b[0;34m[\u001b[0m\u001b[0;36m24\u001b[0m\u001b[0;34m,\u001b[0m\u001b[0;36m12\u001b[0m\u001b[0;34m,\u001b[0m \u001b[0;36m31\u001b[0m\u001b[0;34m,\u001b[0m \u001b[0;36m16\u001b[0m\u001b[0;34m,\u001b[0m \u001b[0;36m25\u001b[0m\u001b[0;34m,\u001b[0m \u001b[0;36m9\u001b[0m\u001b[0;34m,\u001b[0m \u001b[0;36m4\u001b[0m\u001b[0;34m]\u001b[0m\u001b[0;34m\u001b[0m\u001b[0;34m\u001b[0m\u001b[0m\n\u001b[0;32m----> 2\u001b[0;31m \u001b[0mnum_list\u001b[0m\u001b[0;34m.\u001b[0m\u001b[0msum\u001b[0m\u001b[0;34m(\u001b[0m\u001b[0;34m)\u001b[0m\u001b[0;34m\u001b[0m\u001b[0;34m\u001b[0m\u001b[0m\n\u001b[0m",
            "\u001b[0;31mAttributeError\u001b[0m: 'list' object has no attribute 'sum'"
          ]
        }
      ]
    },
    {
      "cell_type": "code",
      "metadata": {
        "id": "LUToMBHAzuQL",
        "outputId": "8e1ff8be-c1fb-4fac-e645-cceb77109028",
        "colab": {
          "base_uri": "https://localhost:8080/"
        }
      },
      "source": [
        "sum(num_list) / len(num_list)"
      ],
      "execution_count": 60,
      "outputs": [
        {
          "output_type": "execute_result",
          "data": {
            "text/plain": [
              "17.285714285714285"
            ]
          },
          "metadata": {
            "tags": []
          },
          "execution_count": 60
        }
      ]
    },
    {
      "cell_type": "code",
      "metadata": {
        "id": "OtiQiZqoz0e5",
        "outputId": "8f1260d1-964b-4d3b-9634-5557c9e61023",
        "colab": {
          "base_uri": "https://localhost:8080/"
        }
      },
      "source": [
        "num_list = [24,12, 31, 16, 25, 9, 4]\n",
        "num_list.sort()\n",
        "print(num_list)"
      ],
      "execution_count": 64,
      "outputs": [
        {
          "output_type": "stream",
          "text": [
            "[4, 9, 12, 16, 24, 25, 31]\n"
          ],
          "name": "stdout"
        }
      ]
    },
    {
      "cell_type": "markdown",
      "metadata": {
        "id": "AO-09PwSRkl8"
      },
      "source": [
        "Conversion of String to a list \n",
        "\n",
        "```\n",
        "mystr = 'ashutosh'\n",
        "tolist = list(mystr)\n",
        "```\n",
        "\n"
      ]
    },
    {
      "cell_type": "markdown",
      "metadata": {
        "id": "QcHvrjuWQWDR"
      },
      "source": [
        "## Comparison operators in string "
      ]
    },
    {
      "cell_type": "markdown",
      "metadata": {
        "id": "VIRiT-uJaNrU"
      },
      "source": [
        "### Whitespace characters\n"
      ]
    },
    {
      "cell_type": "markdown",
      "metadata": {
        "id": "li1TelMycSlj"
      },
      "source": [
        "\n",
        "#### Spaces , Tabs and NewLines \n",
        "\n",
        "These are special characters which are not seen by naked eye but they are present there. \n",
        "\n",
        "e.g. space is just space. We can't see it like an alphabet \n",
        "\n",
        "Tabs are denoted by \\t. Generally its the space of 4 spaces. \n",
        "\n",
        "NewLines are the special characters which tell that the next characters on the new line. \n",
        "\n",
        "Generally denote by \\n but in some operating systems they are denoted as \\r\\n\n",
        "\n",
        "[Wiki](en.wikipedia.org/wiki/Newline)\n",
        "\n",
        "> * \\r = CR (Carriage Return) → Used as a new line character in Mac OS before X\n",
        "* \\n = LF (Line Feed) → Used as a new line character in Unix/Mac OS X\n",
        "* \\r\\n = CR + LF → Used as a new line character in Windows\n",
        "\n",
        "\n"
      ]
    },
    {
      "cell_type": "code",
      "metadata": {
        "id": "2xoh6sxsb3gT"
      },
      "source": [
        ""
      ],
      "execution_count": null,
      "outputs": []
    },
    {
      "cell_type": "markdown",
      "metadata": {
        "id": "3ZP-AwS5MXF5"
      },
      "source": [
        "\n",
        "\n",
        "```\n",
        "# This is formatted as code\n",
        "```\n",
        "\n"
      ]
    },
    {
      "cell_type": "code",
      "metadata": {
        "id": "Gz--6ZiuMVmp",
        "outputId": "f06a6b19-fdd3-42e4-b320-18792142cd84",
        "colab": {
          "base_uri": "https://localhost:8080/"
        }
      },
      "source": [
        "name = 'gaurav khanna'\n",
        "print(name.rstrip('na'))"
      ],
      "execution_count": null,
      "outputs": [
        {
          "output_type": "stream",
          "text": [
            "gaurav kh\n"
          ],
          "name": "stdout"
        }
      ]
    },
    {
      "cell_type": "code",
      "metadata": {
        "id": "0-xK8AgOTkjJ",
        "outputId": "ae4cf086-cc19-4f6f-afa9-28739db2cb85",
        "colab": {
          "base_uri": "https://localhost:8080/"
        }
      },
      "source": [
        "name = 'gaurav khanna'\n",
        "print(name.rstrip('g'))"
      ],
      "execution_count": null,
      "outputs": [
        {
          "output_type": "stream",
          "text": [
            "gaurav khanna\n"
          ],
          "name": "stdout"
        }
      ]
    },
    {
      "cell_type": "markdown",
      "metadata": {
        "id": "k3T9h1uocRUD"
      },
      "source": [
        "## Assignment \n",
        "\n",
        "Coding Bat\n",
        "\n",
        "https://codingbat.com/python"
      ]
    }
  ]
}